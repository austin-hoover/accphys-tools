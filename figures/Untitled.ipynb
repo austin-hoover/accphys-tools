{
 "cells": [
  {
   "cell_type": "markdown",
   "id": "a98b5582-9dc5-4260-870d-2f30f5df84be",
   "metadata": {},
   "source": [
    "# Some plots for my dissertation"
   ]
  },
  {
   "cell_type": "code",
   "execution_count": null,
   "id": "ccb91799-3aa2-4f36-886b-52f5b5d71bd8",
   "metadata": {},
   "outputs": [],
   "source": [
    "import sys\n",
    "\n",
    "import numpy as np\n",
    "from matplotlib import pyplot as plt\n",
    "import proplot as pplt\n",
    "from tqdm import tqdm\n",
    "\n",
    "sys.path.append('../')\n",
    "from tools import plotting as myplt"
   ]
  },
  {
   "cell_type": "code",
   "execution_count": null,
   "id": "57a73ef5-0261-4fc1-a514-0ebd25f9554a",
   "metadata": {},
   "outputs": [],
   "source": [
    "pplt.rc['figure.facecolor'] = 'white'\n",
    "pplt.rc['axes.grid'] = False\n",
    "pplt.rc['grid.alpha'] = 0.04\n",
    "pplt.rc['cmap.discrete'] = False"
   ]
  },
  {
   "cell_type": "markdown",
   "id": "651f60ae-7899-4356-a29d-1c21ad875510",
   "metadata": {
    "tags": []
   },
   "source": [
    "## Resonance diagram "
   ]
  },
  {
   "cell_type": "code",
   "execution_count": null,
   "id": "d904811c-e27d-49b6-8f00-7a63f77f23be",
   "metadata": {},
   "outputs": [],
   "source": [
    "def plot_resonance_lines(ax, max_order, c='k'):\n",
    "    for N in range(-max_order, max_order + 1):\n",
    "        for Mx in range(-max_order, max_order + 1):\n",
    "            for My in range(-max_order, max_order + 1):\n",
    "                order = abs(Mx) + abs(My)\n",
    "                if order > 1:\n",
    "                    factor = (1 - (order - 2)/5)\n",
    "                    lw = 1.0 * factor\n",
    "                    lw = 0.4 if lw < 0 else lw\n",
    "                    alpha = 1.0 * factor\n",
    "                    alpha = 0.25 if alpha < 0 else alpha\n",
    "                if order <= max_order:\n",
    "                    if My == 0:\n",
    "                        if Mx != 0:\n",
    "                            ax.axvline(N / Mx, c=c, alpha=alpha, lw=lw)\n",
    "                    else:\n",
    "                        ax.plot([0, 1], [N / My, (N - Mx) / My], c=c, alpha=alpha, lw=lw)\n",
    "                        \n",
    "fig, axes = pplt.subplots(ncols=2, figsize=None)\n",
    "axes.format(\n",
    "    xlim=(0, 1), ylim=(0, 1), \n",
    "    xlabel=r'$\\nu_x$', ylabel=r'$\\nu_y$',\n",
    "    grid=False\n",
    ")\n",
    "plot_resonance_lines(axes[0], 5)\n",
    "plot_resonance_lines(axes[1], 10)\n",
    "axes[0].set_title('Fifth order')\n",
    "axes[1].set_title('Tenth order')\n",
    "plt.savefig('resonance_lines.png', dpi=500)"
   ]
  },
  {
   "cell_type": "code",
   "execution_count": null,
   "id": "c925eb93-e3e6-4c4f-93d6-932ce0dc4e0a",
   "metadata": {},
   "outputs": [],
   "source": [
    "for order, text in zip([5, 10], ['Fifth', 'Tenth']):\n",
    "    fig, ax = pplt.subplots()\n",
    "    ax.format(\n",
    "        xlim=(0, 1), ylim=(0, 1), \n",
    "        xlabel=r'$\\nu_x$', ylabel=r'$\\nu_y$',\n",
    "        grid=False\n",
    "    )\n",
    "    plot_resonance_lines(ax, order)\n",
    "    ax.set_title('{} order'.format(text))\n",
    "    plt.savefig('resonance_lines_order{}.png'.format(order), dpi=500)"
   ]
  },
  {
   "cell_type": "markdown",
   "id": "480f3be8-c25c-44cc-8399-5df4d6ae5950",
   "metadata": {},
   "source": [
    "## Distribution profiles"
   ]
  },
  {
   "cell_type": "code",
   "execution_count": null,
   "id": "d9accfc4-1def-4ff4-9928-7837db09bf9b",
   "metadata": {},
   "outputs": [],
   "source": [
    "n_parts = int(1e7)\n",
    "xmax = 3.0\n",
    "plot_kws = dict(\n",
    "    cmap='mono',\n",
    "    limits=4*[(-xmax, xmax)], \n",
    "    rms_ellipse=True, \n",
    "    rms_ellipse_kws=dict(lw=0.3, ls='-', color='black'),\n",
    ")"
   ]
  },
  {
   "cell_type": "markdown",
   "id": "6bbdb096-9aac-4e6b-84d6-c007d1c6fe4e",
   "metadata": {},
   "source": [
    "### Gaussian distribution "
   ]
  },
  {
   "cell_type": "code",
   "execution_count": null,
   "id": "f3185973-5a5b-4fb7-929f-cec4f800878c",
   "metadata": {},
   "outputs": [],
   "source": [
    "X = np.random.normal(scale=1.0, size=(n_parts, 4))"
   ]
  },
  {
   "cell_type": "code",
   "execution_count": null,
   "id": "ba5e68ed-e5cc-4529-aa9b-e65f034c5cd9",
   "metadata": {},
   "outputs": [],
   "source": [
    "axes = myplt.corner(X, **plot_kws)\n",
    "plt.savefig('Gaussian_dist.png',  dpi=300)"
   ]
  },
  {
   "cell_type": "markdown",
   "id": "5e45c60d-14ce-4dcf-8a52-fc235da738f5",
   "metadata": {},
   "source": [
    "### KV distribution "
   ]
  },
  {
   "cell_type": "code",
   "execution_count": null,
   "id": "a3d5851b-1522-428e-98b2-211a36d8bfb5",
   "metadata": {},
   "outputs": [],
   "source": [
    "radii = np.linalg.norm(X, axis=1).reshape(n_parts, 1)\n",
    "X_kv = X / radii\n",
    "X_kv *= np.sqrt(4.0)"
   ]
  },
  {
   "cell_type": "code",
   "execution_count": null,
   "id": "cdf10c86-2f8c-4f8c-97b1-d13829db2074",
   "metadata": {},
   "outputs": [],
   "source": [
    "axes = myplt.corner(X_kv, **plot_kws)\n",
    "plt.savefig('KV_dist.png',  dpi=300)"
   ]
  },
  {
   "cell_type": "markdown",
   "id": "0074ebec-4551-4ed1-9998-c0ab9ece7b5b",
   "metadata": {},
   "source": [
    "### Waterbag distribution"
   ]
  },
  {
   "cell_type": "code",
   "execution_count": null,
   "id": "0f4fec42-e43a-4807-88c4-ca49db4e88dc",
   "metadata": {},
   "outputs": [],
   "source": [
    "u = np.random.uniform(0, 1, size=(n_parts, 1))\n",
    "X_wb = X_kv * u**0.25\n",
    "X_wb *= np.sqrt(6.0) / np.sqrt(4.0)"
   ]
  },
  {
   "cell_type": "code",
   "execution_count": null,
   "id": "91a2d510-0dc7-42a8-8698-a6c80367f4d7",
   "metadata": {},
   "outputs": [],
   "source": [
    "axes = myplt.corner(X_wb, **plot_kws)\n",
    "plt.savefig('Waterbag_dist.png',  dpi=300)"
   ]
  },
  {
   "cell_type": "markdown",
   "id": "07462e7e-71b5-4028-b002-64fbbbd0ebda",
   "metadata": {},
   "source": [
    "### Danilov distribution "
   ]
  },
  {
   "cell_type": "code",
   "execution_count": null,
   "id": "907c4843-9c30-4ea2-966a-9a7ad7b065fe",
   "metadata": {},
   "outputs": [],
   "source": [
    "X_danilov = X_kv\n",
    "X_danilov[:, 3] = +X_danilov[:, 0]\n",
    "X_danilov[:, 1] = -X_danilov[:, 2]"
   ]
  },
  {
   "cell_type": "code",
   "execution_count": null,
   "id": "9c7f90c5-92ea-4d5b-82ba-552e0e7fc476",
   "metadata": {},
   "outputs": [],
   "source": [
    "axes = myplt.corner(X_danilov, **plot_kws)\n",
    "plt.savefig('Danilov_dist.png',  dpi=300)"
   ]
  }
 ],
 "metadata": {
  "kernelspec": {
   "display_name": "Python 3 (ipykernel)",
   "language": "python",
   "name": "python3"
  },
  "language_info": {
   "codemirror_mode": {
    "name": "ipython",
    "version": 3
   },
   "file_extension": ".py",
   "mimetype": "text/x-python",
   "name": "python",
   "nbconvert_exporter": "python",
   "pygments_lexer": "ipython3",
   "version": "3.9.7"
  }
 },
 "nbformat": 4,
 "nbformat_minor": 5
}
