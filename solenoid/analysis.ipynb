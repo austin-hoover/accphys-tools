{
 "cells": [
  {
   "cell_type": "code",
   "execution_count": null,
   "metadata": {},
   "outputs": [],
   "source": [
    "import os\n",
    "import sys\n",
    "from os.path import join\n",
    "\n",
    "import numpy as np\n",
    "from tqdm import trange\n",
    "import pandas as pd\n",
    "from matplotlib import pyplot as plt\n",
    "from matplotlib import animation\n",
    "import proplot as pplt\n",
    "import seaborn as sns\n",
    "\n",
    "sys.path.append('..')\n",
    "from tools import animation as myanim\n",
    "from tools import beam_analysis as ba\n",
    "from tools import plotting as myplt"
   ]
  },
  {
   "cell_type": "code",
   "execution_count": null,
   "metadata": {},
   "outputs": [],
   "source": [
    "plt.rcParams['figure.facecolor'] = 'white'\n",
    "plt.rcParams['grid.alpha'] = 0.05\n",
    "plt.rcParams['axes.grid'] = False\n",
    "plt.rcParams['savefig.dpi'] = 'figure'\n",
    "plt.rcParams['savefig.transparent'] = False\n",
    "plt.rcParams['animation.html'] = 'jshtml'\n",
    "pplt.rc['cmap.discrete'] = False\n",
    "\n",
    "savefig_kws=dict(dpi=300, facecolor='white')"
   ]
  },
  {
   "cell_type": "code",
   "execution_count": null,
   "metadata": {},
   "outputs": [],
   "source": [
    "def load_pybunch(filename):\n",
    "    X = pd.read_table(filename, sep=' ', skiprows=15, index_col=False, \n",
    "                        names=['x','xp','y','yp','z','dE', 'Jx', 'mux', 'nux', 'Jy', 'muy', 'nuy'])\n",
    "    X.iloc[:, :4] *= 1000. # convert from m-rad to mm-mrad\n",
    "    X.iloc[:, 5] *= 1000. # convert energy spread from [GeV] to [MeV]\n",
    "    return X"
   ]
  },
  {
   "cell_type": "code",
   "execution_count": null,
   "metadata": {},
   "outputs": [],
   "source": [
    "nu1, nu2 = np.loadtxt('_output/data/eigtunes.dat')"
   ]
  },
  {
   "cell_type": "code",
   "execution_count": null,
   "metadata": {},
   "outputs": [],
   "source": [
    "df = load_pybunch('_output/data/bunch.dat')\n",
    "nux, nuy = df.loc[:, ['nux', 'Jy']].values.T\n",
    "\n",
    "# limit = (0.15, 0.23)\n",
    "xlim = (nu1 - 0.05, nu1 + 0.05)\n",
    "ylim = (nu2 - 0.05, nu2 + 0.05)\n",
    "fig, ax = pplt.subplots()\n",
    "H, xedges, yedges, im = ax.hist2d(nux, nuy, cmap='blues', range=(xlim, ylim), bins=50)\n",
    "fig.colorbar(im)\n",
    "ax.format(xlim=xlim, ylim=ylim)\n",
    "ax.axvline(nu1, c='k', zorder=999, alpha=0.2, lw=0.5)\n",
    "ax.axhline(nu2, c='k', zorder=999, alpha=0.2, lw=0.5)"
   ]
  },
  {
   "cell_type": "code",
   "execution_count": null,
   "metadata": {},
   "outputs": [],
   "source": [
    "# folder = '_saved/sol=OFF_fringe=ON_nparts=10000_nturns=500/'\n",
    "folder = '_output'"
   ]
  },
  {
   "cell_type": "code",
   "execution_count": null,
   "metadata": {},
   "outputs": [],
   "source": [
    "coords = np.load(join(folder, 'data/coords.npy'))\n",
    "moments = np.load(join(folder, 'data/moments.npy'))\n",
    "coords *= 1e3\n",
    "moments *= 1e6"
   ]
  },
  {
   "cell_type": "code",
   "execution_count": null,
   "metadata": {},
   "outputs": [],
   "source": [
    "stats = ba.StatsReader()\n",
    "stats.read_moments(moments)"
   ]
  },
  {
   "cell_type": "code",
   "execution_count": null,
   "metadata": {},
   "outputs": [],
   "source": [
    "# plot_kws = dict(c='black', marker='.', edgecolors='none', s=3.0)\n",
    "# height = 4.5\n",
    "\n",
    "# xmax = 50.0\n",
    "# xpmax = 3.5\n",
    "# limits = 2 * [(-xmax, xmax), (-xpmax, xpmax)]\n",
    "\n",
    "# coords_dict = dict()\n",
    "# coords_dict['fringe ON; solenoid OFF'] = np.load('_saved/sol=OFF_fringe=ON_nparts=10000_nturns=500/data/coords.npy')\n",
    "# coords_dict['fringe ON; solenoid ON'] = np.load('_saved/sol=ON_fringe=ON_nparts=10000_nturns=500/data/coords.npy')\n",
    "\n",
    "# moments_dict = dict()\n",
    "# moments_dict['fringe ON; solenoid OFF'] = np.load('_saved/sol=OFF_fringe=ON_nparts=10000_nturns=500/data/moments.npy')\n",
    "# moments_dict['fringe ON; solenoid ON'] = np.load('_saved/sol=ON_fringe=ON_nparts=10000_nturns=500/data/moments.npy')\n",
    "\n",
    "# label_kws = dict(fontsize=28)\n",
    "\n",
    "# for turn in [0, 250, 499]:\n",
    "#     for key in coords_dict:\n",
    "#         fig, axes = plt.subplots(ncols=2, nrows=2, figsize=(1.04 * height, height), sharex='col', sharey='row', constrained_layout=True)\n",
    "#         myplt.despine(axes.flat, ('top', 'right'))\n",
    "#         axes[0, 0].set_ylim(limits[0])\n",
    "#         axes[1, 0].set_ylim(limits[1])\n",
    "#         axes[1, 0].set_xlim(limits[0])\n",
    "#         axes[1, 1].set_xlim(limits[1])\n",
    "#         axes[0, 0].set_ylabel(\"y\", **label_kws)\n",
    "#         axes[1, 0].set_ylabel(\"y'\", **label_kws)\n",
    "#         axes[1, 0].set_xlabel(\"x\", **label_kws)\n",
    "#         axes[1, 1].set_xlabel(\"x'\", **label_kws)\n",
    "#         for ax in axes.flat:\n",
    "#             ax.set_xticklabels([])\n",
    "#             ax.set_yticklabels([])\n",
    "#         X = coords_dict[key][turn]\n",
    "#         X *= 1000.\n",
    "#         for i in range(2):\n",
    "#             for j in range(2):\n",
    "#                 x = X[:, j]\n",
    "#                 y = X[:, i + 2]\n",
    "#                 ax = axes[i, j]\n",
    "#                 ax.scatter(x, y, **plot_kws)\n",
    "#         plt.savefig('_output/figures/crossplane_{}_turn={}.png'.format(key, turn), **savefig_kws)\n",
    "#         plt.show()\n",
    "        \n",
    "# for key in moments_dict:\n",
    "#     moments = moments_dict[key]\n",
    "#     moments *= 1e6\n",
    "#     stats.read_moments(moments)\n",
    "#     fig, ax = pplt.subplots(figsize=(3.5, 2.0))\n",
    "#     g1 = ax.plot(stats.twiss2D['eps_x'], label=r'$\\varepsilon_x$')\n",
    "#     g2 = ax.plot(stats.twiss2D['eps_y'], label=r'$\\varepsilon_y$')\n",
    "#     g3 = ax.plot(stats.twiss4D['eps_1'], label=r'$\\varepsilon_1$')\n",
    "#     g4 = ax.plot(stats.twiss4D['eps_2'], label=r'$\\varepsilon_2$')\n",
    "#     ax.legend(handles=[g1, g2, g3, g4], ncols=1, loc='r')\n",
    "#     ax.format(xlabel='Turn number', ylabel='[mm mrad]')\n",
    "#     plt.savefig('_output/figures/emittances_{}.png'.format(key), **savefig_kws)\n",
    "#     plt.show()"
   ]
  },
  {
   "cell_type": "code",
   "execution_count": null,
   "metadata": {},
   "outputs": [],
   "source": [
    "X = coords[-1][:, :4]\n",
    "myplt.corner(X, kind='scatter', pad=0.2, \n",
    "             c='black', marker='.', edgecolors='none', s=3.0\n",
    "            );"
   ]
  },
  {
   "cell_type": "code",
   "execution_count": null,
   "metadata": {},
   "outputs": [],
   "source": []
  },
  {
   "cell_type": "code",
   "execution_count": null,
   "metadata": {},
   "outputs": [],
   "source": [
    "fig, ax = pplt.subplots(figsize=None)\n",
    "plt_kws = dict()\n",
    "g1 = ax.plot(stats.twiss2D['eps_x'], label=r'$\\varepsilon_x$', **plt_kws)\n",
    "g2 = ax.plot(stats.twiss2D['eps_y'], label=r'$\\varepsilon_y$', **plt_kws)\n",
    "g3 = ax.plot(stats.twiss4D['eps_1'], label=r'$\\varepsilon_1$', **plt_kws)\n",
    "g4 = ax.plot(stats.twiss4D['eps_2'], label=r'$\\varepsilon_2$', **plt_kws)\n",
    "ax.legend(handles=[g1, g2, g3, g4], ncols=1, loc='r')\n",
    "ax.format(xlabel='Turn number', ylabel='[mm mrad]')\n",
    "plt.savefig('_output/figures/emittances.png', **savefig_kws)"
   ]
  },
  {
   "cell_type": "code",
   "execution_count": null,
   "metadata": {},
   "outputs": [],
   "source": [
    "fig, ax = pplt.subplots(figsize=None)\n",
    "g1 = ax.plot(stats.twiss2D['eps_x'] * stats.twiss2D['eps_y'], \n",
    "             label=r'$\\varepsilon_x\\varepsilon_y$', color='red8', **plt_kws)\n",
    "g2 = ax.plot(stats.twiss4D['eps_1'] * stats.twiss4D['eps_2'], \n",
    "             label=r'$\\varepsilon_1\\varepsilon_2$', color='blue8', **plt_kws)\n",
    "ax.legend(handles=[g1, g2], ncols=1, loc='r')\n",
    "ax.format(xlabel='Turn number', ylabel=r'[mm$^2$ mrad$^2$]')\n",
    "plt.savefig('_output/figures/emittances4D.png', **savefig_kws)"
   ]
  },
  {
   "cell_type": "markdown",
   "metadata": {},
   "source": [
    "### Tunes "
   ]
  },
  {
   "cell_type": "code",
   "execution_count": null,
   "metadata": {},
   "outputs": [],
   "source": [
    "# mass = 0.93827231 # [GeV/c^2]\n",
    "# kin_energy = 1.0 # [GeV]\n",
    "# alpha_x = 0.06951453814317858\n",
    "# alpha_y = 0.01091131703789978\n",
    "# beta_x = 12.243573284689077\n",
    "# beta_y = 12.030511575868042\n",
    "# tune_calc = ba.TuneCalculator(mass, kin_energy, alpha_x, alpha_y, beta_x, beta_y)"
   ]
  },
  {
   "cell_type": "code",
   "execution_count": null,
   "metadata": {},
   "outputs": [],
   "source": [
    "# tunes_list = []\n",
    "# for t in trange(len(coords) - 1):\n",
    "#     tunes = tune_calc.get_tunes(coords[t], coords[t + 1])\n",
    "#     tunes_list.append(tunes)"
   ]
  },
  {
   "cell_type": "code",
   "execution_count": null,
   "metadata": {},
   "outputs": [],
   "source": [
    "# window = 0.07\n",
    "# numin = 0.18 - 0.5 * window\n",
    "# numax = 0.18 + 0.5 * window\n",
    "# lim = (numin, numax)\n",
    "# t = 400\n",
    "\n",
    "# g = sns.jointplot(\n",
    "#     x=tunes_list[t][:, 0], y=tunes_list[t][:, 1],\n",
    "#     kind='hist', xlim=lim, ylim=lim,\n",
    "#     height=4,\n",
    "#     joint_kws=dict(cmap='binary'),\n",
    "#     marginal_kws=dict(bins='auto', color='black', ec=None))\n",
    "# g.ax_joint.set_xlabel(r'$\\nu_x$')\n",
    "# g.ax_joint.set_ylabel(r'$\\nu_y$')\n",
    "# line_kws = dict(color='red', lw=1, alpha=0.25)\n",
    "# g.ax_joint.axvline(nux, **line_kws)\n",
    "# g.ax_joint.axhline(nuy, **line_kws)\n",
    "# plt.show()"
   ]
  },
  {
   "cell_type": "code",
   "execution_count": null,
   "metadata": {},
   "outputs": [],
   "source": [
    "# def callback(current_frame, total_frames):\n",
    "#     if current_frame % 10 == 0:\n",
    "#         print('Saving frame {}/{}'.format(current_frame, total_frames))"
   ]
  },
  {
   "cell_type": "code",
   "execution_count": null,
   "metadata": {},
   "outputs": [],
   "source": [
    "# tmax = 500\n",
    "# skip = 2\n",
    "\n",
    "# g = sns.JointGrid(xlim=lim, ylim=lim, height=4)\n",
    "# fig = g.fig\n",
    "# line_kws = dict(color='red', lw=0.4, alpha=0.25)\n",
    "# g.ax_joint.axvline(nux, **line_kws)\n",
    "# g.ax_joint.axhline(nuy, **line_kws)\n",
    "# g.ax_joint.set_xlabel(r'$\\nu_x$')\n",
    "# g.ax_joint.set_ylabel(r'$\\nu_y$')\n",
    "# plt.tight_layout()\n",
    "# plt.close()\n",
    "\n",
    "# joint_kws = dict(range=(lim, lim), bins=75, cmap='binary')\n",
    "# marginal_kws = dict(color='black', bins='auto', histtype='stepfilled')\n",
    "\n",
    "# def update(t):\n",
    "#     t *= skip\n",
    "#     t = min(t, tmax - 2)\n",
    "#     tunes = tunes_list[t]\n",
    "#     for ax in [g.ax_joint, g.ax_marg_x, g.ax_marg_y]:\n",
    "#         for artist in ax.artists:\n",
    "#             artist.set_visible(False)\n",
    "#         for patch in ax.patches:\n",
    "#             patch.set_visible(False)\n",
    "\n",
    "#     g.ax_joint.hist2d(tunes[:, 0], tunes[:, 1], **joint_kws)\n",
    "#     g.ax_marg_x.hist(tunes[:, 0], **marginal_kws)\n",
    "#     g.ax_marg_y.hist(tunes[:, 1], orientation='horizontal', **marginal_kws)\n",
    "#     for text in g.ax_joint.texts:\n",
    "#         text.remove()\n",
    "#     g.ax_joint.annotate('turn {:3.0f}-{:3.0f}'.format(t, t + 1), \n",
    "#                         xy=(0.02, 0.95), xycoords='axes fraction')\n",
    "\n",
    "# fps = 6\n",
    "# interval = 1000. / fps\n",
    "# frames = tmax // skip\n",
    "# # frames = 10\n",
    "# anim = animation.FuncAnimation(fig, update, frames=frames, interval=interval)\n",
    "# # anim\n",
    "# anim.save('_output/figures/tunes.mp4', dpi=350, progress_callback=callback)"
   ]
  },
  {
   "cell_type": "code",
   "execution_count": null,
   "metadata": {},
   "outputs": [],
   "source": []
  }
 ],
 "metadata": {
  "kernelspec": {
   "display_name": "Python 3",
   "language": "python",
   "name": "python3"
  },
  "language_info": {
   "codemirror_mode": {
    "name": "ipython",
    "version": 3
   },
   "file_extension": ".py",
   "mimetype": "text/x-python",
   "name": "python",
   "nbconvert_exporter": "python",
   "pygments_lexer": "ipython3",
   "version": "3.7.6"
  }
 },
 "nbformat": 4,
 "nbformat_minor": 4
}
