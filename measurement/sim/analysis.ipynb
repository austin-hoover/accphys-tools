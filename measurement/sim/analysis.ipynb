{
 "cells": [
  {
   "cell_type": "markdown",
   "metadata": {},
   "source": [
    "# Emittance measurement simulation"
   ]
  },
  {
   "cell_type": "code",
   "execution_count": null,
   "metadata": {},
   "outputs": [],
   "source": [
    "import sys\n",
    "import os\n",
    "from pprint import pprint\n",
    "\n",
    "import numpy as np\n",
    "from matplotlib import pyplot as plt\n",
    "import proplot as pplt\n",
    "from tqdm import tqdm\n",
    "\n",
    "sys.path.append('/Users/46h/Research/')\n",
    "from accphys.tools import beam_analysis as ba\n",
    "from accphys.tools import plotting as myplt\n",
    "from accphys.tools import utils"
   ]
  },
  {
   "cell_type": "code",
   "execution_count": null,
   "metadata": {},
   "outputs": [],
   "source": [
    "pplt.rc['grid.alpha'] = 0.05\n",
    "pplt.rc['axes.grid'] = False\n",
    "pplt.rc['figure.facecolor'] = 'white'\n",
    "format_kws = dict(ygrid=True, xgrid=False)\n",
    "savefig_kws = dict(dpi=300)"
   ]
  },
  {
   "cell_type": "markdown",
   "metadata": {},
   "source": [
    "## Load data"
   ]
  },
  {
   "cell_type": "code",
   "execution_count": null,
   "metadata": {},
   "outputs": [],
   "source": [
    "turns = np.loadtxt('_output/data/turns.dat').astype(int)\n",
    "print(turns)\n",
    "\n",
    "frames = list(range(len(turns)))"
   ]
  },
  {
   "cell_type": "code",
   "execution_count": null,
   "metadata": {},
   "outputs": [],
   "source": [
    "intensities = np.loadtxt('_output/data/intensities.dat')\n",
    "print(intensities)"
   ]
  },
  {
   "cell_type": "code",
   "execution_count": null,
   "metadata": {},
   "outputs": [],
   "source": [
    "file = open('_output/data/rec_node_names.txt', 'r')\n",
    "rec_node_names = [line.rstrip() for line in file]\n",
    "file.close()"
   ]
  },
  {
   "cell_type": "code",
   "execution_count": null,
   "metadata": {},
   "outputs": [],
   "source": [
    "rec_node_positions = np.loadtxt('_output/data/rec_node_positions.dat')"
   ]
  },
  {
   "cell_type": "markdown",
   "metadata": {},
   "source": [
    "Sigmas_rec[i, j, :, :] is the reconstructed covariance matrix $\\Sigma$ for node i, trial j. We also compute the mean and standard deviation of $\\Sigma$ across trials. We use the mean values to compute the beam statistics."
   ]
  },
  {
   "cell_type": "code",
   "execution_count": null,
   "metadata": {},
   "outputs": [],
   "source": [
    "Sigmas_rec_list = []\n",
    "Sigmas_rec_mean_list = []\n",
    "Sigmas_rec_std_list = []\n",
    "for frame in frames:\n",
    "    Sigmas = np.load('_output/data/Sigmas_rec_{}.npy'.format(frame))\n",
    "    Sigmas_rec_list.append(Sigmas)\n",
    "    Sigmas_rec_mean_list.append(np.mean(Sigmas, axis=1))\n",
    "    Sigmas_rec_std_list.append(np.std(Sigmas, axis=1))"
   ]
  },
  {
   "cell_type": "code",
   "execution_count": null,
   "metadata": {},
   "outputs": [],
   "source": [
    "stats_rec_list = []\n",
    "for Sigmas_mean in tqdm(Sigmas_rec_mean_list):\n",
    "    moments_mean = np.array([utils.mat2vec(Sigma) for Sigma in Sigmas_mean])\n",
    "    stats_rec = ba.StatsReader()\n",
    "    stats_rec.read_moments(moments_mean)\n",
    "    stats_rec_list.append(stats_rec)"
   ]
  },
  {
   "cell_type": "markdown",
   "metadata": {},
   "source": [
    "Now load the simulated moments at each node."
   ]
  },
  {
   "cell_type": "code",
   "execution_count": null,
   "metadata": {},
   "outputs": [],
   "source": [
    "Sigmas_sim_list = []\n",
    "for frame in frames:\n",
    "    Sigmas = np.load('_output/data/Sigmas_sim_{}.npy'.format(frame))\n",
    "    Sigmas_sim_list.append(Sigmas)\n",
    "    \n",
    "stats_sim_list = []\n",
    "for Sigmas in Sigmas_sim_list:\n",
    "    moments = np.array([utils.mat2vec(Sigma) for Sigma in Sigmas])\n",
    "    stats = ba.StatsReader()\n",
    "    stats.read_moments(moments)\n",
    "    stats_sim_list.append(stats)"
   ]
  },
  {
   "cell_type": "markdown",
   "metadata": {},
   "source": [
    "## Comparison "
   ]
  },
  {
   "cell_type": "code",
   "execution_count": null,
   "metadata": {},
   "outputs": [],
   "source": [
    "line_kws_sim = dict(lw=1.0)\n",
    "line_kws_rec = dict(ls='dotted', lw=1.0)"
   ]
  },
  {
   "cell_type": "code",
   "execution_count": null,
   "metadata": {},
   "outputs": [],
   "source": [
    "for i, frame in enumerate(frames):\n",
    "    stats_rec = stats_rec_list[i]\n",
    "    stats_sim = stats_sim_list[i]\n",
    "    turn = turns[i]\n",
    "    \n",
    "    fig, axes = pplt.subplots(nrows=2, figsize=(5.5, 3.75))\n",
    "    g1 = axes[0].plot(rec_node_positions[:, 0], stats_sim.twiss2D['beta_x'], **line_kws_sim)\n",
    "    g2 = axes[0].plot(rec_node_positions[:, 0], stats_sim.twiss2D['beta_y'], **line_kws_sim)\n",
    "    axes[0].format(cycle='colorblind')\n",
    "    g3 = axes[0].plot(rec_node_positions[:, 0], stats_rec.twiss2D['beta_x'], **line_kws_rec)\n",
    "    g4 = axes[0].plot(rec_node_positions[:, 0], stats_rec.twiss2D['beta_y'], **line_kws_rec)\n",
    "    axes[0].legend(\n",
    "        [g1, g2, g3, g4], \n",
    "        labels=[r'$\\beta_x$ (sim)', r'$\\beta_y$ (sim)', \n",
    "                r'$\\beta_x$ (rec)', r'$\\beta_y$ (rec)'],\n",
    "        ncols=1, loc='r', framealpha=0.\n",
    "    )\n",
    "    g1 = axes[1].plot(rec_node_positions[:, 0], stats_sim.twiss2D['alpha_x'], **line_kws_sim)\n",
    "    g2 = axes[1].plot(rec_node_positions[:, 0], stats_sim.twiss2D['alpha_y'], **line_kws_sim)\n",
    "    axes[1].format(cycle='colorblind')\n",
    "    g3 = axes[1].plot(rec_node_positions[:, 0], stats_rec.twiss2D['alpha_x'], **line_kws_rec)\n",
    "    g4 = axes[1].plot(rec_node_positions[:, 0], stats_rec.twiss2D['alpha_y'], **line_kws_rec)\n",
    "    axes[1].legend(\n",
    "        [g1, g2, g3, g4], \n",
    "        labels=[r'$\\alpha_x$ (sim)', r'$\\alpha_x$ (sim)', \n",
    "                r'$\\alpha_x$ (rec)', r'$\\alpha_y$ (rec)'],\n",
    "        ncols=1, loc='r', framealpha=0.\n",
    "    )\n",
    "    axes[0].format(\n",
    "        ylabel='[m/rad]', xlabel='Position [m]', \n",
    "        ylim=(0., 105.),\n",
    "        title='Reconstructed Twiss parameters -- turn {}'.format(turn)\n",
    "    )\n",
    "    axes[1].format(\n",
    "        ylabel='[rad]', xlabel='Position [m]', \n",
    "        ylim=(-max(axes[1].get_ylim()), max(axes[1].get_ylim()))\n",
    "    )\n",
    "    plt.show()"
   ]
  },
  {
   "cell_type": "code",
   "execution_count": null,
   "metadata": {},
   "outputs": [],
   "source": [
    "for i, frame in enumerate(frames):\n",
    "    stats_rec = stats_rec_list[i]\n",
    "    stats_sim = stats_sim_list[i]\n",
    "    turn = turns[frame]\n",
    "    \n",
    "    fig, ax = pplt.subplots(figsize=(5.25, 2.0))\n",
    "    g1 = ax.plot(rec_node_positions[:, 0], stats_sim.twiss2D['eps_x'], **line_kws_sim)\n",
    "    g2 = ax.plot(rec_node_positions[:, 0], stats_sim.twiss2D['eps_y'], **line_kws_sim)\n",
    "    g3 = ax.plot(rec_node_positions[:, 0], stats_sim.twiss4D['eps_1'], **line_kws_sim)\n",
    "    g4 = ax.plot(rec_node_positions[:, 0], stats_sim.twiss4D['eps_2'], **line_kws_sim)\n",
    "    ax.format(cycle='colorblind')\n",
    "    g5 = ax.plot(rec_node_positions[:, 0], stats_rec.twiss2D['eps_x'], **line_kws_rec)\n",
    "    g6 = ax.plot(rec_node_positions[:, 0], stats_rec.twiss2D['eps_y'], **line_kws_rec)\n",
    "    g7 = ax.plot(rec_node_positions[:, 0], stats_rec.twiss4D['eps_1'], **line_kws_rec)\n",
    "    g8 = ax.plot(rec_node_positions[:, 0], stats_rec.twiss4D['eps_2'], **line_kws_rec)\n",
    "    ax.legend(\n",
    "        handles=[g1, g5, g2, g6, g3, g7, g4, g8], \n",
    "        labels=[r'$\\varepsilon_x$ (sim)', r'$\\varepsilon_x$ (rec)', \n",
    "                r'$\\varepsilon_y$ (sim)', r'$\\varepsilon_y$ (rec)',\n",
    "                r'$\\varepsilon_1$ (sim)', r'$\\varepsilon_1$ (rec)', \n",
    "                r'$\\varepsilon_2$ (sim)', r'$\\varepsilon_2$ (rec)',\n",
    "               ],\n",
    "        ncols=2, loc='r', framealpha=0.\n",
    "    )\n",
    "    ax.format(\n",
    "        ylabel='[mm mrad]', xlabel='Position [m]', \n",
    "        ylim=(0., ax.get_ylim()[1]),\n",
    "        title='Reconstructed emittances -- turn {}'.format(turn)\n",
    "    )\n",
    "    plt.savefig('_output/figures/emittance_{}.png'.format(turn), **savefig_kws)\n",
    "    plt.show()"
   ]
  },
  {
   "cell_type": "code",
   "execution_count": null,
   "metadata": {},
   "outputs": [],
   "source": [
    "sim_kws = dict(color='black')\n",
    "rec_kws = dict(color='red', lw=0, marker='.', ms=2)\n",
    "# rec_kws = dict(color='red', ls='dotted')\n",
    "labels = [\n",
    "    r\"$\\langle{xx}\\rangle$\",\n",
    "    r\"$\\langle{xx'}\\rangle$\",\n",
    "    r\"$\\langle{xy}\\rangle$\",\n",
    "    r\"$\\langle{xy'}\\rangle$\",\n",
    "    r\"$\\langle{x'x'}\\rangle$\",\n",
    "    r\"$\\langle{x'y}\\rangle$\",\n",
    "    r\"$\\langle{x'y'}\\rangle$\",\n",
    "    r\"$\\langle{yy}\\rangle$\",\n",
    "    r\"$\\langle{yy'}\\rangle$\",\n",
    "    r\"$\\langle{y'y'}\\rangle$\",\n",
    "]"
   ]
  },
  {
   "cell_type": "code",
   "execution_count": null,
   "metadata": {},
   "outputs": [],
   "source": [
    "_frames = [1, 3, 5, 7]\n",
    "fig, axes = pplt.subplots(nrows=10, ncols=len(_frames), figsize=(7, 9), spany=False, aligny=True)\n",
    "for j, frame in enumerate(_frames):    \n",
    "    stats_rec = stats_rec_list[j]\n",
    "    stats_sim = stats_sim_list[j]\n",
    "    turn = turns[frame]\n",
    "    axes[0, j].set_title('Turn {}'.format(turn))\n",
    "    for i, ax in enumerate(axes[:, j]):\n",
    "        ax.plot(rec_node_positions[:, 0], stats_sim.moments.iloc[:, i].values, **sim_kws)\n",
    "        ax.plot(rec_node_positions[:, 0], stats_rec.moments.iloc[:, i].values, **rec_kws)\n",
    "for i, ax in enumerate(axes[:, 0]):\n",
    "    ax.set_ylabel(labels[i])\n",
    "axes.format(suptitle='Second-order moments', xlabel='Position [m]')\n",
    "plt.savefig('_output/figures/rec_moments.png', **savefig_kws)\n",
    "plt.show()"
   ]
  },
  {
   "cell_type": "code",
   "execution_count": null,
   "metadata": {},
   "outputs": [],
   "source": [
    "_frames = [1, 3, 5, 7]\n",
    "_cols = [1, 2, 3, 5, 6, 8]\n",
    "fig, axes = pplt.subplots(nrows=len(_cols), ncols=len(_frames), figsize=(7, 5.5), spany=False, aligny=True)\n",
    "for j, frame in enumerate(_frames):    \n",
    "    stats_rec = stats_rec_list[j]\n",
    "    stats_sim = stats_sim_list[j]\n",
    "    turn = turns[frame]\n",
    "    axes[0, j].set_title('Turn {}'.format(turn))\n",
    "    for i, col in enumerate(_cols):\n",
    "        ax = axes[i, j]\n",
    "        ax.plot(rec_node_positions[:, 0], stats_sim.corr.iloc[:, col].values, **sim_kws)\n",
    "        ax.plot(rec_node_positions[:, 0], stats_rec.corr.iloc[:, col].values, **rec_kws)\n",
    "for i, ax in enumerate(axes[:, 0]):\n",
    "    ax.set_ylabel(labels[i])\n",
    "axes.format(suptitle='Reconstructed correlation coefficients', xlabel='Position [m]')\n",
    "plt.savefig('_output/figures/rec_corr.png', **savefig_kws)\n",
    "plt.show()"
   ]
  },
  {
   "cell_type": "markdown",
   "metadata": {},
   "source": [
    "## Load beam distribution"
   ]
  },
  {
   "cell_type": "code",
   "execution_count": null,
   "metadata": {},
   "outputs": [],
   "source": [
    "import sys\n",
    "sys.path.append('/Users/46h/Research/')\n",
    "from accphys.tools import utils\n",
    "from accphys.tools import plotting as myplt"
   ]
  },
  {
   "cell_type": "code",
   "execution_count": null,
   "metadata": {},
   "outputs": [],
   "source": [
    "coords = utils.load_stacked_arrays('_input/coords_rtbt.npz')"
   ]
  },
  {
   "cell_type": "code",
   "execution_count": null,
   "metadata": {},
   "outputs": [],
   "source": [
    "for i, X in enumerate(coords):\n",
    "    turn = turns[i]\n",
    "    axes = myplt.corner(X[:, :4], figsize=(5, 5), sigma=3.0, cmap='mono', bins='auto')\n",
    "    plt.suptitle('Turn {}'.format(turn))"
   ]
  },
  {
   "cell_type": "code",
   "execution_count": null,
   "metadata": {},
   "outputs": [],
   "source": [
    "from accphys.tools import animation as myanim\n",
    "pplt.rc['animation.html'] = 'jshtml'\n",
    "pplt.rc['savefig.dpi'] = 'figure'"
   ]
  },
  {
   "cell_type": "code",
   "execution_count": null,
   "metadata": {},
   "outputs": [],
   "source": [
    "help(myanim.corner)"
   ]
  },
  {
   "cell_type": "code",
   "execution_count": null,
   "metadata": {},
   "outputs": [],
   "source": [
    "anim = myanim.corner(coords, dims=4, sigma=3.0, \n",
    "                     text_vals=turns, text_fmt='Turn = {}',\n",
    "                     hist_height_frac=0.6,\n",
    "                     global_cmap_norm=False, static_n_bins='max',\n",
    "                     cmap='mono', bins='auto')\n",
    "anim.save('_output/figures/corner.mp4', dpi=200)"
   ]
  },
  {
   "cell_type": "code",
   "execution_count": null,
   "metadata": {},
   "outputs": [],
   "source": []
  }
 ],
 "metadata": {
  "kernelspec": {
   "display_name": "Python 3",
   "language": "python",
   "name": "python3"
  },
  "language_info": {
   "codemirror_mode": {
    "name": "ipython",
    "version": 3
   },
   "file_extension": ".py",
   "mimetype": "text/x-python",
   "name": "python",
   "nbconvert_exporter": "python",
   "pygments_lexer": "ipython3",
   "version": "3.7.6"
  }
 },
 "nbformat": 4,
 "nbformat_minor": 4
}
