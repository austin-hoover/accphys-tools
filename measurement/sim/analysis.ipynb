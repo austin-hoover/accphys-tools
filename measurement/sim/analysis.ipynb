{
 "cells": [
  {
   "cell_type": "markdown",
   "metadata": {},
   "source": [
    "# Emittance measurement simulation"
   ]
  },
  {
   "cell_type": "code",
   "execution_count": 1,
   "metadata": {},
   "outputs": [],
   "source": [
    "import sys\n",
    "import os\n",
    "from pprint import pprint\n",
    "\n",
    "import numpy as np\n",
    "from matplotlib import pyplot as plt\n",
    "import proplot as pplt\n",
    "from tqdm import tqdm\n",
    "\n",
    "sys.path.append('/Users/46h/Research/')\n",
    "from scdist.tools import beam_analysis as ba\n",
    "from scdist.tools import plotting as myplt\n",
    "from scdist.tools import utils"
   ]
  },
  {
   "cell_type": "code",
   "execution_count": 2,
   "metadata": {},
   "outputs": [],
   "source": [
    "pplt.rc['grid.alpha'] = 0.05\n",
    "pplt.rc['axes.grid'] = False\n",
    "pplt.rc['figure.facecolor'] = 'white'\n",
    "format_kws = dict(ygrid=True, xgrid=False)\n",
    "savefig_kws = dict(dpi=300)"
   ]
  },
  {
   "cell_type": "markdown",
   "metadata": {},
   "source": [
    "## Load data"
   ]
  },
  {
   "cell_type": "code",
   "execution_count": 3,
   "metadata": {},
   "outputs": [
    {
     "name": "stdout",
     "output_type": "stream",
     "text": [
      "[  0  50 100 150 200 250 300 350]\n"
     ]
    }
   ],
   "source": [
    "turns = np.loadtxt('_output/data/turns.dat').astype(int)\n",
    "print(turns)\n",
    "\n",
    "frames = list(range(len(turns)))"
   ]
  },
  {
   "cell_type": "code",
   "execution_count": 4,
   "metadata": {},
   "outputs": [
    {
     "name": "stdout",
     "output_type": "stream",
     "text": [
      "[1.50000000e+11 7.86428571e+12 1.55785714e+13 2.32928571e+13\n",
      " 3.10071429e+13 3.87214286e+13 4.64357143e+13 5.41500000e+13]\n"
     ]
    }
   ],
   "source": [
    "intensities = np.loadtxt('_output/data/intensities.dat')\n",
    "print(intensities)"
   ]
  },
  {
   "cell_type": "code",
   "execution_count": 5,
   "metadata": {},
   "outputs": [],
   "source": [
    "file = open('_output/data/rec_node_names.txt', 'r')\n",
    "rec_node_names = [line.rstrip() for line in file]\n",
    "file.close()"
   ]
  },
  {
   "cell_type": "code",
   "execution_count": 6,
   "metadata": {},
   "outputs": [],
   "source": [
    "rec_node_positions = np.loadtxt('_output/data/rec_node_positions.dat')"
   ]
  },
  {
   "cell_type": "code",
   "execution_count": 7,
   "metadata": {},
   "outputs": [],
   "source": [
    "istart = 35\n",
    "rec_node_names = rec_node_names[istart:]\n",
    "rec_node_positions = rec_node_positions[istart:]"
   ]
  },
  {
   "cell_type": "markdown",
   "metadata": {},
   "source": [
    "Sigmas_rec[i, j, :, :] is the reconstructed covariance matrix $\\Sigma$ for node i, trial j. We also compute the mean and standard deviation of $\\Sigma$ across trials. We use the mean values to compute the beam statistics."
   ]
  },
  {
   "cell_type": "code",
   "execution_count": 8,
   "metadata": {},
   "outputs": [],
   "source": [
    "Sigmas_rec_list = []\n",
    "for frame in frames:\n",
    "    Sigmas = np.load('_output/data/Sigmas_rec_{}.npy'.format(frame))\n",
    "    Sigmas = Sigmas[istart:]\n",
    "    Sigmas_rec_list.append(Sigmas)"
   ]
  },
  {
   "cell_type": "markdown",
   "metadata": {},
   "source": [
    "Now load the simulated moments at each node."
   ]
  },
  {
   "cell_type": "code",
   "execution_count": 9,
   "metadata": {},
   "outputs": [],
   "source": [
    "Sigmas_sim_list = []\n",
    "for frame in frames:\n",
    "    Sigmas = np.load('_output/data/Sigmas_sim_{}.npy'.format(frame))\n",
    "    Sigmas = Sigmas[istart:]\n",
    "    Sigmas_sim_list.append(Sigmas)\n",
    "    \n",
    "stats_sim_list = []\n",
    "for Sigmas in Sigmas_sim_list:\n",
    "    moments = np.array([utils.mat2vec(Sigma) for Sigma in Sigmas])\n",
    "    stats = ba.BeamStats()\n",
    "    stats.read_moments(moments)\n",
    "    stats_sim_list.append(stats)"
   ]
  },
  {
   "cell_type": "markdown",
   "metadata": {},
   "source": [
    "## Comparison "
   ]
  },
  {
   "cell_type": "code",
   "execution_count": 10,
   "metadata": {},
   "outputs": [],
   "source": [
    "line_kws_sim = dict(lw=1.0)\n",
    "line_kws_rec = dict(ls='dotted', lw=1.0)"
   ]
  },
  {
   "cell_type": "code",
   "execution_count": 11,
   "metadata": {},
   "outputs": [],
   "source": [
    "# for i, frame in enumerate(frames):\n",
    "#     stats_rec = stats_rec_list[i]\n",
    "#     stats_sim = stats_sim_list[i]\n",
    "#     turn = turns[i]\n",
    "    \n",
    "#     fig, axes = pplt.subplots(nrows=2, figsize=(5.5, 3.75))\n",
    "#     g1 = axes[0].plot(rec_node_positions[:, 0], stats_sim.twiss2D['beta_x'], **line_kws_sim)\n",
    "#     g2 = axes[0].plot(rec_node_positions[:, 0], stats_sim.twiss2D['beta_y'], **line_kws_sim)\n",
    "#     axes[0].format(cycle='colorblind')\n",
    "#     g3 = axes[0].plot(rec_node_positions[:, 0], stats_rec.twiss2D['beta_x'], **line_kws_rec)\n",
    "#     g4 = axes[0].plot(rec_node_positions[:, 0], stats_rec.twiss2D['beta_y'], **line_kws_rec)\n",
    "#     axes[0].legend(\n",
    "#         [g1, g2, g3, g4], \n",
    "#         labels=[r'$\\beta_x$ (sim)', r'$\\beta_y$ (sim)', \n",
    "#                 r'$\\beta_x$ (rec)', r'$\\beta_y$ (rec)'],\n",
    "#         ncols=1, loc='r', framealpha=0.\n",
    "#     )\n",
    "#     g1 = axes[1].plot(rec_node_positions[:, 0], stats_sim.twiss2D['alpha_x'], **line_kws_sim)\n",
    "#     g2 = axes[1].plot(rec_node_positions[:, 0], stats_sim.twiss2D['alpha_y'], **line_kws_sim)\n",
    "#     axes[1].format(cycle='colorblind')\n",
    "#     g3 = axes[1].plot(rec_node_positions[:, 0], stats_rec.twiss2D['alpha_x'], **line_kws_rec)\n",
    "#     g4 = axes[1].plot(rec_node_positions[:, 0], stats_rec.twiss2D['alpha_y'], **line_kws_rec)\n",
    "#     axes[1].legend(\n",
    "#         [g1, g2, g3, g4], \n",
    "#         labels=[r'$\\alpha_x$ (sim)', r'$\\alpha_x$ (sim)', \n",
    "#                 r'$\\alpha_x$ (rec)', r'$\\alpha_y$ (rec)'],\n",
    "#         ncols=1, loc='r', framealpha=0.\n",
    "#     )\n",
    "#     axes[0].format(\n",
    "#         ylabel='[m/rad]', xlabel='Position [m]', \n",
    "#         ylim=(0., 105.),\n",
    "#         title='Reconstructed Twiss parameters -- turn {}'.format(turn)\n",
    "#     )\n",
    "#     axes[1].format(\n",
    "#         ylabel='[rad]', xlabel='Position [m]', \n",
    "#         ylim=(-max(axes[1].get_ylim()), max(axes[1].get_ylim()))\n",
    "#     )\n",
    "#     plt.show()"
   ]
  },
  {
   "cell_type": "code",
   "execution_count": 12,
   "metadata": {},
   "outputs": [],
   "source": [
    "sim_kws = dict(color='black')\n",
    "rec_kws = dict(color='red', lw=0, marker='.', ms=2)\n",
    "# rec_kws = dict(color='red', ls='dotted')\n",
    "labels = [\n",
    "    r\"$\\langle{xx}\\rangle$\",\n",
    "    r\"$\\langle{xx'}\\rangle$\",\n",
    "    r\"$\\langle{xy}\\rangle$\",\n",
    "    r\"$\\langle{xy'}\\rangle$\",\n",
    "    r\"$\\langle{x'x'}\\rangle$\",\n",
    "    r\"$\\langle{x'y}\\rangle$\",\n",
    "    r\"$\\langle{x'y'}\\rangle$\",\n",
    "    r\"$\\langle{yy}\\rangle$\",\n",
    "    r\"$\\langle{yy'}\\rangle$\",\n",
    "    r\"$\\langle{y'y'}\\rangle$\",\n",
    "]"
   ]
  },
  {
   "cell_type": "code",
   "execution_count": 13,
   "metadata": {},
   "outputs": [],
   "source": [
    "def mean_std(Sigmas, func):\n",
    "    data = [func(Sigma) for Sigma in Sigmas]\n",
    "    return np.mean(data, axis=0), np.std(data, axis=0)"
   ]
  },
  {
   "cell_type": "code",
   "execution_count": 14,
   "metadata": {},
   "outputs": [],
   "source": [
    "def means_stds(Sigmas_at_nodes, func):\n",
    "    means, stds = [], []\n",
    "    for Sigmas in Sigmas_at_nodes:\n",
    "        mean, std = mean_std(Sigmas, func)\n",
    "        means.append(mean)\n",
    "        stds.append(std)\n",
    "    means = np.array(means)\n",
    "    stds = np.array(stds)\n",
    "    return means, stds"
   ]
  },
  {
   "cell_type": "code",
   "execution_count": null,
   "metadata": {},
   "outputs": [],
   "source": [
    "_frames = [1, 3, 5, 7]\n",
    "ebar_kws = dict(elinewidth=1.0, ecolor='red', capsize=0, lw=0, zorder=999)\n",
    "\n",
    "fig, axes = pplt.subplots(nrows=10, ncols=len(_frames), figsize=(7, 10.5), spany=False, aligny=True)\n",
    "\n",
    "for j, frame in enumerate(_frames):        \n",
    "    Sigmas_rec = Sigmas_rec_list[frame]\n",
    "    means, stds = means_stds(Sigmas_rec, ba.mat2vec)  \n",
    "    sims = np.array([ba.mat2vec(Sigma) for Sigma in Sigmas_sim_list[frame]])    \n",
    "    for i, ax in enumerate(axes[:, j]):\n",
    "        ax.plot(rec_node_positions[:, 0], sims[:, i], **sim_kws)\n",
    "        ax.errorbar(rec_node_positions[:, 0], means[:, i], yerr=stds[:, i], **ebar_kws)\n",
    "\n",
    "for i, ax in enumerate(axes[:, 0]):\n",
    "    ax.set_ylabel(labels[i])\n",
    "for frame, ax in zip(_frames, axes[0, :]):\n",
    "    ax.set_title('Turn {}'.format(turns[frame]))\n",
    "xmin, xmax = axes[-1].get_xlim()\n",
    "axes.format(xlim=(xmin, 1.02 * xmax))\n",
    "axes.format(suptitle='Second-order moments', xlabel='Position [m]')\n",
    "plt.savefig('_output/figures/rec_moments.png', **savefig_kws)\n",
    "plt.show()"
   ]
  },
  {
   "cell_type": "code",
   "execution_count": null,
   "metadata": {},
   "outputs": [],
   "source": [
    "fig, axes = pplt.subplots(ncols=len(_frames), nrows=4, figsize=(7, 5), spany=False)\n",
    "kws_sim = dict(color='black')\n",
    "kws_rec = dict(color='red', marker='|', lw=0)\n",
    "\n",
    "for j, frame in enumerate(_frames):\n",
    "    \n",
    "    axes[0, j].set_title('Turn {}'.format(turns[frame]))\n",
    "    \n",
    "    Sigmas_rec = Sigmas_rec_list[frame]  # [node, trial, Sigma]\n",
    "    emittances_means, emittances_stds = [], []\n",
    "    for k in range(Sigmas_rec.shape[0]):\n",
    "        emittances_mean, emittances_std = mean_std(Sigmas_rec[k, :], ba.emittances)\n",
    "        emittances_means.append(emittances_mean)\n",
    "        emittances_stds.append(emittances_std)\n",
    "    emittances_means = np.array(emittances_means)\n",
    "    emittances_stds = np.array(emittances_stds)\n",
    "    \n",
    "    Sigmas_sim = Sigmas_sim_list[frame]\n",
    "    emittances_sim = [ba.emittances(Sigma) for Sigma in Sigmas_sim]\n",
    "    emittances_sim = np.array(emittances_sim)\n",
    "    for k in range(4):\n",
    "        ax = axes[k, j]\n",
    "        ax.plot(rec_node_positions[:, 0], emittances_sim[:, k], **kws_sim)\n",
    "        ax.errorbar(rec_node_positions[:, 0], emittances_means[:, k], \n",
    "                    yerr=emittances_stds[:, k],\n",
    "                    elinewidth=1.0, ecolor='red', capsize=0, lw=0, zorder=999,\n",
    "                   )\n",
    "axes.format(xlabel='Position [m]', ylabel='[mm mrad]')\n",
    "for ax, label in zip(axes[:, 0], [r\"$\\varepsilon_x$\", r\"$\\varepsilon_y$\", r\"$\\varepsilon_1$\", r\"$\\varepsilon_2$\"]):\n",
    "    ax.set_ylabel('{} [mm mrad]'.format(label))\n",
    "plt.show()"
   ]
  },
  {
   "cell_type": "code",
   "execution_count": null,
   "metadata": {},
   "outputs": [],
   "source": [
    "# _frames = [1, 3, 5, 7]\n",
    "# _cols = [1, 2, 3, 5, 6, 8]\n",
    "# fig, axes = pplt.subplots(nrows=len(_cols), ncols=len(_frames), figsize=(7, 5.5), spany=False, aligny=True)\n",
    "# for j, frame in enumerate(_frames):    \n",
    "#     stats_rec = stats_rec_list[j]\n",
    "#     stats_sim = stats_sim_list[j]\n",
    "#     turn = turns[frame]\n",
    "#     axes[0, j].set_title('Turn {}'.format(turn))\n",
    "#     for i, col in enumerate(_cols):\n",
    "#         ax = axes[i, j]\n",
    "#         ax.plot(rec_node_positions[:, 0], stats_sim.corr.iloc[:, col].values, **sim_kws)\n",
    "#         ax.plot(rec_node_positions[:, 0], stats_rec.corr.iloc[:, col].values, **rec_kws)\n",
    "# for i, ax in enumerate(axes[:, 0]):\n",
    "#     ax.set_ylabel(labels[i])\n",
    "# xmin, xmax = axes[-1].get_xlim()\n",
    "# axes.format(xlim=(xmin, 1.01 * xmax))\n",
    "# axes.format(suptitle='Reconstructed correlation coefficients', xlabel='Position [m]')\n",
    "# plt.savefig('_output/figures/rec_corr.png', **savefig_kws)\n",
    "# plt.show()"
   ]
  },
  {
   "cell_type": "markdown",
   "metadata": {},
   "source": [
    "## Load beam distribution"
   ]
  },
  {
   "cell_type": "code",
   "execution_count": null,
   "metadata": {},
   "outputs": [],
   "source": [
    "import sys\n",
    "sys.path.append('/Users/46h/Research/')\n",
    "from scdist.tools import utils\n",
    "from scdist.tools import plotting as myplt"
   ]
  },
  {
   "cell_type": "code",
   "execution_count": null,
   "metadata": {},
   "outputs": [],
   "source": [
    "coords = utils.load_stacked_arrays('_input/coords_rtbt.npz')"
   ]
  },
  {
   "cell_type": "code",
   "execution_count": null,
   "metadata": {},
   "outputs": [],
   "source": [
    "for i, X in enumerate(coords):\n",
    "    turn = turns[i]\n",
    "    axes = myplt.corner(X[:, :4], figsize=(5, 5), autolim_kws=dict(sigma=3.0), \n",
    "                        cmap=pplt.Colormap('mono', left=0.03), \n",
    "                        thresh=0,\n",
    "                        bins='auto')\n",
    "    plt.suptitle('Turn {}'.format(turn))"
   ]
  },
  {
   "cell_type": "code",
   "execution_count": null,
   "metadata": {},
   "outputs": [],
   "source": []
  }
 ],
 "metadata": {
  "kernelspec": {
   "display_name": "Python 3",
   "language": "python",
   "name": "python3"
  },
  "language_info": {
   "codemirror_mode": {
    "name": "ipython",
    "version": 3
   },
   "file_extension": ".py",
   "mimetype": "text/x-python",
   "name": "python",
   "nbconvert_exporter": "python",
   "pygments_lexer": "ipython3",
   "version": "3.7.6"
  }
 },
 "nbformat": 4,
 "nbformat_minor": 4
}
