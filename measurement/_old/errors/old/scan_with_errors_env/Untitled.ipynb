{
 "cells": [
  {
   "cell_type": "code",
   "execution_count": null,
   "metadata": {},
   "outputs": [],
   "source": [
    "import sys\n",
    "import numpy as np\n",
    "import matplotlib.pyplot as plt\n",
    "import proplot as plot\n",
    "\n",
    "sys.path.append('/Users/46h/Research/code/accphys/')\n",
    "from tools import beam_analysis as ba\n",
    "from tools import plotting as myplt\n",
    "\n",
    "sys.path.append('/Users/46h/Research/code/accphys/pyorbit/measurement')\n",
    "from data_analysis import reconstruct"
   ]
  },
  {
   "cell_type": "code",
   "execution_count": null,
   "metadata": {},
   "outputs": [],
   "source": [
    "plot.rc['grid.alpha'] = 0.04\n",
    "plot.rc['figure.facecolor'] = 'white'"
   ]
  },
  {
   "cell_type": "code",
   "execution_count": null,
   "metadata": {},
   "outputs": [],
   "source": [
    "def save(figname):\n",
    "    plt.savefig(''.join(['_output/figures/', figname, '.png']), facecolor='white', dpi=250)"
   ]
  },
  {
   "cell_type": "markdown",
   "metadata": {},
   "source": [
    "# Quad scan error analysis "
   ]
  },
  {
   "cell_type": "markdown",
   "metadata": {},
   "source": [
    "## Load data "
   ]
  },
  {
   "cell_type": "code",
   "execution_count": null,
   "metadata": {},
   "outputs": [],
   "source": [
    "keys = list(np.load('_output/data/keys.npy'))\n",
    "keys = [key.decode('utf-8') for key in keys]\n",
    "keydict = {key : i for i, key in enumerate(keys)}\n",
    "keydict"
   ]
  },
  {
   "cell_type": "code",
   "execution_count": null,
   "metadata": {},
   "outputs": [],
   "source": [
    "emittances_list = [np.load('_output/data/emittances_list_{}.npy'.format(i)) for i in range(len(keys) + 1)]\n",
    "transfer_mats_lists = [np.load('_output/data/transfer_mats_list_{}.npy'.format(i)) for i in range(len(keys) + 1)]\n",
    "moments_lists = [np.load('_output/data/moments_list_{}.npy'.format(i)) for i in range(len(keys) + 1)]"
   ]
  },
  {
   "cell_type": "markdown",
   "metadata": {},
   "source": [
    "## Emittances"
   ]
  },
  {
   "cell_type": "code",
   "execution_count": null,
   "metadata": {},
   "outputs": [],
   "source": [
    "fig, axes = plot.subplots(ncols=len(keys) + 1, figsize=(11, 2))\n",
    "for i, ax in enumerate(axes):\n",
    "    emittances = emittances_list[i]\n",
    "    ax.scatter(emittances[:, 2], emittances[:, 3], s=4, c='steelblue', alpha=0.5)\n",
    "    ax.scatter(20.0, 20.0, c='r', marker='x', s=30)\n",
    "    ax.format(title=keys[i] if i < len(keys) else 'all')\n",
    "lims= (17, 24)\n",
    "axes.format(\n",
    "#     xlim=lims, ylim=lims, \n",
    "    grid=False, \n",
    "    xlabel=r'$\\varepsilon_x$ [mm mrad]', ylabel=r'$\\varepsilon_y$ [mm mrad]')\n",
    "axes[0].legend(labels=['sim', 'true'], ncols=1);\n",
    "save('epsx')"
   ]
  },
  {
   "cell_type": "code",
   "execution_count": null,
   "metadata": {},
   "outputs": [],
   "source": [
    "print('means:', np.mean(emittances_list[-1], axis=0))\n",
    "print('stds: ', np.std(emittances_list[-1], axis=0))"
   ]
  },
  {
   "cell_type": "code",
   "execution_count": null,
   "metadata": {},
   "outputs": [],
   "source": [
    "fig, axes = plot.subplots(ncols=len(keys), figsize=(11, 2))\n",
    "for i, ax in enumerate(axes):\n",
    "    emittances = emittances_list[i]\n",
    "    ax.scatter(emittances[:, 0], emittances[:, 1], s=4, c='steelblue', alpha=0.5)\n",
    "    ax.scatter(0.0, 40.0, c='r', marker='x', s=30);\n",
    "    ax.format(title=keys[i] if i < len(keys) else 'all')\n",
    "axes.format(\n",
    "#     xlim=(-0.5, 5), ylim=(35, 45),\n",
    "    grid=False, \n",
    "    xlabel=r'$\\varepsilon_1$ [mm mrad]', ylabel=r'$\\varepsilon_2$ [mm mrad]')\n",
    "axes[0].legend(labels=['sim', 'true'], ncols=1);\n",
    "save('eps1')"
   ]
  },
  {
   "cell_type": "markdown",
   "metadata": {},
   "source": [
    "## Temp "
   ]
  },
  {
   "cell_type": "code",
   "execution_count": null,
   "metadata": {},
   "outputs": [],
   "source": [
    "fig, axes = plot.subplots(ncols=6, figsize=(8, 1.75))\n",
    "for i, ax in zip([0, 1, 2, 4, 5, 6], axes):\n",
    "    emittances = emittances_list[i]\n",
    "    ax.scatter(emittances[:, 2], emittances[:, 3], s=4, c='steelblue', alpha=0.5)\n",
    "    ax.scatter(20.0, 20.0, c='r', marker='x', s=30)\n",
    "    ax.format(title=keys[i] if i < len(keys) else 'all')\n",
    "lims= (17, 24)\n",
    "axes.format(\n",
    "#     xlim=lims, ylim=lims, \n",
    "    grid=False, \n",
    "    xlabel=r'$\\varepsilon_x$ [mm mrad]', ylabel=r'$\\varepsilon_y$ [mm mrad]')\n",
    "axes[0].legend(labels=['sim', 'true'], ncols=1, fontsize='small');\n",
    "save('epsx')"
   ]
  },
  {
   "cell_type": "code",
   "execution_count": null,
   "metadata": {},
   "outputs": [],
   "source": [
    "fig, axes = plot.subplots(ncols=6, figsize=(8, 1.75))\n",
    "for i, ax in zip([0, 1, 2, 4, 5, 6], axes):\n",
    "    emittances = emittances_list[i]\n",
    "    ax.scatter(emittances[:, 0], emittances[:, 1], s=4, c='steelblue', alpha=0.5)\n",
    "    ax.scatter(0.0, 40.0, c='r', marker='x', s=30);\n",
    "    ax.format(title=keys[i] if i < len(keys) else 'all')\n",
    "axes.format(xlim=(-0.5, 5), ylim=(35, 45), grid=False, \n",
    "            xlabel=r'$\\varepsilon_1$ [mm mrad]', ylabel=r'$\\varepsilon_2$ [mm mrad]')\n",
    "axes[0].legend(labels=['sim', 'true'], ncols=1, fontsize='small');\n",
    "save('eps1')"
   ]
  },
  {
   "cell_type": "markdown",
   "metadata": {},
   "source": [
    "## Visualization using lines"
   ]
  },
  {
   "cell_type": "code",
   "execution_count": null,
   "metadata": {
    "jupyter": {
     "source_hidden": true
    }
   },
   "outputs": [],
   "source": [
    "ax0, ay0, bx0, by0 = (-8.082, 4.380, 23.373, 13.455)\n",
    "scale = 2\n",
    "epsx = epsy = 20.0\n",
    "xmax = scale * np.sqrt(epsx)\n",
    "ymax = scale * np.sqrt(epsy)\n",
    "\n",
    "def V_2D(alpha, beta):\n",
    "    return np.array([[beta, 0.0], [-alpha, 1.0]]) / np.sqrt(beta)\n",
    "\n",
    "def normalize(vec):\n",
    "    V = np.zeros((4, 4))\n",
    "    V[:2, :2] = V_2D(ax0, bx0)\n",
    "    V[2:, 2:] = V_2D(ay0, by0)\n",
    "    return np.matmul(np.linalg.inv(V), vec)\n",
    "\n",
    "def get_line_points(M, sig_xx, sig_yy, dim='x', upmin=-10, upmax=10):\n",
    "    xrms, yrms = np.sqrt(sig_xx), np.sqrt(sig_yy)\n",
    "    hpts, vpts = [], []\n",
    "    for up in [upmin, upmax]:\n",
    "        if dim == 'x':\n",
    "            vec1 = [xrms, up, 0, 0]\n",
    "            i, j = 0, 1\n",
    "        elif dim == 'y':\n",
    "            vec1 = [0, 0, yrms, up]\n",
    "            i, j = 2, 3\n",
    "        vec0 = np.matmul(np.linalg.inv(M), vec1)\n",
    "        vec0 = normalize(vec0)\n",
    "        hpts.append(vec0[i])\n",
    "        vpts.append(vec0[j])\n",
    "    return hpts, vpts\n",
    "\n",
    "def plot_lines(ax, transfer_mats, moments, dim='x', **kws):  \n",
    "    for M, (sig_xx, sig_yy, sig_xy) in zip(transfer_mats, moments):\n",
    "        hpts, vpts = get_line_points(M, sig_xx, sig_yy, dim)\n",
    "        ax.plot(hpts, vpts, **kws)\n",
    "    return ax"
   ]
  },
  {
   "cell_type": "code",
   "execution_count": null,
   "metadata": {},
   "outputs": [],
   "source": [
    "i = 6\n",
    "trial = 0\n",
    "transfer_mats = transfer_mats_lists[i][trial]\n",
    "moments = 1e6 * moments_lists[i][trial]"
   ]
  },
  {
   "cell_type": "code",
   "execution_count": null,
   "metadata": {},
   "outputs": [],
   "source": [
    "fig, axes = plot.subplots(ncols=2, sharex=False, sharey=False)\n",
    "axes.format(aspect=1, grid=False)\n",
    "axes[0].format(xlim=(-xmax, xmax), ylim=(-xmax, xmax), xlabel=r\"$x_n$ [mm]\", ylabel=r\"$x'_n$ [mrad]\")\n",
    "axes[1].format(xlim=(-ymax, ymax), ylim=(-ymax, ymax), xlabel=r\"$y_n$ [mm]\", ylabel=r\"$y'_n$ [mrad]\")\n",
    "myplt.ellipse(axes[0], np.sqrt(epsx), np.sqrt(epsx), lw=2, zorder=999)\n",
    "myplt.ellipse(axes[1], np.sqrt(epsy), np.sqrt(epsy), lw=2, zorder=999)\n",
    "\n",
    "nscans = len(transfer_mats)\n",
    "imid = nscans // 2\n",
    "imin, imax = 0, -1\n",
    "kws = dict(color='pink8', lw=1)\n",
    "plot_lines(axes[0], transfer_mats[imin:imax], moments[imin:imax], 'x', **kws);\n",
    "plot_lines(axes[1], transfer_mats[imin:imax], moments[imin:imax], 'y', **kws);\n",
    "save('intrinsic_emittances')"
   ]
  },
  {
   "cell_type": "markdown",
   "metadata": {},
   "source": [
    "## Plot reconstructed ellipse "
   ]
  },
  {
   "cell_type": "code",
   "execution_count": null,
   "metadata": {},
   "outputs": [],
   "source": [
    "i = 6\n",
    "trial = np.argmax(emittances_list[-1][:, 0]) # the worst trial\n",
    "transfer_mats = transfer_mats_lists[i][trial]\n",
    "moments = 1e6 * moments_lists[i][trial]\n",
    "Sigma = reconstruct(transfer_mats, moments)"
   ]
  },
  {
   "cell_type": "code",
   "execution_count": null,
   "metadata": {},
   "outputs": [],
   "source": [
    "# axes = myplt.rms_ellipses(env.cov(), color='lightsteelblue', fill=True, lw=1);\n",
    "myplt.rms_ellipses(Sigma, color='r', lw=1, fill=False, alpha=0.5);\n",
    "for i in range(3):\n",
    "    for j in range(i + 1):\n",
    "        ax = axes[i, j]\n",
    "        ax.grid(False)\n",
    "#         alpha = 0.05\n",
    "#         ax.axvline(0, color='k', alpha=alpha, zorder=0, lw=1)\n",
    "#         ax.axhline(0, color='k', alpha=alpha, zorder=0, lw=1)\n",
    "axes[1, 1].legend(labels=['True', 'Reconstructed'], loc=(1, 1))\n",
    "save('rec')"
   ]
  },
  {
   "cell_type": "code",
   "execution_count": null,
   "metadata": {},
   "outputs": [],
   "source": []
  }
 ],
 "metadata": {
  "kernelspec": {
   "display_name": "Python 3",
   "language": "python",
   "name": "python3"
  },
  "language_info": {
   "codemirror_mode": {
    "name": "ipython",
    "version": 3
   },
   "file_extension": ".py",
   "mimetype": "text/x-python",
   "name": "python",
   "nbconvert_exporter": "python",
   "pygments_lexer": "ipython3",
   "version": "3.7.6"
  }
 },
 "nbformat": 4,
 "nbformat_minor": 4
}
