{
 "cells": [
  {
   "cell_type": "code",
   "execution_count": null,
   "metadata": {},
   "outputs": [],
   "source": [
    "import sys\n",
    "import os\n",
    "import importlib\n",
    "\n",
    "import numpy as np\n",
    "import pandas as pd\n",
    "from scipy import optimize as opt\n",
    "from matplotlib import pyplot as plt\n",
    "from matplotlib import animation\n",
    "from matplotlib.lines import Line2D\n",
    "from matplotlib.patches import Ellipse\n",
    "import proplot as plot\n",
    "import seaborn as sns\n",
    "from tqdm import tqdm\n",
    "from tqdm import trange\n",
    "\n",
    "sys.path.append('../../')\n",
    "from tools import animation as myanim\n",
    "from tools import beam_analysis as ba\n",
    "from tools import plotting as myplt\n",
    "from tools import utils\n",
    "\n",
    "sys.path.append('..')\n",
    "from data_analysis import to_vec, to_mat, reconstruct\n",
    "from data_vis import reconstruction_lines"
   ]
  },
  {
   "cell_type": "code",
   "execution_count": null,
   "metadata": {},
   "outputs": [],
   "source": [
    "plot.rc['figure.facecolor'] = 'white'\n",
    "plot.rc['savefig.dpi'] = 'figure'\n",
    "plot.rc['animation.html'] = 'jshtml'\n",
    "plot.rc['grid.alpha'] = 0.04\n",
    "plot.rc['axes.grid'] = False"
   ]
  },
  {
   "cell_type": "code",
   "execution_count": null,
   "metadata": {},
   "outputs": [],
   "source": [
    "save_figures = False\n",
    "\n",
    "def save(figname):\n",
    "    if save_figures:\n",
    "        filename = os.path.join('_output/figures', figname + '.png')\n",
    "        plt.savefig(filename, facecolor='white', dpi=250)"
   ]
  },
  {
   "cell_type": "markdown",
   "metadata": {},
   "source": [
    "# 4D emittance measurement in the RTBT\n",
    "> This notebook reconstructs the beam covariance matrix at the entrance of the Ring to Target Beam Transport (RTBT) section of the Spallation Neutron Source (SNS)."
   ]
  },
  {
   "cell_type": "markdown",
   "metadata": {},
   "source": [
    "<img src=\"_input/rtbt.png\" width=800>"
   ]
  },
  {
   "cell_type": "markdown",
   "metadata": {},
   "source": [
    "## Method summary"
   ]
  },
  {
   "cell_type": "markdown",
   "metadata": {},
   "source": [
    "The goal is to reconstruct the transverse beam covariance matrix at position $s = s_0$:\n",
    "\n",
    "$$\n",
    "\\Sigma_{0} = \\begin{bmatrix}\n",
    "    \\langle{x^2}\\rangle & \\langle{xx'}\\rangle & \\langle{xy}\\rangle & \\langle{xy'}\\rangle \\\\\n",
    "    \\langle{xx'}\\rangle & \\langle{{x'}^2}\\rangle & \\langle{yx'}\\rangle & \\langle{x'y'}\\rangle \\\\\n",
    "    \\langle{xy}\\rangle & \\langle{yx'}\\rangle & \\langle{y^2}\\rangle & \\langle{yy'}\\rangle \\\\\n",
    "    \\langle{xy'}\\rangle & \\langle{x'y'}\\rangle & \\langle{yy'}\\rangle & \\langle{{y'}^2}\\rangle\n",
    "\\end{bmatrix}.\n",
    "$$\n",
    "\n",
    "To do this, a set of $n$ wire-scanners can be placed at positions $\\{s_i\\} > s_0$ with $i = 1, ..., n$. A single measurement from wire-scanner $i$ will produce the real-space moments of the beam at $s_i$: $\\langle{x^2}\\rangle_{i}$, $\\langle{y^2}\\rangle_{i}$, and $\\langle{xy}\\rangle_{i}$. Without space charge, the transfer matrix $M_{s_0 \\rightarrow s_i} = M_i$ is known. The moments at $s_0$ are then directly related to those at $s_i$ by\n",
    "\n",
    "$$\\Sigma_i = M_i \\Sigma_{0} {M_i}^T.$$ This gives <br>"
   ]
  },
  {
   "cell_type": "markdown",
   "metadata": {},
   "source": [
    "$$\n",
    "\\begin{align}\n",
    "    \\langle{x^2}\\rangle_i &= \n",
    "        m_{11}^2\\langle{x^2}\\rangle_{0} \n",
    "      + m_{12}^2\\langle{x'^2}\\rangle_{0} \n",
    "      + 2m_{11}m_{22}\\langle{xx'}\\rangle_{0} ,\\\\\n",
    "    \\langle{y^2}\\rangle_i &= \n",
    "        m_{33}^2\\langle{y^2}\\rangle_{0} \n",
    "      + m_{34}^2\\langle{y'^2}\\rangle_{0} \n",
    "      + 2m_{33}m_{34}\\langle{yy'}\\rangle_{0} ,\\\\\n",
    "    \\langle{xy}\\rangle_i &= \n",
    "        m_{11}m_{33}\\langle{xy}\\rangle_{0} \n",
    "      + m_{12}m_{33}\\langle{yx'}\\rangle_{0} \n",
    "      + m_{11}m_{34}\\langle{xy'}\\rangle_{0} \n",
    "      + m_{12}m_{34}\\langle{x'y'}\\rangle_{0} ,\n",
    "\\end{align}\n",
    "$$"
   ]
  },
  {
   "cell_type": "markdown",
   "metadata": {},
   "source": [
    "where $m_{lm}$ are the elements of the transfer matrix. Taking 3 measurements with different optics settings between $s_0$ and $s_i$ (and therefore different transfer matrices) gives the 10 equations necessary to solve for $\\Sigma_0$; however, real measurements will be noisy, so it is better to take more measurements if possible. Given $N$ measurements, we can form a $3N \\times 1$ observation array $b$ from the measured moments and a $3N \\times 10$ coefficient array $A$ from the transfer matrix such that\n",
    "\n",
    "$$\\begin{align} \\mathbf{A \\sigma}_0 = \\mathbf{b},\\end{align}$$ \n",
    "\n",
    "where $\\mathbf{\\sigma}_0$ is a $10 \\times 1$ vector of the moments at $s_0$. There are 5 wire-scanners in the RTBT which operate simultaneously, so if all these are used the coefficient array will be $15N \\times 10$. We then choose $\\mathbf{\\sigma}_0$ such that $|\\mathbf{A\\sigma}_0 - \\mathbf{b}|^2$ is minimized:\n",
    "\n",
    "$$ \\mathbf{\\sigma}_0 = (\\mathbf{A}^T\\mathbf{A})^{-1}\\mathbf{A}^T\\mathbf{b} $$"
   ]
  },
  {
   "cell_type": "markdown",
   "metadata": {},
   "source": [
    "## RTBT lattice functions "
   ]
  },
  {
   "cell_type": "code",
   "execution_count": null,
   "metadata": {},
   "outputs": [],
   "source": [
    "twiss = pd.read_csv('_output/data/twiss.dat')\n",
    "ws_positions = np.loadtxt('_output/data/ws_positions.dat')"
   ]
  },
  {
   "cell_type": "code",
   "execution_count": null,
   "metadata": {},
   "outputs": [],
   "source": [
    "fig, ax = plot.subplots(figsize=(7, 2))\n",
    "twiss[['s','bx','by']].plot('s', ax=ax, legend=False)\n",
    "ax.format(xlabel='Position [m]', ylabel=r'$\\beta$ [m]', toplabels='RTBT lattice functions')\n",
    "for ws_position in ws_positions:\n",
    "    ax.axvline(ws_position, color='grey', ls='--', lw=0.5, zorder=0)\n",
    "ax.format(xlim=(0, twiss['s'].max()))\n",
    "ax.legend(labels=[r'$\\beta_x$', r'$\\beta_y$', 'WS'], \n",
    "          ncols=1, loc=(1.01, 0), handlelength=1.5, fontsize='small')\n",
    "plt.savefig('_output/figures/beta.png', facecolor='white', dpi=250)"
   ]
  },
  {
   "cell_type": "markdown",
   "metadata": {},
   "source": [
    "## Phase scan"
   ]
  },
  {
   "cell_type": "code",
   "execution_count": null,
   "metadata": {},
   "outputs": [],
   "source": [
    "ws_names = ['ws02', 'ws20', 'ws21', 'ws23', 'ws24']"
   ]
  },
  {
   "cell_type": "code",
   "execution_count": null,
   "metadata": {},
   "outputs": [],
   "source": [
    "def load(filename, ws_name):\n",
    "    path = '_output/data/{}/{}'.format(ws_name, filename)\n",
    "    return np.load(path)\n",
    "\n",
    "phases_dict, moments_dict, transfer_mats_dict = dict(), dict(), dict()\n",
    "for ws_name in ws_names:\n",
    "    transfer_mats_dict[ws_name] = load('transfer_mats.npy', ws_name)\n",
    "    moments_dict[ws_name] = 1e6 * load('moments.npy', ws_name)\n",
    "    phases_dict[ws_name] = load('phases.npy', ws_name)"
   ]
  },
  {
   "cell_type": "code",
   "execution_count": null,
   "metadata": {},
   "outputs": [],
   "source": [
    "Sigma_true = np.loadtxt('_output/data/Sigma0.dat')\n",
    "Sigma_true *= 1e6\n",
    "\n",
    "X_true = np.loadtxt('_output/data/X0.dat')\n",
    "X_true *= 1e3"
   ]
  },
  {
   "cell_type": "markdown",
   "metadata": {},
   "source": [
    "Observe the beam at the wire-scanners. Any greyed-out wire-scanners are not used in the reconstruction."
   ]
  },
  {
   "cell_type": "code",
   "execution_count": null,
   "metadata": {},
   "outputs": [],
   "source": [
    "plt_kws = dict(marker='.')\n",
    "fig, axes = plot.subplots(nrows=2, ncols=5, figsize=(8, 3.5), spany=False)\n",
    "for ax, ws_name in zip(axes[0, :], ws_names):\n",
    "    ax.plot(phases_dict[ws_name] % 1, **plt_kws)\n",
    "    ax.set_title(ws_name, fontsize='large')\n",
    "for ax, ws_name in zip(axes[1, :], ws_names):\n",
    "    ax.plot(moments_dict[ws_name][:, 0], **plt_kws)\n",
    "    ax.plot(moments_dict[ws_name][:, 1], **plt_kws)\n",
    "    ax.plot(moments_dict[ws_name][:, 2], **plt_kws)\n",
    "axes[0, 0].legend(labels=[r'$\\nu_x$', r'$\\nu_y$'], ncols=3);\n",
    "axes[1, 0].format(ylabel='[mm$^2$]')\n",
    "axes[1, 0].legend(labels=[r'$\\langle{x^2}\\rangle$', r'$\\langle{y^2}\\rangle$', r'$\\langle{xy}\\rangle$'], fontsize='small', ncols=2);\n",
    "axes[0, 0].format(ylabel='Frac. phase / ($2\\pi$)', xlabel='Scan index', xlabel_kw={'size':'large'}, ylabel_kw={'size':'large'})\n",
    "plt.savefig('_output/figures/ws_phase_adv.png', facecolor='white', dpi=350)"
   ]
  },
  {
   "cell_type": "code",
   "execution_count": null,
   "metadata": {},
   "outputs": [],
   "source": [
    "myplt.corner(X_true, moments=True, pad=0, samples=20000, text='Initial bunch',\n",
    "             kind='hist', cmap='fire_r', diag_kws=dict(color='k'), env_kws=dict(color='k'))\n",
    "save('initial_dist')"
   ]
  },
  {
   "cell_type": "markdown",
   "metadata": {},
   "source": [
    "## Reconstruction"
   ]
  },
  {
   "cell_type": "code",
   "execution_count": null,
   "metadata": {},
   "outputs": [],
   "source": [
    "active_ws_names = ws_names[1:]\n",
    "max_n_meas = 100"
   ]
  },
  {
   "cell_type": "code",
   "execution_count": null,
   "metadata": {},
   "outputs": [],
   "source": [
    "moments_list, transfer_mats_list = [], []\n",
    "for ws_name in active_ws_names:\n",
    "    transfer_mats_list.extend(transfer_mats_dict[ws_name][:max_n_meas])\n",
    "    moments_list.extend(moments_dict[ws_name][:max_n_meas])"
   ]
  },
  {
   "cell_type": "code",
   "execution_count": null,
   "metadata": {},
   "outputs": [],
   "source": [
    "Sigma = reconstruct(transfer_mats_list, moments_list, verbose=2)"
   ]
  },
  {
   "cell_type": "code",
   "execution_count": null,
   "metadata": {},
   "outputs": [],
   "source": [
    "print('Sigma_true')\n",
    "print(Sigma_true)\n",
    "eps_1_true, eps_2_true = ba.apparent_emittances(Sigma_true)\n",
    "eps_x_true, eps_y_true = ba.intrinsic_emittances(Sigma_true)\n",
    "alpha_x_true, alpha_y_true, beta_x_true, beta_y_true, _, _ = ba.get_twiss2D(Sigma_true)\n",
    "print()\n",
    "print('  eps_1, eps_2 = {}, {} [mm mrad]'.format(eps_1_true, eps_2_true))\n",
    "print('  eps_x, eps_y = {}, {} [mm mrad]'.format(eps_x_true, eps_y_true))\n",
    "print('  alpha_x, alpha_y = {}, {} [rad]'.format(alpha_x_true, alpha_y_true))\n",
    "print('  beta_x, beta_y = {}, {} [m/rad]'.format(beta_x_true, beta_y_true))\n",
    "print()\n",
    "print('Sigma =')\n",
    "print(Sigma)\n",
    "eps_1, eps_2 = ba.apparent_emittances(Sigma)\n",
    "eps_x, eps_y = ba.intrinsic_emittances(Sigma)\n",
    "alpha_x, alpha_y, beta_x, beta_y, _, _ = ba.get_twiss2D(Sigma)\n",
    "print()\n",
    "print('  eps_1, eps_2 = {}, {} [mm mrad]'.format(eps_1, eps_2))\n",
    "print('  eps_x, eps_y = {}, {} [mm mrad]'.format(eps_x, eps_y))\n",
    "print('  alpha_x, alpha_y = {}, {} [rad]'.format(alpha_x, alpha_y))\n",
    "print('  beta_x, beta_y = {}, {} [m/rad]'.format(beta_x, beta_y))"
   ]
  },
  {
   "cell_type": "code",
   "execution_count": null,
   "metadata": {},
   "outputs": [],
   "source": [
    "axes = myplt.rms_ellipses(Sigma_true, color='lightsteelblue', fill=True, lw=0);\n",
    "axes = myplt.rms_ellipses(Sigma, axes=axes, color='red8', lw=1)\n",
    "axes[1, 1].legend(labels=['True', 'Reconstructed'], loc=(0, 1.1))\n",
    "save('projection_default')"
   ]
  },
  {
   "cell_type": "markdown",
   "metadata": {},
   "source": [
    "## Visualization using lines"
   ]
  },
  {
   "cell_type": "code",
   "execution_count": null,
   "metadata": {},
   "outputs": [],
   "source": [
    "axes = myplt.rms_ellipses(Sigma_true, color='black', alpha=0.15, fill=True, lw=0)\n",
    "myplt.rms_ellipses(Sigma, axes=axes, color='black',)\n",
    "\n",
    "_transfer_mats_dict = dict()\n",
    "for ws_name, transfer_mats in transfer_mats_dict.items():\n",
    "    if ws_name in active_ws_names:\n",
    "        _transfer_mats_dict[ws_name] = transfer_mats[:max_n_meas]\n",
    "    \n",
    "_moments_dict = dict()\n",
    "for ws_name, moments in moments_dict.items():\n",
    "    if ws_name in active_ws_names:\n",
    "        _moments_dict[ws_name] = moments[:max_n_meas]\n",
    "\n",
    "reconstruction_lines(axes[2, 2], _transfer_mats_dict, _moments_dict, plane='y-yp')\n",
    "reconstruction_lines(axes[0, 0], _transfer_mats_dict, _moments_dict, plane='x-xp',\n",
    "                     legend=True, legend_kws=dict(loc=(1.15, 0)))"
   ]
  },
  {
   "cell_type": "markdown",
   "metadata": {},
   "source": [
    "## Errors "
   ]
  },
  {
   "cell_type": "code",
   "execution_count": null,
   "metadata": {},
   "outputs": [],
   "source": [
    "def calc_errors(n_trials, n_meas, active_ws_names, sig_xy_err):\n",
    "    # Reform lists.\n",
    "    moments_list_original = []\n",
    "    transfer_mats_list = []\n",
    "    for ws_name in active_ws_names:\n",
    "        moments_list_original.extend(moments_dict[ws_name][:n_meas])\n",
    "        transfer_mats_list.extend(transfer_mats_dict[ws_name][:n_meas])\n",
    "    # Calculate emittances a bunch of times.\n",
    "    emittances = []\n",
    "    for _ in range(n_trials):\n",
    "        moments_list_err = np.copy(moments_list_original)\n",
    "        moments_list_err[:, 2] += np.random.uniform(-sig_xy_err, sig_xy_err, size=len(moments_list_err))\n",
    "        Sigma = reconstruct(transfer_mats_list, moments_list_err)\n",
    "        eps_1, eps_2 = ba.intrinsic_emittances(Sigma)\n",
    "        eps_x, eps_y = ba.apparent_emittances(Sigma)\n",
    "        emittances.append([eps_x, eps_y, eps_1, eps_2])\n",
    "    return np.array(emittances)"
   ]
  },
  {
   "cell_type": "code",
   "execution_count": null,
   "metadata": {},
   "outputs": [],
   "source": [
    "n_trials = 10000\n",
    "n_meas = 1\n",
    "active_ws_names = ['ws20', 'ws21', 'ws23', 'ws24']\n",
    "sig_xy_err = 100.0 # [mm^2]\n",
    "    \n",
    "emittances = calc_errors(n_trials, max_n_meas, active_ws_names, sig_xy_err)\n",
    "print('means =', np.mean(emittances, axis=0))\n",
    "print('stds  =', np.std(emittances, axis=0))"
   ]
  },
  {
   "cell_type": "code",
   "execution_count": null,
   "metadata": {},
   "outputs": [],
   "source": []
  }
 ],
 "metadata": {
  "kernelspec": {
   "display_name": "Python 3",
   "language": "python",
   "name": "python3"
  },
  "language_info": {
   "codemirror_mode": {
    "name": "ipython",
    "version": 3
   },
   "file_extension": ".py",
   "mimetype": "text/x-python",
   "name": "python",
   "nbconvert_exporter": "python",
   "pygments_lexer": "ipython3",
   "version": "3.7.6"
  },
  "toc-autonumbering": false
 },
 "nbformat": 4,
 "nbformat_minor": 4
}