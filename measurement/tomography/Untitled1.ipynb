{
 "cells": [
  {
   "cell_type": "code",
   "execution_count": null,
   "metadata": {},
   "outputs": [],
   "source": [
    "import sys\n",
    "import numpy as np\n",
    "from matplotlib import pyplot as plt\n",
    "import proplot as pplt\n",
    "import seaborn as sns\n",
    "from tqdm import tqdm, trange\n",
    "\n",
    "sys.path.append('/Users/46h/Research/') \n",
    "from scdist.tools import ap_utils\n",
    "from scdist.tools import utils"
   ]
  },
  {
   "cell_type": "code",
   "execution_count": null,
   "metadata": {},
   "outputs": [],
   "source": [
    "pplt.rc['axes.grid'] = False\n",
    "pplt.rc['cmap.discrete'] = False\n",
    "pplt.rc['cmap.sequential'] = 'viridis'\n",
    "pplt.rc['figure.facecolor'] = 'white'"
   ]
  },
  {
   "cell_type": "markdown",
   "metadata": {},
   "source": [
    "## Setup "
   ]
  },
  {
   "cell_type": "markdown",
   "metadata": {},
   "source": [
    "Define reconstruction grid."
   ]
  },
  {
   "cell_type": "code",
   "execution_count": null,
   "metadata": {},
   "outputs": [],
   "source": [
    "bins = 50\n",
    "limits = [(-6.0, 6.0), (-6.0, 6.0)]\n",
    "binwidths = np.diff(limits)[:, 0] / bins\n",
    "print(binwidths)"
   ]
  },
  {
   "cell_type": "markdown",
   "metadata": {},
   "source": [
    "Create the true distribution."
   ]
  },
  {
   "cell_type": "code",
   "execution_count": null,
   "metadata": {},
   "outputs": [],
   "source": [
    "X_true = np.random.multivariate_normal(mean=[0., 0.], cov=[[1.0, 0.4], [0.4, 1.0]], size=100000)"
   ]
  },
  {
   "cell_type": "code",
   "execution_count": null,
   "metadata": {},
   "outputs": [],
   "source": [
    "fig, ax = pplt.subplots()\n",
    "sns.histplot(ax=ax, x=X_true[:, 0], y=X_true[:, 1], bins=bins, binrange=limits)\n",
    "plt.show()"
   ]
  },
  {
   "cell_type": "markdown",
   "metadata": {},
   "source": [
    "Take measurements."
   ]
  },
  {
   "cell_type": "code",
   "execution_count": null,
   "metadata": {},
   "outputs": [],
   "source": [
    "xmax_screen = 10.0\n",
    "bins_screen = 50\n",
    "screen_edges = np.linspace(-xmax_screen, xmax_screen, bins_screen)"
   ]
  },
  {
   "cell_type": "code",
   "execution_count": null,
   "metadata": {},
   "outputs": [],
   "source": [
    "np.random.seed(3)\n",
    "n_proj = 10\n",
    "angles = np.linspace(0, np.pi, n_proj, endpoint=False)\n",
    "betas = np.random.uniform(0.5, 2.0, size=(n_proj,))\n",
    "alphas = np.random.uniform(-0.5, 0.5, size=(n_proj,))\n",
    "\n",
    "tmats = []\n",
    "for i in range(n_proj):\n",
    "    R = utils.rotation_matrix(angles[i])\n",
    "    V = ap_utils.V_matrix_2x2(alphas[i], betas[i])\n",
    "    M = np.matmul(V, R)\n",
    "    tmats.append(M)\n",
    "    \n",
    "projections = []\n",
    "for M in tqdm(tmats):\n",
    "    X_meas = utils.apply(M, X_true)\n",
    "    sns.jointplot(x=X_meas[:, 0], y=X_meas[:, 1], kind='hist', height=2.5, bins=bins_screen,\n",
    "                  xlim=(-xmax_screen, xmax_screen), ylim=(-5.0, 5.0))\n",
    "    plt.show()\n",
    "    projection, _ = np.histogram(X_meas[:, 0], screen_edges)\n",
    "    projection = projection / np.sum(projection)\n",
    "    projections.append(projection)"
   ]
  },
  {
   "cell_type": "code",
   "execution_count": null,
   "metadata": {},
   "outputs": [],
   "source": [
    "projections_true = np.copy(projections)"
   ]
  },
  {
   "cell_type": "code",
   "execution_count": null,
   "metadata": {},
   "outputs": [],
   "source": [
    "fig, ax = pplt.subplots()\n",
    "ax.pcolormesh(projections_true, ec='None', colorbar=True)\n",
    "plt.show()"
   ]
  },
  {
   "cell_type": "markdown",
   "metadata": {},
   "source": [
    "## Reconstruction "
   ]
  },
  {
   "cell_type": "markdown",
   "metadata": {},
   "source": [
    "Bin true distribution for comparison."
   ]
  },
  {
   "cell_type": "code",
   "execution_count": null,
   "metadata": {},
   "outputs": [],
   "source": [
    "Z_true, _, _ = np.histogram2d(X_true[:, 0], X_true[:, 1], bins, limits)\n",
    "Z_true /= np.sum(Z_true)"
   ]
  },
  {
   "cell_type": "markdown",
   "metadata": {},
   "source": [
    "Initialize reconstruction bunch."
   ]
  },
  {
   "cell_type": "code",
   "execution_count": null,
   "metadata": {},
   "outputs": [],
   "source": [
    "widths = np.diff(limits)[:, 0] / bins\n",
    "widths *= 1.0\n",
    "print(widths)"
   ]
  },
  {
   "cell_type": "code",
   "execution_count": null,
   "metadata": {},
   "outputs": [],
   "source": [
    "n_parts = 100000\n",
    "mins = [lim[0] for lim in limits]\n",
    "maxs = [lim[1] for lim in limits]\n",
    "X = np.random.uniform(mins, maxs, size=(n_parts, 2))"
   ]
  },
  {
   "cell_type": "code",
   "execution_count": null,
   "metadata": {},
   "outputs": [],
   "source": [
    "proj_errors = []\n",
    "true_errors = []\n",
    "\n",
    "for iteration in range(6):\n",
    "    # Simulate the measurements.\n",
    "    projections, coords = [], []\n",
    "    for M in tqdm(tmats):\n",
    "        X_meas = utils.apply(M, X)\n",
    "        projection, _ = np.histogram(X_meas[:, 0], bins=screen_edges)\n",
    "        projection = projection / np.sum(projection)\n",
    "        projections.append(projection)\n",
    "        coords.append(X_meas)\n",
    "    projections = np.array(projections)\n",
    "    coords = np.array(coords)\n",
    "\n",
    "#     fig, axes = pplt.subplots(ncols=2,)\n",
    "#     axes[0].pcolormesh(projections_true, ec='None')\n",
    "#     axes[1].pcolormesh(projections, ec='None')\n",
    "#     axes[0].set_title('True')\n",
    "#     axes[1].set_title('Reconstructed')\n",
    "#     plt.show()\n",
    "\n",
    "    # Weight particles.\n",
    "    weights = np.zeros((n_proj, X.shape[0]))\n",
    "    for k in range(n_proj):\n",
    "        xidx = np.digitize(coords[k, :, 0], screen_edges) - 1\n",
    "        on_screen = np.logical_and(xidx >= 0, xidx < len(screen_edges) - 1)\n",
    "        weights[k, on_screen] = projections_true[k, xidx[on_screen]]\n",
    "    \n",
    "    # Only keep particles that hit every screen.\n",
    "    keep_idx = [np.all(weights[:, i] > 0.) for i in range(weights.shape[1])]\n",
    "    weights[:, np.logical_not(keep_idx)] = 0.\n",
    "    weights = np.sum(weights, axis=0)\n",
    "    \n",
    "    \n",
    "    for i, weight in enumerate(weights):\n",
    "        \n",
    "    \n",
    "    \n",
    "    weights /= np.sum(weights)\n",
    "    \n",
    "    # Convert the weights to counts.\n",
    "    counts = weights * n_parts\n",
    "    counts = np.round(counts).astype(int)\n",
    "\n",
    "#     fig, ax = pplt.subplots()\n",
    "#     ax.scatter(X[:, 0], X[:, 1], s=1, c=counts, \n",
    "#                colorbar=True, colorbar_kw=dict(label='Number of new particles to be added'))\n",
    "#     plt.show()\n",
    "\n",
    "    # Generate a new bunch.\n",
    "    add_idx = counts > 0\n",
    "    lo = np.repeat(X[add_idx] - 0.5 * widths, counts[add_idx], axis=0)\n",
    "    hi = np.repeat(X[add_idx] + 0.5 * widths, counts[add_idx], axis=0)\n",
    "    X = np.random.uniform(lo, hi)\n",
    "\n",
    "    fig, axes = pplt.subplots(ncols=2)\n",
    "    for ax, _X in zip(axes, [X_true, X]):\n",
    "        sns.histplot(x=_X[:, 0], y=_X[:, 1], ax=ax, ec='None', \n",
    "                     bins=bins, binrange=limits, colorbar=True, \n",
    "                     thresh=None, cmap='viridis',\n",
    "                    )\n",
    "    axes.format(xlabel=\"x\", ylabel=\"x'\")\n",
    "    axes[0].set_title('True')\n",
    "    axes[1].set_title('Reconstructed')\n",
    "    plt.show()\n",
    "\n",
    "    proj_error = np.sum((projections - projections_true)**2)\n",
    "    proj_errors.append(proj_error)\n",
    "    \n",
    "    Z_rec, _, _ = np.histogram2d(X[:, 0], X[:, 1], bins, limits)\n",
    "    Z_rec /= np.sum(Z_rec)\n",
    "    true_error = np.sqrt(np.sum((Z_true - Z_rec)**2))\n",
    "    true_errors.append(true_error)\n",
    "    \n",
    "    print('proj_error = {}'.format(proj_error))\n",
    "    print('true_error = {}'.format(true_error))\n",
    "    print('New bunch has {} particles'.format(X.shape[0]))\n",
    "    print('Iteration {} complete'.format(iteration))\n",
    "    print()"
   ]
  },
  {
   "cell_type": "code",
   "execution_count": null,
   "metadata": {},
   "outputs": [],
   "source": [
    "fig, axes = pplt.subplots(nrows=2, figsize=(3, 3))\n",
    "kws = dict(marker='.', color='black')\n",
    "axes[0].plot(true_errors, **kws)\n",
    "axes[1].plot(proj_errors, **kws)\n",
    "plt.show()"
   ]
  },
  {
   "cell_type": "markdown",
   "metadata": {},
   "source": [
    "I believe you need to reduce the weights by the number of particles already in that bin."
   ]
  },
  {
   "cell_type": "code",
   "execution_count": null,
   "metadata": {},
   "outputs": [],
   "source": []
  }
 ],
 "metadata": {
  "kernelspec": {
   "display_name": "Python 3",
   "language": "python",
   "name": "python3"
  },
  "language_info": {
   "codemirror_mode": {
    "name": "ipython",
    "version": 3
   },
   "file_extension": ".py",
   "mimetype": "text/x-python",
   "name": "python",
   "nbconvert_exporter": "python",
   "pygments_lexer": "ipython3",
   "version": "3.7.6"
  }
 },
 "nbformat": 4,
 "nbformat_minor": 4
}
