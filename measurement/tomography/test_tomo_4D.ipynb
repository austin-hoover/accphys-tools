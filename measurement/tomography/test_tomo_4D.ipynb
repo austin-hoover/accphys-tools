{
 "cells": [
  {
   "cell_type": "code",
   "execution_count": null,
   "id": "ccb91799-3aa2-4f36-886b-52f5b5d71bd8",
   "metadata": {},
   "outputs": [],
   "source": [
    "import sys\n",
    "import importlib\n",
    "import numpy as np\n",
    "from skimage import filters\n",
    "from matplotlib import pyplot as plt\n",
    "import proplot as pplt\n",
    "from tqdm import tqdm\n",
    "from tqdm import trange\n",
    "\n",
    "sys.path.append('../../')\n",
    "from tools import plotting as myplt\n",
    "from tools import beam_analysis as ba\n",
    "from tools import ap_utils\n",
    "from tools import utils\n",
    "from measurement.tomography import reconstruct as rec"
   ]
  },
  {
   "cell_type": "code",
   "execution_count": null,
   "id": "57a73ef5-0261-4fc1-a514-0ebd25f9554a",
   "metadata": {},
   "outputs": [],
   "source": [
    "pplt.rc['figure.facecolor'] = 'white'\n",
    "pplt.rc['axes.grid'] = False\n",
    "pplt.rc['grid.alpha'] = 0.04\n",
    "pplt.rc['cmap.discrete'] = False\n",
    "pplt.rc['cmap.sequential'] = 'mono_r'"
   ]
  },
  {
   "cell_type": "markdown",
   "id": "710ac126-2bbc-4b77-a209-23706883a513",
   "metadata": {},
   "source": [
    "Load distribution from Holmes (2018)."
   ]
  },
  {
   "cell_type": "code",
   "execution_count": null,
   "id": "32ce65b6-aad9-4b65-b044-3706ea418669",
   "metadata": {},
   "outputs": [],
   "source": [
    "X = np.loadtxt('/Users/austin/Dropbox/SCBD/scratch/RUN_0167/data/Bm_Parts_0_300')\n",
    "X = X[:, :4]\n",
    "X -= np.mean(X, axis=0)"
   ]
  },
  {
   "cell_type": "markdown",
   "id": "d3251f10-d18c-47a2-9553-a27d15a65c99",
   "metadata": {},
   "source": [
    "Normalize the distribution. "
   ]
  },
  {
   "cell_type": "code",
   "execution_count": null,
   "id": "0b40b0e3-4126-43e2-bf36-7bb934ab1f54",
   "metadata": {},
   "outputs": [],
   "source": [
    "Sigma = np.cov(X.T)\n",
    "alpha_x, alpha_y, beta_x, beta_y = ba.twiss2D(Sigma)\n",
    "print(alpha_x, alpha_y, beta_x, beta_y)\n",
    "\n",
    "np.random.seed(1)\n",
    "dalpha = 0.0\n",
    "dbeta = 0.0 * max(beta_x, beta_y)\n",
    "alpha_x += np.random.uniform(-dalpha, dalpha)\n",
    "alpha_y += np.random.uniform(-dalpha, dalpha)\n",
    "beta_x += np.random.uniform(-dbeta, dbeta)\n",
    "beta_y += np.random.uniform(-dbeta, dbeta)\n",
    "print(alpha_x, alpha_y, beta_x, beta_y)"
   ]
  },
  {
   "cell_type": "code",
   "execution_count": null,
   "id": "5f8f52e3-fd78-4c48-a663-891e0cca9492",
   "metadata": {},
   "outputs": [],
   "source": [
    "V = ap_utils.V_matrix_4x4_uncoupled(alpha_x, alpha_y, beta_x, beta_y)\n",
    "Vinv = np.linalg.inv(V)\n",
    "Xn = utils.apply(Vinv, X)"
   ]
  },
  {
   "cell_type": "markdown",
   "id": "dcbfacfe-c1d1-4f21-a42a-abbd209b1e1a",
   "metadata": {},
   "source": [
    "Bin the coordinates at the reconstruction location."
   ]
  },
  {
   "cell_type": "code",
   "execution_count": null,
   "id": "cb4414df-a488-4910-925f-3c53f17944d9",
   "metadata": {},
   "outputs": [],
   "source": [
    "n_bins = 75\n",
    "cmap = 'mono_r'"
   ]
  },
  {
   "cell_type": "code",
   "execution_count": null,
   "id": "bfff2c10-fc85-4269-8e7d-454016f5b5e1",
   "metadata": {},
   "outputs": [],
   "source": [
    "axes = myplt.corner(Xn, figsize=(6, 6), cmap=cmap, bins=n_bins, \n",
    "                    autolim_kws=dict(sigma=3.65)\n",
    "                   )\n",
    "rec_limits = [ax.get_xlim() for ax in axes[-1, :]]"
   ]
  },
  {
   "cell_type": "code",
   "execution_count": null,
   "id": "f5dfb7c0-ecbd-494b-860d-4372eeef5bb0",
   "metadata": {},
   "outputs": [],
   "source": [
    "Z_true, rec_edges = np.histogramdd(Xn, n_bins, rec_limits, density=True)\n",
    "rec_centers = [rec.get_centers(_edges) for _edges in rec_edges]\n",
    "bin_volume = rec.get_bin_volume(rec_limits, n_bins)"
   ]
  },
  {
   "cell_type": "markdown",
   "id": "59d70937-3006-4161-80bb-c599a949f4fc",
   "metadata": {
    "tags": []
   },
   "source": [
    "Transport the distribution to the screen. Assume the phase advances are evenly spaced over 180 degrees. The Twiss parameters at the screen are randomly chosen."
   ]
  },
  {
   "cell_type": "code",
   "execution_count": null,
   "id": "7e128627-91d5-44d9-981e-3a2755127627",
   "metadata": {},
   "outputs": [],
   "source": [
    "K = 15 # number of horizontal optics settings\n",
    "L = 15 # number of vertical optics settings\n",
    "\n",
    "phase_adv_x = np.linspace(0.0, np.pi, K, endpoint=False)\n",
    "betas_x = np.random.uniform(55.0, 70.0, size=K)\n",
    "alphas_x = np.random.uniform(0.0, 1.0, size=K)\n",
    "\n",
    "phase_adv_y = np.linspace(0.0, np.pi, L, endpoint=False)\n",
    "betas_y = np.random.uniform(5.5, 6.5, size=L)\n",
    "alphas_y = np.random.uniform(-1.0, 0.0, size=L)\n",
    "\n",
    "xx_list, tmats_x = [], []\n",
    "for k in trange(K):\n",
    "    P = utils.rotation_matrix(phase_adv_x[k])\n",
    "    V_screen = ap_utils.V_matrix_2x2(alphas_x[k], betas_x[k])\n",
    "    M = np.linalg.multi_dot([V_screen, P, Vinv[:2, :2]])\n",
    "    xx_list.append(utils.apply(M, X[:, :2])[:, 0])\n",
    "    tmats_x.append(np.matmul(M, V[:2, :2]))\n",
    "\n",
    "yy_list, tmats_y = [], []\n",
    "for l in trange(L):\n",
    "    P = utils.rotation_matrix(phase_adv_y[l])\n",
    "    V_screen = ap_utils.V_matrix_2x2(alphas_y[l], betas_y[l])\n",
    "    M = np.linalg.multi_dot([V_screen, P, Vinv[2:, 2:]])\n",
    "    yy_list.append(utils.apply(M, X[:, 2:])[:, 0])\n",
    "    tmats_y.append(np.matmul(M, V[2:, 2:]))"
   ]
  },
  {
   "cell_type": "markdown",
   "id": "c88f7553-108a-4a54-b1f4-52d721834c84",
   "metadata": {},
   "source": [
    "Bin the coordinates on the screen."
   ]
  },
  {
   "cell_type": "code",
   "execution_count": null,
   "id": "e3580f50-0ddd-43d1-8bbd-7722db7b3c81",
   "metadata": {},
   "outputs": [],
   "source": [
    "xmax_screen = ymax_screen = 75.0 # [mm]\n",
    "screen_edges = [\n",
    "    np.linspace(-xmax_screen, xmax_screen, n_bins + 1),\n",
    "    np.linspace(-xmax_screen, xmax_screen, n_bins + 1),\n",
    "]\n",
    "screen_centers = [rec.get_centers(_edges) for _edges in screen_edges]"
   ]
  },
  {
   "cell_type": "code",
   "execution_count": null,
   "id": "84fd23a2-61bc-4b8c-9b77-b5191083e40c",
   "metadata": {},
   "outputs": [],
   "source": [
    "S = np.zeros((n_bins, n_bins, K, L))\n",
    "for k, xx in enumerate(tqdm(xx_list)):\n",
    "    for l, yy in enumerate(yy_list):\n",
    "        S[:, :, k, l], _, _ = np.histogram2d(xx, yy, bins=screen_edges)"
   ]
  },
  {
   "cell_type": "code",
   "execution_count": null,
   "id": "c80b7927-e4a6-4025-90ab-3c40e14618fd",
   "metadata": {},
   "outputs": [],
   "source": [
    "fig, axes = pplt.subplots(nrows=3, ncols=5, figwidth=8.5, space=0.25)\n",
    "for k, ax in enumerate(axes):\n",
    "    ax.pcolormesh(S[:, :, k, 0].T, cmap='mono_r')\n",
    "    ax.annotate(r'$\\mu_x = {:.0f}\\degree$'.format(np.degrees(phase_adv_x[k])), \n",
    "                xy=(0.01, 0.93), xycoords='axes fraction', color='white', fontsize='small')\n",
    "axes.format(xlabel=r\"$x$\", ylabel=r\"$y$\", xticks=[], yticks=[])\n",
    "plt.savefig('_output/tomo_sim_target_scan.png', dpi=350)\n",
    "plt.show()"
   ]
  },
  {
   "cell_type": "code",
   "execution_count": null,
   "id": "8b4dec68",
   "metadata": {},
   "outputs": [],
   "source": [
    "fig, axes = pplt.subplots(nrows=K, ncols=L, figwidth=10, space=0.1)\n",
    "for i in range(axes.shape[0]):\n",
    "    for j in range(axes.shape[1]):\n",
    "        ax = axes[i, j]\n",
    "        ax.pcolormesh(S[:, :, i, j].T, cmap='mono_r', ec='None')\n",
    "axes.format(\n",
    "    xticks=[], yticks=[], \n",
    "#     xlabel='x', ylabel='y',\n",
    ")\n",
    "plt.savefig('_output/tomo_sim_target_scan_full.png', dpi=500)\n",
    "plt.show()"
   ]
  },
  {
   "cell_type": "markdown",
   "id": "3de1faea-c566-46ff-86a9-58b0ce9663bd",
   "metadata": {},
   "source": [
    "## Hock's method"
   ]
  },
  {
   "cell_type": "code",
   "execution_count": null,
   "id": "2e1c2bdc-ab93-4aa0-be2b-b98b47c678bc",
   "metadata": {},
   "outputs": [],
   "source": [
    "Z_hock = rec.hock4D(S, screen_centers, [rec_centers[0], rec_centers[2]], \n",
    "                    tmats_x, tmats_y, method='SART', iterations=3)\n",
    "Z_hock = rec.process(Z_hock, keep_positive=True, density=True, limits=rec_limits)"
   ]
  },
  {
   "cell_type": "code",
   "execution_count": null,
   "id": "ec05a099-c945-4869-9730-2ffe372d0210",
   "metadata": {},
   "outputs": [],
   "source": [
    "Z_hock = rec.process(Z_hock, density=True, limits=rec_limits)"
   ]
  },
  {
   "cell_type": "code",
   "execution_count": null,
   "id": "6802f1d0-cfd6-47fa-bc4e-2c1f09102fd9",
   "metadata": {},
   "outputs": [],
   "source": [
    "print('min(Z) = {}'.format(np.min(Z_hock)))\n",
    "print('max(Z) = {}'.format(np.max(Z_hock)))\n",
    "print('sum(Z) * bin_volume = {}'.format(np.sum(Z_hock) * bin_volume))\n",
    "print()\n",
    "print('min(Z_true) = {}'.format(np.min(Z_true)))\n",
    "print('max(Z_true) = {}'.format(np.max(Z_true)))\n",
    "print('sum(Z_true) * bin_volume = {}'.format(np.sum(Z_true) * bin_volume))"
   ]
  },
  {
   "cell_type": "code",
   "execution_count": null,
   "id": "cfbe8bc0-9ed6-4cfb-af1b-2abbb0d8412a",
   "metadata": {},
   "outputs": [],
   "source": [
    "avg_abs_err_per_bin = np.sum(np.abs(Z_hock - Z_true)) / Z_hock.size\n",
    "print('Average absolute error per bin = {}'.format(avg_abs_err_per_bin))"
   ]
  },
  {
   "cell_type": "code",
   "execution_count": null,
   "id": "8c94b8ba-c5ea-4d71-a333-4c59331b6d24",
   "metadata": {},
   "outputs": [],
   "source": [
    "fig, axes = pplt.subplots(ncols=4, figsize=(6, 2), spanx=False)\n",
    "labels = [\"x\", \"x'\", \"y\", \"y'\"]\n",
    "for i in range(4):\n",
    "    axes[i].plot(rec_centers[i], rec.project(Z_true, i), color='black', label='True')\n",
    "    axes[i].plot(rec_centers[i], rec.project(Z_hock, i), color='red8', ls='dotted', label='Reconstructed')\n",
    "    axes[i].set_xlabel(labels[i])\n",
    "axes[0].legend(loc=(0.0, 1.02), framealpha=0.0, ncol=1);\n",
    "plt.savefig('_output/tomo_sim_rec_hock_proj_1D.png', dpi=500)\n",
    "plt.show()"
   ]
  },
  {
   "cell_type": "code",
   "execution_count": null,
   "id": "83405545-b3fb-4f0d-a310-2bd5ba8ed945",
   "metadata": {},
   "outputs": [],
   "source": [
    "def compare_hor(Z, Z_true, cmap=None, cmap_div=None, space=0.3):\n",
    "    plot_kws = dict(cmap=cmap, ec='None')\n",
    "    plot_kws_div = dict(diverging=True, cmap=cmap_div, ec='None')\n",
    "    indices = [(0, 1), (2, 3), (0, 2), (0, 3), (2, 1), (1, 3)]\n",
    "    fig, axes = pplt.subplots(nrows=3, ncols=6, figwidth=8.5, sharex=False, sharey=False, space=0.3)\n",
    "    for col, (i, j) in enumerate(indices):\n",
    "        _Z_true = rec.project(Z_true, [i, j])\n",
    "        _Z = rec.project(Z, [i, j])\n",
    "        axes[0, col].pcolormesh(rec_centers[i], rec_centers[j], _Z_true.T, **plot_kws)\n",
    "        axes[1, col].pcolormesh(rec_centers[i], rec_centers[j], _Z.T, **plot_kws)\n",
    "        axes[2, col].pcolormesh(rec_centers[i], rec_centers[j], (_Z - _Z_true).T, **plot_kws_div)\n",
    "        axes[0, col].annotate('{}-{}'.format(labels[i], labels[j]),\n",
    "                              xy=(0.02, 0.92), xycoords='axes fraction', color='white', \n",
    "                              fontsize='medium')\n",
    "    for ax, title in zip(axes[:, 0], ['True', 'Reconstructed', 'Error']):\n",
    "        ax.set_ylabel(title)\n",
    "    axes.format(xticks=[], yticks=[])\n",
    "    return axes"
   ]
  },
  {
   "cell_type": "code",
   "execution_count": null,
   "id": "d2efa0f5-388f-4795-96ca-b620147616cf",
   "metadata": {},
   "outputs": [],
   "source": [
    "def compare_ver(Z, Z_true, cmap=None, cmap_div=None):\n",
    "    space = 0.35\n",
    "    plot_kws = dict(cmap=cmap, ec='None')\n",
    "    plot_kws_div = dict(diverging=True, cmap=cmap_div, ec='None',\n",
    "                        colorbar=True, \n",
    "                        colorbar_kw=dict(width=0.075, space=space, ticklabelsize='small'))\n",
    "    indices = [(0, 1), (2, 3), (0, 2), (0, 3), (2, 1), (1, 3)]\n",
    "    fig, axes = pplt.subplots(nrows=6, ncols=3, figsize=(5.0, 8.5), \n",
    "                              sharex=False, sharey=False, space=space)\n",
    "    for k, (i, j) in enumerate(indices):\n",
    "        _Z_true = rec.project(Z_true, [i, j])\n",
    "        _Z = rec.project(Z, [i, j])\n",
    "        axes[k, 0].pcolormesh(rec_centers[i], rec_centers[j], _Z_true.T, **plot_kws)\n",
    "        axes[k, 1].pcolormesh(rec_centers[i], rec_centers[j], _Z.T, **plot_kws)\n",
    "        axes[k, 2].pcolormesh(rec_centers[i], rec_centers[j], (_Z - _Z_true).T, **plot_kws_div)\n",
    "        axes[k, 0].annotate('{}-{}'.format(labels[i], labels[j]),\n",
    "                            xy=(0.02, 0.92), xycoords='axes fraction', color='white', \n",
    "                            fontsize='medium')\n",
    "    for ax, title in zip(axes[0, :], ['True', 'Reconstructed', 'Error']):\n",
    "        ax.set_title(title)\n",
    "    axes.format(xticks=[], yticks=[])\n",
    "    return axes"
   ]
  },
  {
   "cell_type": "code",
   "execution_count": null,
   "id": "4e02621c-5dbb-4a19-ad64-c8a6bd41100e",
   "metadata": {},
   "outputs": [],
   "source": [
    "axes = compare_ver(Z_hock, Z_true)\n",
    "plt.savefig('_output/tomo_sim_rec_hock_proj_2D_ver.png', dpi=500)\n",
    "plt.show()\n",
    "\n",
    "axes = compare_hor(Z_hock, Z_true)\n",
    "plt.savefig('_output/tomo_sim_rec_hock_proj_2D_hor.png', dpi=500)\n",
    "plt.show()"
   ]
  },
  {
   "cell_type": "markdown",
   "id": "0ff5def5-fa47-4433-8af5-6dc7ce9da854",
   "metadata": {},
   "source": [
    "Transform to unnormalized phase space."
   ]
  },
  {
   "cell_type": "code",
   "execution_count": null,
   "id": "ad5ae828-63ad-4d70-a802-7ef0bc05c242",
   "metadata": {},
   "outputs": [],
   "source": [
    "# Zt = rec.transform(Z, V, centers, new_grid=None)"
   ]
  },
  {
   "cell_type": "markdown",
   "id": "024c5a57-7922-442e-b703-f045541c71ac",
   "metadata": {},
   "source": [
    "Study 2D reconstruction as function of number of angles and of the angular range."
   ]
  },
  {
   "cell_type": "code",
   "execution_count": null,
   "id": "5907b068-bdb0-4b58-a3f7-2aef9fe30674",
   "metadata": {},
   "outputs": [],
   "source": [
    "# from skimage.transform import radon, iradon_sart\n",
    "\n",
    "# i1, i2 = 2, 3\n",
    "# bins = 50\n",
    "# z_true, _, _ = np.histogram2d(Xn[:, i1], Xn[:, i2], bins, [limits[i1], limits[i2]], density=True)\n",
    "\n",
    "# n_proj_list = np.arange(3, 30)\n",
    "# max_angles = np.linspace(5., 180., 50, endpoint=False)\n",
    "# errors = np.zeros((len(n_proj_list), len(max_angles)))    \n",
    "# for i in trange(errors.shape[0]):\n",
    "#     for j in range(errors.shape[1]):\n",
    "#         angles = np.linspace(0., max_angles[j], n_proj_list[i])\n",
    "#         projections = radon(z_true, theta=angles, circle=True)\n",
    "#         z = iradon_sart(projections, theta=angles)\n",
    "#         z = iradon_sart(projections, theta=angles, image=z)\n",
    "#         z = rec.process(z, keep_positive=True, density=True, limits=[limits[i1], limits[i2]])\n",
    "#         # if i == 0:\n",
    "#         #     fig, axes = pplt.subplots(ncols=2)\n",
    "#         #     axes[0].pcolormesh(xedges, yedges, Z_true.T, cmap='viridis',)\n",
    "#         #     axes[1].pcolormesh(xedges, yedges, Z.T, cmap='viridis',)\n",
    "#         #     plt.show()\n",
    "#         errors[i, j] = np.sqrt(np.sum((z - z_true)**2))"
   ]
  },
  {
   "cell_type": "code",
   "execution_count": null,
   "id": "cb822dfc-1ad6-4fc4-8f13-98e44d4d1fc9",
   "metadata": {},
   "outputs": [],
   "source": [
    "# fig, ax = pplt.subplots()\n",
    "# ax.pcolormesh(\n",
    "#     n_proj_list, max_angles, errors.T, cmap=pplt.Colormap('mono'), \n",
    "#     vmin=0,\n",
    "#     colorbar=True, \n",
    "#     colorbar_kw=dict(label=r'$\\Vert Z - Z_{true} \\Vert$', width=0.1, space=1.0)\n",
    "# )\n",
    "# ax.format(yformatter='deg', ylabel='Angular range', xlabel='Number of projections')\n",
    "# plt.savefig('_output/tomo_sim_art2d.png', dpi=350)\n",
    "# plt.show()"
   ]
  },
  {
   "cell_type": "markdown",
   "id": "f7ab549e-2e9c-4c4e-a0a9-3d7c80a4f7af",
   "metadata": {},
   "source": [
    "## PIC"
   ]
  },
  {
   "cell_type": "code",
   "execution_count": null,
   "id": "df2f70fc-5c13-42f5-90cb-8c4deb34bd74",
   "metadata": {},
   "outputs": [],
   "source": [
    "importlib.reload(rec)"
   ]
  },
  {
   "cell_type": "code",
   "execution_count": null,
   "id": "de7db78b-7a5d-43eb-bf82-64ea6bafa970",
   "metadata": {},
   "outputs": [],
   "source": [
    "projections = []\n",
    "tmats = []\n",
    "for k in np.arange(0, 15, 2):\n",
    "    for l in np.arange(0, 15, 2):\n",
    "        projections.append(S[:, :, k, l])\n",
    "        M = np.zeros((4, 4))\n",
    "        M[:2, :2] = tmats_x[k]\n",
    "        M[2:, 2:] = tmats_y[l]\n",
    "        tmats.append(M)\n",
    "Z_pic, _proj = rec.pic4D(projections, tmats, rec_centers, screen_edges, max_iters=15)"
   ]
  },
  {
   "cell_type": "code",
   "execution_count": null,
   "id": "6d1c9351-6f9b-47ec-a967-9a52f5a47d26",
   "metadata": {},
   "outputs": [],
   "source": [
    "compare(Z_pic, Z_true)"
   ]
  },
  {
   "cell_type": "code",
   "execution_count": null,
   "id": "344e8b50-38c2-40d7-a96e-2ba0625eec57",
   "metadata": {},
   "outputs": [],
   "source": []
  },
  {
   "cell_type": "markdown",
   "id": "1f7081ff-f7ff-4b86-974d-8a5feb1fe573",
   "metadata": {},
   "source": [
    "## 4D ART "
   ]
  },
  {
   "cell_type": "code",
   "execution_count": null,
   "id": "15320ebc-3f63-469e-8864-abcac20b0859",
   "metadata": {},
   "outputs": [],
   "source": [
    "n_bins = 50\n",
    "Z_true2, edges = np.histogramdd(Xn, n_bins, limits, density=True)\n",
    "centers = []\n",
    "for _edges in edges:\n",
    "    centers.append(0.5 * (_edges[:-1] + _edges[1:]))\n",
    "rec_grid_centers = centers\n",
    "screen_edges_x = edges[0]\n",
    "screen_edges_y = edges[2]\n",
    "bin_volume = rec.get_bin_volume(limits, n_bins)"
   ]
  },
  {
   "cell_type": "code",
   "execution_count": null,
   "id": "a70e95d7-a553-4f0c-88f8-910c4fb7eb7a",
   "metadata": {},
   "outputs": [],
   "source": [
    "K = 8 # number of angles in x dimension\n",
    "L = 8 # number of angles in y dimension\n",
    "muxx = np.linspace(0., np.pi, K, endpoint=False)\n",
    "muyy = np.linspace(0., np.pi, L, endpoint=False)\n",
    "\n",
    "xx_list, tmats_x = [], []\n",
    "for mux in tqdm(muxx):\n",
    "    Mx = utils.rotation_matrix(mux)\n",
    "    xx_list.append(utils.apply(Mx, Xn[:, :2])[:, 0])\n",
    "    tmats_x.append(Mx)\n",
    "\n",
    "yy_list, tmats_y = [], []\n",
    "for muy in tqdm(muyy):\n",
    "    My = utils.rotation_matrix(muy)\n",
    "    yy_list.append(utils.apply(My, Xn[:, 2:])[:, 0])\n",
    "    tmats_y.append(My)"
   ]
  },
  {
   "cell_type": "code",
   "execution_count": null,
   "id": "2c1bf359-ea23-4676-aeaa-6f1a7e71ba09",
   "metadata": {},
   "outputs": [],
   "source": [
    "sigma = 0.0 # Gaussian blur\n",
    "projections, tmats = [], []\n",
    "for k, xx in enumerate(tqdm(xx_list)):\n",
    "    for l, yy in enumerate(yy_list):\n",
    "        z, _, _ = np.histogram2d(xx, yy, n_bins, (limits[0], limits[2]))\n",
    "        z = filters.gaussian(z, sigma)\n",
    "        projections.append(z)\n",
    "        M = np.zeros((4, 4))\n",
    "        M[:2, :2] = tmats_x[k]\n",
    "        M[2:, 2:] = tmats_y[l]\n",
    "        tmats.append(M)"
   ]
  },
  {
   "cell_type": "code",
   "execution_count": null,
   "id": "4ef3bd67-4ac5-4e99-8855-59daa4705596",
   "metadata": {
    "scrolled": true,
    "tags": []
   },
   "outputs": [],
   "source": [
    "Z = rec.art4D(projections, tmats, rec_grid_centers, (screen_edges_x, screen_edges_y))"
   ]
  },
  {
   "cell_type": "code",
   "execution_count": null,
   "id": "c99b5c55-f071-445d-ae22-6800fa9ef03f",
   "metadata": {},
   "outputs": [],
   "source": [
    "Z = rec.process(Z, keep_positive=True, density=True, limits=limits)"
   ]
  },
  {
   "cell_type": "code",
   "execution_count": null,
   "id": "ccdcf9b0-72af-4582-9b85-e008b7c2fd79",
   "metadata": {},
   "outputs": [],
   "source": [
    "fig, axes = pplt.subplots(ncols=4, figsize=(6, 2), spanx=False)\n",
    "labels = [\"x\", \"x'\", \"y\", \"y'\"]\n",
    "for i in range(4):\n",
    "    axes[i].plot(centers[i], rec.project(Z_true2, i), color='black', label='True')\n",
    "    axes[i].plot(centers[i], rec.project(Z, i), color='red8', ls='dotted', label='Reconstructed')\n",
    "    axes[i].set_xlabel(labels[i])\n",
    "axes[0].legend(loc=(0.0, 1.02), framealpha=0.0, ncol=1);\n",
    "plt.savefig('_output/tomo_sim_rec_art_proj1D.png', dpi=350)\n",
    "plt.show()"
   ]
  },
  {
   "cell_type": "code",
   "execution_count": null,
   "id": "7ce13758",
   "metadata": {},
   "outputs": [],
   "source": [
    "plot_kws = dict(cmap=cmap)\n",
    "indices = [(0, 1), (2, 3), (0, 2), (0, 3), (2, 1), (1, 3)]\n",
    "fig, axes = pplt.subplots(nrows=3, ncols=6, figwidth=8.5, sharex=False, sharey=False, space=0.3)\n",
    "for col, (i, j) in enumerate(indices):\n",
    "    _Z_true = rec.project(Z_true2, [i, j])\n",
    "    _Z = rec.project(Z, [i, j])\n",
    "    axes[0, col].pcolormesh(centers[i], centers[j], _Z_true.T, **plot_kws)\n",
    "    axes[1, col].pcolormesh(centers[i], centers[j], _Z.T, **plot_kws)\n",
    "    axes[2, col].pcolormesh(centers[i], centers[j], (_Z - _Z_true).T)\n",
    "    axes[0, col].annotate('{}-{}'.format(labels[i], labels[j]),\n",
    "                          xy=(0.02, 0.92), xycoords='axes fraction', color='white', \n",
    "                          fontsize='medium')\n",
    "for ax, title in zip(axes[:, 0], ['True', 'Reconstructed', 'Error']):\n",
    "    ax.set_ylabel(title)\n",
    "axes.format(xticks=[], yticks=[])\n",
    "plt.savefig('_output/tomo_sim_rec_art_proj_2D_hor.png', dpi=500)\n",
    "plt.show()"
   ]
  },
  {
   "cell_type": "code",
   "execution_count": null,
   "id": "d0dd3d5e-e71b-4206-becd-8dcc29c19d03",
   "metadata": {},
   "outputs": [],
   "source": [
    "plot_kws = dict(cmap='mono_r', robust=False)\n",
    "indices = [(0, 1), (2, 3), (0, 2), (0, 3), (2, 1), (1, 3)]\n",
    "fig, axes = pplt.subplots(nrows=6, ncols=3, figsize=(5.0, 8.5), \n",
    "                          sharex=False, sharey=False, space=0.5)\n",
    "for row, (i, j) in enumerate(indices):\n",
    "    _Z_true = rec.project(Z_true, [i, j])\n",
    "    _Z = rec.project(Z, [i, j])\n",
    "    _Z_true2 = rec.project(Z_true2, [i, j])\n",
    "    axes[row, 0].pcolormesh(_Z_true.T, **plot_kws)\n",
    "    axes[row, 1].pcolormesh(centers[i], centers[j], _Z.T, **plot_kws)\n",
    "    axes[row, 2].pcolormesh(centers[i], centers[j], (_Z - _Z_true2).T, \n",
    "                            colorbar=True, \n",
    "                            colorbar_kw=dict(width=0.075, space=1.0, ticklabelsize='small')\n",
    "                           )\n",
    "    axes[row, 0].annotate('{}-{}'.format(labels[i], labels[j]),\n",
    "                          xy=(0.02, 0.92), xycoords='axes fraction', color='white', \n",
    "                          fontsize='medium')\n",
    "for ax, title in zip(axes[0, :], ['True', 'Reconstructed', 'Error']):\n",
    "    ax.set_title(title)\n",
    "axes.format(xticks=[], yticks=[])\n",
    "plt.savefig('_output/tomo_sim_rec_art_proj2D.png', dpi=350)\n",
    "plt.show()"
   ]
  },
  {
   "cell_type": "markdown",
   "id": "2e8b11a8-114e-4d7e-8f92-ed670ed877e1",
   "metadata": {
    "tags": []
   },
   "source": [
    "## Particle-based "
   ]
  },
  {
   "cell_type": "code",
   "execution_count": null,
   "id": "95c7a766-c48b-4b10-bbbe-5d8712999ae3",
   "metadata": {},
   "outputs": [],
   "source": []
  }
 ],
 "metadata": {
  "kernelspec": {
   "display_name": "Python 3 (ipykernel)",
   "language": "python",
   "name": "python3"
  },
  "language_info": {
   "codemirror_mode": {
    "name": "ipython",
    "version": 3
   },
   "file_extension": ".py",
   "mimetype": "text/x-python",
   "name": "python",
   "nbconvert_exporter": "python",
   "pygments_lexer": "ipython3",
   "version": "3.9.7"
  }
 },
 "nbformat": 4,
 "nbformat_minor": 5
}
