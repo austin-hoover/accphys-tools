{
 "cells": [
  {
   "cell_type": "markdown",
   "metadata": {},
   "source": [
    "# Tomographic reconstruction using linear transfer matrices "
   ]
  },
  {
   "cell_type": "code",
   "execution_count": null,
   "metadata": {},
   "outputs": [],
   "source": [
    "import sys\n",
    "import numpy as np\n",
    "from matplotlib import pyplot as plt\n",
    "import proplot as pplt\n",
    "import seaborn as sns\n",
    "from tqdm import tqdm, trange\n",
    "from skimage.transform import radon\n",
    "from skimage.transform import iradon\n",
    "from scipy import interpolate\n",
    "\n",
    "sys.path.append('/Users/austin/Research/') \n",
    "from scdist.tools import ap_utils\n",
    "from scdist.tools import beam_analysis as ba\n",
    "from scdist.tools import plotting as myplt\n",
    "from scdist.tools import utils\n",
    "from scdist.measurement.tomography import reconstruct as rec"
   ]
  },
  {
   "cell_type": "code",
   "execution_count": null,
   "metadata": {},
   "outputs": [],
   "source": [
    "pplt.rc['axes.grid'] = False\n",
    "pplt.rc['cmap.discrete'] = False\n",
    "pplt.rc['cmap.sequential'] = 'viridis'\n",
    "pplt.rc['figure.facecolor'] = 'white'"
   ]
  },
  {
   "cell_type": "markdown",
   "metadata": {},
   "source": [
    "## Setup "
   ]
  },
  {
   "cell_type": "markdown",
   "metadata": {},
   "source": [
    "Define the reconstruction grid in normalized phase space."
   ]
  },
  {
   "cell_type": "code",
   "execution_count": null,
   "metadata": {},
   "outputs": [],
   "source": [
    "n_bins = 75\n",
    "# Twiss parameters\n",
    "eps = 10.0 # [mm mrad]\n",
    "alpha = -2.0\n",
    "beta = 10.0\n",
    "xmax_rec = 2.0 * np.sqrt(4.0 * eps)\n",
    "xpmax_rec = 2.0 * np.sqrt(4.0 * eps)\n",
    "rec_grid_edges = [\n",
    "    np.linspace(-xmax_rec, xmax_rec, n_bins + 1),\n",
    "    np.linspace(-xpmax_rec, xpmax_rec, n_bins + 1),\n",
    "]\n",
    "rec_grid_centers = [\n",
    "    utils.get_bin_centers(rec_grid_edges[0]),\n",
    "    utils.get_bin_centers(rec_grid_edges[1]),\n",
    "]"
   ]
  },
  {
   "cell_type": "markdown",
   "metadata": {},
   "source": [
    "Create the true distribution."
   ]
  },
  {
   "cell_type": "code",
   "execution_count": null,
   "metadata": {},
   "outputs": [],
   "source": [
    "np.random.seed(0)\n",
    "n = 500000\n",
    "X_true_n = np.random.normal(scale=np.sqrt(eps), size=(n, 2))\n",
    "\n",
    "# Unnormalize using Twiss parameters.\n",
    "V1 = ap_utils.V_matrix_2x2(alpha, beta)\n",
    "X_true = utils.apply(V1, X_true_n)"
   ]
  },
  {
   "cell_type": "code",
   "execution_count": null,
   "metadata": {},
   "outputs": [],
   "source": [
    "fig, ax = pplt.subplots()\n",
    "ax.hist2d(X_true[:, 0], X_true[:, 1], bins=75)\n",
    "plt.show()"
   ]
  },
  {
   "cell_type": "code",
   "execution_count": null,
   "metadata": {},
   "outputs": [],
   "source": [
    "fig, ax = pplt.subplots()\n",
    "Z_true_n, _, _ = np.histogram2d(X_true_n[:, 0], X_true_n[:, 1], bins=rec_grid_edges)\n",
    "ax.pcolormesh(rec_grid_centers[0], rec_grid_centers[1], Z_true_n.T, ec='none')\n",
    "ax.format(xlabel=r\"x_n\", ylabel=r\"$x'_n$\", title=\"Reconstruction point\")\n",
    "plt.show()"
   ]
  },
  {
   "cell_type": "markdown",
   "metadata": {},
   "source": [
    "Simulate the measurements. We will scan the phase advance in a 180 degree range, then let $\\alpha$ and $\\beta$ take random values at the measurement location."
   ]
  },
  {
   "cell_type": "code",
   "execution_count": null,
   "metadata": {},
   "outputs": [],
   "source": [
    "n_proj = 15\n",
    "phase_advances = np.linspace(0.0, np.pi, n_proj, endpoint=False)\n",
    "betas = np.random.uniform(55.0, 75.0, size=n_proj)\n",
    "alphas = np.random.uniform(-1.5, +1.5, size=n_proj)\n",
    "xmax_screen = 90.0 # [mm]\n",
    "screen_xedges = np.linspace(-xmax_screen, xmax_screen, n_bins + 1)\n",
    "screen_xcenters = 0.5 * (screen_xedges[:-1] + screen_xedges[1:])"
   ]
  },
  {
   "cell_type": "code",
   "execution_count": null,
   "metadata": {},
   "outputs": [],
   "source": [
    "tmats, projections = [], []\n",
    "for k in trange(n_proj):\n",
    "    # Compute the linear transfer matrix to the screen.\n",
    "    V2 = ap_utils.V_matrix_2x2(alphas[k], betas[k])\n",
    "    P = utils.rotation_matrix(phase_advances[k])\n",
    "    M = np.linalg.multi_dot([V2, P, np.linalg.inv(V1)])\n",
    "    # Transport the distribution to the screen.\n",
    "    X_meas = utils.apply(M, X_true)\n",
    "    # Compute the projection on the screen.\n",
    "    projection, _ = np.histogram(X_meas[:, 0], screen_xedges)\n",
    "    projection / np.sum(projection)\n",
    "    projections.append(projection)\n",
    "    # Save M tilde to reconstruct in normalized phase space.\n",
    "    N = np.linalg.multi_dot([M, V1])\n",
    "    tmats.append(N)"
   ]
  },
  {
   "cell_type": "code",
   "execution_count": null,
   "metadata": {},
   "outputs": [],
   "source": [
    "fig, ax = pplt.subplots()\n",
    "ax.pcolormesh(screen_xcenters, np.arange(n_proj), projections, ec='None', colorbar=True)\n",
    "ax.format(xlabel=r'$x_b$', ytickminor=False, ylabel='Projection index')\n",
    "plt.show()"
   ]
  },
  {
   "cell_type": "markdown",
   "metadata": {},
   "source": [
    "Obtain the projections at the reconstruction location. The projections at $a$ (the reconstruction location) and $b$ (the measurement location) are related by $p_a(s) = p_b(r s)$, where $s$ is the projection axis at $a$, which is rotated by angle $\\theta = \\tan^{-1}(M_{11} / M_{12})$. The projection scaling is given by $r = \\sqrt{{M_{11}}^2 + {M_{12}}^2}$. Since the bin positions on the $s$ axis will differ depending on the transfer matrix, we first define the reconstruction grid, then linearly interpolate to get the projection at $b$: $p_b(r s)$."
   ]
  },
  {
   "cell_type": "code",
   "execution_count": null,
   "metadata": {},
   "outputs": [],
   "source": [
    "scaled_projections = np.zeros((n_proj, n_bins))\n",
    "proj_angles = np.zeros(n_proj)\n",
    "scale_factors = np.zeros(n_proj)\n",
    "for k, (tmat, projection) in enumerate(zip(tmats, projections)):\n",
    "    r = rec.get_projection_scaling(tmat)\n",
    "    interp = interpolate.interp1d(screen_xcenters, projection, kind='linear', \n",
    "                                  bounds_error=False, fill_value=0.0)\n",
    "    scaled_projection = interp(r * rec_grid_centers[0])\n",
    "    scaled_projections[k, :] = scaled_projection / np.sum(scaled_projection)\n",
    "    proj_angles[k] = rec.get_projection_angle(tmat)\n",
    "    scale_factors[k] = r"
   ]
  },
  {
   "cell_type": "code",
   "execution_count": null,
   "metadata": {},
   "outputs": [],
   "source": [
    "fig, axes = pplt.subplots(ncols=2, sharey=False)\n",
    "axes[0].plot(np.degrees(proj_angles), color='black')\n",
    "axes[1].plot(scale_factors, color='black')\n",
    "axes.format(xlabel='Projection index', xtickminor=False)\n",
    "axes[0].format(yformatter='deg', ylabel='Projection angle')\n",
    "axes[1].format(ylabel='Scale factor')\n",
    "plt.show()"
   ]
  },
  {
   "cell_type": "code",
   "execution_count": null,
   "metadata": {},
   "outputs": [],
   "source": [
    "fig, ax = pplt.subplots()\n",
    "ax.pcolormesh(rec_grid_centers[0], np.arange(n_proj), scaled_projections, ec='None', colorbar=True)\n",
    "ax.format(xlabel=r'$x_b$', ytickminor=False, ylabel='Projection index')\n",
    "plt.show()"
   ]
  },
  {
   "cell_type": "markdown",
   "metadata": {},
   "source": [
    "## Reconstruction "
   ]
  },
  {
   "cell_type": "code",
   "execution_count": null,
   "metadata": {},
   "outputs": [],
   "source": [
    "Z_rec_n = rec.sart(scaled_projections.T, proj_angles, iterations=2, keep_positive=True)"
   ]
  },
  {
   "cell_type": "code",
   "execution_count": null,
   "metadata": {},
   "outputs": [],
   "source": [
    "psi = np.linspace(0.0, 2.0 * np.pi, 1000)\n",
    "xn = np.sqrt(4.0 * eps) * np.cos(psi)\n",
    "yn = np.sqrt(4.0 * eps) * np.sin(psi)\n",
    "x, y = np.matmul(V1, [xn, yn])"
   ]
  },
  {
   "cell_type": "code",
   "execution_count": null,
   "metadata": {},
   "outputs": [],
   "source": [
    "fig, axes = pplt.subplots(ncols=2)\n",
    "plot_kws = dict(ec='None', cmap='viridis')\n",
    "axes[0].pcolormesh(rec_grid_centers[0], rec_grid_centers[1], Z_true_n.T, **plot_kws)\n",
    "axes[1].pcolormesh(rec_grid_centers[0], rec_grid_centers[1], Z_rec_n.T, **plot_kws)\n",
    "axes[0].set_title('True')\n",
    "axes[1].set_title('Reconstructed')\n",
    "axes.format(xlabel=r'$x_n$', ylabel=r\"$x'_n$\",\n",
    "            suptitle='Normalized phase space')\n",
    "for ax in axes:\n",
    "    ax.plot(xn, yn, color='white', lw=0.5)\n",
    "plt.show()"
   ]
  },
  {
   "cell_type": "code",
   "execution_count": null,
   "metadata": {},
   "outputs": [],
   "source": [
    "Z_rec, rec_grid_centers_new = rec.transform(Z_rec_n, V1, rec_grid_centers)"
   ]
  },
  {
   "cell_type": "code",
   "execution_count": null,
   "metadata": {},
   "outputs": [],
   "source": [
    "fig, axes = pplt.subplots(ncols=2)\n",
    "plot_kws = dict(ec='None', cmap='viridis')\n",
    "axes[0].pcolormesh(rec_grid_edges_new[0], rec_grid_edges_new[1], Z_true.T, **plot_kws)\n",
    "axes[1].pcolormesh(rec_grid_edges_new[0], rec_grid_edges_new[1], Z_rec.T, **plot_kws)\n",
    "axes[0].set_title('True')\n",
    "axes[1].set_title('Reconstructed')\n",
    "axes.format(xlabel=r'$x$', ylabel=r\"$x'$\",\n",
    "            suptitle='Actual phase space')\n",
    "for ax in axes:\n",
    "    ax.plot(x, y, color='white', lw=0.5)\n",
    "plt.show()"
   ]
  },
  {
   "cell_type": "code",
   "execution_count": null,
   "metadata": {},
   "outputs": [],
   "source": []
  }
 ],
 "metadata": {
  "kernelspec": {
   "display_name": "Python 3 (ipykernel)",
   "language": "python",
   "name": "python3"
  },
  "language_info": {
   "codemirror_mode": {
    "name": "ipython",
    "version": 3
   },
   "file_extension": ".py",
   "mimetype": "text/x-python",
   "name": "python",
   "nbconvert_exporter": "python",
   "pygments_lexer": "ipython3",
   "version": "3.9.7"
  }
 },
 "nbformat": 4,
 "nbformat_minor": 4
}
