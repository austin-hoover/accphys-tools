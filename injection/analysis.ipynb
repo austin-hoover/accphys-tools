{
 "cells": [
  {
   "cell_type": "markdown",
   "metadata": {},
   "source": [
    "# SNS injection painting"
   ]
  },
  {
   "cell_type": "code",
   "execution_count": null,
   "metadata": {
    "tags": []
   },
   "outputs": [],
   "source": [
    "import sys\n",
    "import importlib\n",
    "import os\n",
    "from os.path import join\n",
    "\n",
    "import numpy as np\n",
    "import pandas as pd\n",
    "from matplotlib import animation\n",
    "from matplotlib import pyplot as plt\n",
    "from matplotlib import patches\n",
    "from matplotlib.lines import Line2D\n",
    "from tqdm import tqdm\n",
    "from tqdm import trange\n",
    "import proplot as pplt \n",
    "import seaborn as sns\n",
    "\n",
    "sys.path.append('..')\n",
    "from tools import animation as myanim\n",
    "from tools import beam_analysis as ba\n",
    "from tools import plotting as myplt\n",
    "from tools import utils"
   ]
  },
  {
   "cell_type": "markdown",
   "metadata": {},
   "source": [
    "## Settings"
   ]
  },
  {
   "cell_type": "code",
   "execution_count": null,
   "metadata": {},
   "outputs": [],
   "source": [
    "plt.rcParams['animation.html'] = 'jshtml'\n",
    "plt.rcParams['axes.grid'] = False\n",
    "pplt.rc['cmap.discrete'] = False\n",
    "pplt.rc['cmap.sequential'] = 'mono_r'\n",
    "plt.rcParams['figure.facecolor'] = 'white'\n",
    "pplt.rc['grid.alpha'] = 0.02\n",
    "plt.rcParams['savefig.dpi'] = 'figure'\n",
    "lineplot_kws = dict(marker=None, legend=False)\n",
    "format_kws = dict(ygrid=True, xgrid=False)\n",
    "savefig_kws = dict(dpi=300)"
   ]
  },
  {
   "cell_type": "code",
   "execution_count": null,
   "metadata": {},
   "outputs": [],
   "source": [
    "folder = '_output/data/'\n",
    "location = 'injection point' # {'injection point', 'rtbt entrance'}"
   ]
  },
  {
   "cell_type": "code",
   "execution_count": null,
   "metadata": {},
   "outputs": [],
   "source": [
    "utils.delete_files_not_folders('_output/figures/')"
   ]
  },
  {
   "cell_type": "markdown",
   "metadata": {},
   "source": [
    "## Injection region"
   ]
  },
  {
   "cell_type": "markdown",
   "metadata": {},
   "source": [
    "### Closed orbit "
   ]
  },
  {
   "cell_type": "code",
   "execution_count": null,
   "metadata": {},
   "outputs": [],
   "source": [
    "inj_region_coords_t0 = np.load(join(folder, 'inj_region_coords_t0.npy'))\n",
    "inj_region_coords_t1 = np.load(join(folder, 'inj_region_coords_t1.npy'))\n",
    "inj_region_positions_t0 = np.load(join(folder, 'inj_region_positions_t0.npy'))\n",
    "inj_region_positions_t1 = np.load(join(folder, 'inj_region_positions_t1.npy'))\n",
    "inj_region_coords_t0 *= 1000. # convert to mm-mrad\n",
    "inj_region_coords_t1 *= 1000. # convert to mm-mrad"
   ]
  },
  {
   "cell_type": "code",
   "execution_count": null,
   "metadata": {},
   "outputs": [],
   "source": [
    "fig, ax = pplt.subplots(figsize=(6, 2.5))\n",
    "ax.plot(inj_region_positions_t0, inj_region_coords_t0[:, 0], label='x (initial)')\n",
    "ax.plot(inj_region_positions_t0, inj_region_coords_t0[:, 2], label='y (initial)')\n",
    "ax.format(cycle='colorblind')\n",
    "ax.plot(inj_region_positions_t1, inj_region_coords_t1[:, 0], ls='--', lw=1, label='x (final)')\n",
    "ax.plot(inj_region_positions_t1, inj_region_coords_t1[:, 2], ls='--', lw=1, label='y (final)')\n",
    "ax.format(title='Injection region closed orbit')\n",
    "ax.legend(ncols=1, loc=(1.02, 0), handlelength=1.5);\n",
    "ax.format(xlabel='s [m]', ylabel='[mm]', **format_kws) \n",
    "plt.savefig('_output/figures/inj_region_closed_orbit.png', **savefig_kws)"
   ]
  },
  {
   "cell_type": "markdown",
   "metadata": {},
   "source": [
    "### Kicker strengths"
   ]
  },
  {
   "cell_type": "code",
   "execution_count": null,
   "metadata": {
    "jupyter": {
     "source_hidden": true
    },
    "tags": []
   },
   "outputs": [],
   "source": [
    "# def get_perveance(kin_energy, mass, line_density):\n",
    "#     classical_proton_radius = 1.53469e-18 # m\n",
    "#     gamma = 1 + (kin_energy / mass) # Lorentz factor\n",
    "#     beta = np.sqrt(1 - (1 / gamma)**2) # velocity/speed_of_light\n",
    "#     return (2 * classical_proton_radius * line_density) / (beta**2 * gamma**3)\n",
    "\n",
    "# ring_length = 248.0\n",
    "# zlim = (135.0 / 360.0) * ring_length\n",
    "# zmin, zmax = -zlim, zlim\n",
    "# bunch_length = zmax - zmin\n",
    "\n",
    "# # Production beam\n",
    "# kin_energy = 1.0 # [GeV]\n",
    "# mass = 0.93827231 # [kg]\n",
    "# intensity = 1.5e14\n",
    "# Q = get_perveance(kin_energy, mass, intensity / bunch_length)\n",
    "# xmax = ymax = 26.0\n",
    "# area = xmax * ymax\n",
    "# print('Q = {}'.format(Q))\n",
    "# density_production = Q / area\n",
    "# print('Q / area = {}'.format(density_production))\n",
    "\n",
    "# # SCBD\n",
    "# kin_energy = 1.0 # [GeV]\n",
    "# mass = 0.93827231 # [kg]\n",
    "# max_intensity = 1.5e14\n",
    "# max_n_turns = 1000.\n",
    "# xmax = ymax = 26.0\n",
    "# area = xmax * ymax\n",
    "# densities = []\n",
    "# turns = np.linspace(1, max_n_turns, 1000)\n",
    "# for t in turns:\n",
    "#     tau = t / max_n_turns\n",
    "#     intensity = max_intensity * tau\n",
    "#     Q = get_perveance(kin_energy, mass, intensity / bunch_length)\n",
    "#     densities.append(Q / area)\n",
    "# densities = np.array(densities)\n",
    "    \n",
    "# fig, ax = pplt.subplots()\n",
    "# ax.plot(turns, densities, color='black');\n",
    "# ymin, ymax = ax.get_ylim()\n",
    "# alpha = 0.15\n",
    "# ax.fill_between(turns, 0., density_production, color='green', alpha=alpha)\n",
    "# ax.fill_between(turns, density_production, ymax, color='red', alpha=alpha)\n",
    "# ax.format(grid=True, ylim=(0, ax.get_ylim()[1]),\n",
    "#           xlabel='# turns to reach full beam size', ylabel=r'Q / area [mm$^{-2}$]')\n",
    "# plt.savefig('_output/figures/perveance_scaling_{}_{}.png'.format(kin_energy, xmax))"
   ]
  },
  {
   "cell_type": "code",
   "execution_count": null,
   "metadata": {},
   "outputs": [],
   "source": [
    "kicker_angles_t0 = np.loadtxt(folder + 'kicker_angles_t0.dat')\n",
    "kicker_angles_t1 = np.loadtxt(folder + 'kicker_angles_t1.dat')\n",
    "kicker_names = ['ikickh_a10', 'ikickv_a10', 'ikickh_a11', 'ikickv_a11',\n",
    "                'ikickv_a12', 'ikickh_a12', 'ikickv_a13', 'ikickh_a13']"
   ]
  },
  {
   "cell_type": "code",
   "execution_count": null,
   "metadata": {},
   "outputs": [],
   "source": [
    "def waveform(t, k0, k1):\n",
    "    return k0 - (k0 - k1)*np.sqrt(t)"
   ]
  },
  {
   "cell_type": "code",
   "execution_count": null,
   "metadata": {},
   "outputs": [],
   "source": [
    "t = np.linspace(0, 1, 1000)\n",
    "\n",
    "fig, axes = pplt.subplots(nrows=4, ncols=2, figsize=(3.5, 6))\n",
    "for k0, k1, name, ax in zip(kicker_angles_t0, kicker_angles_t1, kicker_names, axes):\n",
    "    ax.plot(t, 1000 * waveform(t, k0, k1), c='k')\n",
    "    ax.format(title=name)\n",
    "axes.format(ylabel='Amplitude', suptitle='Kicker angles', xlabel='time', **format_kws)\n",
    "plt.savefig('_output/figures/kicker_angles.png', **savefig_kws)"
   ]
  },
  {
   "cell_type": "code",
   "execution_count": null,
   "metadata": {},
   "outputs": [],
   "source": [
    "fig, axes = pplt.subplots(nrows=4, ncols=2, figsize=(3.5, 6))\n",
    "for k0, k1, name, ax in zip(kicker_angles_t0, kicker_angles_t1, kicker_names, axes):\n",
    "    ax.plot(t, waveform(t, 1.0, k1/k0), c='k')\n",
    "    ax.format(title=name)\n",
    "axes.format(ylabel='Amplitude', suptitle='Kicker waveforms', xlabel='time', **format_kws)\n",
    "plt.savefig('_output/figures/kicker_waveforms.png', **savefig_kws)"
   ]
  },
  {
   "cell_type": "markdown",
   "metadata": {},
   "source": [
    "### Element positions "
   ]
  },
  {
   "cell_type": "code",
   "execution_count": null,
   "metadata": {},
   "outputs": [],
   "source": [
    "def lens(pos, width, height, foc=True, **kws):\n",
    "    if foc:\n",
    "        coords = [\n",
    "            (pos - 0.5 * width, -0.5 * height),\n",
    "            (pos + 0.5 * width, -0.5 * height),\n",
    "            (pos - 0.5 * width, +0.5 * height),\n",
    "            (pos + 0.5 * width, +0.5 * height),\n",
    "        ]\n",
    "    else:\n",
    "        coords = [\n",
    "            (pos - 0.5 * width, 0.0),\n",
    "            (pos, -0.5 * height),\n",
    "            (pos + 0.5 * width, 0.0),\n",
    "            (pos, +0.5 * height),\n",
    "        ]\n",
    "    return patches.Polygon(coords, **kws)"
   ]
  },
  {
   "cell_type": "code",
   "execution_count": null,
   "metadata": {},
   "outputs": [],
   "source": [
    "def is_quad(name):\n",
    "    return name.startswith('q') and 'sc' not in name\n",
    "\n",
    "def is_kicker(name):\n",
    "    return name.startswith('ikick')\n",
    "\n",
    "def is_corrector(name):\n",
    "    return 'dchv' in name or 'dmcv' in name\n",
    "\n",
    "def is_foil(name):\n",
    "    return name == 'inj_mid'\n",
    "    \n",
    "def get_number(name):\n",
    "    for i, character in enumerate(name):\n",
    "        if character.isnumeric():\n",
    "            return int(name[i:])"
   ]
  },
  {
   "cell_type": "code",
   "execution_count": null,
   "metadata": {},
   "outputs": [],
   "source": [
    "# file = open('_output/data/injection_region_node_positions.txt', 'r')\n",
    "# names, positions = [], []\n",
    "# widths = []\n",
    "# for line in file:\n",
    "#     name, start, stop = line.rstrip().split(' ')\n",
    "#     names.append(name)\n",
    "#     start = float(start)\n",
    "#     stop = float(stop)\n",
    "#     positions.append(0.5 * (start + stop))\n",
    "#     widths.append(stop - start)\n",
    "# file.close()\n",
    "    \n",
    "# start = names.index('inj_start')\n",
    "# stop = names.index('inj_end')\n",
    "# names = names[start:] + names[:stop]\n",
    "# positions = list(np.subtract(positions[start:], positions[-1])) + positions[:stop]\n",
    "# widths = widths[start:] + widths[:stop]\n",
    "\n",
    "# fig, axes = pplt.subplots(nrows=2, figsize=(5, 3), height_ratios=(1.0, 0.5))\n",
    "# pad = 2.0\n",
    "# axes.format(xlim=(min(positions) - pad, max(positions) + pad), xlabel='Position [m]')\n",
    "\n",
    "# # Lattice elements\n",
    "# height = 0.4\n",
    "# ytextpos = 0.28\n",
    "# ax = axes[1]\n",
    "# for position, name, width in zip(positions, names, widths):\n",
    "#     if is_quad(name):\n",
    "#         focusing = 'h' in name\n",
    "#         patch = lens(position, width, height, focusing, color='black')        \n",
    "#     elif is_kicker(name): \n",
    "#         if 'h' in name:\n",
    "#             color = 'blue8'\n",
    "#         else:\n",
    "#             color = 'red8'\n",
    "#         patch = patches.Rectangle((position - 0.5 * width, -0.5 * height), width, height, color=color)\n",
    "#     elif is_corrector(name):\n",
    "#         color = 'pink9'\n",
    "#         patch = patches.Rectangle((position - 0.5 * width, -0.5 * height), width, height, color=color)\n",
    "#     elif is_foil(name):\n",
    "#         color = 'gold'\n",
    "#         patch = patches.Rectangle((position - 0.5 * width, -0.5 * height), width, height, color=color)\n",
    "#     else:\n",
    "#         continue\n",
    "#     ax.add_patch(patch)\n",
    "# ax.axhline(0., color='black', alpha=0.1, lw=0.2)\n",
    "# ax.format(ylim=(-height, height), yticks=[])\n",
    "\n",
    "# # Closed orbit.\n",
    "# ax = axes[0]\n",
    "# _pos = np.linspace(positions[0], positions[-1], len(inj_region_coords_t0))\n",
    "# ax.plot(_pos, inj_region_coords_t0[:, 0], label='x (initial)')\n",
    "# ax.plot(_pos, inj_region_coords_t0[:, 2], label='y (initial)')\n",
    "# ax.format(cycle='colorblind')\n",
    "# ax.plot(_pos, inj_region_coords_t1[:, 0], ls='--', lw=1, label='x (final)')\n",
    "# ax.plot(_pos, inj_region_coords_t1[:, 2], ls='--', lw=1, label='y (final)')\n",
    "# plt.savefig('_output/figures/inj_region_elements.png', **savefig_kws)\n",
    "# plt.show()"
   ]
  },
  {
   "cell_type": "markdown",
   "metadata": {},
   "source": [
    "## Beam statistics"
   ]
  },
  {
   "cell_type": "code",
   "execution_count": null,
   "metadata": {},
   "outputs": [],
   "source": [
    "if location == 'rtbt entrance':\n",
    "    suffix = 'rtbt'\n",
    "elif location == 'injection point':\n",
    "    suffix = 'inj'\n",
    "else:\n",
    "    raise ValueError('Invalid location.')\n",
    "    \n",
    "turns = np.loadtxt(join(folder, 'turns_stored_{}.dat'.format(suffix)))\n",
    "turns = turns.astype(int)\n",
    "print(turns)"
   ]
  },
  {
   "cell_type": "code",
   "execution_count": null,
   "metadata": {},
   "outputs": [],
   "source": [
    "coords = utils.load_stacked_arrays(join(folder, 'coords_{}.npz'.format(suffix)))\n",
    "for i in trange(len(coords)):\n",
    "    coords[i][:, 5] *= 1000. # convert dE to [MeV]"
   ]
  },
  {
   "cell_type": "code",
   "execution_count": null,
   "metadata": {
    "tags": []
   },
   "outputs": [],
   "source": [
    "stats = ba.BeamStats()\n",
    "stats.read_coords(coords)"
   ]
  },
  {
   "cell_type": "code",
   "execution_count": null,
   "metadata": {
    "tags": []
   },
   "outputs": [],
   "source": [
    "fig, ax = pplt.subplots(figsize=(4, 3.0))\n",
    "g1 = ax.plot(turns, stats.twiss2D.loc[:, 'eps_x'], **lineplot_kws)\n",
    "g2 = ax.plot(turns, stats.twiss2D.loc[:, 'eps_y'], **lineplot_kws)\n",
    "g3 = ax.plot(turns, stats.twiss4D.loc[:, 'eps_1'], **lineplot_kws)\n",
    "g4 = ax.plot(turns, stats.twiss4D.loc[:, 'eps_2'], **lineplot_kws)\n",
    "ax.legend([g1, g2, g3, g4], labels=[r'$\\varepsilon_{}$'.format(v) for v in ['x', 'y', '1', '2']], \n",
    "          ncols=1, loc='upper left', framealpha=1.0)\n",
    "ax.format(ylabel='[mm mrad]', xlabel='Turn number', ylim=(0., ax.get_ylim()[1]), **format_kws);\n",
    "plt.savefig('_output/figures/emittances.png', **savefig_kws)"
   ]
  },
  {
   "cell_type": "code",
   "execution_count": null,
   "metadata": {},
   "outputs": [],
   "source": [
    "fig, ax = pplt.subplots(figsize=(4.4, 2.5))\n",
    "g1 = ax.plot(turns, stats.twiss2D.loc[:, 'eps_x'], **lineplot_kws)\n",
    "g2 = ax.plot(turns, stats.twiss2D.loc[:, 'eps_y'], **lineplot_kws)\n",
    "g3 = ax.plot(turns, stats.twiss4D.loc[:, 'eps_1'], **lineplot_kws)\n",
    "g4 = ax.plot(turns, stats.twiss4D.loc[:, 'eps_2'], **lineplot_kws)\n",
    "ax.legend([g1, g2, g3, g4], labels=[r'$\\varepsilon_{}$'.format(v) for v in ['x', 'y', '1', '2']], \n",
    "          ncols=1, loc='right', framealpha=.0)\n",
    "ax.format(ylabel='[mm mrad]', xlabel='Turn number', ylim=(0., ax.get_ylim()[1]), **format_kws);\n",
    "plt.savefig('_output/figures/emittances2.png', **savefig_kws)"
   ]
  },
  {
   "cell_type": "code",
   "execution_count": null,
   "metadata": {},
   "outputs": [],
   "source": [
    "fig, ax = pplt.subplots(figsize=(4, 3.0))\n",
    "g1 = ax.plot(turns, (stats.twiss2D['eps_x'] * stats.twiss2D['eps_y']), color='red', **lineplot_kws)\n",
    "g2 = ax.plot(turns, (stats.twiss4D['eps_1'] * stats.twiss4D['eps_2']), color='blue', **lineplot_kws)\n",
    "ax.legend([g1, g2], labels=[r'$\\varepsilon_x\\varepsilon_y$', r'$\\varepsilon_1\\varepsilon_2$'],\n",
    "          ncols=1, loc='upper left')\n",
    "ax.format(ylabel='[mm mrad]', xlabel='Turn number', ylim=(0., ax.get_ylim()[1]), **format_kws);\n",
    "plt.savefig('_output/figures/emittances4D.png', **savefig_kws)"
   ]
  },
  {
   "cell_type": "code",
   "execution_count": null,
   "metadata": {},
   "outputs": [],
   "source": [
    "fig, ax = pplt.subplots(figsize=(3.5, 2.5))\n",
    "C = np.sqrt((stats.twiss2D['eps_x'] * stats.twiss2D['eps_y']) / (stats.twiss4D['eps_1'] * stats.twiss4D['eps_2']))\n",
    "ax.plot(turns, C, c='black', **lineplot_kws)\n",
    "ax.format(xlabel='Turn number', \n",
    "          title=r'C = $\\sqrt{\\frac{\\varepsilon_x\\varepsilon_y}{\\varepsilon_1\\varepsilon_2}}$', \n",
    "          **format_kws)\n",
    "plt.savefig('_output/figures/coupling_factor.png', **savefig_kws)"
   ]
  },
  {
   "cell_type": "code",
   "execution_count": null,
   "metadata": {},
   "outputs": [],
   "source": [
    "fig, ax = pplt.subplots(figsize=(4.0, 2.25))\n",
    "h1 = ax.plot(turns, stats.twiss2D['beta_x'])\n",
    "h2 = ax.plot(turns, stats.twiss2D['beta_y'])\n",
    "legend_kws = dict(loc='right', ncol=1, framealpha=0.)\n",
    "ax.legend(handles=[h1, h2], labels=[r'$\\beta_x$', r'$\\beta_y$'], **legend_kws)\n",
    "ax.format(xlabel='Turn number', ylabel='[m/rad]', **format_kws)\n",
    "plt.savefig('_output/figures/beta.png', **savefig_kws)"
   ]
  },
  {
   "cell_type": "code",
   "execution_count": null,
   "metadata": {},
   "outputs": [],
   "source": [
    "fig, ax = pplt.subplots(figsize=(4.0, 2.25))\n",
    "h1 = ax.plot(turns, stats.twiss2D['alpha_x'])\n",
    "h2 = ax.plot(turns, stats.twiss2D['alpha_y'])\n",
    "legend_kws = dict(loc='right', ncol=1, framealpha=0.)\n",
    "ax.legend(handles=[h1, h2], labels=[r'$\\alpha_x$', r'$\\alpha_y$'], **legend_kws)\n",
    "ax.format(xlabel='Turn number', ylabel='[rad]')\n",
    "plt.savefig('_output/figures/alpha.png', **savefig_kws)"
   ]
  },
  {
   "cell_type": "code",
   "execution_count": null,
   "metadata": {},
   "outputs": [],
   "source": [
    "fig, axes = pplt.subplots(nrows=2, figsize=(3.5, 3.33), spany=False, aligny=True)\n",
    "axes[0].plot(turns, stats.twiss4D['u'], color='black', **lineplot_kws)\n",
    "axes[1].plot(turns, stats.twiss4D['nu'], color='black', **lineplot_kws)\n",
    "axes[0].format(ylabel='u')\n",
    "axes[1].format(ylabel=r'$\\nu$', yformatter='deg')\n",
    "axes.format(**format_kws)\n",
    "plt.savefig('_output/figures/u_and_nu.png', **savefig_kws)"
   ]
  },
  {
   "cell_type": "markdown",
   "metadata": {},
   "source": [
    "## Tunes "
   ]
  },
  {
   "cell_type": "code",
   "execution_count": null,
   "metadata": {},
   "outputs": [],
   "source": [
    "filenames = [\n",
    "    'bunch_turn=100.dat',\n",
    "    'bunch_turn=200.dat',\n",
    "    'bunch_turn=300.dat', \n",
    "    'bunch_turn=400.dat'\n",
    "]\n",
    "for filename in filenames:\n",
    "    df = ba.load_pybunch(os.path.join(folder, filename))\n",
    "    \n",
    "    numin, numax = 5.95, 6.20\n",
    "    nu_limits = (numin, numax)\n",
    "    \n",
    "    fig, ax = pplt.subplots(figsize=(2.75, 2.75))\n",
    "    nux = df['nux'].values\n",
    "    nuy = df['nuy'].values\n",
    "    nux[np.where(nux > 0.5)] -= 1.0\n",
    "    nuy[np.where(nuy > 0.5)] -= 1.0\n",
    "    nux += 6.0\n",
    "    nuy += 6.0\n",
    "    ax.hist2d(nux, nuy, bins=70, range=(nu_limits, nu_limits), cmap='dusk_r', discrete=False, colorbar=False)\n",
    "    line_kws = dict(color='white', lw=0.3, alpha=0.5)\n",
    "    ax.axvline(6.0, **line_kws)\n",
    "    ax.axhline(6.0, **line_kws)\n",
    "    ax.plot(ax.get_xlim(), ax.get_xlim(), **line_kws)\n",
    "    ax.format(xlabel=r'$\\nu_x$', ylabel=r'$\\nu_y$', aspect=1.0)\n",
    "    \n",
    "    plt.savefig('_output/figures/tunes_{}.png'.format(filename), **savefig_kws)\n",
    "    plt.show()"
   ]
  },
  {
   "cell_type": "markdown",
   "metadata": {},
   "source": [
    "## TBT coordinates "
   ]
  },
  {
   "cell_type": "code",
   "execution_count": null,
   "metadata": {},
   "outputs": [],
   "source": [
    "foil_pos = (48.6, 46.0)\n",
    "coords_foil_frame = []\n",
    "for X in tqdm(coords):\n",
    "    Y = np.copy(X)\n",
    "    Y[:, 0] -= foil_pos[0]\n",
    "    Y[:, 2] -= foil_pos[1]\n",
    "    coords_foil_frame.append(Y)"
   ]
  },
  {
   "cell_type": "code",
   "execution_count": null,
   "metadata": {},
   "outputs": [],
   "source": [
    "import importlib\n",
    "importlib.reload(myplt);"
   ]
  },
  {
   "cell_type": "code",
   "execution_count": null,
   "metadata": {},
   "outputs": [],
   "source": [
    "kind = 'hist'\n",
    "bins = 'auto'\n",
    "cmap = pplt.Colormap('mono', left=0.035)\n",
    "hist_height_frac = 0.6\n",
    "blur = 0.\n",
    "thresh = 0.\n",
    "log = False\n",
    "autolim_kws = dict(sigma=4.0)"
   ]
  },
  {
   "cell_type": "code",
   "execution_count": null,
   "metadata": {},
   "outputs": [],
   "source": [
    "frame = -1\n",
    "diag_kws = dict(\n",
    "    histtype='step',\n",
    "    bins='auto',\n",
    ")\n",
    "plot_kws = dict(\n",
    "    bins=bins,\n",
    "    cmap=cmap,\n",
    ")"
   ]
  },
  {
   "cell_type": "code",
   "execution_count": null,
   "metadata": {},
   "outputs": [],
   "source": [
    "axes = myplt.corner(\n",
    "    coords_foil_frame[frame][:, :4], \n",
    "    kind=kind, \n",
    "    log=log,\n",
    "    hist_height_frac=hist_height_frac, blur=blur, thresh=thresh, \n",
    "    autolim_kws=autolim_kws, diag_kws=diag_kws, \n",
    "    **plot_kws\n",
    ")\n",
    "limits = [ax.get_xlim() for ax in axes[-1, :]]\n",
    "plt.savefig('_output/figures/corner4D_turn{}.png'.format(turns[frame]), **savefig_kws)"
   ]
  },
  {
   "cell_type": "code",
   "execution_count": null,
   "metadata": {},
   "outputs": [],
   "source": [
    "axes = myplt.corner(coords_foil_frame[frame], **plot_kws)\n",
    "plt.close()\n",
    "limits = [ax.get_xlim() for ax in axes[-1, :]]\n",
    "limits[4] = (-248/2, 248/2)\n",
    "\n",
    "axes = myplt.corner(\n",
    "    coords_foil_frame[frame], \n",
    "    kind=kind, \n",
    "    limits=limits,\n",
    "    log=log,\n",
    "    hist_height_frac=hist_height_frac, blur=blur, thresh=thresh, \n",
    "    autolim_kws=autolim_kws, diag_kws=diag_kws, \n",
    "    **plot_kws\n",
    ")\n",
    "plt.savefig('_output/figures/corner6D_turn{}.png'.format(turns[frame]), **savefig_kws)"
   ]
  },
  {
   "cell_type": "markdown",
   "metadata": {},
   "source": [
    "### Other plots"
   ]
  },
  {
   "cell_type": "code",
   "execution_count": null,
   "metadata": {},
   "outputs": [],
   "source": [
    "n_bins = 150\n",
    "projections = np.zeros((len(coords_foil_frame), 6, n_bins))\n",
    "centers = np.zeros((6, n_bins))\n",
    "for frame, X in enumerate(tqdm(coords_foil_frame)):\n",
    "    for axis in range(6):\n",
    "        projections[frame, axis, :], edges = np.histogram(X[:, axis], n_bins, limits[axis], density=False)\n",
    "        centers[axis, :] = 0.5 * (edges[:-1] + edges[1:])"
   ]
  },
  {
   "cell_type": "code",
   "execution_count": null,
   "metadata": {},
   "outputs": [],
   "source": [
    "fig, axes = pplt.subplots(ncols=6, figsize=(8.0, 2.2), spanx=False, alignx=True)\n",
    "vmax = None\n",
    "_thresh = 0.\n",
    "xlabels = [\"x [mm]\", \"x' [mrad]\", \"y [mm]\", \"y' [mrad]\", \"z [m]\", \"dE [MeV]\"]\n",
    "for i, ax in enumerate(axes):\n",
    "    Z = projections[:, i]\n",
    "    if _thresh is not None:\n",
    "        Z = np.ma.masked_less_equal(Z, _thresh)\n",
    "    ax.pcolormesh(centers[i], turns, Z, cmap=pplt.Colormap('mono', left=0.03), ec='none')\n",
    "    ax.set_xlabel(xlabels[i])\n",
    "axes.format(ylabel='Turn number')\n",
    "plt.savefig('_output/figures/1Dproj.png', **savefig_kws)"
   ]
  },
  {
   "cell_type": "code",
   "execution_count": null,
   "metadata": {},
   "outputs": [],
   "source": [
    "frames = list(range(len(coords)))\n",
    "frames = frames[::50]\n",
    "bins = 'auto'\n",
    "log = False\n",
    "blur = None\n",
    "thresh = 0.\n",
    "equal_bins = False\n",
    "indices = [(0, 2), (0, 1), (2, 3), (0, 3), (2, 1), (1, 3)]\n",
    "\n",
    "fig, axes = pplt.subplots(\n",
    "    nrows=len(frames), ncols=6, figwidth=6.5, \n",
    "    space=0.,\n",
    "    spanx=False, spany=False, sharex=False, sharey=False,\n",
    ")\n",
    "axes.format(\n",
    "    xticks=[], yticks=[],\n",
    "    xticklabels=[], yticklabels=[]\n",
    ")   \n",
    "for row in trange(axes.shape[0]):\n",
    "    frame = frames[row]\n",
    "    X = coords_foil_frame[frame]\n",
    "    axes[row, 0].set_ylabel('Turn {}'.format(turns[frame]), fontsize='small')\n",
    "    for col in range(axes.shape[1]):\n",
    "        ax = axes[row, col]\n",
    "        i, j = indices[col]       \n",
    "        x = X[:, i]\n",
    "        y = X[:, j]\n",
    "        b = bins\n",
    "        if row == 0:\n",
    "            b = 125\n",
    "        xedges = np.histogram_bin_edges(x, b, limits[i])\n",
    "        yedges = np.histogram_bin_edges(y, b, limits[j])\n",
    "        binsx = len(xedges) - 1\n",
    "        binxy = len(yedges) - 1\n",
    "        if equal_bins and bins == 'auto':\n",
    "            binsx = binsy = max(binsx, binxy)\n",
    "            xedges = np.histogram_bin_edges(x, binsx, limits[i])\n",
    "            yedges = np.histogram_bin_edges(y, binsy, limits[j])\n",
    "        Z, _, _ = np.histogram2d(x, y, [xedges, yedges])\n",
    "        if log:\n",
    "            Z = np.log10(1.0 + Z)\n",
    "        if blur:\n",
    "            from skimage import filters\n",
    "            Z = filters.gaussian(Z, blur)\n",
    "        if thresh is not None:\n",
    "            Z = np.ma.masked_less_equal(Z, thresh)\n",
    "        ax.pcolormesh(xedges, yedges, Z.T, ec='none', cmap=cmap)\n",
    "        \n",
    "for col in range(axes.shape[1]):\n",
    "    i, j = indices[col]\n",
    "    axes[:, col].format(xlim=limits[i], ylim=limits[j])\n",
    "    int_to_str = {0:\"x\", 1:\"x'\", 2:\"y\", 3:\"y'\"}\n",
    "    dimx = int_to_str[i]\n",
    "    dimy = int_to_str[j]\n",
    "    axes[0, col].set_title('{}-{}'.format(dimx, dimy))\n",
    "    \n",
    "plt.savefig('_output/figures/snapshots.png', **savefig_kws)\n",
    "plt.show()"
   ]
  },
  {
   "cell_type": "code",
   "execution_count": null,
   "metadata": {
    "jupyter": {
     "source_hidden": true
    },
    "tags": []
   },
   "outputs": [],
   "source": [
    "# fig, axes = pplt.subplots(ncols=3, nrows=3, figsize=(5, 5), spanx=False, spany=False)\n",
    "\n",
    "# for j in range(3):\n",
    "#     for i in range(j):\n",
    "#         axes[i, j].axis('off')\n",
    "# myplt.despine(axes, ('top', 'right'))\n",
    "# plot_kws = dict(lw=0, marker='.', ms=1, color='steelblue', markeredgecolor='none')\n",
    "# lines = [[], [], []]\n",
    "# for i in range(3):\n",
    "#     for j in range(i + 1):\n",
    "#         line, = axes[i, j].plot([], [], **plot_kws)\n",
    "#         lines[i].append(line)\n",
    "        \n",
    "#         axes[i, j].format(xlim=limits[j], ylim=limits[i + 1])\n",
    "#         kws = dict(color='black', alpha=0.1, lw=0.5, zorder=0)\n",
    "#         axes[i, j].axvline(0.0, **kws)\n",
    "#         axes[i, j].axhline(0.0, **kws)\n",
    "# # plt.close()\n",
    "\n",
    "# def update(turn):\n",
    "#     turn *= 10\n",
    "#     X = coords_foil_frame[turn]\n",
    "#     for i in range(3):\n",
    "#         for j in range(i + 1):\n",
    "#             lines[i][j].set_data(X[:, j], X[:, i + 1])\n",
    "#     for text in axes[0, 1].texts:\n",
    "#         text.set_visible(False)\n",
    "#     axes[0, 1].annotate('Turn = {}'.format(turn), xy=(0.4, 0.5), xycoords='axes fraction')\n",
    "    \n",
    "# #     for ax in axes:\n",
    "# #         for patch in ax.patches:\n",
    "# #             patch.set_visible(False)\n",
    "#     Sigma = np.cov(X.T)\n",
    "#     centers = np.mean(X, axis=0)\n",
    "#     myplt.rms_ellipses(4 * Sigma, centers=centers, axes=axes, color='black', zorder=99)\n",
    "\n",
    "# anim = animation.FuncAnimation(fig, update, frames=30)\n",
    "# anim.save('_output/figures/cornertest.mp4', dpi=350)"
   ]
  },
  {
   "cell_type": "code",
   "execution_count": null,
   "metadata": {},
   "outputs": [],
   "source": [
    "fps = 3\n",
    "skip = 19\n",
    "global_cmap_norm = False,\n",
    "static_n_bins = 'final'\n",
    "keep_last = True\n",
    "text_fmt = 'Turn = {}'\n",
    "text_vals = turns\n",
    "anim_kws = dict()"
   ]
  },
  {
   "cell_type": "code",
   "execution_count": null,
   "metadata": {},
   "outputs": [],
   "source": [
    "# importlib.reload(myanim)"
   ]
  },
  {
   "cell_type": "code",
   "execution_count": null,
   "metadata": {},
   "outputs": [],
   "source": [
    "# for dims in [4, 6]:\n",
    "#     anim = myanim.corner(\n",
    "#         coords, dims=dims, kind=kind, \n",
    "#         limits=limits, \n",
    "#         skip=skip, keep_last=keep_last, \n",
    "#         hist_height_frac=hist_height_frac, \n",
    "#         text_fmt=text_fmt, text_vals=text_vals, \n",
    "#         thresh=thresh, blur=blur, global_cmap_norm=global_cmap_norm, static_n_bins=static_n_bins,\n",
    "#         autolim_kws=autolim_kws, plot_kws=plot_kws,\n",
    "#         diag_kws=diag_kws, \n",
    "#         rms_ellipse=False, rms_ellipse_kws=None, env_params=None, env_kws=None,\n",
    "#         **anim_kws\n",
    "#     )\n",
    "#     anim.save('_output/figures/corner{}D.mp4'.format(dims), dpi=350, fps=fps)"
   ]
  },
  {
   "cell_type": "code",
   "execution_count": null,
   "metadata": {},
   "outputs": [],
   "source": [
    "# i = 0\n",
    "# X_onepart = np.array([X[i, :] for X in coords])\n",
    "# axes = myplt.corner(X_onepart, kind='scatter', c='steelblue', limits=limits)\n",
    "# plt.savefig('_output/figures/corner_part{}.png'.format(i), **savefig_kws)"
   ]
  },
  {
   "cell_type": "code",
   "execution_count": null,
   "metadata": {},
   "outputs": [],
   "source": [
    "# anim = myanim.corner_onepart(\n",
    "#     X_onepart[:50], show_history=True, skip=0, pad=0.35, text_fmt='Turn = {}', \n",
    "#     zero_center=False, history_kws=dict(ms=5, color='lightgrey'),\n",
    "# )\n",
    "# anim.save('_output/figures/corner_part{}.mp4'.format(i), dpi=350, fps=5)"
   ]
  }
 ],
 "metadata": {
  "kernelspec": {
   "display_name": "Python 3",
   "language": "python",
   "name": "python3"
  },
  "language_info": {
   "codemirror_mode": {
    "name": "ipython",
    "version": 3
   },
   "file_extension": ".py",
   "mimetype": "text/x-python",
   "name": "python",
   "nbconvert_exporter": "python",
   "pygments_lexer": "ipython3",
   "version": "3.7.6"
  },
  "toc-autonumbering": false
 },
 "nbformat": 4,
 "nbformat_minor": 4
}
