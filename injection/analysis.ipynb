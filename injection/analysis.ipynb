{
 "cells": [
  {
   "cell_type": "markdown",
   "metadata": {},
   "source": [
    "# SNS injection painting"
   ]
  },
  {
   "cell_type": "code",
   "execution_count": null,
   "metadata": {},
   "outputs": [],
   "source": [
    "import sys\n",
    "import numpy as np\n",
    "from matplotlib import pyplot as plt, animation\n",
    "from tqdm import tqdm, trange\n",
    "import proplot as plot \n",
    "\n",
    "sys.path.append('/Users/46h/Research/code/accphys/')\n",
    "from tools import plotting as myplt\n",
    "from tools import animation as myanim\n",
    "from tools import utils\n",
    "from tools import beam_analysis as ba\n",
    "\n",
    "plot.rc['animation.html'] = 'jshtml'\n",
    "plot.rc['savefig.dpi'] = 'figure'\n",
    "plot.rc['figure.facecolor'] = 'white'\n",
    "plot.rc['axes.grid'] = False\n",
    "plot.rc['grid.alpha'] = 0.04"
   ]
  },
  {
   "cell_type": "markdown",
   "metadata": {},
   "source": [
    "## Matched eigenvector "
   ]
  },
  {
   "cell_type": "code",
   "execution_count": null,
   "metadata": {},
   "outputs": [],
   "source": [
    "# matched_eigvec = np.load('matched_eigenvector.npy')\n",
    "# matched_env_params = np.load('matched_env_params.npy')\n",
    "\n",
    "# eps = 40e-6 # intrinsic emittance [mm mrad]\n",
    "# n_parts = 10000\n",
    "# radii = np.sqrt(np.random.uniform(0, 4 * eps, size=(n_parts, 1)))\n",
    "# phases = np.linspace(0, 2 * np.pi, n_parts).reshape(n_parts, 1) # eigenvector phase [rad]\n",
    "# eigvecs = np.tile(matched_eigvec, (n_parts, 1))\n",
    "# X = np.real(radii * eigvecs * np.exp(-1j * phases))\n",
    "\n",
    "# myplt.corner(1e3 * X, 1e3 * matched_env_params);"
   ]
  },
  {
   "cell_type": "markdown",
   "metadata": {},
   "source": [
    "## Injection region closed orbit"
   ]
  },
  {
   "cell_type": "code",
   "execution_count": null,
   "metadata": {},
   "outputs": [],
   "source": [
    "inj_region_coords_t0 = np.load('_output/data/inj_region_coords_t0.npy')\n",
    "inj_region_coords_t1 = np.load('_output/data/inj_region_coords_t1.npy')\n",
    "inj_region_positions_t0 = np.load('_output/data/inj_region_positions_t0.npy')\n",
    "inj_region_positions_t1 = np.load('_output/data/inj_region_positions_t1.npy')\n",
    "inj_region_positions_t0 -= 0.5 * inj_region_positions_t0[-1]\n",
    "inj_region_positions_t1 -= 0.5 * inj_region_positions_t1[-1]\n",
    "\n",
    "fig, ax = plot.subplots(figsize=(6, 2.5))\n",
    "ax.plot(inj_region_positions_t0, inj_region_coords_t0[:, 0])\n",
    "ax.plot(inj_region_positions_t0, inj_region_coords_t0[:, 2])\n",
    "ax.format(cycle='colorblind')\n",
    "ax.plot(inj_region_positions_t1, inj_region_coords_t1[:, 0], ls='--', lw=1)\n",
    "ax.plot(inj_region_positions_t1, inj_region_coords_t1[:, 2], ls='--', lw=1)\n",
    "ax.format(title='Injection region closed orbit')\n",
    "ax.legend(labels=('x (t = 0 ms)', 'y (t = 0 ms)', 'x (t = 1 ms)', 'y (t = 1 ms)'), \n",
    "          ncols=1, loc=(1.02, 0), handlelength=1.5);\n",
    "ax.axvline(0, c='k', lw=0.75, alpha=0.1)\n",
    "ax.axhline(0, c='k', lw=0.75, alpha=0.1)\n",
    "ax.format(xlabel='s [m]', ylabel='[mm]') \n",
    "\n",
    "# Plot kicker positions\n",
    "# hkick_positions = [-12.8738290, -10.1838290, 11.13989262, 13.82989262]\n",
    "# vkick_positions = [-11.7138290, -9.64382900, 10.59989262, 12.66989262]\n",
    "# for hkick_position in hkick_positions:\n",
    "#     ax.axvline(hkick_position, color='pink', zorder=0)\n",
    "# for vkick_position in vkick_positions:\n",
    "#     ax.axvline(vkick_position, color='grey', zorder=0)\n",
    "    \n",
    "plt.savefig('_output/figures/inj_region_closed_orbit.png', facecolor='white', dpi=500)"
   ]
  },
  {
   "cell_type": "markdown",
   "metadata": {},
   "source": [
    "## Kicker strengths"
   ]
  },
  {
   "cell_type": "code",
   "execution_count": null,
   "metadata": {},
   "outputs": [],
   "source": [
    "kicker_angles_t0 = np.loadtxt('_output/data/kicker_angles_t0.dat')\n",
    "kicker_angles_t1 = np.loadtxt('_output/data/kicker_angles_t1.dat')\n",
    "kicker_names = ['ikickh_a10', 'ikickv_a10', 'ikickh_a11', 'ikickv_a11',\n",
    "                'ikickv_a12', 'ikickh_a12', 'ikickv_a13', 'ikickh_a13']"
   ]
  },
  {
   "cell_type": "code",
   "execution_count": null,
   "metadata": {},
   "outputs": [],
   "source": [
    "def waveform(t, k0, k1):\n",
    "    return k0 - (k0 - k1)*np.sqrt(t)\n",
    "\n",
    "t = np.linspace(0, 1, 1000)\n",
    "\n",
    "fig, axes = plot.subplots(nrows=4, ncols=2, figsize=(3.5, 6))\n",
    "for k0, k1, name, ax in zip(kicker_angles_t0, kicker_angles_t1, kicker_names, axes):\n",
    "    ax.plot(t, 1000 * waveform(t, k0, k1), c='k')\n",
    "    ax.format(title=name)\n",
    "axes.format(ylabel='Amplitude', suptitle='Kicker angles', xlabel='time [ms]')\n",
    "plt.savefig('_output/figures/kicker_angles.png', facecolor='w', dpi=500)"
   ]
  },
  {
   "cell_type": "code",
   "execution_count": null,
   "metadata": {},
   "outputs": [],
   "source": [
    "fig, axes = plot.subplots(nrows=4, ncols=2, figsize=(3.5, 6))\n",
    "for k0, k1, name, ax in zip(kicker_angles_t0, kicker_angles_t1, kicker_names, axes):\n",
    "    ax.plot(t, waveform(t, 1.0, k1/k0), c='k')\n",
    "    ax.format(title=name)\n",
    "axes.format(ylabel='Amplitude', suptitle='Kicker waveforms', xlabel='time [ms]')\n",
    "plt.savefig('_output/figures/kicker_waveforms.png', facecolor='w', dpi=500)"
   ]
  },
  {
   "cell_type": "markdown",
   "metadata": {},
   "source": [
    "## TBT coordinates "
   ]
  },
  {
   "cell_type": "code",
   "execution_count": null,
   "metadata": {},
   "outputs": [],
   "source": [
    "coords = utils.load_stacked_arrays('_output/data/coords.npz')"
   ]
  },
  {
   "cell_type": "code",
   "execution_count": null,
   "metadata": {},
   "outputs": [],
   "source": [
    "foil_pos = (49.2, 46.8)\n",
    "coords_foil_frame = []\n",
    "for X in coords:\n",
    "    Y = np.copy(X)\n",
    "    Y[:, 0] -= foil_pos[0]\n",
    "    Y[:, 2] -= foil_pos[1]\n",
    "    coords_foil_frame.append(Y)"
   ]
  },
  {
   "cell_type": "code",
   "execution_count": null,
   "metadata": {},
   "outputs": [],
   "source": [
    "limits = ((-90, 35), (-6, 6)) # ((x_min, x_max), (y_min, y_max))\n",
    "turn = 999\n",
    "axes = myplt.corner(\n",
    "    coords_foil_frame[turn][:, :4], limits=limits, \n",
    "    zero_center=True,\n",
    "    samples=50000, \n",
    "    s=0.1,\n",
    "    diag_kws=dict(color='k'),\n",
    "    text='Turn {}'.format(turn),\n",
    "    c='k',\n",
    ")\n",
    "for i in range(1, 4):\n",
    "    for j in range(i):\n",
    "        ax = axes[i, j]\n",
    "        ax.scatter(0, 0, c='r', s=10, zorder=99)\n",
    "        axes[i, j].axvline(0, c='k', lw=0.75, alpha=0.04, zorder=0)\n",
    "        axes[i, j].axhline(0, c='k', lw=0.75, alpha=0.04, zorder=0)\n",
    "plt.savefig('_output/figures/corner.png', facecolor='w', dpi=300)"
   ]
  },
  {
   "cell_type": "code",
   "execution_count": null,
   "metadata": {},
   "outputs": [],
   "source": [
    "anim = myanim.corner(coords_foil_frame, figsize=6, limits=(60, 3), skip=9, text_fmt='Turn {}',\n",
    "                     samples=50000, s=0.2)\n",
    "anim"
   ]
  },
  {
   "cell_type": "markdown",
   "metadata": {},
   "source": [
    "The cell below saves a high quality gif by calling `myplt.corner` a bunch of times. It's pretty slow. Also, for some reason, transparent markers become non-transparent in the saved gif. "
   ]
  },
  {
   "cell_type": "code",
   "execution_count": null,
   "metadata": {},
   "outputs": [],
   "source": [
    "# import gif\n",
    "# gif.options.matplotlib[\"dpi\"] = 300\n",
    "\n",
    "# turns = np.arange(0, len(coords))\n",
    "\n",
    "# @gif.frame\n",
    "# def getframe(i):\n",
    "#     axes = myplt.corner(coords_foil_frame[i], limits=(80, 6), \n",
    "#                         text='Turn = {}'.format(turns[i]))\n",
    "#     axes[2, 0].scatter(0, 0, c='r', s=10, zorder=99);\n",
    "#     return axes\n",
    "\n",
    "# frames = []\n",
    "# for i in trange(0, 1000, 10):\n",
    "#     frame = getframe(i)\n",
    "#     frames.append(frame)\n",
    "    \n",
    "# gif.save(frames, '_output/figures/example.gif', duration=7.0, unit=\"s\", between=\"startend\")"
   ]
  },
  {
   "cell_type": "markdown",
   "metadata": {},
   "source": [
    "## Beam statistics"
   ]
  },
  {
   "cell_type": "code",
   "execution_count": null,
   "metadata": {},
   "outputs": [],
   "source": [
    "moments_list = []\n",
    "for X in tqdm(coords):\n",
    "    Sigma = np.cov(X[:, :4].T)\n",
    "    moments_list.append(ba.mat2vec(Sigma))\n",
    "moments_list = np.array(moments_list)\n",
    "    \n",
    "stats = ba.Stats(1)\n",
    "stats.read_moments(moments_list)"
   ]
  },
  {
   "cell_type": "code",
   "execution_count": null,
   "metadata": {},
   "outputs": [],
   "source": [
    "fig, ax = plot.subplots(figsize=(3.5, 2.5))\n",
    "plt_kws = dict(legend=False)\n",
    "stats.twiss2D[['ex','ey']].plot(ax=ax, **plt_kws)\n",
    "# stats.twiss4D[['e1','e2']].plot(ax=ax, **plt_kws)\n",
    "ax.legend(labels=[r'$\\varepsilon_{}$'.format(v) for v in ['x', 'y', '1', '2']], ncols=1)\n",
    "ax.format(ylabel='[mm mrad]', xlabel='Turn number', title='Emittances', grid=True);"
   ]
  },
  {
   "cell_type": "code",
   "execution_count": null,
   "metadata": {},
   "outputs": [],
   "source": [
    "fig, axes = plot.subplots(nrows=3, figsize=(3.5, 5.0), spany=False, aligny=True)\n",
    "columns = (['bx','by'], ['ax','ay'], ['ex','ey'])\n",
    "ylabels = (r'$\\beta$ [m]', r'$\\alpha$ [rad]', r'$\\varepsilon$ [mm $\\cdot$ mrad]')\n",
    "for ax, col in zip(axes, columns):\n",
    "    stats.twiss2D[col].plot(ax=ax, **plt_kws)\n",
    "axes.format(xlabel='Turn number', grid=True)\n",
    "axes[0].format(title='2D Twiss parameters')\n",
    "myplt.set_labels(axes, ylabels, 'ylabel')"
   ]
  },
  {
   "cell_type": "code",
   "execution_count": null,
   "metadata": {},
   "outputs": [],
   "source": [
    "fig, axes = plot.subplots(nrows=2, figsize=(3.5, 3.33), spany=False, aligny=True)\n",
    "stats.twiss4D['u'].plot(color='k', ax=axes[0], **plt_kws)\n",
    "stats.twiss4D['nu'].plot(color='k', ax=axes[1], **plt_kws)\n",
    "axes.format(grid=True)\n",
    "axes[0].format(ylabel='u')\n",
    "axes[1].format(ylabel=r'$\\nu$', yformatter='deg')"
   ]
  },
  {
   "cell_type": "code",
   "execution_count": null,
   "metadata": {},
   "outputs": [],
   "source": [
    "stats.twiss2D"
   ]
  },
  {
   "cell_type": "code",
   "execution_count": null,
   "metadata": {},
   "outputs": [],
   "source": []
  }
 ],
 "metadata": {
  "kernelspec": {
   "display_name": "Python 3",
   "language": "python",
   "name": "python3"
  },
  "language_info": {
   "codemirror_mode": {
    "name": "ipython",
    "version": 3
   },
   "file_extension": ".py",
   "mimetype": "text/x-python",
   "name": "python",
   "nbconvert_exporter": "python",
   "pygments_lexer": "ipython3",
   "version": "3.7.6"
  },
  "toc-autonumbering": false
 },
 "nbformat": 4,
 "nbformat_minor": 4
}
