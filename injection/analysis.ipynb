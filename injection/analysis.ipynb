{
 "cells": [
  {
   "cell_type": "markdown",
   "metadata": {},
   "source": [
    "# SNS injection painting"
   ]
  },
  {
   "cell_type": "code",
   "execution_count": null,
   "metadata": {
    "tags": []
   },
   "outputs": [],
   "source": [
    "import sys\n",
    "import importlib\n",
    "import os\n",
    "from os.path import join\n",
    "\n",
    "import numpy as np\n",
    "import pandas as pd\n",
    "from matplotlib import animation\n",
    "from matplotlib import pyplot as plt\n",
    "from tqdm import tqdm\n",
    "from tqdm import trange\n",
    "import proplot as pplt \n",
    "import seaborn as sns\n",
    "\n",
    "sys.path.append('..')\n",
    "from tools import animation as myanim\n",
    "from tools import beam_analysis as ba\n",
    "from tools import plotting as myplt\n",
    "from tools import utils"
   ]
  },
  {
   "cell_type": "markdown",
   "metadata": {},
   "source": [
    "## Settings"
   ]
  },
  {
   "cell_type": "code",
   "execution_count": null,
   "metadata": {},
   "outputs": [],
   "source": [
    "plt.rcParams['animation.html'] = 'jshtml'\n",
    "plt.rcParams['savefig.dpi'] = 'figure'\n",
    "plt.rcParams['savefig.transparent'] = False\n",
    "plt.rcParams['figure.facecolor'] = 'white'\n",
    "plt.rcParams['grid.alpha'] = 0.04\n",
    "plt.rcParams['axes.grid'] = False\n",
    "savefig_kws = dict(facecolor='white', dpi=300)\n",
    "n_bins_hist2d = 50"
   ]
  },
  {
   "cell_type": "code",
   "execution_count": null,
   "metadata": {},
   "outputs": [],
   "source": [
    "folder = '_output/data/'\n",
    "location = 'injection point' # {'injection point', 'rtbt entrance'}"
   ]
  },
  {
   "cell_type": "code",
   "execution_count": null,
   "metadata": {},
   "outputs": [],
   "source": [
    "utils.delete_files_not_folders('_output/figures/')"
   ]
  },
  {
   "cell_type": "markdown",
   "metadata": {},
   "source": [
    "## Matched eigenvector "
   ]
  },
  {
   "cell_type": "code",
   "execution_count": null,
   "metadata": {
    "tags": []
   },
   "outputs": [],
   "source": [
    "# matched_eigvec = np.load('matched_eigenvector.npy')\n",
    "# matched_env_params = np.load('matched_env_params.npy')\n",
    "\n",
    "# eps = 40e-6 # intrinsic emittance [mm mrad]\n",
    "# n_parts = 10000\n",
    "# radii = np.sqrt(np.random.uniform(0, 4 * eps, size=(n_parts, 1)))\n",
    "# phases = np.linspace(0, 2 * np.pi, n_parts).reshape(n_parts, 1) # eigenvector phase [rad]\n",
    "# eigvecs = np.tile(matched_eigvec, (n_parts, 1))\n",
    "# X = np.real(radii * eigvecs * np.exp(-1j * phases))\n",
    "\n",
    "# myplt.corner(1e3 * X, 1e3 * matched_env_params);"
   ]
  },
  {
   "cell_type": "markdown",
   "metadata": {},
   "source": [
    "## Injection region closed orbit"
   ]
  },
  {
   "cell_type": "code",
   "execution_count": null,
   "metadata": {},
   "outputs": [],
   "source": [
    "inj_region_coords_t0 = np.load(join(folder, 'inj_region_coords_t0.npy'))\n",
    "inj_region_coords_t1 = np.load(join(folder, 'inj_region_coords_t1.npy'))\n",
    "inj_region_positions_t0 = np.load(join(folder, 'inj_region_positions_t0.npy'))\n",
    "inj_region_positions_t1 = np.load(join(folder, 'inj_region_positions_t1.npy'))\n",
    "inj_region_coords_t0 *= 1000. # convert to mm-mrad\n",
    "inj_region_coords_t1 *= 1000. # convert to mm-mrad"
   ]
  },
  {
   "cell_type": "code",
   "execution_count": null,
   "metadata": {},
   "outputs": [],
   "source": [
    "fig, ax = pplt.subplots(figsize=(6, 2.5))\n",
    "ax.plot(inj_region_positions_t0, inj_region_coords_t0[:, 0], label='x (initial)')\n",
    "ax.plot(inj_region_positions_t0, inj_region_coords_t0[:, 2], label='y (initial)')\n",
    "ax.format(cycle='colorblind')\n",
    "ax.plot(inj_region_positions_t1, inj_region_coords_t1[:, 0], ls='--', lw=1, label='x (final)')\n",
    "ax.plot(inj_region_positions_t1, inj_region_coords_t1[:, 2], ls='--', lw=1, label='y (final)')\n",
    "ax.format(title='Injection region closed orbit')\n",
    "ax.legend(ncols=1, loc=(1.02, 0), handlelength=1.5);\n",
    "ax.format(xlabel='s [m]', ylabel='[mm]') \n",
    "ax.grid(axis='y')\n",
    "plt.savefig('_output/figures/inj_region_closed_orbit.png', **savefig_kws)"
   ]
  },
  {
   "cell_type": "markdown",
   "metadata": {},
   "source": [
    "## Kicker strengths"
   ]
  },
  {
   "cell_type": "code",
   "execution_count": null,
   "metadata": {
    "jupyter": {
     "source_hidden": true
    },
    "tags": []
   },
   "outputs": [],
   "source": [
    "# def get_perveance(kin_energy, mass, line_density):\n",
    "#     classical_proton_radius = 1.53469e-18 # m\n",
    "#     gamma = 1 + (kin_energy / mass) # Lorentz factor\n",
    "#     beta = np.sqrt(1 - (1 / gamma)**2) # velocity/speed_of_light\n",
    "#     return (2 * classical_proton_radius * line_density) / (beta**2 * gamma**3)\n",
    "\n",
    "# ring_length = 248.0\n",
    "# zlim = (135.0 / 360.0) * ring_length\n",
    "# zmin, zmax = -zlim, zlim\n",
    "# bunch_length = zmax - zmin\n",
    "\n",
    "# # Production beam\n",
    "# kin_energy = 1.0 # [GeV]\n",
    "# mass = 0.93827231 # [kg]\n",
    "# intensity = 1.5e14\n",
    "# Q = get_perveance(kin_energy, mass, intensity / bunch_length)\n",
    "# xmax = ymax = 26.0\n",
    "# area = xmax * ymax\n",
    "# print('Q = {}'.format(Q))\n",
    "# density_production = Q / area\n",
    "# print('Q / area = {}'.format(density_production))\n",
    "\n",
    "# # SCBD\n",
    "# kin_energy = 1.0 # [GeV]\n",
    "# mass = 0.93827231 # [kg]\n",
    "# max_intensity = 1.5e14\n",
    "# max_n_turns = 1000.\n",
    "# xmax = ymax = 26.0\n",
    "# area = xmax * ymax\n",
    "# densities = []\n",
    "# turns = np.linspace(1, max_n_turns, 1000)\n",
    "# for t in turns:\n",
    "#     tau = t / max_n_turns\n",
    "#     intensity = max_intensity * tau\n",
    "#     Q = get_perveance(kin_energy, mass, intensity / bunch_length)\n",
    "#     densities.append(Q / area)\n",
    "# densities = np.array(densities)\n",
    "    \n",
    "# fig, ax = pplt.subplots()\n",
    "# ax.plot(turns, densities, color='black');\n",
    "# ymin, ymax = ax.get_ylim()\n",
    "# alpha = 0.15\n",
    "# ax.fill_between(turns, 0., density_production, color='green', alpha=alpha)\n",
    "# ax.fill_between(turns, density_production, ymax, color='red', alpha=alpha)\n",
    "# ax.format(grid=True, ylim=(0, ax.get_ylim()[1]),\n",
    "#           xlabel='# turns to reach full beam size', ylabel=r'Q / area [mm$^{-2}$]')\n",
    "# plt.savefig('_output/figures/perveance_scaling_{}_{}.png'.format(kin_energy, xmax))"
   ]
  },
  {
   "cell_type": "code",
   "execution_count": null,
   "metadata": {},
   "outputs": [],
   "source": [
    "kicker_angles_t0 = np.loadtxt(folder + 'kicker_angles_t0.dat')\n",
    "kicker_angles_t1 = np.loadtxt(folder + 'kicker_angles_t1.dat')\n",
    "kicker_names = ['ikickh_a10', 'ikickv_a10', 'ikickh_a11', 'ikickv_a11',\n",
    "                'ikickv_a12', 'ikickh_a12', 'ikickv_a13', 'ikickh_a13']"
   ]
  },
  {
   "cell_type": "code",
   "execution_count": null,
   "metadata": {},
   "outputs": [],
   "source": [
    "def waveform(t, k0, k1):\n",
    "    return k0 - (k0 - k1)*np.sqrt(t)"
   ]
  },
  {
   "cell_type": "code",
   "execution_count": null,
   "metadata": {},
   "outputs": [],
   "source": [
    "t = np.linspace(0, 1, 1000)\n",
    "\n",
    "fig, axes = pplt.subplots(nrows=4, ncols=2, figsize=(3.5, 6))\n",
    "for k0, k1, name, ax in zip(kicker_angles_t0, kicker_angles_t1, kicker_names, axes):\n",
    "    ax.plot(t, 1000 * waveform(t, k0, k1), c='k')\n",
    "    ax.format(title=name)\n",
    "axes.format(ylabel='Amplitude', suptitle='Kicker angles', xlabel='time [ms]')\n",
    "plt.savefig('_output/figures/kicker_angles.png', **savefig_kws)"
   ]
  },
  {
   "cell_type": "code",
   "execution_count": null,
   "metadata": {},
   "outputs": [],
   "source": [
    "fig, axes = pplt.subplots(nrows=4, ncols=2, figsize=(3.5, 6))\n",
    "for k0, k1, name, ax in zip(kicker_angles_t0, kicker_angles_t1, kicker_names, axes):\n",
    "    ax.plot(t, waveform(t, 1.0, k1/k0), c='k')\n",
    "    ax.format(title=name)\n",
    "axes.format(ylabel='Amplitude', suptitle='Kicker waveforms', xlabel='time [ms]')\n",
    "plt.savefig('_output/figures/kicker_waveforms.png', **savefig_kws)"
   ]
  },
  {
   "cell_type": "markdown",
   "metadata": {},
   "source": [
    "## Beam statistics"
   ]
  },
  {
   "cell_type": "code",
   "execution_count": null,
   "metadata": {},
   "outputs": [],
   "source": [
    "coords = utils.load_stacked_arrays(join(folder, 'coords.npz'))\n",
    "for i in trange(len(coords)):\n",
    "    coords[i][:, 5] *= 1000. # convert dE to [MeV]"
   ]
  },
  {
   "cell_type": "code",
   "execution_count": null,
   "metadata": {
    "tags": []
   },
   "outputs": [],
   "source": [
    "moments_list = []\n",
    "for X in tqdm(coords):\n",
    "    Sigma = np.cov(X[:, :4].T)\n",
    "    moments_list.append(ba.mat2vec(Sigma))\n",
    "moments_list = np.array(moments_list)\n",
    "    \n",
    "stats = ba.StatsReader()\n",
    "stats.read_moments(moments_list)"
   ]
  },
  {
   "cell_type": "code",
   "execution_count": null,
   "metadata": {
    "tags": []
   },
   "outputs": [],
   "source": [
    "fig, ax = pplt.subplots(figsize=(4, 3.0))\n",
    "plt_kws = dict(legend=False)\n",
    "g1 = ax.plot(stats.twiss2D['eps_x'])\n",
    "g2 = ax.plot(stats.twiss2D['eps_y'])\n",
    "g3 = ax.plot(stats.twiss4D['eps_1'])\n",
    "g4 = ax.plot(stats.twiss4D['eps_2'])\n",
    "ax.legend([g1, g2, g3, g4], labels=[r'$\\varepsilon_{}$'.format(v) for v in ['x', 'y', '1', '2']], \n",
    "          ncols=1, loc='upper left', framealpha=1.0)\n",
    "ax.format(ylabel='[mm mrad]', xlabel='Turn number', ygrid=True, ylim=(0., 20.)\n",
    "#           ylim=(0., ax.get_ylim()[1])\n",
    "#           ylim=(0., 20.),\n",
    "         );\n",
    "plt.savefig('_output/figures/emittances.png', **savefig_kws)"
   ]
  },
  {
   "cell_type": "code",
   "execution_count": null,
   "metadata": {},
   "outputs": [],
   "source": [
    "from matplotlib.lines import Line2D"
   ]
  },
  {
   "cell_type": "code",
   "execution_count": null,
   "metadata": {},
   "outputs": [],
   "source": [
    "# fig, ax = pplt.subplots(figsize=(3.5, 2.5))\n",
    "# plt_kws = dict(marker='.')\n",
    "# n_turns = list(range(50, 500, 50)) + [499]\n",
    "# g1 = ax.plot(stats.twiss2D.loc[n_turns, 'eps_x'], **plt_kws)\n",
    "# g2 = ax.plot(stats.twiss2D.loc[n_turns, 'eps_y'], **plt_kws)\n",
    "# g3 = ax.plot(stats.twiss4D.loc[n_turns, 'eps_1'], **plt_kws)\n",
    "# g4 = ax.plot(stats.twiss4D.loc[n_turns, 'eps_2'], **plt_kws)\n",
    "# lkws = dict(marker='.')\n",
    "# lines = [\n",
    "#     Line2D([0], [0], color=myplt.DEFAULT_COLORCYCLE[0], **lkws),\n",
    "#     Line2D([0], [0], color=myplt.DEFAULT_COLORCYCLE[1], **lkws),\n",
    "#     Line2D([0], [0], color=myplt.DEFAULT_COLORCYCLE[2], **lkws),\n",
    "#     Line2D([0], [0], color=myplt.DEFAULT_COLORCYCLE[3], **lkws),\n",
    "# ]\n",
    "# ax.legend(lines, labels=[r'$\\varepsilon_{}$'.format(v) for v in ['x', 'y', '1', '2']],  loc='r', ncols=1, handlelength=2)\n",
    "# ax.format(xlabel='Number of injected turns', ylabel='[mm mrad]', ylim=(0., ax.get_ylim()[1]), \n",
    "#           xlim=(0., 525,)\n",
    "#          )\n",
    "# ax.grid(axis='y')\n",
    "# plt.savefig('_output/figures/emittances_new.png', **savefig_kws)"
   ]
  },
  {
   "cell_type": "code",
   "execution_count": null,
   "metadata": {
    "tags": []
   },
   "outputs": [],
   "source": [
    "exey = (stats.twiss2D['eps_x'] * stats.twiss2D['eps_y']).values\n",
    "e1e2 = (stats.twiss4D['eps_1'] * stats.twiss4D['eps_2']).values\n",
    "\n",
    "fig, ax = pplt.subplots(figsize=(4.0, 2.5))\n",
    "g1 = ax.plot(e1e2, color='red')\n",
    "g2 = ax.plot(exey, color='blue')\n",
    "ax.legend([g1, g2], labels=[r'$\\varepsilon_1\\varepsilon_2$', r'$\\varepsilon_x\\varepsilon_y$'],\n",
    "          ncols=1, loc='r')\n",
    "ax.format(xlabel='Turn number', ylabel=r'[mm$^2$ mrad$^2$]', \n",
    "          ygrid=True, ylim=(0., ax.get_ylim()[1]))\n",
    "plt.savefig('_output/figures/emittances_4D.png', **savefig_kws)"
   ]
  },
  {
   "cell_type": "code",
   "execution_count": null,
   "metadata": {},
   "outputs": [],
   "source": [
    "fig, axes = pplt.subplots(nrows=2, figsize=(4.0, 4.0), spany=False)\n",
    "g1 = axes[0].plot(stats.twiss2D['eps_x'])\n",
    "g2 = axes[0].plot(stats.twiss2D['eps_y'])\n",
    "g3 = axes[0].plot(stats.twiss4D['eps_1'])\n",
    "g4 = axes[0].plot(stats.twiss4D['eps_2'])\n",
    "axes[0].legend(handles=[g1, g2, g3, g4],\n",
    "               labels=[r'$\\varepsilon_{}$'.format(v) for v in ['x', 'y', '1', '2']],\n",
    "               ncols=1, loc='r')\n",
    "g1 = axes[1].plot(e1e2, color='red')\n",
    "g2 = axes[1].plot(exey, color='blue8')\n",
    "axes[1].legend(handles=[g1, g2],\n",
    "               labels=[r'$\\varepsilon_1\\varepsilon_2$', r'$\\varepsilon_x\\varepsilon_y$'],\n",
    "               ncols=1, loc='r')\n",
    "axes[0].format(ylabel='[mm mrad]', xlabel='Turn number', ylim=(0., axes[0].get_ylim()[1]))\n",
    "axes[1].format(ylabel=r'[mm$^2$ mrad$^2$]', ylim=(-0., axes[1].get_ylim()[1]))\n",
    "for ax in axes:\n",
    "    ax.grid(axis='y')\n",
    "plt.savefig('_output/figures/emittances_combined.png', **savefig_kws)"
   ]
  },
  {
   "cell_type": "code",
   "execution_count": null,
   "metadata": {},
   "outputs": [],
   "source": [
    "fig, ax = pplt.subplots(figsize=(3.5, 2.5))\n",
    "C = 1.0 - (e1e2) / (exey)\n",
    "ax.plot(C, c='k')\n",
    "ax.format(xlabel='Turn number', \n",
    "          title=r'C = 1 - $\\frac{\\varepsilon_1\\varepsilon_2}{\\varepsilon_x\\varepsilon_y}$', \n",
    "          ygrid=True)\n",
    "plt.savefig('_output/figures/coupling_factor.png', **savefig_kws)"
   ]
  },
  {
   "cell_type": "code",
   "execution_count": null,
   "metadata": {},
   "outputs": [],
   "source": [
    "fig, ax = pplt.subplots(figsize=(4.0, 2.25))\n",
    "h1 = ax.plot(stats.twiss2D['beta_x'])\n",
    "h2 = ax.plot(stats.twiss2D['beta_y'])\n",
    "legend_kws = dict(loc='right', ncol=1, framealpha=0.)\n",
    "ax.legend(handles=[h1, h2], labels=[r'$\\beta_x$', r'$\\beta_y$'], **legend_kws)\n",
    "ax.format(xlabel='Turn number', ygrid=True, ylabel='[m/rad]')\n",
    "plt.savefig('_output/figures/beta.png', **savefig_kws)"
   ]
  },
  {
   "cell_type": "code",
   "execution_count": null,
   "metadata": {},
   "outputs": [],
   "source": [
    "fig, ax = pplt.subplots(figsize=(4.0, 2.25))\n",
    "h1 = ax.plot(stats.twiss2D['alpha_x'])\n",
    "h2 = ax.plot(stats.twiss2D['alpha_y'])\n",
    "legend_kws = dict(loc='right', ncol=1, framealpha=0.)\n",
    "ax.legend(handles=[h1, h2], labels=[r'$\\alpha_x$', r'$\\alpha_y$'], **legend_kws)\n",
    "ax.format(xlabel='Turn number', ygrid=True, ylabel='[rad]')\n",
    "plt.savefig('_output/figures/alpha.png', **savefig_kws)"
   ]
  },
  {
   "cell_type": "code",
   "execution_count": null,
   "metadata": {},
   "outputs": [],
   "source": [
    "fig, axes = pplt.subplots(nrows=3, figsize=(3.5, 5.0), spany=False, aligny=True)\n",
    "h1 = axes[0].plot(stats.twiss2D['beta_x'])\n",
    "h2 = axes[0].plot(stats.twiss2D['beta_y'])\n",
    "axes[0].format(ylabel='[m/rad]')\n",
    "axes[1].format(ylabel='[rad]')\n",
    "axes[2].format(ylabel='[mm mrad]')\n",
    "axes[1].plot(stats.twiss2D['alpha_x'])\n",
    "axes[1].plot(stats.twiss2D['alpha_y'])\n",
    "axes[2].plot(stats.twiss2D['eps_x'])\n",
    "axes[2].plot(stats.twiss2D['eps_y'])\n",
    "legend_kws = dict(loc='r', ncol=1, framealpha=0.)\n",
    "axes[0].legend(handles=[h1, h2], labels=[r'$\\beta_x$', r'$\\beta_y$'], **legend_kws)\n",
    "axes[1].legend(handles=[h1, h2], labels=[r'$\\alpha_x$', r'$\\alpha_y$'], **legend_kws)\n",
    "axes[2].legend(handles=[h1, h2], labels=[r'$\\varepsilon_x$', r'$\\varepsilon_y$'], **legend_kws)\n",
    "axes.format(xlabel='Turn number', ygrid=True)\n",
    "plt.savefig('_output/figures/twiss2D.png', **savefig_kws)"
   ]
  },
  {
   "cell_type": "code",
   "execution_count": null,
   "metadata": {},
   "outputs": [],
   "source": [
    "fig, axes = pplt.subplots(nrows=2, figsize=(3.5, 3.33), spany=False, aligny=True)\n",
    "stats.twiss4D['u'].plot(color='k', ax=axes[0])\n",
    "stats.twiss4D['nu'].plot(color='k', ax=axes[1])\n",
    "axes[0].format(ylabel='u')\n",
    "axes[1].format(ylabel=r'$\\nu$', yformatter='deg')\n",
    "axes.format(ygrid=True)\n",
    "plt.savefig('_output/figures/u_and_nu.png', **savefig_kws)"
   ]
  },
  {
   "cell_type": "code",
   "execution_count": null,
   "metadata": {},
   "outputs": [],
   "source": [
    "stats.twiss2D.head()"
   ]
  },
  {
   "cell_type": "code",
   "execution_count": null,
   "metadata": {},
   "outputs": [],
   "source": [
    "stats.twiss4D.head()"
   ]
  },
  {
   "cell_type": "markdown",
   "metadata": {},
   "source": [
    "## Tunes "
   ]
  },
  {
   "cell_type": "code",
   "execution_count": null,
   "metadata": {},
   "outputs": [],
   "source": [
    "def load_pybunch(filename):\n",
    "    X = pd.read_table(filename, sep=' ', skiprows=15, index_col=False, \n",
    "                        names=['x','xp','y','yp','z','dE', 'mux', 'muy', 'nux', 'nuy', 'Jx', 'Jy'])\n",
    "    X.iloc[:, :4] *= 1000. # convert from m-rad to mm-mrad\n",
    "    X.iloc[:, 5] *= 1000. # convert energy spread from [GeV] to [MeV]\n",
    "    return X\n",
    "\n",
    "filenames = ['bunch_turn=100.dat', 'bunch_turn=200.dat', 'bunch_turn=300.dat', 'bunch_turn=400.dat', 'bunch.dat']\n",
    "for filename in filenames:\n",
    "    df = load_pybunch(os.path.join(folder, filename))\n",
    "    \n",
    "    xmin, xmax = 0.0, 0.18\n",
    "    limits = [(xmin, xmax), (xmin, xmax)]\n",
    "    \n",
    "    fig, ax = pplt.subplots(figsize=(2.75, 2.75))\n",
    "    nux = df['nux'].values\n",
    "    nuy = df['nuy'].values\n",
    "    nux[np.where(nux > 0.5)] -= 1.0\n",
    "    nuy[np.where(nuy > 0.5)] -= 1.0\n",
    "    nux += 6.0\n",
    "    nuy += 6.0\n",
    "    nu_limits = np.array([-0.05, 0.20])\n",
    "    nu_limits += 6.0\n",
    "    ax.hist2d(nux, nuy, bins=70, range=(nu_limits, nu_limits), cmap='dusk_r', discrete=False, colorbar=False)\n",
    "    line_kws = dict(color='white', lw=0.3, alpha=0.5)\n",
    "    ax.axvline(6.0, **line_kws)\n",
    "    ax.axhline(6.0, **line_kws)\n",
    "    ax.plot(ax.get_xlim(), ax.get_xlim(), **line_kws)\n",
    "    ax.format(xlabel=r'$\\nu_x$', ylabel=r'$\\nu_y$', aspect=1.0)\n",
    "    \n",
    "    plt.savefig('_output/figures/tunes_{}.png'.format(filename), **savefig_kws)\n",
    "    plt.show()"
   ]
  },
  {
   "cell_type": "code",
   "execution_count": null,
   "metadata": {},
   "outputs": [],
   "source": [
    "# fig, axes = pplt.subplots(nrows=2, figsize=(3, 4.5), height_ratios=[0.5, 1.0], sharex=False, sharey=False)\n",
    "\n",
    "# g1 = axes[0].plot(stats.twiss2D['eps_x'])\n",
    "# g2 = axes[0].plot(stats.twiss2D['eps_y'])\n",
    "# g3 = axes[0].plot(stats.twiss4D['eps_1'])\n",
    "# g4 = axes[0].plot(stats.twiss4D['eps_2'])\n",
    "# axes[0].format(ylabel='')\n",
    "# # ax.legend([g1, g2, g3, g4], labels=[r'$\\varepsilon_{}$'.format(v) for v in ['x', 'y', '1', '2']], \n",
    "# #           ncols=1, loc='r', framealpha=0.)\n",
    "# # ax.format(ylabel='[mm mrad]', xlabel='Turn number', ygrid=True, \n",
    "# #           ylim=(0., ax.get_ylim()[1])\n",
    "# # #           ylim=(0., 20.),\n",
    "# #          );\n",
    "# # plt.savefig('_output/figures/emittances.png', **savefig_kws)\n",
    "\n",
    "# axes[1].hist2d(nux, nuy, bins=70, range=((0.0, 0.25), (0.0, 0.25)), cmap='dusk_r', discrete=False)\n",
    "# line_kws = dict(color='white', lw=0.5)\n",
    "# axes[1].axvline(0.18, **line_kws)\n",
    "# axes[1].axhline(0.18, **line_kws)\n",
    "# axes[1].format(xlabel=r'$\\nu_x$', ylabel=r'$\\nu_y$', aspect=1.0)\n",
    "# # plt.savefig('_output/figures/tunes.png', **savefig_kws)\n",
    "# plt.show()"
   ]
  },
  {
   "cell_type": "markdown",
   "metadata": {},
   "source": [
    "## TBT coordinates "
   ]
  },
  {
   "cell_type": "code",
   "execution_count": null,
   "metadata": {},
   "outputs": [],
   "source": [
    "foil_pos = (48.6, 46.0)\n",
    "coords_foil_frame = []\n",
    "for X in coords:\n",
    "    Y = np.copy(X)\n",
    "    Y[:, 0] -= foil_pos[0]\n",
    "    Y[:, 2] -= foil_pos[1]\n",
    "    coords_foil_frame.append(Y)"
   ]
  },
  {
   "cell_type": "code",
   "execution_count": null,
   "metadata": {},
   "outputs": [],
   "source": [
    "turn = -1\n",
    "pad = -0.1\n",
    "bins = 65\n",
    "hist_height_frac = 0.6\n",
    "plot_kws = dict(bins=bins, pad=pad, sigma=4.0, hist_height_frac=hist_height_frac)"
   ]
  },
  {
   "cell_type": "code",
   "execution_count": null,
   "metadata": {},
   "outputs": [],
   "source": [
    "axes = myplt.corner(coords_foil_frame[turn][:, :4], **plot_kws)\n",
    "limits = [ax.get_xlim() for ax in axes[-1, :]]\n",
    "plt.savefig('_output/figures/corner4D_turn{}.png'.format(turn), **savefig_kws)"
   ]
  },
  {
   "cell_type": "code",
   "execution_count": null,
   "metadata": {},
   "outputs": [],
   "source": [
    "axes = myplt.corner(coords_foil_frame[turn], **plot_kws)\n",
    "plt.close()\n",
    "limits = [ax.get_xlim() for ax in axes[-1, :]]\n",
    "limits[4] = (-248/2, 248/2)\n",
    "limits[5] = (-4.0, 4.0)\n",
    "axes = myplt.corner(coords_foil_frame[turn], limits=limits, **plot_kws)\n",
    "plt.savefig('_output/figures/corner6D_turn{}.png'.format(turn), **savefig_kws)"
   ]
  },
  {
   "cell_type": "code",
   "execution_count": null,
   "metadata": {},
   "outputs": [],
   "source": [
    "# importlib.reload(myanim)\n",
    "# anim = myanim.corner(coords_foil_frame[:300], dims=4, )\n",
    "# anim.save('_output/figures/corner4D.mp4', dpi=350, fps=5)"
   ]
  },
  {
   "cell_type": "code",
   "execution_count": null,
   "metadata": {},
   "outputs": [],
   "source": [
    "anim_kws = dict(skip=19, keep_last=True, text_fmt='Turn = {}', \n",
    "                limits=limits, \n",
    "                bins=bins, pad=pad, hist_height_frac=hist_height_frac, shading='auto')"
   ]
  },
  {
   "cell_type": "code",
   "execution_count": null,
   "metadata": {},
   "outputs": [],
   "source": [
    "# coords_ = myanim.skip_frames(coords_foil_frame[:301], skip=9, keep_last=True)\n",
    "# times = np.linspace(0., 1., len(coords_foil_frame))"
   ]
  },
  {
   "cell_type": "code",
   "execution_count": null,
   "metadata": {},
   "outputs": [],
   "source": [
    "# fig, axes = pplt.subplots(ncols=3, nrows=3, figsize=(5, 5), spanx=False, spany=False)\n",
    "\n",
    "# for j in range(3):\n",
    "#     for i in range(j):\n",
    "#         axes[i, j].axis('off')\n",
    "# myplt.despine(axes, ('top', 'right'))\n",
    "# plot_kws = dict(lw=0, marker='.', ms=1, color='steelblue', markeredgecolor='none')\n",
    "# lines = [[], [], []]\n",
    "# for i in range(3):\n",
    "#     for j in range(i + 1):\n",
    "#         line, = axes[i, j].plot([], [], **plot_kws)\n",
    "#         lines[i].append(line)\n",
    "        \n",
    "#         axes[i, j].format(xlim=limits[j], ylim=limits[i + 1])\n",
    "#         kws = dict(color='black', alpha=0.1, lw=0.5, zorder=0)\n",
    "#         axes[i, j].axvline(0.0, **kws)\n",
    "#         axes[i, j].axhline(0.0, **kws)\n",
    "# # plt.close()\n",
    "\n",
    "# def update(turn):\n",
    "#     turn *= 10\n",
    "#     X = coords_foil_frame[turn]\n",
    "#     for i in range(3):\n",
    "#         for j in range(i + 1):\n",
    "#             lines[i][j].set_data(X[:, j], X[:, i + 1])\n",
    "#     for text in axes[0, 1].texts:\n",
    "#         text.set_visible(False)\n",
    "#     axes[0, 1].annotate('Turn = {}'.format(turn), xy=(0.4, 0.5), xycoords='axes fraction')\n",
    "    \n",
    "# #     for ax in axes:\n",
    "# #         for patch in ax.patches:\n",
    "# #             patch.set_visible(False)\n",
    "#     Sigma = np.cov(X.T)\n",
    "#     centers = np.mean(X, axis=0)\n",
    "#     myplt.rms_ellipses(4 * Sigma, centers=centers, axes=axes, color='black', zorder=99)\n",
    "\n",
    "# anim = animation.FuncAnimation(fig, update, frames=30)\n",
    "# anim.save('_output/figures/cornertest.mp4', dpi=350)"
   ]
  },
  {
   "cell_type": "code",
   "execution_count": null,
   "metadata": {},
   "outputs": [],
   "source": [
    "anim = myanim.corner(coords_foil_frame, dims=4, **anim_kws)\n",
    "anim.save('_output/figures/corner4D.mp4', dpi=350, fps=4)"
   ]
  },
  {
   "cell_type": "code",
   "execution_count": null,
   "metadata": {},
   "outputs": [],
   "source": [
    "anim = myanim.corner(coords_foil_frame, dims=6, **anim_kws)\n",
    "anim.save('_output/figures/corner6D.mp4', dpi=350, fps=5)"
   ]
  },
  {
   "cell_type": "code",
   "execution_count": null,
   "metadata": {},
   "outputs": [],
   "source": [
    "i = 0\n",
    "X_onepart = np.array([X[i, :] for X in coords_foil_frame])\n",
    "\n",
    "axes = myplt.corner(X_onepart, kind='scatter', c='steelblue', pad=0.1)\n",
    "plt.savefig('_output/figures/corner_part{}.png'.format(i), **savefig_kws)"
   ]
  },
  {
   "cell_type": "code",
   "execution_count": null,
   "metadata": {},
   "outputs": [],
   "source": [
    "# anim = myanim.corner_onepart(\n",
    "#     X_onepart[:50], show_history=True, skip=0, pad=0.35, text_fmt='Turn = {}', \n",
    "#     zero_center=False, history_kws=dict(ms=5, color='lightgrey'),\n",
    "# )\n",
    "# anim.save('_output/figures/corner_part{}.mp4'.format(i), dpi=350, fps=5)"
   ]
  }
 ],
 "metadata": {
  "kernelspec": {
   "display_name": "Python 3",
   "language": "python",
   "name": "python3"
  },
  "language_info": {
   "codemirror_mode": {
    "name": "ipython",
    "version": 3
   },
   "file_extension": ".py",
   "mimetype": "text/x-python",
   "name": "python",
   "nbconvert_exporter": "python",
   "pygments_lexer": "ipython3",
   "version": "3.7.6"
  },
  "toc-autonumbering": false
 },
 "nbformat": 4,
 "nbformat_minor": 4
}
