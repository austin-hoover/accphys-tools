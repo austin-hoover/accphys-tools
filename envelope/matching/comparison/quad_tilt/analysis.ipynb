{
 "cells": [
  {
   "cell_type": "markdown",
   "metadata": {},
   "source": [
    "# Setup "
   ]
  },
  {
   "cell_type": "markdown",
   "metadata": {},
   "source": [
    "## Imports"
   ]
  },
  {
   "cell_type": "code",
   "execution_count": null,
   "metadata": {},
   "outputs": [],
   "source": [
    "import sys\n",
    "import numpy as np\n",
    "import pandas as pd\n",
    "import matplotlib\n",
    "from matplotlib import pyplot as plt\n",
    "import proplot as plot\n",
    "\n",
    "sys.path.append('/Users/46h/Research/code/accphys') \n",
    "from tools import beam_analysis as ba\n",
    "from tools import plotting as myplt\n",
    "from tools.plotting import save, set_labels\n",
    "from tools import animation as myanim\n",
    "from tools import utils\n",
    "from tools.utils import show, play, file_exists\n",
    "from tools.accphys_utils import get_phase_adv\n",
    "from tools.plot_utils import moment_label, moment_label_string"
   ]
  },
  {
   "cell_type": "markdown",
   "metadata": {},
   "source": [
    "## Settings"
   ]
  },
  {
   "cell_type": "code",
   "execution_count": null,
   "metadata": {},
   "outputs": [],
   "source": [
    "# Plotting\n",
    "plt_kws = dict(legend=False)\n",
    "plot.rc['figure.facecolor'] = 'white'\n",
    "plot.rc['grid.alpha'] = 0.04\n",
    "plot.rc['style'] = None \n",
    "plot.rc['savefig.dpi'] = 'figure' \n",
    "plot.rc['animation.html'] = 'jshtml'\n",
    "dpi = 500\n",
    "\n",
    "cmap = plot.Colormap('viridis')\n",
    "cmap_range = (0, 1)\n",
    "dpi = 500"
   ]
  },
  {
   "cell_type": "markdown",
   "metadata": {},
   "source": [
    "## Read data"
   ]
  },
  {
   "cell_type": "markdown",
   "metadata": {},
   "source": [
    "Load the files."
   ]
  },
  {
   "cell_type": "code",
   "execution_count": null,
   "metadata": {},
   "outputs": [],
   "source": [
    "tracked_params_list = np.load('_output/data/tracked_params_list.npy')\n",
    "transfer_mats = np.load('_output/data/transfer_mats.npy')\n",
    "angles = np.load('_output/data/angles.npy')\n",
    "positions = np.load('_output/data/positions.npy')\n",
    "positions_normed = positions / positions[-1]\n",
    "mode = int(np.loadtxt('_output/data/mode.txt'))"
   ]
  },
  {
   "cell_type": "markdown",
   "metadata": {},
   "source": [
    "Compute the beam statistics."
   ]
  },
  {
   "cell_type": "code",
   "execution_count": null,
   "metadata": {},
   "outputs": [],
   "source": [
    "stats_list = []\n",
    "\n",
    "for tracked_params in tracked_params_list:\n",
    "    \n",
    "    stats = ba.Stats(mode)\n",
    "    stats.read_env(tracked_params)\n",
    "    stats.twiss2D['mux'] = get_phase_adv(stats.twiss2D['bx'], positions, units='deg')\n",
    "    stats.twiss2D['muy'] = get_phase_adv(stats.twiss2D['by'], positions, units='deg')\n",
    "    \n",
    "    # Add position column\n",
    "    for df in stats.dfs():\n",
    "        df['s'] = positions\n",
    "        df['s/L'] = positions_normed\n",
    "    \n",
    "    stats_list.append(stats)"
   ]
  },
  {
   "cell_type": "markdown",
   "metadata": {},
   "source": [
    "Set color cycle from color map."
   ]
  },
  {
   "cell_type": "code",
   "execution_count": null,
   "metadata": {},
   "outputs": [],
   "source": [
    "colors = [cmap(i) for i in np.linspace(cmap_range[0], cmap_range[1], len(stats_list))]\n",
    "_cycler = myplt.cycler('color', colors)"
   ]
  },
  {
   "cell_type": "markdown",
   "metadata": {},
   "source": [
    "# Within lattice evolution\n",
    "Show the s-dependent evolution of the beam parameters, with one curve for each value of the beam perveance. The lower end of the colormap corresponds to zero space charge."
   ]
  },
  {
   "cell_type": "markdown",
   "metadata": {},
   "source": [
    "## Twiss"
   ]
  },
  {
   "cell_type": "markdown",
   "metadata": {},
   "source": [
    "### 2D Twiss "
   ]
  },
  {
   "cell_type": "code",
   "execution_count": null,
   "metadata": {},
   "outputs": [],
   "source": [
    "fig, axes = plot.subplots(ncols=2, nrows=3, figsize=(5, 5), spany=False, aligny=True)\n",
    "axes.set_prop_cycle(_cycler)\n",
    "cols_list = [['bx','by'], ['ax','ay'], ['ex','ey']]\n",
    "for stats in stats_list:\n",
    "    for ax, col in zip(axes, [col for cols in cols_list for col in cols]):\n",
    "        stats.twiss2D[['s/L', col]].plot('s/L', ax=ax, **plt_kws)\n",
    "ylabels = [r'$\\beta$ [m]', r'$\\alpha$ [rad]', r'$\\varepsilon$ [mm $\\cdot$ mrad]']\n",
    "set_labels(axes[:, 0], ylabels, 'ylabel')\n",
    "axes.format(xlabel='s / L', collabels=['Horizontal', 'Vertical'])\n",
    "plt.savefig('_output/figures/twiss2D.png', dpi=dpi, facecolor='w')"
   ]
  },
  {
   "cell_type": "markdown",
   "metadata": {},
   "source": [
    "### 4D Twiss"
   ]
  },
  {
   "cell_type": "code",
   "execution_count": null,
   "metadata": {},
   "outputs": [],
   "source": [
    "fig, axes = plot.subplots(ncols=2, nrows=3, figsize=(5, 5), spany=False, aligny=True)\n",
    "axes.set_prop_cycle(_cycler)\n",
    "cols_list = [['bx','by'], ['ax','ay'], ['u']]\n",
    "for stats in stats_list:\n",
    "    for ax, col in zip(axes, [col for cols in cols_list for col in cols]):\n",
    "        stats.twiss4D[['s/L', col]].plot('s/L', ax=ax, **plt_kws)\n",
    "set_labels(axes[:, 0], [r'$\\beta$ [m]', r'$\\alpha$ [rad]', 'u'], 'ylabel')\n",
    "axes.format(xlabel='s / L', collabels=['Horizontal', 'Vertical'])\n",
    "plt.savefig('_output/figures/twiss4D.png', dpi=dpi, facecolor='w')"
   ]
  },
  {
   "cell_type": "markdown",
   "metadata": {},
   "source": [
    "### Phase advance "
   ]
  },
  {
   "cell_type": "code",
   "execution_count": null,
   "metadata": {},
   "outputs": [],
   "source": [
    "fig, axes = plot.subplots(ncols=2, figsize=(6, 2.5))\n",
    "axes.set_prop_cycle(_cycler)\n",
    "for stats in stats_list:\n",
    "    for ax, col in zip(axes, ['mux', 'muy']):\n",
    "        stats.twiss2D[['s/L', col]].plot('s/L', ax=ax, **plt_kws)\n",
    "axes.format(xlabel='s / L', ylabel='Phase advance', yformatter='deg',\n",
    "            collabels=['Horizontal', 'Vertical'])\n",
    "plt.savefig('_output/figures/phaseadv.png', dpi=dpi, facecolor='w')"
   ]
  },
  {
   "cell_type": "markdown",
   "metadata": {},
   "source": [
    "### Phase difference (nu)"
   ]
  },
  {
   "cell_type": "code",
   "execution_count": null,
   "metadata": {},
   "outputs": [],
   "source": [
    "fig, ax = plot.subplots(figsize=(3.5, 2.5))\n",
    "ax.set_prop_cycle(_cycler)\n",
    "for stats in stats_list:\n",
    "    stats.twiss4D[['s/L','nu']].plot('s/L', ax=ax, **plt_kws)\n",
    "ax.format(xlabel='s / L', ylabel=r'$\\nu$', yformatter='deg')\n",
    "plt.savefig('_output/figures/nu.png', dpi=dpi, facecolor='w')"
   ]
  },
  {
   "cell_type": "markdown",
   "metadata": {},
   "source": [
    "## Moments "
   ]
  },
  {
   "cell_type": "code",
   "execution_count": null,
   "metadata": {},
   "outputs": [],
   "source": [
    "fig, axes = plot.subplots(ncols=2, nrows=3, figsize=(5, 5), spany=False, aligny=True)\n",
    "axes.set_prop_cycle(_cycler)\n",
    "cols_list = [['x_rms','y_rms'], ['xp_rms','yp_rms']]\n",
    "for stats in stats_list:\n",
    "    for ax, col in zip(axes, [col for cols in cols_list for col in cols]):\n",
    "        stats.moments[['s/L', col]].plot('s/L', ax=ax, **plt_kws)\n",
    "    stats.corr[['s/L','xy']].plot('s/L', ax=axes[2, 0], **plt_kws)\n",
    "ylabels = ['Beam size [mm]', 'Beam div [mrad]', 'x-y corr. coef.']\n",
    "set_labels(axes[:, 0], ylabels, 'ylabel')\n",
    "axes.format(xlabel='s / L', collabels=['Horizontal', 'Vertical'])\n",
    "plt.savefig('_output/figures/moments.png', dpi=dpi, facecolor='w')"
   ]
  },
  {
   "cell_type": "code",
   "execution_count": null,
   "metadata": {},
   "outputs": [],
   "source": [
    "fig, axes = plot.subplots(nrows=4, ncols=4, sharey=False, figsize=(8, 6), \n",
    "                          spany=False, aligny=True)\n",
    "myplt.make_lower_triangular(axes)\n",
    "axes.set_prop_cycle(_cycler)\n",
    "axes.format(xlabel='s / L', suptitle='Transverse moments', titleborder=True)\n",
    "for stats in stats_list:\n",
    "    for i in range(4):\n",
    "        for j in range(i + 1):\n",
    "            ax = axes[i, j]\n",
    "            col = moment_label(i, j)\n",
    "            stats.moments[['s/L', col]].plot('s/L', ax=ax, **plt_kws)\n",
    "            ax.format(title=moment_label_string(i, j))\n",
    "set_labels(axes[0:, 0], [r'[mm$^2$]', r'[mm$\\cdot$mrad]', r'[mm$^2$]', r'mm$\\cdot$mrad'], 'ylabel')\n",
    "set_labels(axes[1:, 1], [r'[mrad$^2$]', r'[mm$\\cdot$mrad]', r'[mrad$^2$]'], 'ylabel')\n",
    "set_labels(axes[2:, 2], [r'[mm$^2$]', r'[mm$\\cdot$mrad]'], 'ylabel')\n",
    "set_labels(axes[3:, 3], [r'[mrad$^2$]'], 'ylabel')\n",
    "plt.savefig('_output/figures/all_moments.png', dpi=dpi, facecolor='w')"
   ]
  },
  {
   "cell_type": "code",
   "execution_count": null,
   "metadata": {},
   "outputs": [],
   "source": [
    "fig, axes = plot.subplots(nrows=4, ncols=4, sharey=False, figsize=(8, 6), \n",
    "                          spany=False, aligny=True)\n",
    "myplt.make_lower_triangular(axes)\n",
    "axes.set_prop_cycle(_cycler)\n",
    "axes.format(xlabel='s / L', suptitle='Transverse moments', titleborder=True)\n",
    "for stats in stats_list:\n",
    "    for i in range(4):\n",
    "        for j in range(i + 1):\n",
    "            ax = axes[i, j]\n",
    "            col = moment_label(i, j)\n",
    "            stats.corr[['s/L', col]].plot('s/L', ax=ax, **plt_kws)\n",
    "            ax.format(title=moment_label_string(i, j))\n",
    "plt.savefig('_output/figures/all_correlations.png', dpi=dpi, facecolor='w')"
   ]
  },
  {
   "cell_type": "markdown",
   "metadata": {},
   "source": [
    "## Real space orientation "
   ]
  },
  {
   "cell_type": "code",
   "execution_count": null,
   "metadata": {},
   "outputs": [],
   "source": [
    "# Choose 'area' for true area in x-y space, or 'area_rel' for fractional change\n",
    "area = 'area_rel'"
   ]
  },
  {
   "cell_type": "code",
   "execution_count": null,
   "metadata": {},
   "outputs": [],
   "source": [
    "if area == 'area':\n",
    "    area_ylabel = r'Area [mm$^2$]' \n",
    "elif area == 'area_rel':\n",
    "    area_ylabel = r'Area (frac. change)' \n",
    "\n",
    "fig, axes = plot.subplots(ncols=1, nrows=3, sharey=False, figsize=(3.5, 5))\n",
    "axes.set_prop_cycle(_cycler)\n",
    "for stats in stats_list:\n",
    "    stats.realspace[['s/L','angle']].plot('s/L', ax=axes[0], **plt_kws)\n",
    "    stats.realspace[['s/L', area]].plot('s/L', ax=axes[1], **plt_kws)\n",
    "    stats.corr[['s/L','xy']].plot('s/L', ax=axes[2], **plt_kws)\n",
    "axes.format(xlabel='s / L')\n",
    "ylabels = ['Tilt angle [deg]', area_ylabel, 'x-y corr. coef.']\n",
    "set_labels(axes, ylabels, 'ylabel')\n",
    "plt.savefig('_output/figures/real_space_orientation.png', dpi=dpi, facecolor='w')"
   ]
  },
  {
   "cell_type": "markdown",
   "metadata": {},
   "source": [
    "## Phase space projections "
   ]
  },
  {
   "cell_type": "code",
   "execution_count": null,
   "metadata": {},
   "outputs": [],
   "source": [
    "anim = myanim.corner_env(tracked_params_list, figsize=6, skip=9,\n",
    "                         text_vals=positions_normed, text_fmt='s / L = {:.2f}',\n",
    "                         cmap=cmap, cmap_range=cmap_range)\n",
    "anim"
   ]
  },
  {
   "cell_type": "markdown",
   "metadata": {},
   "source": [
    "# Fixed position in lattice"
   ]
  },
  {
   "cell_type": "code",
   "execution_count": null,
   "metadata": {},
   "outputs": [],
   "source": [
    "position_to_observe = 0.0 # in units s/L\n",
    "ind_var_name = 'quad tilt angle'\n",
    "ind_var_vals = angles\n",
    "discrete_kws = dict(lw=0, marker='o', legend=False)"
   ]
  },
  {
   "cell_type": "markdown",
   "metadata": {},
   "source": [
    "Collect the parameters at this position."
   ]
  },
  {
   "cell_type": "code",
   "execution_count": null,
   "metadata": {},
   "outputs": [],
   "source": [
    "i = 0\n",
    "for index, position_normed in enumerate(positions_normed):\n",
    "    if position_normed >= position_to_observe:\n",
    "        i = index\n",
    "        s = position_normed\n",
    "        break\n",
    "print('Closest index is i = {}, with s/L = {:.3f}'.format(i, s))"
   ]
  },
  {
   "cell_type": "code",
   "execution_count": null,
   "metadata": {},
   "outputs": [],
   "source": [
    "fixedpt = dict()\n",
    "fixedpt['env_params'] = tracked_params_list[:, i, :]\n",
    "fixedpt['twiss2D'] = pd.DataFrame(\n",
    "    np.array([stats.twiss2D.iloc[i].values for stats in stats_list]),\n",
    "    columns=stats.twiss2D.columns\n",
    ")\n",
    "fixedpt['twiss4D'] = pd.DataFrame(\n",
    "    np.array([stats.twiss4D.iloc[i].values for stats in stats_list]),\n",
    "    columns=stats.twiss4D.columns\n",
    ")\n",
    "fixedpt['moments'] = pd.DataFrame(\n",
    "    np.array([stats.moments.iloc[i].values for stats in stats_list]),\n",
    "    columns=stats.moments.columns\n",
    ")\n",
    "fixedpt['corr'] = pd.DataFrame(\n",
    "    np.array([stats.corr.iloc[i].values for stats in stats_list]),\n",
    "    columns=stats.corr.columns\n",
    ")\n",
    "fixedpt['realspace'] = pd.DataFrame(\n",
    "    np.array([stats.realspace.iloc[i].values for stats in stats_list]),\n",
    "    columns=stats.realspace.columns\n",
    ")\n",
    "for key, df in fixedpt.items():\n",
    "    if key != 'env_params':\n",
    "        df[ind_var_name] = ind_var_vals\n",
    "    \n",
    "fixedpt['twiss4D']"
   ]
  },
  {
   "cell_type": "markdown",
   "metadata": {},
   "source": [
    "## Twiss "
   ]
  },
  {
   "cell_type": "markdown",
   "metadata": {},
   "source": [
    "### 2D Twiss \n",
    "Blue and orange correspond to $x$ and $y$, respectively."
   ]
  },
  {
   "cell_type": "code",
   "execution_count": null,
   "metadata": {},
   "outputs": [],
   "source": [
    "fig, axes = plot.subplots(nrows=3, figsize=(3, 5.5), sharey=False, aligny=True)\n",
    "fixedpt['twiss2D'][[ind_var_name,'bx','by']].plot(ind_var_name, ax=axes[0], **discrete_kws)\n",
    "fixedpt['twiss2D'][[ind_var_name,'ax','ay']].plot(ind_var_name, ax=axes[1], **discrete_kws)\n",
    "fixedpt['twiss2D'][[ind_var_name,'ex', 'ey']].plot(ind_var_name, ax=axes[2], **discrete_kws)\n",
    "axes.format(xformatter='deg')\n",
    "axes[0].format(title='s / L = {:.2f}'.format(s))\n",
    "axes[1].format(ylim=(-0.1, 0.1))\n",
    "ylabels = [r'$\\beta$ [m]', r'$\\alpha$ [rad]', r'$\\varepsilon$ [mm $\\cdot$ mrad]']\n",
    "set_labels(axes, ylabels, 'ylabel')\n",
    "plt.savefig('_output/figures/twiss2D_fixedpt.png', dpi=dpi, facecolor='w')"
   ]
  },
  {
   "cell_type": "markdown",
   "metadata": {},
   "source": [
    "### 4D Twiss "
   ]
  },
  {
   "cell_type": "code",
   "execution_count": null,
   "metadata": {},
   "outputs": [],
   "source": [
    "fig, axes = plot.subplots(nrows=3, figsize=(3, 5.5), sharey=False, aligny=True)\n",
    "fixedpt['twiss4D'][[ind_var_name,'bx','by']].plot(ind_var_name, ax=axes[0], **discrete_kws)\n",
    "fixedpt['twiss4D'][[ind_var_name,'ax','ay']].plot(ind_var_name, ax=axes[1], **discrete_kws)\n",
    "fixedpt['twiss4D'][[ind_var_name,'u']].plot(ind_var_name, ax=axes[2], c='k', **discrete_kws)\n",
    "axes[0].format(title='s / L = {:.2f}'.format(s))\n",
    "axes.format(xformatter='deg')\n",
    "axes[1].format(ylim=(-0.1, 0.1))\n",
    "set_labels(axes, [r'$\\beta$ [m]', r'$\\alpha$ [rad]', 'u'], 'ylabel')\n",
    "plt.savefig('_output/figures/twiss4D_fixedpt.png', dpi=dpi, facecolor='w')"
   ]
  },
  {
   "cell_type": "markdown",
   "metadata": {},
   "source": [
    "### Phase advance "
   ]
  },
  {
   "cell_type": "code",
   "execution_count": null,
   "metadata": {},
   "outputs": [],
   "source": [
    "fig, ax = plot.subplots(figsize=(3, 2.5))\n",
    "fixedpt['twiss2D'][[ind_var_name,'mux','muy']].plot(ind_var_name, ax=ax, **discrete_kws)\n",
    "ax.format(title='s / L = {:.2f}'.format(s), xformatter='deg')\n",
    "ax.format(xformatter='scalar', yformatter='deg', ylabel='Phase advance')\n",
    "plt.savefig('_output/figures/phaseadv_fixedpt.png', dpi=dpi, facecolor='w')"
   ]
  },
  {
   "cell_type": "markdown",
   "metadata": {},
   "source": [
    "### Phase difference (nu)"
   ]
  },
  {
   "cell_type": "code",
   "execution_count": null,
   "metadata": {},
   "outputs": [],
   "source": [
    "fig, ax = plot.subplots(figsize=(3, 2.5))\n",
    "fixedpt['twiss4D'][[ind_var_name,'nu']].plot(ind_var_name, ax=ax, color='k', **discrete_kws)\n",
    "ax.format(title='s / L = {:.2f}'.format(s), xformatter='scalar')\n",
    "ax.format(yformatter='deg', xformatter='deg', ylabel=r'$\\nu$')\n",
    "plt.savefig('_output/figures/nu_fixedpt.png', dpi=dpi, facecolor='w')"
   ]
  },
  {
   "cell_type": "markdown",
   "metadata": {},
   "source": [
    "## Moments "
   ]
  },
  {
   "cell_type": "code",
   "execution_count": null,
   "metadata": {},
   "outputs": [],
   "source": [
    "fig, axes = plot.subplots(nrows=3, figsize=(3, 5.5), sharey=False, aligny=True)\n",
    "fixedpt['moments'][[ind_var_name,'x_rms','y_rms']].plot(ind_var_name, ax=axes[0], **discrete_kws)\n",
    "fixedpt['moments'][[ind_var_name,'xp_rms','yp_rms']].plot(ind_var_name, ax=axes[1], **discrete_kws)\n",
    "fixedpt['corr'][[ind_var_name,'xy']].plot(ind_var_name, ax=axes[2], color='k', **discrete_kws)\n",
    "axes[0].format(title='s / L = {:.2f}'.format(s))\n",
    "axes.format(xformatter='deg')\n",
    "ylabels = ['Beam size [mm]', 'Beam div. [mrad]', r'$x$-$y$ corr. coef.']\n",
    "set_labels(axes, ylabels, 'ylabel')\n",
    "plt.savefig('_output/figures/moments_fixedpt.png', dpi=dpi, facecolor='w')"
   ]
  },
  {
   "cell_type": "markdown",
   "metadata": {},
   "source": [
    "## Real space orientation"
   ]
  },
  {
   "cell_type": "code",
   "execution_count": null,
   "metadata": {},
   "outputs": [],
   "source": [
    "fig, axes = plot.subplots(nrows=3, figsize=(3, 5.5), sharey=False, aligny=True)\n",
    "fixedpt['realspace'][[ind_var_name,'angle']].plot(ind_var_name, ax=axes[0], **discrete_kws)\n",
    "fixedpt['realspace'][[ind_var_name,'cx','cy']].plot(ind_var_name, ax=axes[1], **discrete_kws)\n",
    "fixedpt['realspace'][[ind_var_name,'area']].plot(ind_var_name, ax=axes[2], color='k', **discrete_kws)\n",
    "set_labels(axes, ['tilt angle', 'ellipse axes [mm]', 'area [mm$^2$]'], 'ylabel')\n",
    "axes.format(xformatter='deg')\n",
    "plt.savefig('_output/figures/realspace_orientation_fixedpt.png', dpi=dpi, facecolor='w')"
   ]
  },
  {
   "cell_type": "markdown",
   "metadata": {},
   "source": [
    "## Phase space projections"
   ]
  },
  {
   "cell_type": "code",
   "execution_count": null,
   "metadata": {},
   "outputs": [],
   "source": [
    "axes = myplt.corner_env(fixedpt['env_params'], figsize=5, cmap=cmap, pad=0.25, lw=1)\n",
    "plt.savefig('_output/figures/corner.png', dpi=dpi, facecolor='w')"
   ]
  },
  {
   "cell_type": "code",
   "execution_count": null,
   "metadata": {},
   "outputs": [],
   "source": [
    "env_coords_fixedpt = [ba.get_ellipse_coords(p) for p in fixedpt['env_params']]\n",
    "\n",
    "fig, axes = plt.subplots(1, 3, figsize=(7, 2), tight_layout=True)\n",
    "myplt.despine(axes)\n",
    "myplt.set_share_axes(axes[:2], sharex=True, sharey=True)\n",
    "for ax in axes:\n",
    "    ax.set_prop_cycle(_cycler)\n",
    "\n",
    "for X in env_coords_fixedpt:\n",
    "    x, xp, y, yp = X.T\n",
    "    axes[0].plot(x, xp)\n",
    "    axes[1].plot(y, yp)\n",
    "for ind_var_val, u in zip(ind_var_vals, fixedpt['twiss4D'].loc[:, 'u']):\n",
    "    axes[2].plot(ind_var_val, u, 'o')\n",
    "    \n",
    "set_labels(axes, [\"x [mm]\", \"y [mm]\", ind_var_name + ' [deg]'], 'xlabel')\n",
    "set_labels(axes, [\"x' [mrad]\", \"y' [mrad]\"], 'ylabel')\n",
    "set_labels(axes, ['Horiz. phase space', 'Vert. phase space', 'u'], 'title')\n",
    "plt.savefig('_output/figures/horz_vert_phasespace.png', dpi=dpi, facecolor='w')"
   ]
  },
  {
   "cell_type": "markdown",
   "metadata": {},
   "source": [
    "# Effective transfer matrix "
   ]
  },
  {
   "cell_type": "code",
   "execution_count": null,
   "metadata": {},
   "outputs": [],
   "source": [
    "max_number_of_columns = 8"
   ]
  },
  {
   "cell_type": "code",
   "execution_count": null,
   "metadata": {},
   "outputs": [],
   "source": [
    "n = len(transfer_mats)\n",
    "ncols = n if n <= max_number_of_columns else max_number_of_columns\n",
    "nrows = int(np.ceil(n / max_number_of_columns))"
   ]
  },
  {
   "cell_type": "markdown",
   "metadata": {},
   "source": [
    "## Eigenvalues "
   ]
  },
  {
   "cell_type": "code",
   "execution_count": null,
   "metadata": {},
   "outputs": [],
   "source": [
    "fig, axes = plot.subplots(ncols=ncols, nrows=nrows, figsize=(15, nrows*2.25))\n",
    "axes.format(grid=False, xlim=(-1.3, 1.3), ylim=(-1.3, 1.3), xlabel='Real', ylabel='Imag')\n",
    "\n",
    "psi = np.linspace(0, 2*np.pi, 50)\n",
    "x_circle, y_circle = np.cos(psi), np.sin(psi)\n",
    "\n",
    "for ax, M, ind_var_val in zip(axes, transfer_mats, ind_var_vals):\n",
    "    ax.plot(x_circle, y_circle, 'k--', zorder=0)\n",
    "    if not np.any(np.isnan(M)):\n",
    "        eigvals = np.linalg.eigvals(M)\n",
    "        eigtunes = np.degrees(np.arccos(eigvals.real))\n",
    "        ax.scatter(eigvals.real, eigvals.imag, c=['r','r','b','b'], zorder=2)\n",
    "        ax.annotate(r'$\\mu_1 = {:.2f}\\degree$'.format(eigtunes[0]), xy=(0.5, 0.55), xycoords='axes fraction', horizontalalignment='center')\n",
    "        ax.annotate(r'$\\mu_2 = {:.2f}\\degree$'.format(eigtunes[2]), xy=(0.5, 0.45), xycoords='axes fraction', horizontalalignment='center')\n",
    "    ax.format(title=r'{} = ${:.2f}\\degree$'.format(ind_var_name, ind_var_val))\n",
    "    ax.invert_xaxis() # ?\n",
    "\n",
    "plt.savefig('_output/figures/transfer_mat_eigvals.png', dpi=dpi, facecolor='w')"
   ]
  },
  {
   "cell_type": "markdown",
   "metadata": {},
   "source": [
    "## Eigenvectors "
   ]
  },
  {
   "cell_type": "code",
   "execution_count": null,
   "metadata": {},
   "outputs": [],
   "source": [
    "fig, axes = plot.subplots(ncols=ncols, nrows=nrows, figsize=(15, nrows*2.25))\n",
    "axes.format(xlim=(-1.3, 1.3), ylim=(-1.3, 1.3), xlabel='x', ylabel='y')\n",
    "\n",
    "psi = np.linspace(0, 2*np.pi, 50)\n",
    "x_circle, y_circle = np.cos(psi), np.sin(psi)\n",
    "\n",
    "for ax, M, ind_var_val in zip(axes, transfer_mats, ind_var_vals):\n",
    "    myplt.eigvec_trajectory(ax, M, 'x', 'y', s=10, lw=2)\n",
    "    ax.format(title=r'{} = ${:.2f}\\degree$'.format(ind_var_name, ind_var_val))\n",
    "\n",
    "plt.savefig('_output/figures/transfer_mat_eigvals.png', dpi=dpi, facecolor='w')"
   ]
  }
 ],
 "metadata": {
  "kernelspec": {
   "display_name": "Python 3",
   "language": "python",
   "name": "python3"
  },
  "language_info": {
   "codemirror_mode": {
    "name": "ipython",
    "version": 3
   },
   "file_extension": ".py",
   "mimetype": "text/x-python",
   "name": "python",
   "nbconvert_exporter": "python",
   "pygments_lexer": "ipython3",
   "version": "3.7.6"
  },
  "toc": {
   "base_numbering": 1,
   "nav_menu": {},
   "number_sections": true,
   "sideBar": true,
   "skip_h1_title": true,
   "title_cell": "Table of Contents",
   "title_sidebar": "Contents",
   "toc_cell": false,
   "toc_position": {
    "height": "calc(100% - 180px)",
    "left": "10px",
    "top": "150px",
    "width": "273.3823547363281px"
   },
   "toc_section_display": true,
   "toc_window_display": true
  },
  "toc-autonumbering": false,
  "toc-showcode": false,
  "toc-showmarkdowntxt": false,
  "toc-showtags": false
 },
 "nbformat": 4,
 "nbformat_minor": 4
}
