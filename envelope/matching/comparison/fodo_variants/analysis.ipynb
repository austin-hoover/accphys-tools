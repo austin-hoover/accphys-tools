{
 "cells": [
  {
   "cell_type": "markdown",
   "metadata": {},
   "source": [
    "# Matched envelope comparison "
   ]
  },
  {
   "cell_type": "markdown",
   "metadata": {},
   "source": [
    "This notebook generates some plots used in [this paper](https://doi.org/10.1103/PhysRevAccelBeams.24.044201)."
   ]
  },
  {
   "cell_type": "markdown",
   "metadata": {},
   "source": [
    "## Setup"
   ]
  },
  {
   "cell_type": "markdown",
   "metadata": {},
   "source": [
    "### Imports "
   ]
  },
  {
   "cell_type": "code",
   "execution_count": null,
   "metadata": {},
   "outputs": [],
   "source": [
    "import sys\n",
    "import numpy as np\n",
    "import pandas as pd\n",
    "import matplotlib\n",
    "from matplotlib import pyplot as plt\n",
    "import proplot as pplt\n",
    "\n",
    "sys.path.append('/Users/46h/Research/') \n",
    "from scdist.tools import animation as myanim\n",
    "from scdist.tools import beam_analysis as ba\n",
    "from scdist.tools import plotting as myplt\n",
    "from scdist.tools import utils\n",
    "from scdist.tools.ap_utils import get_phase_adv\n",
    "from scdist.tools.plotting import set_labels\n",
    "from scdist.tools.utils import file_exists\n",
    "from scdist.tools.utils import play\n",
    "from scdist.tools.utils import show\n",
    "from scdist.tools.plot_utils import moment_label\n",
    "from scdist.tools.plot_utils import moment_label_string\n",
    "from scdist.tools.plot_utils import sci_notation\n",
    "from scdist.tools.plot_utils import PHASE_SPACE_LABELS_UNITS"
   ]
  },
  {
   "cell_type": "markdown",
   "metadata": {},
   "source": [
    "### Settings"
   ]
  },
  {
   "cell_type": "code",
   "execution_count": null,
   "metadata": {},
   "outputs": [],
   "source": [
    "animate = False\n",
    "plt_kws = dict(legend=False, xlabel='s / L')\n",
    "pplt.rc['animation.html'] = 'jshtml'\n",
    "pplt.rc['cycle'] = 'default'\n",
    "pplt.rc['figure.facecolor'] = 'white'\n",
    "pplt.rc['grid'] = False\n",
    "pplt.rc['grid.alpha'] = 0.04\n",
    "pplt.rc['savefig.dpi'] = 'figure'\n",
    "\n",
    "cmap = pplt.Colormap('fire_r')\n",
    "cmap_range = (0, 0.9)\n",
    "dpi = 500"
   ]
  },
  {
   "cell_type": "markdown",
   "metadata": {},
   "source": [
    "## Read Data"
   ]
  },
  {
   "cell_type": "code",
   "execution_count": null,
   "metadata": {},
   "outputs": [],
   "source": [
    "latnames = [f.rstrip() for f in open('_output/data/latnames.txt', 'r')]\n",
    "perveances = np.load('_output/data/perveances.npy')\n",
    "\n",
    "tracked_params_dict = dict()\n",
    "transfer_mats_dict = dict()\n",
    "stats_dict = dict()\n",
    "positions_dict = dict()"
   ]
  },
  {
   "cell_type": "code",
   "execution_count": null,
   "metadata": {},
   "outputs": [],
   "source": [
    "for latname in latnames:\n",
    "    for mode in (1, 2):\n",
    "        key = latname + '_mode{}'.format(mode)\n",
    "        print('Loading', key, '...')\n",
    "\n",
    "        # Load the list of tracked envelope parameters and transfer matrices        \n",
    "        tracked_params_list = np.load('_output/data/tracked_params_list_{}_{}.npy'.format(latname, mode))\n",
    "        tracked_params_list *= 1000.0 # convert from m to mm\n",
    "        tranfer_mat_list = np.load('_output/data/transfer_mats_{}_{}.npy'.format(latname, mode))\n",
    "        positions = np.load('_output/data/positions_{}.npy'.format(latname))\n",
    "        \n",
    "        # For some reason there are three multiple nodes at the same position at the end\n",
    "        # of the lattice, so strip the last two.\n",
    "        positions = positions[:-2]\n",
    "        tracked_params_list = tracked_params_list[:, :-2, :]\n",
    "        \n",
    "        # For the skew lattice, the last position gives NaN for the envelope parameters.\n",
    "        # I think the beam area becomes exactly zero at this point.\n",
    "        if key == 'fodo_skew_mode2':\n",
    "            positions = positions[:-1]\n",
    "            tracked_params_list = tracked_params_list[:, :-1, :]\n",
    "        \n",
    "        # Compute the beam statistics for each set of envelope parameters in the list\n",
    "        stats_list = []\n",
    "        for i, tracked_params in enumerate(tracked_params_list):\n",
    "            stats = ba.BeamStats(mode)\n",
    "            stats.read_env(tracked_params)\n",
    "            beta_x = stats.twiss2D.loc[:, 'beta_x'].values\n",
    "            beta_y = stats.twiss2D.loc[:, 'beta_y'].values\n",
    "            stats.twiss2D['mux'] = get_phase_adv(beta_x, positions, units='deg')\n",
    "            stats.twiss2D['muy'] = get_phase_adv(beta_y, positions, units='deg')\n",
    "            \n",
    "            # nu is undefined when <x^2> or <y^2> are zero; set it to 90 degrees in this case\n",
    "            if latname.startswith('fodo_split') and perveances[i] == 0:\n",
    "                stats.twiss4D['nu'] = 90.0\n",
    "                \n",
    "            for df in stats.dfs():\n",
    "                df['s'] = positions\n",
    "                df['s/L'] = positions / positions[-1]\n",
    "            stats_list.append(stats)\n",
    "            \n",
    "        stats_dict[key] = stats_list\n",
    "        tracked_params_dict[key] = tracked_params_list\n",
    "        transfer_mats_dict[key] = tranfer_mat_list\n",
    "        positions_dict[key] = positions\n",
    "        \n",
    "print('Done.')"
   ]
  },
  {
   "cell_type": "markdown",
   "metadata": {},
   "source": [
    "## Plotting"
   ]
  },
  {
   "cell_type": "code",
   "execution_count": null,
   "metadata": {},
   "outputs": [],
   "source": [
    "_cycler = myplt.colorcycle(cmap, len(perveances), cmap_range)"
   ]
  },
  {
   "cell_type": "markdown",
   "metadata": {},
   "source": [
    "### Phase space projections at lattice entrance"
   ]
  },
  {
   "cell_type": "code",
   "execution_count": null,
   "metadata": {},
   "outputs": [],
   "source": [
    "for key, tracked_params_list in tracked_params_dict.items():\n",
    "    print('Plotting', key, '...')\n",
    "    axes = myplt.corner_env(tracked_params_list[:, 0, :], figsize=(5, 5), \n",
    "                            autolim_kws=dict(pad=0.25), \n",
    "                            cmap=cmap, cmap_range=cmap_range, lw=1)\n",
    "    axes[0, 1].annotate('s = 0', xy=(0.5, 0.5), xycoords='axes fraction')\n",
    "    plt.savefig('_output/figures/corner_vs_sc_{}.png'.format(key), dpi=500, facecolor='white')\n",
    "    plt.close()\n",
    "print('Done.')"
   ]
  },
  {
   "cell_type": "markdown",
   "metadata": {},
   "source": [
    "### Twiss parameters within lattice"
   ]
  },
  {
   "cell_type": "code",
   "execution_count": null,
   "metadata": {},
   "outputs": [],
   "source": [
    "grouped_keys = [('fodo_mode1', 'fodo_mode2'), \n",
    "                ('fodo_split_mode1', 'fodo_split_mode2'), \n",
    "                ('fodo_skew_mode1', 'fodo_skew_mode2'), \n",
    "                ('fodo_sol_mode1', 'fodo_sol_mode2')]"
   ]
  },
  {
   "cell_type": "code",
   "execution_count": null,
   "metadata": {},
   "outputs": [],
   "source": [
    "for keys in grouped_keys:\n",
    "    fig, axes = pplt.subplots(nrows=3, ncols=2, figsize=(6.5, 6), spany=False, aligny=True)\n",
    "    for ax in axes:\n",
    "        ax.set_prop_cycle(_cycler)\n",
    "    for j, key in enumerate(keys):\n",
    "        print('Plotting', key, '...')\n",
    "        stats_list = stats_dict[key]\n",
    "        for stats in stats_list:\n",
    "            lw = 1.1\n",
    "            stats.moments[['s/L','x_rms']].plot('s/L', ax=axes[0, j], lw=lw, **plt_kws)\n",
    "            stats.twiss2D[['s/L','eps_x']].plot('s/L', ax=axes[1, j], lw=lw, **plt_kws)\n",
    "#             stats.twiss4D[['s/L','nu']].plot('s/L', ax=axes[2, j], lw=lw, **plt_kws)\n",
    "            stats.twiss2D[['s/L', 'mux']].plot('s/L', ax=axes[2, j], lw=lw, **plt_kws)\n",
    "        for stats in stats_list:\n",
    "            stats.moments[['s/L','y_rms']].plot('s/L', ax=axes[0, j], ls='--', zorder=0, legend=False, lw=1.1)\n",
    "            stats.twiss2D[['s/L','eps_y']].plot('s/L', ax=axes[1, j], ls='--', zorder=0, legend=False, lw=1.1)\n",
    "            stats.twiss2D[['s/L', 'muy']].plot('s/L', ax=axes[2, j], ls='--', zorder=0, legend=False, lw=1.1)\n",
    "#     axes[2, 0].format(yformatter='deg')\n",
    "    axes.format(grid=False, toplabels=['Solution 1', 'Solution 2'])\n",
    "    set_labels(axes[:, 0], ['Beam size [mm]', r'Emittance [$mm \\cdot mrad$]', r'$\\nu$'], 'ylabel')\n",
    "    cbar = fig.colorbar(cmap, width=0.075, ticks=[0], label='Perveance', pad=3)\n",
    "    cbar.set_label('Perveance', labelpad=-5)\n",
    "    # Save\n",
    "    tag = key[:-6]\n",
    "    plt.savefig('_output/figures/matched_traj_{}.png'.format(tag), dpi=500, facecolor='white')\n",
    "    plt.close()\n",
    "print('Done.')"
   ]
  },
  {
   "cell_type": "markdown",
   "metadata": {},
   "source": [
    "## Combined plot "
   ]
  },
  {
   "cell_type": "code",
   "execution_count": null,
   "metadata": {},
   "outputs": [],
   "source": [
    "exponent = int(np.floor(np.log10(perveances[-1])))\n",
    "perveances_reduced = perveances / 10**exponent\n",
    "cbar_labels = ['{:.0f}'.format(Q) for Q in perveances_reduced]"
   ]
  },
  {
   "cell_type": "code",
   "execution_count": null,
   "metadata": {},
   "outputs": [],
   "source": [
    "def plot_combined(key, lw=1.0, label_kws=None, \n",
    "                  pad=0.1,\n",
    "                  cmap='rocket', cmap_range=(0.0, 1.0),\n",
    "                  dashed_lw_reduction=0.8):\n",
    "    if label_kws is None:\n",
    "        label_kws = dict()\n",
    "    if type(cmap) is str:\n",
    "        cmap = pplt.Colormap(cmap)\n",
    "\n",
    "    fig, axes = pplt.subplots(\n",
    "        nrows=3, ncols=4, share=False, figwidth=7.35,\n",
    "        wspace=[1.0, 1.0, 6.0], \n",
    "        hspace=[1.0, 1.0],\n",
    "        width_ratios=[1.0, 1.0, 1.0, 1.5],\n",
    "        aligny=True, alignx=True,\n",
    "    )\n",
    "    for ax in axes:\n",
    "        ax.set_prop_cycle(myplt.colorcycle(cmap, len(perveances), cmap_range))\n",
    "\n",
    "    caxes = axes[:, :3]\n",
    "    for i in range(3):\n",
    "        for j in range(3):\n",
    "            ax = caxes[i, j]\n",
    "            if j > i:\n",
    "                ax.axis('off')\n",
    "                continue\n",
    "            if j > 0:\n",
    "                ax.format(yticklabels=[])\n",
    "            if i < 2:\n",
    "                ax.format(xticklabels=[])\n",
    "    myplt.despine(caxes, ('top', 'right'))\n",
    "\n",
    "    for i in range(3):\n",
    "        caxes[i, 0].set_ylabel(PHASE_SPACE_LABELS_UNITS[i + 1], **label_kws)\n",
    "        caxes[-1, i].set_xlabel(PHASE_SPACE_LABELS_UNITS[i], **label_kws)\n",
    "\n",
    "    myplt.corner_env(\n",
    "        tracked_params_dict[key][:, 0, :], \n",
    "        axes=caxes, \n",
    "        use_existing_limits=False, autolim_kws=dict(pad=pad),\n",
    "        lw=lw,\n",
    "    )\n",
    "    caxes[0, 1].annotate('s = 0', xy=(0.5, 0.5), xycoords='axes fraction', \n",
    "                         horizontalalignment='center',\n",
    "                         **label_kws)\n",
    "    # If beam is flat, then the size is zero in either x-x' or y-y'. Plot a\n",
    "    # dot at the origin to indicate this.\n",
    "    if 'split' in key:\n",
    "        if key == 'fodo_split_mode1':\n",
    "            ax = axes[2, 2]\n",
    "        elif key == 'fodo_split_mode2':\n",
    "            ax = axes[0, 0]\n",
    "        ax.plot(0.0, 0.0, color=cmap(0), marker='.', ms=lw)\n",
    "\n",
    "    paxes = axes[:, -1]\n",
    "    paxes[:-1].format(xticklabels=[])\n",
    "    for ax, label in zip(paxes, ['Beam size [mm]', r'Emittance [mm mrad]', r'$\\nu$ / $\\pi$']):\n",
    "        ax.set_ylabel(label, **label_kws)\n",
    "    paxes[-1].set_xlabel('s / L')\n",
    "\n",
    "    for stats in stats_dict[key]:\n",
    "        stats.moments[['s/L','x_rms']].plot('s/L', ax=paxes[0], lw=lw, **plt_kws)\n",
    "        stats.twiss2D[['s/L','eps_x']].plot('s/L', ax=paxes[1], lw=lw, **plt_kws)\n",
    "        paxes[2].plot(\n",
    "            stats.twiss4D.loc[:, 's/L'].values,\n",
    "            stats.twiss4D.loc[:, 'nu'].values / 180.0,\n",
    "            lw=lw,\n",
    "        )\n",
    "    for stats in stats_dict[key]:\n",
    "        ls = 'dashed'\n",
    "        lw_ = dashed_lw_reduction * lw\n",
    "        stats.moments[['s/L','y_rms']].plot('s/L', ax=paxes[0], ls=ls, zorder=0, legend=False, lw=lw_)\n",
    "        stats.twiss2D[['s/L','eps_y']].plot('s/L', ax=paxes[1], ls=ls, zorder=0, legend=False, lw=lw_)\n",
    "\n",
    "    norm = matplotlib.colors.Normalize(vmin=perveances_reduced[0], vmax=perveances_reduced[-1])\n",
    "    cbar = fig.colorbar(matplotlib.cm.ScalarMappable(norm, cmap), \n",
    "                        width=0.09,\n",
    "                        label=r'$10^{-5}$ Q')\n",
    "    return axes"
   ]
  },
  {
   "cell_type": "code",
   "execution_count": null,
   "metadata": {},
   "outputs": [],
   "source": [
    "cmap = pplt.Colormap('fire_r')\n",
    "cmap_range = (0.0, 0.875)\n",
    "for keys in grouped_keys:\n",
    "    for key in keys:\n",
    "        print('Plotting', key, '...')\n",
    "        plot_combined(key, lw=0.95, cmap=cmap, cmap_range=cmap_range)\n",
    "        plt.savefig('_output/figures/matched_vs_sc_{}.png'.format(key), dpi=700)\n",
    "        plt.show()"
   ]
  },
  {
   "cell_type": "markdown",
   "metadata": {},
   "source": [
    "### Animation"
   ]
  },
  {
   "cell_type": "code",
   "execution_count": null,
   "metadata": {},
   "outputs": [],
   "source": [
    "# if animate:\n",
    "#     key = 'fodo_mode1'\n",
    "#     tracked_params_list = tracked_params_dict[key]\n",
    "#     anim = myanim.corner_env(tracked_params_list, skip=99, \n",
    "#                              cmap=cmap, cmap_range=cmap_range,\n",
    "#                              text_vals=np.linspace(0, 1, len(tracked_params_list[0])), \n",
    "#                              text_fmt='s / L = {:.2f}')\n",
    "#     play(anim)"
   ]
  },
  {
   "cell_type": "markdown",
   "metadata": {},
   "source": [
    "## Effective transfer matrix "
   ]
  },
  {
   "cell_type": "markdown",
   "metadata": {},
   "source": [
    "### Eigenvalues"
   ]
  },
  {
   "cell_type": "code",
   "execution_count": null,
   "metadata": {},
   "outputs": [],
   "source": [
    "nrows, ncols = 4, 3\n",
    "s = 17\n",
    "fontsize = 7\n",
    "marker = 'o'\n",
    "\n",
    "fig, axes = pplt.subplots(nrows=4, ncols=3, figwidth=5.75, hspace=0, wspace=0)\n",
    "myplt.set_labels(axes[0, :], ['Q = {:.2e}'.format(Q) for Q in perveances[:3]], 'title')\n",
    "\n",
    "# Plot unit circle in background\n",
    "for ax in axes:\n",
    "    myplt.unit_circle(ax, color='black', lw=0.75, alpha=0.25, zorder=0)\n",
    "    \n",
    "# Plot eigenvalues\n",
    "keys = transfer_mats_dict.keys()\n",
    "keys_solution1 = [key for key in keys if key.endswith('1')]\n",
    "keys_solution2 = [key for key in keys if key.endswith('2')]\n",
    "for i, key in enumerate(keys_solution1):\n",
    "    transfer_mat_list = transfer_mats_dict[key]\n",
    "    for ax, M in zip(axes[i, :], transfer_mat_list[:3]):\n",
    "        eigvals, eigvecs = np.linalg.eig(M)\n",
    "        myplt.eigvals_complex_plane(ax, eigvals, colors=('r','b'), \n",
    "                                    marker=marker, zorder=1, legend=False, ms=10,)\n",
    "        mu1, _, mu2, _ = np.degrees(np.arccos(eigvals.real))\n",
    "        split = 0.05\n",
    "        ax.annotate(r'$\\mu_1 = {:.2f}\\degree$'.format(mu1), xy=(0.5, 0.48 + split), \n",
    "                    xycoords='axes fraction', horizontalalignment='center', fontsize=fontsize)\n",
    "        ax.annotate(r'$\\mu_2 = {:.2f}\\degree$'.format(mu2), xy=(0.5, 0.48 - split), \n",
    "                    xycoords='axes fraction', horizontalalignment='center', fontsize=fontsize)\n",
    "        \n",
    "# Formatting\n",
    "scale = 1.5\n",
    "axes.format(\n",
    "    grid=False,\n",
    "    xlim=(-scale, scale), ylim=(-scale, scale), xlabel='Real', ylabel='Imaginary',\n",
    "    xticks=[-1, 0, 1], yticks=[-1, 0, 1],\n",
    "    leftlabels=['FODO', 'FODO\\n(split tunes)', 'FODO\\n(skew quads)', 'FODO\\n(solenoid insert)'], \n",
    "    leftlabels_kw=dict(rotation='horizontal', fontsize='medium'),\n",
    "    xminorlocator='null', yminorlocator='null',\n",
    ")\n",
    "plt.savefig('_output/figures/eigvals.png', dpi=dpi, facecolor='w')\n",
    "plt.show()"
   ]
  }
 ],
 "metadata": {
  "kernelspec": {
   "display_name": "Python 3",
   "language": "python",
   "name": "python3"
  },
  "language_info": {
   "codemirror_mode": {
    "name": "ipython",
    "version": 3
   },
   "file_extension": ".py",
   "mimetype": "text/x-python",
   "name": "python",
   "nbconvert_exporter": "python",
   "pygments_lexer": "ipython3",
   "version": "3.7.6"
  },
  "toc": {
   "base_numbering": 1,
   "nav_menu": {},
   "number_sections": true,
   "sideBar": true,
   "skip_h1_title": true,
   "title_cell": "Table of Contents",
   "title_sidebar": "Contents",
   "toc_cell": false,
   "toc_position": {
    "height": "calc(100% - 180px)",
    "left": "10px",
    "top": "150px",
    "width": "273.3823547363281px"
   },
   "toc_section_display": true,
   "toc_window_display": true
  },
  "toc-autonumbering": true,
  "toc-showcode": false,
  "toc-showmarkdowntxt": false,
  "toc-showtags": false
 },
 "nbformat": 4,
 "nbformat_minor": 4
}
