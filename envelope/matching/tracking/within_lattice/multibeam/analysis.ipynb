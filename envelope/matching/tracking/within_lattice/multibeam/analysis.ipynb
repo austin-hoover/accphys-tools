{
 "cells": [
  {
   "cell_type": "markdown",
   "metadata": {},
   "source": [
    "# Setup"
   ]
  },
  {
   "cell_type": "markdown",
   "metadata": {},
   "source": [
    "## Imports "
   ]
  },
  {
   "cell_type": "code",
   "execution_count": null,
   "metadata": {},
   "outputs": [],
   "source": [
    "import sys\n",
    "import numpy as np\n",
    "import pandas as pd\n",
    "import matplotlib\n",
    "from matplotlib import pyplot as plt\n",
    "from matplotlib.lines import Line2D\n",
    "import proplot as plot\n",
    "\n",
    "sys.path.append('/Users/46h/Research/code/accphys') \n",
    "from tools import beam_analysis as ba\n",
    "from tools import plotting as myplt\n",
    "from tools.plotting import save, set_labels\n",
    "from tools import animation as myanim\n",
    "from tools import utils\n",
    "from tools.utils import show, play, file_exists\n",
    "from tools.accphys_utils import get_phase_adv\n",
    "from tools.plot_utils import moment_label, moment_label_string"
   ]
  },
  {
   "cell_type": "markdown",
   "metadata": {},
   "source": [
    "## Settings\n",
    "Here are the available [stylesheets](https://matplotlib.org/3.1.1/gallery/style_sheets/style_sheets_reference.html) and [color cycles](https://proplot.readthedocs.io/en/latest/cycles.html)."
   ]
  },
  {
   "cell_type": "code",
   "execution_count": null,
   "metadata": {},
   "outputs": [],
   "source": [
    "# Plotting\n",
    "plt_kws = dict(legend=False, xlabel='s / L')\n",
    "plot.rc['figure.facecolor'] = 'white'\n",
    "plot.rc['grid.alpha'] = 0.04\n",
    "plot.rc['style'] = None \n",
    "plot.rc['savefig.dpi'] = 'figure' \n",
    "plot.rc['animation.html'] = 'jshtml'\n",
    "dpi = 500\n",
    "fig_dir = '_output/figures/'\n",
    "colors = ['red7', 'blue7']\n",
    "\n",
    "# Animation\n",
    "animate = True\n",
    "skip = 5\n",
    "fps = 5"
   ]
  },
  {
   "cell_type": "code",
   "execution_count": null,
   "metadata": {},
   "outputs": [],
   "source": [
    "file = open('_output/figures/figure_column_titles.txt', 'r')\n",
    "titles = file.read().split('/')\n",
    "file.close()\n",
    "\n",
    "width, height = 6, 2.5\n",
    "\n",
    "def two_column_figure(nrows=1):\n",
    "    h = nrows * height - (0.75 * (nrows - 1))\n",
    "    figsize = (width, h)\n",
    "    fig, axes = plot.subplots(nrows=nrows, ncols=2, figsize=figsize, spany=False, aligny=True)\n",
    "    axes.format(collabels=titles, xlabel='s / L')\n",
    "    return fig, axes"
   ]
  },
  {
   "cell_type": "markdown",
   "metadata": {},
   "source": [
    "## Read Data"
   ]
  },
  {
   "cell_type": "code",
   "execution_count": null,
   "metadata": {},
   "outputs": [],
   "source": [
    "modes = np.loadtxt('_output/data/modes.txt').astype(int)\n",
    "env_params_list = [np.load('_output/data/env_params{}.npy'.format(i)) for i in (1, 2)]\n",
    "transfer_matrices = [np.load('_output/data/transfer_matrix{}.npy'.format(i)) for i in (1, 2)]\n",
    "positions = np.load('_output/data/positions.npy')\n",
    "positions_normed = positions / positions[-1]"
   ]
  },
  {
   "cell_type": "code",
   "execution_count": null,
   "metadata": {},
   "outputs": [],
   "source": [
    "stats_list = []\n",
    "for env_params, mode in zip(env_params_list, modes):\n",
    "    stats = ba.Stats(mode)\n",
    "    stats.read_env(env_params)\n",
    "    # Compute phase advance\n",
    "    beta_x = stats.twiss2D.loc[:, 'bx'].values\n",
    "    beta_y = stats.twiss2D.loc[:, 'by'].values\n",
    "    stats.twiss2D['mux'] = get_phase_adv(beta_x, positions, units='deg')\n",
    "    stats.twiss2D['muy'] = get_phase_adv(beta_y, positions, units='deg')\n",
    "    # Add position column\n",
    "    for df in stats.dfs():\n",
    "        df['s'] = positions\n",
    "        df['s/L'] = positions_normed\n",
    "    stats_list.append(stats)"
   ]
  },
  {
   "cell_type": "markdown",
   "metadata": {},
   "source": [
    "# Twiss parameters"
   ]
  },
  {
   "cell_type": "markdown",
   "metadata": {},
   "source": [
    "## 2D Twiss "
   ]
  },
  {
   "cell_type": "code",
   "execution_count": null,
   "metadata": {},
   "outputs": [],
   "source": [
    "fig, axes = two_column_figure(nrows=3)\n",
    "for i, stats in enumerate(stats_list):\n",
    "    stats.twiss2D[['s/L','bx','by']].plot('s/L', ax=axes[0, i], **plt_kws)\n",
    "    stats.twiss2D[['s/L','ax','ay']].plot('s/L', ax=axes[1, i], **plt_kws)\n",
    "    stats.twiss2D[['s/L','ex', 'ey']].plot('s/L', ax=axes[2, i], **plt_kws)\n",
    "ylabels = [r'$\\beta$ [m]', r'$\\alpha$ [rad]', r'$\\varepsilon$ [mm$\\,$mrad]']\n",
    "set_labels(axes[:, 0], ylabels, 'ylabel')\n",
    "save('twiss2D', fig_dir, dpi=dpi)"
   ]
  },
  {
   "cell_type": "markdown",
   "metadata": {},
   "source": [
    "## 4D Twiss "
   ]
  },
  {
   "cell_type": "code",
   "execution_count": null,
   "metadata": {},
   "outputs": [],
   "source": [
    "fig, axes = two_column_figure(nrows=3)\n",
    "for i, stats in enumerate(stats_list):\n",
    "    stats.twiss4D[['s/L','bx','by']].plot('s/L', ax=axes[0, i], **plt_kws)\n",
    "    stats.twiss4D[['s/L','ax','ay']].plot('s/L', ax=axes[1, i], **plt_kws)\n",
    "    stats.twiss4D[['s/L', 'u']].plot('s/L', ax=axes[2, i], color='k', **plt_kws)\n",
    "ylabels = [r'$\\beta$ [m]', r'$\\alpha$ [rad]', 'u']\n",
    "set_labels(axes[:, 0], ylabels, 'ylabel')\n",
    "save('twiss4D', fig_dir, dpi=dpi)"
   ]
  },
  {
   "cell_type": "markdown",
   "metadata": {},
   "source": [
    "## Phase advance "
   ]
  },
  {
   "cell_type": "code",
   "execution_count": null,
   "metadata": {},
   "outputs": [],
   "source": [
    "fig, axes = two_column_figure(nrows=1)\n",
    "for ax, stats in zip(axes, stats_list):\n",
    "    stats.twiss2D[['s/L','mux','muy']].plot('s/L', ax=ax, **plt_kws)\n",
    "ax.format(ylabel='Phase advance', yformatter='deg')\n",
    "save('phase_adv', fig_dir, dpi=dpi)"
   ]
  },
  {
   "cell_type": "markdown",
   "metadata": {},
   "source": [
    "## Phase diff (nu) "
   ]
  },
  {
   "cell_type": "code",
   "execution_count": null,
   "metadata": {},
   "outputs": [],
   "source": [
    "fig, axes = two_column_figure(nrows=1)\n",
    "for ax, stats in zip(axes, stats_list):\n",
    "    stats.twiss4D[['s/L','nu']].plot('s/L', ax=ax, color='k', **plt_kws)\n",
    "axes.format(ylabel=r'$\\nu$', yformatter='deg')\n",
    "save('twiss4D-nu', fig_dir, dpi=dpi)"
   ]
  },
  {
   "cell_type": "markdown",
   "metadata": {},
   "source": [
    "# Moments "
   ]
  },
  {
   "cell_type": "code",
   "execution_count": null,
   "metadata": {},
   "outputs": [],
   "source": [
    "fig, axes = two_column_figure(nrows=1)\n",
    "for ax, stats in zip(axes, stats_list):\n",
    "    stats.moments[['s/L','x_rms','y_rms']].plot('s/L', ax=ax, **plt_kws)\n",
    "ax.format(ylabel='Beam size [mm]')\n",
    "save('beamsize', fig_dir, dpi=dpi)"
   ]
  },
  {
   "cell_type": "code",
   "execution_count": null,
   "metadata": {},
   "outputs": [],
   "source": [
    "fig, axes = two_column_figure(nrows=1)\n",
    "for ax, stats in zip(axes, stats_list):\n",
    "    stats.moments[['s/L','xp_rms','yp_rms']].plot('s/L', ax=ax, **plt_kws)\n",
    "ax.format(ylabel='Beam div. [mm]')\n",
    "save('beamdiv', fig_dir, dpi=dpi)"
   ]
  },
  {
   "cell_type": "code",
   "execution_count": null,
   "metadata": {},
   "outputs": [],
   "source": [
    "fig, axes = plot.subplots(nrows=4, ncols=4, sharey=False, figsize=(8, 6), spany=False, aligny=True)\n",
    "myplt.make_lower_triangular(axes)\n",
    "for i in range(4):\n",
    "    for j in range(i + 1):\n",
    "        ax = axes[i, j]\n",
    "        ax.format(title=moment_label_string(i, j))\n",
    "        col = moment_label(i, j)\n",
    "        for stats, color in zip(stats_list, colors):\n",
    "            stats.moments[['s/L', col]].plot('s/L', ax=ax, color=color, **plt_kws)\n",
    "set_labels(axes[0:, 0], [r'[mm$^2$]', r'[mm$\\cdot$mrad]', r'[mm$^2$]', r'mm$\\cdot$mrad'], 'ylabel')\n",
    "set_labels(axes[1:, 1], [r'[mrad$^2$]', r'[mm$\\cdot$mrad]', r'[mrad$^2$]'], 'ylabel')\n",
    "set_labels(axes[2:, 2], [r'[mm$^2$]', r'[mm$\\cdot$mrad]'], 'ylabel')\n",
    "set_labels(axes[3:, 3], [r'[mrad$^2$]'], 'ylabel')\n",
    "custom_lines = [Line2D([0], [0], color=colors[0]),\n",
    "                Line2D([0], [0], color=colors[1])]\n",
    "axes[0, 1].legend(custom_lines, titles, ncols=1)\n",
    "axes.format(xlabel='s / L', suptitle='Transverse moments', grid=False)\n",
    "save('all_moments', fig_dir, dpi=dpi)"
   ]
  },
  {
   "cell_type": "code",
   "execution_count": null,
   "metadata": {},
   "outputs": [],
   "source": [
    "fig, axes = plot.subplots(nrows=4, ncols=4, sharey=False, figsize=(8, 6), spany=False, aligny=True)\n",
    "myplt.make_lower_triangular(axes)\n",
    "for i in range(4):\n",
    "    for j in range(i + 1):\n",
    "        ax = axes[i, j]\n",
    "        ax.format(title=moment_label_string(i, j))\n",
    "        col = moment_label(i, j)\n",
    "        for stats, color in zip(stats_list, colors):\n",
    "            stats.moments[['s/L', col]].plot('s/L', ax=ax, color=color, **plt_kws)\n",
    "custom_lines = [Line2D([0], [0], color=colors[0]),\n",
    "                Line2D([0], [0], color=colors[1])]\n",
    "axes[0, 1].legend(custom_lines, titles, ncols=1)\n",
    "axes.format(xlabel='s / L', suptitle='Transverse correlations', grid=False)\n",
    "save('all_correlations', fig_dir, dpi=dpi)"
   ]
  },
  {
   "cell_type": "markdown",
   "metadata": {},
   "source": [
    "# Beam orientation"
   ]
  },
  {
   "cell_type": "code",
   "execution_count": null,
   "metadata": {},
   "outputs": [],
   "source": [
    "fig, axes = two_column_figure(nrows=3)\n",
    "for i, stats in enumerate(stats_list):\n",
    "    stats.realspace[['s/L','angle']].plot('s/L', ax=axes[0, i], color='k', **plt_kws)\n",
    "    stats.realspace[['s/L','cx','cy']].plot('s/L', ax=axes[1, i], **plt_kws)\n",
    "    stats.realspace[['s/L','area_rel']].plot('s/L', ax=axes[2, i], color='k', **plt_kws)\n",
    "ylabels = ['tilt angle [deg]', 'ellipse axes [mm]', 'area [frac. change]']\n",
    "set_labels(axes[:, 0], ylabels, 'ylabel')\n",
    "save('realspace_orientation', fig_dir, dpi=dpi)"
   ]
  },
  {
   "cell_type": "markdown",
   "metadata": {},
   "source": [
    "# Phase space projections \n",
    "Show the beam at the lattice entrance."
   ]
  },
  {
   "cell_type": "markdown",
   "metadata": {},
   "source": [
    "## Snapshots "
   ]
  },
  {
   "cell_type": "code",
   "execution_count": null,
   "metadata": {},
   "outputs": [],
   "source": [
    "for i, env_params in enumerate(env_params_list):\n",
    "    axes = myplt.corner_env(env_params[[0, -1]], cmap=plot.Colormap(['k','r']),\n",
    "                            legend_kws=dict(labels=['initial','final'], loc=(1, 1)))\n",
    "    plt.suptitle(titles[i])\n",
    "    save('init_final_{}'.format(titles[i]), fig_dir, dpi=dpi)"
   ]
  },
  {
   "cell_type": "markdown",
   "metadata": {},
   "source": [
    "## Animation"
   ]
  },
  {
   "cell_type": "code",
   "execution_count": null,
   "metadata": {},
   "outputs": [],
   "source": [
    "if animate:\n",
    "    anim = myanim.corner_env(env_params_list, skip=skip, cmap=plot.Colormap(colors), fps=fps,\n",
    "                             text_vals=positions_normed, text_fmt='s / L = {:.2f}')\n",
    "    play(anim)"
   ]
  },
  {
   "cell_type": "markdown",
   "metadata": {},
   "source": [
    "# Transfer matrix "
   ]
  },
  {
   "cell_type": "markdown",
   "metadata": {},
   "source": [
    "## Eigenvalues "
   ]
  },
  {
   "cell_type": "code",
   "execution_count": null,
   "metadata": {},
   "outputs": [],
   "source": [
    "psi = np.linspace(0, 2*np.pi, 50)\n",
    "x_circ, y_circ = np.cos(psi), np.sin(psi)\n",
    "\n",
    "fig, axes = plot.subplots(ncols=2, figsize=(4.5, 2.75))\n",
    "set_labels(axes, titles, 'title')\n",
    "scale = 1.25\n",
    "axes.format(grid=False, \n",
    "            xlocator=('maxn', 5), ylocator=('maxn', 5),\n",
    "            ylim=(-scale, scale), xlim=(-scale, scale), \n",
    "            xlabel='Real', ylabel='Imag', \n",
    "            suptitle='Transfer matrix eigenvalues')\n",
    "\n",
    "for ax, M in zip(axes, transfer_matrices):\n",
    "    eigvals = np.linalg.eigvals(M)\n",
    "    eigtunes = np.degrees(np.arccos(eigvals.real))\n",
    "    ax.plot(x_circ, y_circ, 'k--', lw=1, zorder=0)\n",
    "    ax.scatter(eigvals.real, eigvals.imag, c=['r','r','b','b'])\n",
    "    ax.annotate(r'$\\mu_1 = {:.2f}\\degree$'.format(eigtunes[0]), xy=(0, +0.1),\n",
    "                horizontalalignment='center')\n",
    "    ax.annotate(r'$\\mu_2 = {:.2f}\\degree$'.format(eigtunes[2]), xy=(0, -0.1),\n",
    "                horizontalalignment='center')\n",
    "    \n",
    "for ax in axes:\n",
    "    ax.invert_xaxis()\n",
    "save('eigvals', fig_dir, dpi=dpi)"
   ]
  },
  {
   "cell_type": "markdown",
   "metadata": {},
   "source": [
    "## Eigenvectors \n",
    "Note: the plot windows are not square."
   ]
  },
  {
   "cell_type": "code",
   "execution_count": null,
   "metadata": {},
   "outputs": [],
   "source": [
    "for M, title in zip(transfer_matrices, titles):\n",
    "    \n",
    "    # Set up figure\n",
    "    fig, axes = plot.subplots(nrows=3, ncols=3, figsize=(5, 5), span=False)\n",
    "    axes.format(grid=True, suptitle='{}: transfer matrix eigenvectors'.format(title),\n",
    "                xlocator=('maxn', 3), ylocator=('maxn', 3))\n",
    "    myplt.make_lower_triangular(axes)\n",
    "    myplt.despine(axes)\n",
    "\n",
    "    labels = [\"x\", \"x'\", \"y\", \"y'\"]\n",
    "    xlabels, ylabels = labels[:-1], labels[1:]\n",
    "    set_labels(axes[-1, :], xlabels, 'xlabel')\n",
    "    set_labels(axes[:, 0], ylabels, 'ylabel')\n",
    "\n",
    "    # Plot eigenvectors and their trajectories\n",
    "    for i in range(3):\n",
    "        for j in range(3):\n",
    "            if i >= j:\n",
    "                ax = axes[i, j]\n",
    "                yvar = ['xp', 'y', 'yp'][i]\n",
    "                xvar = ['x', 'y', 'xp'][j]\n",
    "                myplt.eigvec_trajectory(ax, M, xvar, yvar, s=7, lw=1)\n",
    "\n",
    "    # Zoom out a bit\n",
    "    for i in range(3):\n",
    "        ymin, ymax = axes[i, 0].get_ylim()\n",
    "        xmin, xmax = axes[-1, i].get_xlim()\n",
    "        scale = 1.2\n",
    "        axes[i, :].format(ylim=(-scale*ymax, scale*ymax))\n",
    "        axes[:, i].format(xlim=(-scale*xmax, scale*xmax))\n",
    "\n",
    "    save('eigvecs', fig_dir, dpi=dpi)"
   ]
  },
  {
   "cell_type": "code",
   "execution_count": null,
   "metadata": {},
   "outputs": [],
   "source": []
  }
 ],
 "metadata": {
  "kernelspec": {
   "display_name": "Python 3",
   "language": "python",
   "name": "python3"
  },
  "language_info": {
   "codemirror_mode": {
    "name": "ipython",
    "version": 3
   },
   "file_extension": ".py",
   "mimetype": "text/x-python",
   "name": "python",
   "nbconvert_exporter": "python",
   "pygments_lexer": "ipython3",
   "version": "3.7.6"
  },
  "toc": {
   "base_numbering": 1,
   "nav_menu": {},
   "number_sections": true,
   "sideBar": true,
   "skip_h1_title": true,
   "title_cell": "Table of Contents",
   "title_sidebar": "Contents",
   "toc_cell": false,
   "toc_position": {
    "height": "calc(100% - 180px)",
    "left": "10px",
    "top": "150px",
    "width": "273.3823547363281px"
   },
   "toc_section_display": true,
   "toc_window_display": true
  },
  "toc-autonumbering": true,
  "toc-showcode": false,
  "toc-showmarkdowntxt": false,
  "toc-showtags": false
 },
 "nbformat": 4,
 "nbformat_minor": 4
}
