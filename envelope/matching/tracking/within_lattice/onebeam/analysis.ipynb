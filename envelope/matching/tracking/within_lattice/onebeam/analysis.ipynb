{
 "cells": [
  {
   "cell_type": "markdown",
   "metadata": {},
   "source": [
    "# Setup"
   ]
  },
  {
   "cell_type": "markdown",
   "metadata": {},
   "source": [
    "## Imports "
   ]
  },
  {
   "cell_type": "code",
   "execution_count": null,
   "metadata": {},
   "outputs": [],
   "source": [
    "import sys\n",
    "import numpy as np\n",
    "import pandas as pd\n",
    "import matplotlib\n",
    "from matplotlib import pyplot as plt\n",
    "import proplot as plot\n",
    "\n",
    "sys.path.append('/Users/46h/Research/code/accphys') \n",
    "from tools import beam_analysis as ba\n",
    "from tools import plotting as myplt\n",
    "from tools.plotting import save, set_labels\n",
    "from tools import animation as myanim\n",
    "from tools import utils\n",
    "from tools.utils import show, play, file_exists\n",
    "from tools.accphys_utils import get_phase_adv\n",
    "from tools.plot_utils import moment_label, moment_label_string"
   ]
  },
  {
   "cell_type": "markdown",
   "metadata": {},
   "source": [
    "## Settings"
   ]
  },
  {
   "cell_type": "markdown",
   "metadata": {},
   "source": [
    "### Plotting "
   ]
  },
  {
   "cell_type": "code",
   "execution_count": null,
   "metadata": {},
   "outputs": [],
   "source": [
    "# Plotting\n",
    "plt_kws = dict(legend=False, xlabel='s / L')\n",
    "plot.rc['figure.facecolor'] = 'white'\n",
    "plot.rc['grid.alpha'] = 0.04\n",
    "plot.rc['style'] = None \n",
    "plot.rc['savefig.dpi'] = 'figure' \n",
    "plot.rc['animation.html'] = 'jshtml'\n",
    "dpi = 500\n",
    "\n",
    "# Animation\n",
    "animate = True\n",
    "skip = 10\n",
    "fps = 3"
   ]
  },
  {
   "cell_type": "code",
   "execution_count": null,
   "metadata": {},
   "outputs": [],
   "source": [
    "width, height = 3.5, 2.5\n",
    "\n",
    "def setup_figure(opt=1):\n",
    "    \"\"\"Convenience function to create subplots.\"\"\"\n",
    "    if opt == 1:\n",
    "        nrows, ncols, figsize = 1, 1, (width, height)\n",
    "    elif opt == 2:\n",
    "        nrows, ncols, figsize = 3, 1, (width, 2*height)\n",
    "    elif opt == 3:\n",
    "        nrows, ncols, figsize = 3, 2, (1.6*width, 2*height)\n",
    "    elif opt == 4:\n",
    "        nrows, ncols, figsize = 1, 2, (7, 2.5)\n",
    "    fig, axes = plot.subplots(nrows=nrows, ncols=ncols, figsize=figsize, spany=False, aligny=True)\n",
    "    axes.format(xlabel='s / L')\n",
    "    return fig, axes"
   ]
  },
  {
   "cell_type": "markdown",
   "metadata": {},
   "source": [
    "### Files "
   ]
  },
  {
   "cell_type": "code",
   "execution_count": null,
   "metadata": {},
   "outputs": [],
   "source": [
    "# Data file locations\n",
    "files = {\n",
    "    'positions': '_output/data/position.npy', \n",
    "    'env_params': '_output/data/envelope/env_params.npy',\n",
    "    'testbunch_coords': '_output/data/envelope/testbunch_coords.npy',\n",
    "    'bunch_coords': '_output/data/bunch/bunch_coords.npy',\n",
    "    'bunch_moments': '_output/data/bunch/bunch_moments.npy',\n",
    "    'transfer_matrix': '_output/data/transfer_matrix.npy'\n",
    "}\n",
    "# Check if files exist\n",
    "files_exist = {key: file_exists(file) for key, file in files.items()}\n",
    "\n",
    "# Directories in which to save the figures\n",
    "dirs = {\n",
    "    'env': './_output/figures/envelope/',\n",
    "    'bunch': './_output/figures/bunch/',\n",
    "    'comparison': './_output/figures/comparison/'\n",
    "}"
   ]
  },
  {
   "cell_type": "markdown",
   "metadata": {},
   "source": [
    "# Bare lattice optics "
   ]
  },
  {
   "cell_type": "code",
   "execution_count": null,
   "metadata": {},
   "outputs": [],
   "source": [
    "lattice_twiss = np.load('_output/data/twiss.npy')\n",
    "lattice_twiss = pd.DataFrame(lattice_twiss, columns=['s','nux','nuy','ax','ay','bx','by'])\n",
    "\n",
    "fig, ax = plot.subplots(figsize=(8, 2))\n",
    "lattice_twiss[['s','bx','by']].plot('s', ax=ax, legend=False)\n",
    "ax.format(xlabel='s [m]', ylabel=r'$\\beta$ [m]')\n",
    "ax.legend(labels=[r'$\\beta_x$', r'$\\beta_y$'], ncols=1);\n",
    "save('bare_optics', dirs['env'], dpi=dpi)"
   ]
  },
  {
   "cell_type": "markdown",
   "metadata": {},
   "source": [
    "# Envelope"
   ]
  },
  {
   "cell_type": "code",
   "execution_count": null,
   "metadata": {},
   "outputs": [],
   "source": [
    "mode = int(np.loadtxt('_output/data/mode.txt'))\n",
    "env_params_list = np.load(files['env_params'])\n",
    "positions = np.load(files['positions'])\n",
    "\n",
    "env_stats = ba.Stats(mode)\n",
    "env_stats.read_env(env_params_list)\n",
    "\n",
    "# Add columns\n",
    "env_stats.twiss2D['mux'] = get_phase_adv(env_stats.twiss2D['bx'], positions, units='deg')\n",
    "env_stats.twiss2D['muy'] = get_phase_adv(env_stats.twiss2D['by'], positions, units='deg')\n",
    "\n",
    "# Add position column\n",
    "positions_normed = positions / positions[-1]\n",
    "for df in env_stats.dfs():\n",
    "    df['s'] = positions\n",
    "    df['s/L'] = positions_normed"
   ]
  },
  {
   "cell_type": "markdown",
   "metadata": {},
   "source": [
    "### Effective lattice "
   ]
  },
  {
   "cell_type": "code",
   "execution_count": null,
   "metadata": {},
   "outputs": [],
   "source": [
    "def getk(k0, s_over_L):\n",
    "    if s_over_L < 0.125 or s_over_L >= 0.875:\n",
    "        return +k0\n",
    "    elif 0.375 <= s_over_L < 0.625:\n",
    "        return -k0\n",
    "    else:\n",
    "        return 0\n",
    "\n",
    "Q = np.loadtxt('_output/data/perveance.txt')\n",
    "k0 = 0.505 # [m^-2]\n",
    "cx = 0.001 * env_stats.realspace.loc[:, 'cx'].values\n",
    "cy = 0.001 * env_stats.realspace.loc[:, 'cy'].values\n",
    "phi = np.radians(env_stats.realspace.loc[:, 'angle'].values)\n",
    "k0xx = np.array([getk(k0, s) for s in positions_normed])\n",
    "k0yy = -k0xx\n",
    "k0xy = [0] * len(k0xx)\n",
    "k0yx = [0] * len(k0xx)\n",
    "\n",
    "cos, sin = np.cos(phi), np.sin(phi)\n",
    "cos2, sin2, sincos = cos**2, sin**2, sin*cos\n",
    "kxx = k0xx - ((Q / (cx + cy)) * (cos2/cx + sin2/cy))\n",
    "kyy = k0yy - ((Q / (cx + cy)) * (cos2/cy + sin2/cx))\n",
    "kxy =- ((Q / (cx + cy)) * (1/cy - 1/cx) * sincos)\n",
    "kyx =- ((Q / (cx + cy)) * (1/cy - 1/cx) * sincos)\n",
    "\n",
    "fig, axes = plot.subplots(nrows=3, ncols=1, figsize=(5, 4), spany=False, aligny=True)\n",
    "scale = 400\n",
    "for k0, k, ax in zip([k0xx, k0yy, k0xy], [kxx, kyy, kxy], axes):\n",
    "    ax.plot(positions_normed, k0, color='grey', ls='--', lw=1)\n",
    "    ax.plot(positions_normed, k, color='pink5')\n",
    "axes.format(xlabel='s / L')\n",
    "myplt.set_labels(axes[:, 0], [r'$k_{x}$ [m$^{-2}$]', r'$k_{y}$ [m$^{-2}$]', r'$k_{xy}$ [m$^{-2}$]'], 'ylabel')\n",
    "axes[-1].legend(labels=['Bare lattice', 'Effective lattice'], ncols=1, loc=(1.02, 0));\n",
    "\n",
    "for ax in axes:\n",
    "    ymax = max(np.abs(ax.get_ylim()))\n",
    "    ax.format(ylim=(-ymax, ymax))\n",
    "\n",
    "save('effective_lattice', dirs['env'], dpi=dpi)"
   ]
  },
  {
   "cell_type": "markdown",
   "metadata": {},
   "source": [
    "## Twiss parameters "
   ]
  },
  {
   "cell_type": "markdown",
   "metadata": {},
   "source": [
    "### 2D Twiss"
   ]
  },
  {
   "cell_type": "code",
   "execution_count": null,
   "metadata": {},
   "outputs": [],
   "source": [
    "fig, axes = setup_figure(2)\n",
    "env_stats.twiss2D[['s/L','bx','by']].plot('s/L', ax=axes[0], **plt_kws)\n",
    "env_stats.twiss2D[['s/L','ax','ay']].plot('s/L', ax=axes[1], **plt_kws)\n",
    "env_stats.twiss2D[['s/L','ex', 'ey']].plot('s/L', ax=axes[2], **plt_kws)\n",
    "set_labels(axes, [r'$\\beta$ [m]', r'$\\alpha$ [rad]', r'$\\varepsilon$ [mm $\\cdot$ mrad]'], 'ylabel')\n",
    "save('twiss2D', dirs['env'], dpi=dpi)"
   ]
  },
  {
   "cell_type": "markdown",
   "metadata": {},
   "source": [
    "### 4D Twiss "
   ]
  },
  {
   "cell_type": "code",
   "execution_count": null,
   "metadata": {},
   "outputs": [],
   "source": [
    "fig, axes = setup_figure(2)\n",
    "env_stats.twiss4D[['s/L','bx','by']].plot('s/L', ax=axes[0], **plt_kws)\n",
    "env_stats.twiss4D[['s/L','ax','ay']].plot('s/L', ax=axes[1], **plt_kws)\n",
    "env_stats.twiss4D[['s/L','u']].plot('s/L', ax=axes[2], color='k', **plt_kws)\n",
    "set_labels(axes, [r'$\\beta$ [m]', r'$\\alpha$ [rad]', 'u'], 'ylabel')\n",
    "save('twiss4D', dirs['env'], dpi=dpi)"
   ]
  },
  {
   "cell_type": "markdown",
   "metadata": {},
   "source": [
    "### Emittance "
   ]
  },
  {
   "cell_type": "code",
   "execution_count": null,
   "metadata": {},
   "outputs": [],
   "source": [
    "fig, ax = plot.subplots(figsize=(4.5, 2.5))\n",
    "env_stats.twiss2D[['s/L','ex','ey']].plot('s/L', ax=ax, **plt_kws)\n",
    "env_stats.twiss4D[['s/L','e1','e2']].plot('s/L', ax=ax, **plt_kws)\n",
    "ax.format(ylabel=r'$\\varepsilon$ [mm $\\cdot$ mrad]')\n",
    "ax.legend(labels=[r'$\\varepsilon_x$', r'$\\varepsilon_y$', r'$\\varepsilon_1$', r'$\\varepsilon_2$'], \n",
    "          ncols=1, loc=(1.01, 0))\n",
    "save('emittance', dirs['env'], dpi=dpi)"
   ]
  },
  {
   "cell_type": "markdown",
   "metadata": {},
   "source": [
    "### Phase advance \n",
    "The phase advance in the $x$ dimension is found by integrating the beam size and  emittance: \n",
    "\n",
    "$$\\mu_x(s) = \\int_{0}^{s}{\\frac{\\varepsilon_x(s')}{{\\tilde{x}(s')}^2}} ds',$$\n",
    "\n",
    "where $\\tilde{x} = \\sqrt{\\langle{x^2}\\rangle}$ and $s$ is the position in the lattice. The same expression holds with $x \\longleftrightarrow y$."
   ]
  },
  {
   "cell_type": "code",
   "execution_count": null,
   "metadata": {},
   "outputs": [],
   "source": [
    "fig, ax = setup_figure(1)\n",
    "env_stats.twiss2D[['s/L','mux','muy']].plot('s/L', ax=ax, **plt_kws)\n",
    "ax.format(ylabel='Phase advance', yformatter='deg')\n",
    "save('phase_adv', dirs['env'], dpi=dpi)"
   ]
  },
  {
   "cell_type": "markdown",
   "metadata": {},
   "source": [
    "### Phase difference (nu)\n",
    "The difference between every particle's $x$ and $y$ phases is related the the shape of the beam in real space as\n",
    "\n",
    "$$\n",
    "\\cos\\nu = \\frac{\\langle{xy}\\rangle}{\\sqrt{\\langle{x^2}\\rangle\\langle{y^2}\\rangle}}\n",
    "$$"
   ]
  },
  {
   "cell_type": "code",
   "execution_count": null,
   "metadata": {},
   "outputs": [],
   "source": [
    "fig, ax = setup_figure(1)\n",
    "env_stats.twiss4D[['s/L','nu']].plot('s/L', ax=ax, color='k', **plt_kws)\n",
    "ax.format(ylabel=r'$\\nu$', yformatter='deg')\n",
    "save('twiss4D-nu', dirs['env'], dpi=dpi)"
   ]
  },
  {
   "cell_type": "markdown",
   "metadata": {},
   "source": [
    "## Moments "
   ]
  },
  {
   "cell_type": "code",
   "execution_count": null,
   "metadata": {},
   "outputs": [],
   "source": [
    "fig, ax = setup_figure(1)\n",
    "env_stats.moments[['s/L','x_rms','y_rms']].plot('s/L', ax=ax, **plt_kws)\n",
    "ax.format(ylabel='Beam size [mm]')\n",
    "save('beamsize', dirs['env'], dpi=dpi)"
   ]
  },
  {
   "cell_type": "code",
   "execution_count": null,
   "metadata": {},
   "outputs": [],
   "source": [
    "fig, ax = setup_figure(1)\n",
    "env_stats.moments[['s/L','xp_rms','yp_rms']].plot('s/L', ax=ax, **plt_kws)\n",
    "ax.format(ylabel='Beam divergence [mrad]')\n",
    "save('beamdiv', dirs['env'], dpi=dpi)"
   ]
  },
  {
   "cell_type": "code",
   "execution_count": null,
   "metadata": {},
   "outputs": [],
   "source": [
    "fig, axes = plot.subplots(nrows=4, ncols=4, sharey=False, figsize=(8, 6), \n",
    "                          spany=False, aligny=True)\n",
    "myplt.make_lower_triangular(axes)\n",
    "axes.format(xlabel='s / L', suptitle='Transverse moments', titleborder=True)\n",
    "\n",
    "for i in range(4):\n",
    "    for j in range(i + 1):\n",
    "        ax = axes[i, j]\n",
    "        col = moment_label(i, j)\n",
    "        env_stats.moments[['s/L',col]].plot('s/L', ax=ax, color='k', **plt_kws)\n",
    "        ax.format(title=moment_label_string(i, j))\n",
    "\n",
    "set_labels(axes[0:, 0], [r'[mm$^2$]', r'[mm$\\cdot$mrad]', r'[mm$^2$]', r'mm$\\cdot$mrad'], 'ylabel')\n",
    "set_labels(axes[1:, 1], [r'[mrad$^2$]', r'[mm$\\cdot$mrad]', r'[mrad$^2$]'], 'ylabel')\n",
    "set_labels(axes[2:, 2], [r'[mm$^2$]', r'[mm$\\cdot$mrad]'], 'ylabel')\n",
    "set_labels(axes[3:, 3], [r'[mrad$^2$]'], 'ylabel')\n",
    "save('all_moments', dirs['env'], dpi=dpi)"
   ]
  },
  {
   "cell_type": "code",
   "execution_count": null,
   "metadata": {},
   "outputs": [],
   "source": [
    "fig, axes = plot.subplots(nrows=4, ncols=4, sharey=False, figsize=(8, 6), \n",
    "                          spany=False, aligny=True)\n",
    "myplt.make_lower_triangular(axes)\n",
    "axes.format(suptitle='Transverse correlations', titleborder=True)\n",
    "\n",
    "for i in range(4):\n",
    "    for j in range(i + 1):\n",
    "        ax = axes[i, j]\n",
    "        col = moment_label(i, j)\n",
    "        env_stats.corr[['s/L', col]].plot('s/L', ax=ax, color='k', **plt_kws)\n",
    "        ax.format(title=moment_label_string(i, j))\n",
    "\n",
    "save('all_correlations', dirs['env'], dpi=dpi)"
   ]
  },
  {
   "cell_type": "markdown",
   "metadata": {},
   "source": [
    "## Real space orientation"
   ]
  },
  {
   "cell_type": "code",
   "execution_count": null,
   "metadata": {},
   "outputs": [],
   "source": [
    "fig, axes = setup_figure(2)\n",
    "env_stats.realspace[['s/L','angle']].plot('s/L', color='k', ax=axes[0], **plt_kws)\n",
    "env_stats.realspace[['s/L','cx','cy']].plot('s/L', ax=axes[1], **plt_kws)\n",
    "env_stats.realspace[['s/L','area_rel']].plot('s/L', ax=axes[2], color='k', **plt_kws)\n",
    "set_labels(axes, ['tilt angle', 'ellipse axes [mm]', 'area [frac. change]'], 'ylabel')\n",
    "axes[0].format(yformatter='deg')\n",
    "save('realspace_ellipse', dirs['env'], dpi=dpi)"
   ]
  },
  {
   "cell_type": "markdown",
   "metadata": {},
   "source": [
    "## Phase space projections "
   ]
  },
  {
   "cell_type": "code",
   "execution_count": null,
   "metadata": {},
   "outputs": [],
   "source": [
    "axes = myplt.corner_env(\n",
    "    env_params_list[[0, -1]], cmap=plot.Colormap(('red7', 'blue7')),\n",
    "    legend_kws=dict(labels=['initial','final'], loc=(1, 1))\n",
    ")\n",
    "save('init_final', dirs['env'], dpi=dpi)"
   ]
  },
  {
   "cell_type": "code",
   "execution_count": null,
   "metadata": {},
   "outputs": [],
   "source": [
    "if animate:\n",
    "    myanim.corner_env(env_params_list, skip=skip, fps=fps, figsize=5,\n",
    "                      text_vals=positions_normed, text_fmt='s / L = {:.2f}')"
   ]
  },
  {
   "cell_type": "markdown",
   "metadata": {},
   "source": [
    "## Transfer matrix "
   ]
  },
  {
   "cell_type": "code",
   "execution_count": null,
   "metadata": {},
   "outputs": [],
   "source": [
    "if files_exist['transfer_matrix']:\n",
    "    M = np.load(files['transfer_matrix'])\n",
    "    M_eigvals, M_eigvecs = np.linalg.eig(M)\n",
    "    M_eigtunes = np.degrees(np.arccos(M_eigvals.real))\n",
    "\n",
    "    show(M, 'M')\n",
    "    print()\n",
    "    show(M_eigvals[[0, 2]], 'eigenvalues')\n",
    "    print()\n",
    "    show(M_eigtunes[[0, 2]], 'eigentunes [deg]')"
   ]
  },
  {
   "cell_type": "code",
   "execution_count": null,
   "metadata": {},
   "outputs": [],
   "source": [
    "if files_exist['transfer_matrix']:\n",
    "    \n",
    "    fig, axes = plot.subplots(ncols=2, figsize=(5.25, 2.5), share=False, span=False)\n",
    "    axes.format(grid=False)\n",
    "    myplt.despine(axes)\n",
    "    ax1, ax2 = axes\n",
    "\n",
    "    # Plot eigenvalues in complex plane\n",
    "    psi = np.linspace(0, 2*np.pi, 50)\n",
    "    x_circ, y_circ = np.cos(psi), np.sin(psi)\n",
    "    ax1.plot(x_circ, y_circ, 'k--', zorder=0)\n",
    "    ax1.scatter(M_eigvals.real, M_eigvals.imag, c=['r','r','b','b'])\n",
    "    scale = 1.25\n",
    "    ax1.format(\n",
    "        xticks=[-1, -0.5, 0, 0.5, 1], yticks=[-1, -0.5, 0, 0.5, 1], \n",
    "        ylim=(-scale, scale), xlim=(-scale, scale),\n",
    "        xlabel='Real', ylabel='Imag', title='Eigenvalues')\n",
    "    ax1.annotate(r'$\\mu_1 = {:.2f}\\degree$'.format(M_eigtunes[0]), xy=(0, +0.1), horizontalalignment='center')\n",
    "    ax1.annotate(r'$\\mu_2 = {:.2f}\\degree$'.format(M_eigtunes[2]), xy=(0, -0.1), horizontalalignment='center')\n",
    "\n",
    "    # Plot turn-by-turn trajectory of eigenvectors\n",
    "    myplt.eigvec_trajectory(ax2, M, 'x', 'y', s=10)\n",
    "    ax2.format(xticklabels=[], yticklabels=[], \n",
    "               ylabel='y', xlabel='x', title='Eigenvectors')\n",
    "\n",
    "    # Add legend\n",
    "    custom_lines = [matplotlib.lines.Line2D([0], [0], color='r', lw=2),\n",
    "                    matplotlib.lines.Line2D([0], [0], color='b', lw=2)]\n",
    "    ax2.legend(custom_lines, [r'$\\vec{v}_1$', r'$\\vec{v}_2$'],\n",
    "               loc=(1.05, 0.7), handlelength=1, ncols=1);\n",
    "\n",
    "    save('eigvecs_realspace', dirs['env'], dpi=dpi)"
   ]
  },
  {
   "cell_type": "code",
   "execution_count": null,
   "metadata": {},
   "outputs": [],
   "source": [
    "if files_exist['transfer_matrix']:\n",
    "    \n",
    "    # Set up figure\n",
    "    fig, axes = plot.subplots(nrows=3, ncols=3, figsize=(5, 5), span=False)\n",
    "    axes.format(grid=True, suptitle='Transfer matrix eigenvectors')\n",
    "    myplt.make_lower_triangular(axes)\n",
    "    myplt.despine(axes)\n",
    "\n",
    "    labels = [\"x\", \"x'\", \"y\", \"y'\"]\n",
    "    xlabels, ylabels = labels[:-1], labels[1:]\n",
    "    set_labels(axes[-1, :], xlabels, 'xlabel')\n",
    "    set_labels(axes[:, 0], ylabels, 'ylabel')\n",
    "\n",
    "    # Plot eigenvectors and their trajectories\n",
    "    for i in range(3):\n",
    "        for j in range(3):\n",
    "            if i >= j:\n",
    "                ax = axes[i, j]\n",
    "                yvar = ['xp', 'y', 'yp'][i]\n",
    "                xvar = ['x', 'y', 'xp'][j]\n",
    "                myplt.eigvec_trajectory(ax, M, xvar, yvar, s=7, lw=1)\n",
    "\n",
    "    # Zoom out a bit\n",
    "    for i in range(3):\n",
    "        ymin, ymax = axes[i, 0].get_ylim()\n",
    "        xmin, xmax = axes[-1, i].get_xlim()\n",
    "        scale = 1.2\n",
    "        axes[i, :].format(ylim=(-scale*ymax, scale*ymax))\n",
    "        axes[:, i].format(xlim=(-scale*xmax, scale*xmax))\n",
    "\n",
    "    save('eigvecs', dirs['env'], dpi=dpi)"
   ]
  },
  {
   "cell_type": "markdown",
   "metadata": {},
   "source": [
    "## Test bunch"
   ]
  },
  {
   "cell_type": "code",
   "execution_count": null,
   "metadata": {},
   "outputs": [],
   "source": [
    "if files_exist['testbunch_coords']:\n",
    "    \n",
    "    test_coords = np.load(files['testbunch_coords'])\n",
    "    nframes, ntestparts, ndims = test_coords.shape\n",
    "    print('nparts, nframes = {}, {}'.format(ntestparts, nframes))\n",
    "    \n",
    "    test_cdfs = []\n",
    "    for X in test_coords:\n",
    "        cdf = pd.DataFrame(X, columns=['x','xp','y','yp'])\n",
    "        cdf[['s','s/L']] = env_stats.env_params[['s','s/L']]\n",
    "        test_cdfs.append(cdf)"
   ]
  },
  {
   "cell_type": "code",
   "execution_count": null,
   "metadata": {},
   "outputs": [],
   "source": [
    "if files_exist['testbunch_coords']:\n",
    "    \n",
    "    fig, axes = plot.subplots(nrows=2, sharey=False, figsize=(3, 4))\n",
    "    set_labels(axes, [r'$\\sigma_x$ [mm]', r'$\\sigma_y$ [mm]'], 'ylabel')\n",
    "    \n",
    "    for part_idx in range(0, ntestparts, 4):\n",
    "        X = pd.DataFrame(test_coords[:, part_idx, :], columns=['x','xp','y','yp'])\n",
    "        X['s/L'] = positions_normed\n",
    "        X[['s/L','x']].plot('s/L', color='k', lw=1, legend=False, ax=axes[0])\n",
    "        X[['s/L','y']].plot('s/L', color='k', lw=1, legend=False, ax=axes[1])\n",
    "\n",
    "    x_env = 2 * env_stats.moments['x_rms']\n",
    "    y_env = 2 * env_stats.moments['y_rms']\n",
    "    for ax, env, c in zip(axes, (x_env, y_env), ('blue8','orange6')):\n",
    "        ax.plot(positions_normed, +env, c=c)\n",
    "        ax.plot(positions_normed, -env, c=c)\n",
    "        \n",
    "    save('testbunch_beamsize', dirs['env'], dpi=dpi)"
   ]
  },
  {
   "cell_type": "markdown",
   "metadata": {},
   "source": [
    "# Distribution"
   ]
  },
  {
   "cell_type": "code",
   "execution_count": null,
   "metadata": {},
   "outputs": [],
   "source": [
    "if files_exist['bunch_coords']:\n",
    "    coords = np.load(files['bunch_coords'])    \n",
    "    print('Bunch coordinates:')\n",
    "    print('nframes, nparts = {}, {}'.format(*coords.shape))\n",
    "        \n",
    "if files_exist['bunch_moments']:\n",
    "    moments = np.load(files['bunch_moments'])\n",
    "    bunch_stats = ba.Stats(mode)\n",
    "    bunch_stats.read_moments(moments)\n",
    "    bunch_stats.twiss2D['mux'] = get_phase_adv(bunch_stats.twiss2D['bx'], positions, 'deg')\n",
    "    bunch_stats.twiss2D['muy'] = get_phase_adv(bunch_stats.twiss2D['by'], positions, 'deg')\n",
    "    for df in bunch_stats.dfs():\n",
    "        df['s'] = positions\n",
    "        df['s/L'] = positions_normed"
   ]
  },
  {
   "cell_type": "markdown",
   "metadata": {},
   "source": [
    "## Twiss parameters "
   ]
  },
  {
   "cell_type": "markdown",
   "metadata": {},
   "source": [
    "### 2D Twiss"
   ]
  },
  {
   "cell_type": "code",
   "execution_count": null,
   "metadata": {},
   "outputs": [],
   "source": [
    "if files_exist['bunch_moments']:\n",
    "    fig, axes = setup_figure(2)\n",
    "    bunch_stats.twiss2D[['s/L','bx','by']].plot('s/L', ax=axes[0], **plt_kws)\n",
    "    bunch_stats.twiss2D[['s/L','ax','ay']].plot('s/L', ax=axes[1], **plt_kws)\n",
    "    bunch_stats.twiss2D[['s/L','ex', 'ey']].plot('s/L', ax=axes[2], **plt_kws)\n",
    "    set_labels(axes, [r'$\\beta$ [m]', r'$\\alpha$ [rad]', r'$\\varepsilon$ [mm $\\cdot$ mrad]'], 'ylabel')\n",
    "    save('twiss2D', dirs['bunch'], dpi=dpi)"
   ]
  },
  {
   "cell_type": "markdown",
   "metadata": {},
   "source": [
    "### Emittance "
   ]
  },
  {
   "cell_type": "code",
   "execution_count": null,
   "metadata": {},
   "outputs": [],
   "source": [
    "if files_exist['bunch_moments']:\n",
    "    fig, ax = plot.subplots(figsize=(4.5, 2.5))\n",
    "    bunch_stats.twiss2D[['s/L','ex','ey']].plot('s/L', ax=ax, **plt_kws)\n",
    "    bunch_stats.twiss4D[['s/L','e1','e2']].plot('s/L', ax=ax, **plt_kws)\n",
    "    ax.format(ylabel=r'$\\varepsilon$ [mm $\\cdot$ mrad]')\n",
    "    ax.legend(labels=[r'$\\varepsilon_x$', r'$\\varepsilon_y$', r'$\\varepsilon_1$', r'$\\varepsilon_2$'], \n",
    "              ncols=1, loc=(1.01, 0))\n",
    "    save('emittance', dirs['bunch'], dpi=dpi)"
   ]
  },
  {
   "cell_type": "markdown",
   "metadata": {},
   "source": [
    "### Phase advance "
   ]
  },
  {
   "cell_type": "code",
   "execution_count": null,
   "metadata": {},
   "outputs": [],
   "source": [
    "if files_exist['bunch_moments']:\n",
    "    fig, ax = setup_figure(1)\n",
    "    bunch_stats.twiss2D[['s/L','mux','muy']].plot('s/L', ax=ax, **plt_kws)\n",
    "    ax.format(ylabel='Phase advance', yformatter='deg')\n",
    "    save('phase_adv', dirs['bunch'], dpi=dpi)"
   ]
  },
  {
   "cell_type": "markdown",
   "metadata": {},
   "source": [
    "## Moments "
   ]
  },
  {
   "cell_type": "code",
   "execution_count": null,
   "metadata": {},
   "outputs": [],
   "source": [
    "if files_exist['bunch_moments']:\n",
    "    fig, ax = setup_figure(1)\n",
    "    bunch_stats.moments[['s/L','x_rms','y_rms']].plot('s/L', ax=ax, **plt_kws)\n",
    "    ax.format(ylabel='Beam size [mm]')\n",
    "    save('beamsize', dirs['bunch'], dpi=dpi)"
   ]
  },
  {
   "cell_type": "code",
   "execution_count": null,
   "metadata": {},
   "outputs": [],
   "source": [
    "if files_exist['bunch_moments']:\n",
    "    fig, ax = setup_figure(1)\n",
    "    bunch_stats.moments[['s/L','xp_rms','yp_rms']].plot('s/L', ax=ax, **plt_kws)\n",
    "    ax.format(ylabel='Beam divergence [mrad]')\n",
    "    save('beamdiv', dirs['bunch'], dpi=dpi)"
   ]
  },
  {
   "cell_type": "code",
   "execution_count": null,
   "metadata": {},
   "outputs": [],
   "source": [
    "if files_exist['bunch_moments']:\n",
    "    fig, axes = plot.subplots(nrows=4, ncols=4, sharey=False, figsize=(8, 6), \n",
    "                              spany=False, aligny=True)\n",
    "    myplt.make_lower_triangular(axes)\n",
    "    axes.format(suptitle='Transverse moments', titleborder=True)\n",
    "\n",
    "    for i in range(4):\n",
    "        for j in range(i + 1):\n",
    "            ax = axes[i, j]\n",
    "            col = moment_label(i, j)\n",
    "            bunch_stats.moments[['s/L',col]].plot('s/L', ax=ax, color='k', **plt_kws)\n",
    "            ax.format(title=moment_label_string(i, j))\n",
    "\n",
    "    set_labels(axes[0:, 0], [r'[mm$^2$]', r'[mm$\\cdot$mrad]', r'[mm$^2$]', r'mm$\\cdot$mrad'], 'ylabel')\n",
    "    set_labels(axes[1:, 1], [r'[mrad$^2$]', r'[mm$\\cdot$mrad]', r'[mrad$^2$]'], 'ylabel')\n",
    "    set_labels(axes[2:, 2], [r'[mm$^2$]', r'[mm$\\cdot$mrad]'], 'ylabel')\n",
    "    set_labels(axes[3:, 3], [r'[mrad$^2$]'], 'ylabel')\n",
    "    save('all_moments', dirs['bunch'], dpi=dpi)"
   ]
  },
  {
   "cell_type": "code",
   "execution_count": null,
   "metadata": {},
   "outputs": [],
   "source": [
    "if files_exist['bunch_moments']:\n",
    "    fig, axes = plot.subplots(nrows=4, ncols=4, sharey=False, figsize=(8, 6), \n",
    "                              spany=False, aligny=True)\n",
    "    myplt.make_lower_triangular(axes)\n",
    "    axes.format(suptitle='Transverse correlations', titleborder=True)\n",
    "\n",
    "    for i in range(4):\n",
    "        for j in range(i + 1):\n",
    "            ax = axes[i, j]\n",
    "            col = moment_label(i, j)\n",
    "            bunch_stats.corr[['s/L', col]].plot('s/L', ax=ax, color='k', **plt_kws)\n",
    "            ax.format(title=moment_label(i, j))\n",
    "\n",
    "    save('all_correlations', dirs['bunch'], dpi=dpi)"
   ]
  },
  {
   "cell_type": "markdown",
   "metadata": {},
   "source": [
    "## Real space orientation"
   ]
  },
  {
   "cell_type": "code",
   "execution_count": null,
   "metadata": {},
   "outputs": [],
   "source": [
    "if files_exist['bunch_moments']:\n",
    "    fig, axes = setup_figure(2)\n",
    "    bunch_stats.realspace[['s/L','angle']].plot('s/L', ax=axes[0], color='k', **plt_kws)\n",
    "    bunch_stats.realspace[['s/L','cx','cy']].plot('s/L', ax=axes[1], **plt_kws)\n",
    "    bunch_stats.realspace[['s/L','area_rel']].plot('s/L', ax=axes[2], color='k', **plt_kws)\n",
    "    set_labels(axes, ['tilt angle', 'ellipse axes [mm]', 'area [frac. change]'], 'ylabel')\n",
    "    axes[0].format(yformatter='deg')\n",
    "    save('beam_dims', dirs['bunch'], dpi=dpi)"
   ]
  },
  {
   "cell_type": "code",
   "execution_count": null,
   "metadata": {},
   "outputs": [],
   "source": [
    "if files_exist['bunch_moments']:\n",
    "    fig, axes = plot.subplots(nrows=4, ncols=1, figsize=(0.8*width, 2.5*height), \n",
    "                              spany=False, aligny=True)\n",
    "    bunch_stats.moments[['s/L','x_rms','y_rms']].plot('s/L', ax=axes[0], **plt_kws)\n",
    "    bunch_stats.twiss2D[['s/L','ex_frac','ey_frac']].plot('s/L', ax=axes[1], **plt_kws)\n",
    "    bunch_stats.realspace[['s/L','angle']].plot('s/L', ax=axes[2], color='k', **plt_kws)\n",
    "    bunch_stats.twiss2D[['s/L','mux','muy']].plot('s/L', ax=axes[3], **plt_kws)\n",
    "    ylabels = ['beam size [mm]', 'emittance ratio', 'tilt angle [deg]', 'phase adv. [deg]']\n",
    "    set_labels(axes, ylabels, 'ylabel')    \n",
    "    save('vert', dirs['bunch'], dpi=dpi)"
   ]
  },
  {
   "cell_type": "markdown",
   "metadata": {},
   "source": [
    "## Phase space projections "
   ]
  },
  {
   "cell_type": "code",
   "execution_count": null,
   "metadata": {},
   "outputs": [],
   "source": [
    "if files_exist['bunch_coords']:\n",
    "    for i, name in zip((1, -1), ('Initial', 'Final')):\n",
    "        axes = myplt.corner(coords[i], text=name, figsize=5, pad=0.25)\n",
    "        save(name, dirs['bunch'], dpi=dpi)"
   ]
  },
  {
   "cell_type": "code",
   "execution_count": null,
   "metadata": {},
   "outputs": [],
   "source": [
    "if animate and files_exist['bunch_coords']:\n",
    "    anim = myanim.corner(coords, skip=skip, figsize=6, \n",
    "                         diag_kind='hist', fps=fps, pad=0.25,\n",
    "                         text_fmt='s / L = {:.2f}', text_vals=positions_normed)\n",
    "    play(anim)"
   ]
  },
  {
   "cell_type": "markdown",
   "metadata": {},
   "source": [
    "# Comparison "
   ]
  },
  {
   "cell_type": "code",
   "execution_count": null,
   "metadata": {},
   "outputs": [],
   "source": [
    "if files_exist['bunch_moments']:\n",
    "    plt_kws_env = dict(\n",
    "        lw=None,\n",
    "        marker=None,\n",
    "        markersize=None,\n",
    "        color='steelblue',\n",
    "        legend=False,\n",
    "    )\n",
    "    plt_kws_bunch = dict(\n",
    "        lw=0,\n",
    "        marker='x',\n",
    "        markersize=1,\n",
    "        color='red',\n",
    "        legend=False,\n",
    "    )\n",
    "    dataframes = [env_stats, bunch_stats]\n",
    "    kws_list = [plt_kws_env, plt_kws_bunch]"
   ]
  },
  {
   "cell_type": "markdown",
   "metadata": {},
   "source": [
    "## Moments "
   ]
  },
  {
   "cell_type": "code",
   "execution_count": null,
   "metadata": {},
   "outputs": [],
   "source": [
    "if files_exist['bunch_moments']:\n",
    "    fig, axes = setup_figure(4)\n",
    "    for ax, key in zip(axes, ('x_rms', 'y_rms')):\n",
    "        for df, kws in zip(dataframes, kws_list):\n",
    "            df.moments[['s/L', key]].plot('s/L', ax=ax, **kws)\n",
    "    axes.format(ylabel='[mm]')\n",
    "    set_labels(axes, [r'$\\sqrt{\\langle{x^2}\\rangle}$', r'$\\sqrt{\\langle{y^2}\\rangle}$'], 'title')\n",
    "    axes[1].legend(labels=['theory', 'calc'], ncols=1, loc=(1.02, 0), fontsize='small')\n",
    "    save('beamsize', dirs['comparison'], dpi=dpi)"
   ]
  },
  {
   "cell_type": "code",
   "execution_count": null,
   "metadata": {},
   "outputs": [],
   "source": [
    "if files_exist['bunch_moments']:\n",
    "    fig, axes = setup_figure(4)\n",
    "    for ax, key in zip(axes, ('xp_rms', 'yp_rms')):\n",
    "        for df, kws in zip(dataframes, kws_list):\n",
    "            df.moments[['s/L', key]].plot('s/L', ax=ax, **kws)\n",
    "    axes.format(ylabel='[mm]')\n",
    "    set_labels(axes, [r\"$\\sqrt{\\langle{x'^2}\\rangle}$\", r\"$\\sqrt{\\langle{y'^2}\\rangle}$\"], 'title')\n",
    "    axes[1].legend(labels=['theory', 'calc'], ncols=1, loc=(1.02, 0), fontsize='small')\n",
    "    save('beamdiv', dirs['comparison'], dpi=dpi)"
   ]
  },
  {
   "cell_type": "code",
   "execution_count": null,
   "metadata": {},
   "outputs": [],
   "source": [
    "if files_exist['bunch_moments']:\n",
    "    fig, ax = plot.subplots(figsize=(1.25*width, height))\n",
    "    for df, kws in zip(dataframes, kws_list):\n",
    "        df.corr[['s/L','xy']].plot('s/L', ax=ax, **kws)\n",
    "    ax.format(title=r\"$x$-$y$ corr. coef.\", xlabel='Turn number')\n",
    "    ax.legend(labels=['theory', 'calc'], ncols=1, loc=(1.02, 0), fontsize='small')\n",
    "    save('xy_corr', dirs['comparison'], dpi=dpi)"
   ]
  },
  {
   "cell_type": "code",
   "execution_count": null,
   "metadata": {},
   "outputs": [],
   "source": [
    "if files_exist['bunch_moments']:\n",
    "    \n",
    "    fig, axes = plot.subplots(nrows=4, ncols=4, sharey=False, figsize=(8, 6), \n",
    "                              spany=False, aligny=True)\n",
    "    myplt.make_lower_triangular(axes)\n",
    "    axes.format(suptitle='Transverse moments', titleborder=True)\n",
    "\n",
    "    for df, kws in zip(dataframes, kws_list):\n",
    "        for i in range(4):\n",
    "            for j in range(i + 1):\n",
    "                ax = axes[i, j]\n",
    "                col = moment_label(i, j)\n",
    "                df.moments[['s/L', col]].plot('s/L', ax=ax, **kws)\n",
    "                ax.format(title=moment_label_string(i, j))\n",
    "\n",
    "    set_labels(axes[0:, 0], [r'[mm$^2$]', r'[mm$\\cdot$mrad]', r'[mm$^2$]', r'mm$\\cdot$mrad'], 'ylabel')\n",
    "    set_labels(axes[1:, 1], [r'[mrad$^2$]', r'[mm$\\cdot$mrad]', r'[mrad$^2$]'], 'ylabel')\n",
    "    set_labels(axes[2:, 2], [r'[mm$^2$]', r'[mm$\\cdot$mrad]'], 'ylabel')\n",
    "    set_labels(axes[3:, 3], [r'[mrad$^2$]'], 'ylabel')\n",
    "    save('all_moments', dirs['comparison'], dpi=dpi)"
   ]
  },
  {
   "cell_type": "code",
   "execution_count": null,
   "metadata": {},
   "outputs": [],
   "source": [
    "if files_exist['bunch_moments']:\n",
    "    \n",
    "    fig, axes = plot.subplots(nrows=4, ncols=4, sharey=False, figsize=(8, 6), \n",
    "                              spany=False, aligny=True)\n",
    "    myplt.make_lower_triangular(axes)\n",
    "    axes.format(suptitle='Transverse correlations', titleborder=True)\n",
    "\n",
    "    for df, kws in zip(dataframes, kws_list):\n",
    "        for i in range(4):\n",
    "            for j in range(i + 1):\n",
    "                ax = axes[i, j]\n",
    "                col = moment_label(i, j)\n",
    "                df.corr[['s/L', col]].plot('s/L', ax=ax, **kws)\n",
    "                ax.format(title=moment_label_string(i, j))\n",
    "\n",
    "    save('all_correlations', dirs['comparison'], dpi=dpi)"
   ]
  },
  {
   "cell_type": "markdown",
   "metadata": {},
   "source": [
    "## Twiss "
   ]
  },
  {
   "cell_type": "code",
   "execution_count": null,
   "metadata": {},
   "outputs": [],
   "source": [
    "if files_exist['bunch_moments']:\n",
    "    fig, axes = setup_figure(3)\n",
    "    for df, kws in zip(dataframes, kws_list):\n",
    "        df.twiss2D[['s/L','bx']].plot('s/L', ax=axes[0, 0], **kws)\n",
    "        df.twiss2D[['s/L','by']].plot('s/L', ax=axes[0, 1], **kws)\n",
    "        df.twiss2D[['s/L','ax']].plot('s/L', ax=axes[1, 0], **kws)\n",
    "        df.twiss2D[['s/L','ay']].plot('s/L', ax=axes[1, 1], **kws)\n",
    "        df.twiss2D[['s/L','ex']].plot('s/L', ax=axes[2, 0], **kws)\n",
    "        df.twiss2D[['s/L','ey']].plot('s/L', ax=axes[2, 1], **kws)\n",
    "    axes.format(collabels=['Horizontal', 'Vertical'])\n",
    "    set_labels(axes[:, 0], [r'$\\beta$ [m]', r'$\\alpha$ [rad]', r'$\\varepsilon$ [mm $\\cdot$ mrad]'], 'ylabel')\n",
    "    save('twiss', dirs['comparison'], dpi=dpi)"
   ]
  },
  {
   "cell_type": "markdown",
   "metadata": {},
   "source": [
    "## Real space orientation"
   ]
  },
  {
   "cell_type": "code",
   "execution_count": null,
   "metadata": {},
   "outputs": [],
   "source": [
    "if files_exist['bunch_moments']:\n",
    "    fig, axes = plot.subplots(nrows=2, figsize=(width, 1.5*height), spany=False, aligny=True)\n",
    "    for df, kws in zip(dataframes, kws_list):\n",
    "        df.realspace[['s/L','angle']].plot('s/L', ax=axes[0], **kws)\n",
    "        df.realspace[['s/L','area']].plot('s/L', ax=axes[1], **kws)\n",
    "    set_labels(axes, ['tilt angle', r'area [mm$^2$]'], 'ylabel')\n",
    "    axes[0].format(yformatter='deg')\n",
    "    save('beam_dims', dirs['comparison'], dpi=dpi)"
   ]
  },
  {
   "cell_type": "code",
   "execution_count": null,
   "metadata": {},
   "outputs": [],
   "source": [
    "if files_exist['bunch_moments']:\n",
    "    fig, axes = setup_figure(4)\n",
    "    for ax, key in zip(axes, ('cx', 'cy')):\n",
    "        for df, kws in zip(dataframes, kws_list):\n",
    "            df.realspace[['s/L', key]].plot('s/L', ax=ax, **kws)\n",
    "    axes.format(ylabel='[mm]')\n",
    "    set_labels(axes, [r\"$c_x$\", r\"$c_y$\"], 'title')\n",
    "    axes[1].legend(labels=['theory', 'calc'], ncols=1, loc=(1.02, 0), fontsize='small')\n",
    "    save('radii', dirs['comparison'], dpi=dpi)"
   ]
  },
  {
   "cell_type": "markdown",
   "metadata": {},
   "source": [
    "## Phase space projections"
   ]
  },
  {
   "cell_type": "code",
   "execution_count": null,
   "metadata": {},
   "outputs": [],
   "source": [
    "if files_exist['bunch_coords']:\n",
    "    for i, name in zip((0, -1), ('Initial', 'Final')):\n",
    "        axes = myplt.corner(coords[i], env_params_list[i], text=name, diag_kind='none',\n",
    "                            figsize=4, pad=0.25)\n",
    "        save(name, dirs['comparison'], dpi=dpi)"
   ]
  },
  {
   "cell_type": "code",
   "execution_count": null,
   "metadata": {},
   "outputs": [],
   "source": [
    "if files_exist['bunch_coords'] and animate:\n",
    "    anim = myanim.corner(coords, env_params_list, skip=5, figsize=5, \n",
    "                         diag_kind='none', fps=fps, pad=0.25,\n",
    "                         text_fmt='s / L = {:.2f}', text_vals=positions_normed)\n",
    "    play(anim)"
   ]
  },
  {
   "cell_type": "code",
   "execution_count": null,
   "metadata": {},
   "outputs": [],
   "source": []
  }
 ],
 "metadata": {
  "kernelspec": {
   "display_name": "Python 3",
   "language": "python",
   "name": "python3"
  },
  "language_info": {
   "codemirror_mode": {
    "name": "ipython",
    "version": 3
   },
   "file_extension": ".py",
   "mimetype": "text/x-python",
   "name": "python",
   "nbconvert_exporter": "python",
   "pygments_lexer": "ipython3",
   "version": "3.7.6"
  },
  "toc": {
   "base_numbering": 1,
   "nav_menu": {},
   "number_sections": true,
   "sideBar": true,
   "skip_h1_title": true,
   "title_cell": "Table of Contents",
   "title_sidebar": "Contents",
   "toc_cell": false,
   "toc_position": {
    "height": "calc(100% - 180px)",
    "left": "10px",
    "top": "150px",
    "width": "273.3823547363281px"
   },
   "toc_section_display": true,
   "toc_window_display": true
  },
  "toc-autonumbering": true,
  "toc-showcode": false,
  "toc-showmarkdowntxt": false,
  "toc-showtags": false
 },
 "nbformat": 4,
 "nbformat_minor": 4
}
