{
 "cells": [
  {
   "cell_type": "markdown",
   "metadata": {},
   "source": [
    "# Envelope analysis"
   ]
  },
  {
   "cell_type": "markdown",
   "metadata": {},
   "source": [
    "## Setup"
   ]
  },
  {
   "cell_type": "code",
   "execution_count": null,
   "metadata": {},
   "outputs": [],
   "source": [
    "import sys\n",
    "import os\n",
    "import importlib\n",
    "\n",
    "import numpy as np\n",
    "import pandas as pd\n",
    "import matplotlib\n",
    "from matplotlib import pyplot as plt\n",
    "from matplotlib import animation\n",
    "from matplotlib.lines import Line2D\n",
    "import proplot as pplt\n",
    "\n",
    "def ancestor_folder_path(current_path, ancestor_folder_name):  \n",
    "    parent_path = os.path.dirname(current_path)\n",
    "    if parent_path == current_path:\n",
    "        raise ValueError(\"Couldn't find ancestor folder.\")\n",
    "    if parent_path.split('/')[-1] == ancestor_folder_name:\n",
    "        return parent_path\n",
    "    return ancestor_folder_path(parent_path, ancestor_folder_name)\n",
    "\n",
    "sys.path.append(ancestor_folder_path(os.getcwd(), 'scdist'))\n",
    "from tools import animation as myanim\n",
    "from tools import ap_utils\n",
    "from tools import beam_analysis as ba\n",
    "from tools import plotting as myplt\n",
    "from tools import plot_utils\n",
    "from tools import utils\n",
    "from tools.plotting import set_labels"
   ]
  },
  {
   "cell_type": "markdown",
   "metadata": {},
   "source": [
    "Plot settings"
   ]
  },
  {
   "cell_type": "code",
   "execution_count": null,
   "metadata": {},
   "outputs": [],
   "source": [
    "# Plotting\n",
    "pplt.rc['figure.facecolor'] = 'white' \n",
    "pplt.rc['grid.alpha'] = 0.04\n",
    "pplt.rc['axes.grid'] = False\n",
    "pplt.rc['savefig.dpi'] = 'figure'\n",
    "pplt.rc['animation.html'] = 'jshtml' \n",
    "\n",
    "plt_kws = dict(\n",
    "    lw=1, \n",
    "    marker='.',\n",
    "    markersize=3,\n",
    "    legend=False,\n",
    ")\n",
    "format_kws = dict(\n",
    "    xgrid=False,\n",
    "    ygrid=True,\n",
    ")\n",
    "legend_kws = dict(\n",
    "    framealpha=0.,\n",
    "    ncols=1, \n",
    "    loc='r',\n",
    "    handlelength=1.5,\n",
    ")\n",
    "animate = True\n",
    "anim_kws = dict(skip=0, interval=1000./5.)"
   ]
  },
  {
   "cell_type": "code",
   "execution_count": null,
   "metadata": {},
   "outputs": [],
   "source": [
    "def savefig(filename, folder, suffix='.png', **kws):\n",
    "    kws.setdefault('dpi', 300)\n",
    "    kws.setdefault('facecolor', 'white')\n",
    "    filename = ''.join([filename, suffix])\n",
    "    plt.savefig(os.path.join(folder, filename), **kws)"
   ]
  },
  {
   "cell_type": "code",
   "execution_count": null,
   "metadata": {},
   "outputs": [],
   "source": [
    "width, height = 3.75, 2.5\n",
    "\n",
    "def setup_figure(opt=1):\n",
    "    \"\"\"Convenience function to create subplots.\"\"\"\n",
    "    if opt == 1:\n",
    "        nrows, ncols, figsize = 1, 1, (width, height)\n",
    "    elif opt == 2:\n",
    "        nrows, ncols, figsize = 3, 1, (width, 2*height)\n",
    "    elif opt == 3:\n",
    "        nrows, ncols, figsize = 3, 2, (1.6*width, 2*height)\n",
    "    elif opt == 4:\n",
    "        nrows, ncols, figsize = 1, 2, (7, 2.5)\n",
    "    fig, axes = pplt.subplots(nrows=nrows, ncols=ncols, figsize=figsize, spany=False, aligny=True)\n",
    "    return fig, axes"
   ]
  },
  {
   "cell_type": "markdown",
   "metadata": {},
   "source": [
    "Input/output file locations."
   ]
  },
  {
   "cell_type": "code",
   "execution_count": null,
   "metadata": {},
   "outputs": [],
   "source": [
    "# Input file locations\n",
    "filenames = {\n",
    "    'env_params': '_output/data/envelope/env_params.dat',\n",
    "    'test_bunch_coords': '_output/data/envelope/test_bunch_coords.npy',\n",
    "    'bunch_coords': '_output/data/bunch/bunch_coords.npy',\n",
    "    'bunch_moments': '_output/data/bunch/bunch_moments.dat',\n",
    "    'transfer_matrix': '_output/data/transfer_matrix.dat'\n",
    "}\n",
    "files_exist = {key: utils.file_exists(filename) for key, filename in filenames.items()}\n",
    "\n",
    "# Output file locations\n",
    "dirs = {\n",
    "    'env': './_output/figures/envelope/',\n",
    "    'bunch': './_output/figures/bunch/',\n",
    "    'comparison': './_output/figures/comparison/'\n",
    "}"
   ]
  },
  {
   "cell_type": "markdown",
   "metadata": {},
   "source": [
    "## Envelope"
   ]
  },
  {
   "cell_type": "code",
   "execution_count": null,
   "metadata": {},
   "outputs": [],
   "source": [
    "# Load correct x labels.\n",
    "file = open('_output/data/xlabel.txt', 'r')\n",
    "xlabel = file.readlines()[0]\n",
    "file.close()\n",
    "format_kws['xlabel'] = xlabel\n",
    "\n",
    "# Load correct x values.\n",
    "xvals = np.loadtxt('_output/data/xvals.dat')\n",
    "\n",
    "print(\"xlabel = '{}'\".format(xlabel))\n",
    "print('xvals =')\n",
    "print(xvals)"
   ]
  },
  {
   "cell_type": "markdown",
   "metadata": {},
   "source": [
    "Compute beam statistics from the envelope parameters."
   ]
  },
  {
   "cell_type": "code",
   "execution_count": null,
   "metadata": {},
   "outputs": [],
   "source": [
    "mode = int(np.loadtxt('_output/data/mode.txt'))\n",
    "env_params = np.loadtxt(filenames['env_params'])\n",
    "env_params *= 1000. # [convert to mm mrad]\n",
    "env_stats = ba.BeamStats(mode=mode)\n",
    "env_stats.read_env(env_params)"
   ]
  },
  {
   "cell_type": "markdown",
   "metadata": {},
   "source": [
    "### Twiss parameters "
   ]
  },
  {
   "cell_type": "markdown",
   "metadata": {},
   "source": [
    "#### 2D Twiss"
   ]
  },
  {
   "cell_type": "code",
   "execution_count": null,
   "metadata": {},
   "outputs": [],
   "source": [
    "fig, axes = setup_figure(2);\n",
    "g1 = axes[0].plot(xvals, env_stats.twiss2D[['beta_x','beta_y']], **plt_kws)\n",
    "g2 = axes[1].plot(xvals, env_stats.twiss2D[['alpha_x','alpha_y']], **plt_kws)\n",
    "g3 = axes[2].plot(xvals, env_stats.twiss2D[['eps_x','eps_y']], **plt_kws)\n",
    "axes[0].set_ylabel('[m/rad]')\n",
    "axes[1].set_ylabel('[rad]')\n",
    "axes[2].set_ylabel('[mm mrad]')\n",
    "axes[0].legend(g1, [r'$\\beta_x$', r'$\\beta_y$'], **legend_kws)\n",
    "axes[1].legend(g2, [r'$\\alpha_x$', r'$\\alpha_y$'], **legend_kws)\n",
    "axes[2].legend(g3, [r'$\\varepsilon_x$', r'$\\varepsilon_y$'], **legend_kws)\n",
    "axes.format(**format_kws)\n",
    "savefig('twiss2D', dirs['env'])"
   ]
  },
  {
   "cell_type": "markdown",
   "metadata": {},
   "source": [
    "#### 4D Twiss "
   ]
  },
  {
   "cell_type": "code",
   "execution_count": null,
   "metadata": {},
   "outputs": [],
   "source": [
    "fig, axes = setup_figure(2);\n",
    "g1 = axes[0].plot(xvals, env_stats.twiss4D[['beta_x','beta_y']], **plt_kws)\n",
    "g2 = axes[1].plot(xvals, env_stats.twiss4D[['alpha_x','alpha_y']], **plt_kws)\n",
    "g3 = axes[2].plot(xvals, env_stats.twiss4D['u'], color='black', **plt_kws)\n",
    "axes[0].set_ylabel('[m/rad]')\n",
    "axes[1].set_ylabel('[rad]')\n",
    "subx = '{}x'.format(mode)\n",
    "suby = '{}y'.format(mode)\n",
    "axes[0].legend(g1, [r'$\\beta_{}$'.format(subx), r'$\\beta_{}$'.format(suby)], **legend_kws)\n",
    "axes[1].legend(g2, [r'$\\alpha_{}$'.format(subx), r'$\\alpha_{}$'.format(suby)], **legend_kws)\n",
    "axes[2].legend(g3, ['u'], **legend_kws)\n",
    "axes.format(**format_kws)\n",
    "savefig('twiss4D', dirs['env'])"
   ]
  },
  {
   "cell_type": "markdown",
   "metadata": {},
   "source": [
    "#### Phase difference (nu)"
   ]
  },
  {
   "cell_type": "code",
   "execution_count": null,
   "metadata": {},
   "outputs": [],
   "source": [
    "fig, ax = setup_figure(1)\n",
    "ax.plot(xvals, env_stats.twiss4D['nu'], color='black', **plt_kws)\n",
    "ax.format(ylabel=r'$\\nu$', yformatter='deg', **format_kws)\n",
    "savefig('twiss4D_nu', dirs['env'])"
   ]
  },
  {
   "cell_type": "markdown",
   "metadata": {},
   "source": [
    "#### Emittances"
   ]
  },
  {
   "cell_type": "code",
   "execution_count": null,
   "metadata": {},
   "outputs": [],
   "source": [
    "fig, ax = pplt.subplots(figsize=(4.0, 2.5))\n",
    "g1 = ax.plot(xvals, env_stats.twiss2D['eps_x'], **plt_kws)\n",
    "g2 = ax.plot(xvals, env_stats.twiss2D['eps_x'], **plt_kws)\n",
    "g3 = ax.plot(xvals, env_stats.twiss4D['eps_1'], **plt_kws)\n",
    "g4 = ax.plot(xvals, env_stats.twiss4D['eps_2'], **plt_kws)\n",
    "ax.format(ylabel='[mm mrad]', **format_kws)\n",
    "ax.legend([g1, g2, g3, g4],\n",
    "          labels=[r'$\\varepsilon_x$', r'$\\varepsilon_y$', \n",
    "                  r'$\\varepsilon_1$', r'$\\varepsilon_2$'], \n",
    "          ncols=1, loc='r', framealpha=0.)\n",
    "savefig('emittances', dirs['env'])"
   ]
  },
  {
   "cell_type": "markdown",
   "metadata": {},
   "source": [
    "### Moments "
   ]
  },
  {
   "cell_type": "code",
   "execution_count": null,
   "metadata": {},
   "outputs": [],
   "source": [
    "fig, ax = setup_figure(1)\n",
    "ax.plot(xvals, env_stats.moments[['x_rms', 'y_rms']], **plt_kws)\n",
    "ax.format(ylabel='Beam size [mm]', **format_kws)\n",
    "savefig('beamsize', dirs['env'])"
   ]
  },
  {
   "cell_type": "code",
   "execution_count": null,
   "metadata": {},
   "outputs": [],
   "source": [
    "fig, ax = setup_figure(1)\n",
    "ax.plot(xvals, env_stats.moments[['xp_rms', 'yp_rms']], **plt_kws)\n",
    "ax.format(ylabel='Beam div. [mrad]', **format_kws)\n",
    "savefig('beamdiv', dirs['env'])"
   ]
  },
  {
   "cell_type": "code",
   "execution_count": null,
   "metadata": {},
   "outputs": [],
   "source": [
    "fig, axes = pplt.subplots(nrows=4, ncols=4, sharey=False, figsize=(8, 6), \n",
    "                          spany=False, aligny=True)\n",
    "myplt.make_lower_triangular(axes)\n",
    "axes.format(suptitle='Second-order moments', **format_kws)\n",
    "for i in range(4):\n",
    "    for j in range(i + 1):\n",
    "        ax = axes[i, j]\n",
    "        col = plot_utils.moment_label(i, j)\n",
    "        ax.plot(xvals, env_stats.moments[col], color='black', **plt_kws)\n",
    "        ax.set_title(plot_utils.moment_label_string(i, j))\n",
    "set_labels(axes[0:, 0], [r'[mm$^2$]', r'[mm mrad]', r'[mm$^2$]', r'mm mrad'], 'ylabel')\n",
    "set_labels(axes[1:, 1], [r'[mrad$^2$]', r'[mm mrad]', r'[mrad$^2$]'], 'ylabel')\n",
    "set_labels(axes[2:, 2], [r'[mm$^2$]', r'[mm mrad]'], 'ylabel')\n",
    "set_labels(axes[3:, 3], [r'[mrad$^2$]'], 'ylabel')\n",
    "savefig('all_moments', dirs['env'])"
   ]
  },
  {
   "cell_type": "code",
   "execution_count": null,
   "metadata": {},
   "outputs": [],
   "source": [
    "fig, axes = pplt.subplots(nrows=4, ncols=4, sharey=False, figsize=(8, 6), \n",
    "                          spany=False, aligny=True)\n",
    "myplt.make_lower_triangular(axes)\n",
    "axes.format(suptitle='Correlation coefficents', **format_kws)\n",
    "for i in range(4):\n",
    "    for j in range(i + 1):\n",
    "        ax = axes[i, j]\n",
    "        col = plot_utils.moment_label(i, j)\n",
    "        ax.plot(xvals, env_stats.corr[col], color='black', **plt_kws)\n",
    "        ax.set_title(plot_utils.moment_label_string(i, j))\n",
    "savefig('all_correlations', dirs['env'])"
   ]
  },
  {
   "cell_type": "markdown",
   "metadata": {},
   "source": [
    "### Real space orientation"
   ]
  },
  {
   "cell_type": "code",
   "execution_count": null,
   "metadata": {},
   "outputs": [],
   "source": [
    "fig, axes = setup_figure(2)\n",
    "axes[0].plot(xvals, env_stats.realspace['angle'], color='black', **plt_kws)\n",
    "axes[1].plot(xvals, env_stats.realspace[['cx', 'cy']], color='black', **plt_kws)\n",
    "axes[2].plot(xvals, env_stats.realspace['area'], color='black', **plt_kws)\n",
    "set_labels(axes, ['tilt angle', 'ellipse axes [mm]', 'area [frac. change]'], 'ylabel')\n",
    "axes.format(**format_kws)\n",
    "axes[0].format(yformatter='deg')\n",
    "savefig('beam_dims', dirs['env'])"
   ]
  },
  {
   "cell_type": "markdown",
   "metadata": {},
   "source": [
    "### Tunes "
   ]
  },
  {
   "cell_type": "markdown",
   "metadata": {},
   "source": [
    "The tunes are computed for a particle on the beam envelope (the tune of every particle is the same). Of course this only makes sense if the data is turn-by-turn."
   ]
  },
  {
   "cell_type": "code",
   "execution_count": null,
   "metadata": {},
   "outputs": [],
   "source": [
    "env_coords = np.array([ba.get_ellipse_coords(p) for p in env_params])\n",
    "fig, ax = pplt.subplots(figsize=(6, 2))\n",
    "myplt.fft(ax, env_coords[:, 0, 0], env_coords[:, 0, 2])\n",
    "ax.legend(ncols=1)\n",
    "ax.format(**format_kws)\n",
    "savefig('fft', dirs['env']);"
   ]
  },
  {
   "cell_type": "markdown",
   "metadata": {},
   "source": [
    "### Phase space projections "
   ]
  },
  {
   "cell_type": "code",
   "execution_count": null,
   "metadata": {},
   "outputs": [],
   "source": [
    "frames = [0, len(env_params) - 1]\n",
    "axes = myplt.corner_env(\n",
    "    env_params[frames],\n",
    "    figsize=(5, 5),\n",
    "    limits=None,\n",
    "    grid_kws=dict(constrained_layout=False),\n",
    "    cmap=('red7', 'blue7'),\n",
    ")\n",
    "if 'Turn' in xlabel:\n",
    "    fstr = 'Turn = {}'\n",
    "elif 'Position' in xlabel:\n",
    "    fstr = 'Position = {:.2f} [m]'\n",
    "axes[1, 1].legend([fstr.format(frame) for frame in frames], \n",
    "                  loc=(0., 1.5), handlelength=1., framealpha=0.)\n",
    "savefig('env_init_final', dirs['env'])"
   ]
  },
  {
   "cell_type": "code",
   "execution_count": null,
   "metadata": {},
   "outputs": [],
   "source": [
    "if animate:\n",
    "    if 'Turn' in xlabel:\n",
    "        text_fmt = 'Turn = {}'\n",
    "    elif 'Position' in xlabel:\n",
    "        text_fmt = 'Position = {:.2f} [m]'\n",
    "    anim = myanim.corner_env(\n",
    "        env_params,\n",
    "        dims='all',\n",
    "        figsize=(5, 5),\n",
    "        limits=None, \n",
    "        show_init=False, \n",
    "        plt_kws=dict(lw=0),\n",
    "        text_fmt=text_fmt, text_vals=xvals,\n",
    "        **anim_kws\n",
    "    )\n",
    "    utils.play(anim)"
   ]
  },
  {
   "cell_type": "markdown",
   "metadata": {},
   "source": [
    "### Transfer matrix "
   ]
  },
  {
   "cell_type": "markdown",
   "metadata": {},
   "source": [
    "Keep in mind that the eigenvectors of the \"effective lattice\" (lattice + space charge) lose meaning if the beam is not matched."
   ]
  },
  {
   "cell_type": "code",
   "execution_count": null,
   "metadata": {},
   "outputs": [],
   "source": [
    "if files_exist['transfer_matrix']:\n",
    "    M = np.loadtxt(filenames['transfer_matrix'])\n",
    "    M_eigvals, M_eigvecs = np.linalg.eig(M)\n",
    "    M_eigtunes = np.degrees(np.arccos(M_eigvals.real))\n",
    "    print('M =')\n",
    "    print(M)\n",
    "    print()\n",
    "    print('Eigenvalues:')\n",
    "    print(M_eigvals[[0, 2]])\n",
    "    print()\n",
    "    print('Phase advances [deg]:')\n",
    "    print(M_eigtunes[[0, 2]])\n",
    "    print()\n",
    "    print('Tunes:')\n",
    "    print(M_eigtunes[[0, 2]] / 360.)"
   ]
  },
  {
   "cell_type": "code",
   "execution_count": null,
   "metadata": {},
   "outputs": [],
   "source": [
    "if files_exist['transfer_matrix']:\n",
    "    \n",
    "    colors = ['red', 'blue']\n",
    "    \n",
    "    fig, axes = pplt.subplots(ncols=2, figsize=(5.25, 2.5), \n",
    "                              share=False, span=False)\n",
    "    axes.format(grid=False)\n",
    "    myplt.despine(axes)\n",
    "    ax1, ax2 = axes\n",
    "\n",
    "    # Plot eigenvalues in complex plane\n",
    "    psi = np.linspace(0, 2*np.pi, 50)\n",
    "    x_circ, y_circ = np.cos(psi), np.sin(psi)\n",
    "    ax1.plot(x_circ, y_circ, 'k-', zorder=0, lw=0.5, alpha=0.5)\n",
    "    for e, c in zip(M_eigvals, colors):\n",
    "        ax1.scatter(e.real, e.imag, color=colors[i % 2])\n",
    "    scale = 1.25\n",
    "    ax1.format(\n",
    "        xticks=[-1, -0.5, 0, 0.5, 1], yticks=[-1, -0.5, 0, 0.5, 1], \n",
    "        ylim=(-scale, scale), xlim=(-scale, scale),\n",
    "        xlabel='Real', ylabel='Imag', title='Eigenvalues')\n",
    "    ax1.annotate(r'$\\mu_1 = {:.2f}\\degree$'.format(M_eigtunes[0]), xy=(0, +0.1), horizontalalignment='center')\n",
    "    ax1.annotate(r'$\\mu_2 = {:.2f}\\degree$'.format(M_eigtunes[2]), xy=(0, -0.1), horizontalalignment='center')\n",
    "\n",
    "    # Plot turn-by-turn trajectory of eigenvectors.\n",
    "    myplt.eigvec_trajectory(ax2, M, 'x', 'y', scatter_kws=dict(s=15, alpha=0.3, mec='none'))\n",
    "    ax2.format(xticklabels=[], yticklabels=[], \n",
    "               ylabel='y', xlabel='x', title='Eigenvectors')\n",
    "\n",
    "    # Add legend.\n",
    "    lines = [Line2D([0], [0], color=c, lw=2) for c in colors]\n",
    "    ax2.legend(lines, labels=[r'$\\vec{v}_1$', r'$\\vec{v}_2$'],\n",
    "               loc=(1.05, 0.7), handlelength=1, ncols=1);\n",
    "\n",
    "    savefig('eigvecs_realspace', dirs['env'])"
   ]
  },
  {
   "cell_type": "code",
   "execution_count": null,
   "metadata": {},
   "outputs": [],
   "source": [
    "if files_exist['transfer_matrix']:\n",
    "    \n",
    "    # Set up figure\n",
    "    fig, axes = pplt.subplots(nrows=3, ncols=3, figsize=(5, 5), span=False)\n",
    "    axes.format(grid=False, suptitle='Transfer matrix eigenvectors')\n",
    "    myplt.make_lower_triangular(axes)\n",
    "    myplt.despine(axes)\n",
    "    labels = [\"x\", \"x'\", \"y\", \"y'\"]\n",
    "    set_labels(axes[-1, :], labels[:-1], 'xlabel')\n",
    "    set_labels(axes[:, 0], labels[1:], 'ylabel')\n",
    "\n",
    "    # Plot eigenvectors and their trajectories.\n",
    "    for i in range(3):\n",
    "        for j in range(3):\n",
    "            if i >= j:\n",
    "                ax = axes[i, j]\n",
    "                dim1 = ['xp', 'y', 'yp'][i]\n",
    "                dim2 = ['x', 'y', 'xp'][j]\n",
    "                myplt.eigvec_trajectory(ax, M, dim1, dim2, colors=['red8', 'blue8'],\n",
    "                                        scatter_kws=dict(s=9, alpha=0.4, mec='none'), \n",
    "                                        arrow_kws=dict(lw=1))\n",
    "\n",
    "    # Zoom out a bit.\n",
    "    for i in range(3):\n",
    "        ymin, ymax = axes[i, 0].get_ylim()\n",
    "        xmin, xmax = axes[-1, i].get_xlim()\n",
    "        scale = 1.2\n",
    "        axes[i, :].format(ylim=(-scale*ymax, scale*ymax))\n",
    "        axes[:, i].format(xlim=(-scale*xmax, scale*xmax))\n",
    "\n",
    "    savefig('eigvecs', dirs['env'])"
   ]
  },
  {
   "cell_type": "markdown",
   "metadata": {},
   "source": [
    "### Test bunch"
   ]
  },
  {
   "cell_type": "markdown",
   "metadata": {},
   "source": [
    "The linear space charge kicks for the test bunch are calculated directly from the envelope parameters."
   ]
  },
  {
   "cell_type": "code",
   "execution_count": null,
   "metadata": {},
   "outputs": [],
   "source": [
    "if files_exist['test_bunch_coords']:\n",
    "    test_coords = np.load(filenames['test_bunch_coords'])\n",
    "    nframes, ntestparts, ndims = test_coords.shape\n",
    "    print('Test bunch coordinates:')\n",
    "    print('nparts, nframes = {}, {}'.format(ntestparts, nframes))"
   ]
  },
  {
   "cell_type": "markdown",
   "metadata": {},
   "source": [
    "## Bunch"
   ]
  },
  {
   "cell_type": "code",
   "execution_count": null,
   "metadata": {},
   "outputs": [],
   "source": [
    "if files_exist['bunch_coords']:\n",
    "    coords = np.load(filenames['bunch_coords'])  \n",
    "    coords[:, :, :4] *= 1000. # convert to [mm mrad]\n",
    "    n_frames, n_parts, n_dims = coords.shape\n",
    "    print('Bunch coordinates:')\n",
    "    print('n_frames, n_parts = {}, {}'.format(n_frames, n_parts))\n",
    "        \n",
    "if files_exist['bunch_moments']:\n",
    "    moments = np.loadtxt(filenames['bunch_moments'])\n",
    "    moments *= 1e6 # convert to [mm mrad]\n",
    "    bunch_stats = ba.BeamStats(mode)\n",
    "    bunch_stats.read_moments(moments)"
   ]
  },
  {
   "cell_type": "markdown",
   "metadata": {},
   "source": [
    "### Twiss parameters "
   ]
  },
  {
   "cell_type": "markdown",
   "metadata": {},
   "source": [
    "#### 2D Twiss"
   ]
  },
  {
   "cell_type": "code",
   "execution_count": null,
   "metadata": {},
   "outputs": [],
   "source": [
    "fig, axes = setup_figure(2);\n",
    "g1 = axes[0].plot(xvals, bunch_stats.twiss2D[['beta_x','beta_y']], **plt_kws)\n",
    "g2 = axes[1].plot(xvals, bunch_stats.twiss2D[['alpha_x','alpha_y']], **plt_kws)\n",
    "g3 = axes[2].plot(xvals, bunch_stats.twiss2D[['eps_x','eps_y']], **plt_kws)\n",
    "axes[0].set_ylabel('[m/rad]')\n",
    "axes[1].set_ylabel('[rad]')\n",
    "axes[2].set_ylabel('[mm mrad]')\n",
    "axes[0].legend(g1, [r'$\\beta_x$', r'$\\beta_y$'], **legend_kws)\n",
    "axes[1].legend(g2, [r'$\\alpha_x$', r'$\\alpha_y$'], **legend_kws)\n",
    "axes[2].legend(g3, [r'$\\varepsilon_x$', r'$\\varepsilon_y$'], **legend_kws)\n",
    "axes.format(**format_kws)\n",
    "savefig('twiss2D', dirs['bunch'])"
   ]
  },
  {
   "cell_type": "markdown",
   "metadata": {},
   "source": [
    "#### Emittance "
   ]
  },
  {
   "cell_type": "code",
   "execution_count": null,
   "metadata": {},
   "outputs": [],
   "source": [
    "if files_exist['bunch_moments']:\n",
    "    fig, ax = pplt.subplots(figsize=(4.0, 2.5))\n",
    "    g1 = ax.plot(xvals, bunch_stats.twiss2D['eps_x'], **plt_kws)\n",
    "    g2 = ax.plot(xvals, bunch_stats.twiss2D['eps_x'], **plt_kws)\n",
    "    g3 = ax.plot(xvals, bunch_stats.twiss4D['eps_1'], **plt_kws)\n",
    "    g4 = ax.plot(xvals, bunch_stats.twiss4D['eps_2'], **plt_kws)\n",
    "    ax.format(ylabel='[mm mrad]', **format_kws)\n",
    "    ax.legend([g1, g2, g3, g4],\n",
    "              labels=[r'$\\varepsilon_x$', r'$\\varepsilon_y$', \n",
    "                      r'$\\varepsilon_1$', r'$\\varepsilon_2$'], \n",
    "              ncols=1, loc='r', framealpha=0.)\n",
    "    savefig('emittances', dirs['bunch'])"
   ]
  },
  {
   "cell_type": "markdown",
   "metadata": {},
   "source": [
    "### Moments "
   ]
  },
  {
   "cell_type": "code",
   "execution_count": null,
   "metadata": {},
   "outputs": [],
   "source": [
    "if files_exist['bunch_moments']:\n",
    "    fig, ax = setup_figure(1)\n",
    "    ax.plot(xvals, bunch_stats.moments[['x_rms', 'y_rms']], **plt_kws)\n",
    "    ax.format(ylabel='Beam size [mm]', **format_kws)\n",
    "    savefig('beamsize', dirs['bunch'])"
   ]
  },
  {
   "cell_type": "code",
   "execution_count": null,
   "metadata": {},
   "outputs": [],
   "source": [
    "if files_exist['bunch_moments']:\n",
    "    fig, ax = setup_figure(1)\n",
    "    ax.plot(xvals, bunch_stats.moments[['xp_rms', 'yp_rms']], **plt_kws)\n",
    "    ax.format(ylabel='Beam div. [mrad]', **format_kws)\n",
    "    savefig('beamdiv', dirs['bunch'])"
   ]
  },
  {
   "cell_type": "code",
   "execution_count": null,
   "metadata": {},
   "outputs": [],
   "source": [
    "fig, axes = pplt.subplots(nrows=4, ncols=4, sharey=False, figsize=(8, 6), \n",
    "                          spany=False, aligny=True)\n",
    "myplt.make_lower_triangular(axes)\n",
    "axes.format(suptitle='Second-order moments', **format_kws)\n",
    "for i in range(4):\n",
    "    for j in range(i + 1):\n",
    "        ax = axes[i, j]\n",
    "        col = plot_utils.moment_label(i, j)\n",
    "        ax.plot(xvals, bunch_stats.moments[col], color='black', **plt_kws)\n",
    "        ax.set_title(plot_utils.moment_label_string(i, j))\n",
    "set_labels(axes[0:, 0], [r'[mm$^2$]', r'[mm mrad]', r'[mm$^2$]', r'mm mrad'], 'ylabel')\n",
    "set_labels(axes[1:, 1], [r'[mrad$^2$]', r'[mm mrad]', r'[mrad$^2$]'], 'ylabel')\n",
    "set_labels(axes[2:, 2], [r'[mm$^2$]', r'[mm mrad]'], 'ylabel')\n",
    "set_labels(axes[3:, 3], [r'[mrad$^2$]'], 'ylabel')\n",
    "savefig('all_moments', dirs['bunch'])"
   ]
  },
  {
   "cell_type": "code",
   "execution_count": null,
   "metadata": {},
   "outputs": [],
   "source": [
    "fig, axes = pplt.subplots(nrows=4, ncols=4, sharey=False, figsize=(8, 6), \n",
    "                          spany=False, aligny=True)\n",
    "myplt.make_lower_triangular(axes)\n",
    "axes.format(suptitle='Correlation coefficents', **format_kws)\n",
    "for i in range(4):\n",
    "    for j in range(i + 1):\n",
    "        ax = axes[i, j]\n",
    "        col = plot_utils.moment_label(i, j)\n",
    "        ax.plot(xvals, bunch_stats.corr[col], color='black', **plt_kws)\n",
    "        ax.set_title(plot_utils.moment_label_string(i, j))\n",
    "savefig('all_correlations', dirs['bunch'])"
   ]
  },
  {
   "cell_type": "markdown",
   "metadata": {},
   "source": [
    "### Beam orientation"
   ]
  },
  {
   "cell_type": "code",
   "execution_count": null,
   "metadata": {},
   "outputs": [],
   "source": [
    "if files_exist['bunch_moments']:\n",
    "    fig, axes = setup_figure(2)\n",
    "    axes[0].plot(xvals, bunch_stats.realspace['angle'], color='black', **plt_kws)\n",
    "    axes[1].plot(xvals, bunch_stats.realspace[['cx', 'cy']], color='black', **plt_kws)\n",
    "    axes[2].plot(xvals, bunch_stats.realspace['area'], color='black', **plt_kws)\n",
    "    set_labels(axes, ['tilt angle', 'ellipse axes [mm]', 'area [frac. change]'], 'ylabel')\n",
    "    axes.format(**format_kws)\n",
    "    axes[0].format(yformatter='deg')\n",
    "    savefig('beam_dims', dirs['bunch'])"
   ]
  },
  {
   "cell_type": "markdown",
   "metadata": {},
   "source": [
    "### Tunes "
   ]
  },
  {
   "cell_type": "code",
   "execution_count": null,
   "metadata": {},
   "outputs": [],
   "source": [
    "fig, ax = pplt.subplots(figsize=(6, 2))\n",
    "part_index = 0\n",
    "myplt.fft(ax, coords[:, part_index, 0], env_coords[:, part_index, 2])\n",
    "ax.legend(ncols=1)\n",
    "ax.format(**format_kws)\n",
    "savefig('fft', dirs['bunch']);"
   ]
  },
  {
   "cell_type": "markdown",
   "metadata": {},
   "source": [
    "### Phase space projections "
   ]
  },
  {
   "cell_type": "code",
   "execution_count": null,
   "metadata": {},
   "outputs": [],
   "source": [
    "figsize = (5.5, 5.5)\n",
    "kind = 'scatter'\n",
    "autolim_kws = dict(sigma=3.0)\n",
    "samples = 10000\n",
    "plot_kws = dict(color='black', ms=1)"
   ]
  },
  {
   "cell_type": "code",
   "execution_count": null,
   "metadata": {},
   "outputs": [],
   "source": [
    "if files_exist['bunch_coords']:\n",
    "    frames = [0, len(coords) - 1]\n",
    "    for frame in frames:\n",
    "        axes = myplt.corner(\n",
    "            coords[i], \n",
    "            figsize=figsize,\n",
    "            kind=kind,\n",
    "            samples=samples,\n",
    "            autolim_kws=autolim_kws,\n",
    "            **plot_kws\n",
    "        )\n",
    "        plt.suptitle(text_fmt.format(xvals[frame]))\n",
    "        savefig('bunch_frame{}'.format(frame), dirs['bunch'])\n",
    "        plt.show()"
   ]
  },
  {
   "cell_type": "code",
   "execution_count": null,
   "metadata": {},
   "outputs": [],
   "source": [
    "if files_exist['bunch_coords'] and animate:\n",
    "    anim = myanim.corner(\n",
    "        coords, \n",
    "        text_fmt=text_fmt, text_vals=xvals,\n",
    "        figsize=figsize,\n",
    "        kind=kind,\n",
    "        samples=samples,\n",
    "        autolim_kws=autolim_kws,\n",
    "        plot_kws=plot_kws,\n",
    "        **anim_kws\n",
    "    )\n",
    "    utils.play(anim)"
   ]
  },
  {
   "cell_type": "markdown",
   "metadata": {},
   "source": [
    "## Comparison "
   ]
  },
  {
   "cell_type": "code",
   "execution_count": null,
   "metadata": {},
   "outputs": [],
   "source": [
    "if files_exist['bunch_moments']:\n",
    "    plt_kws_env = dict(\n",
    "        lw=None,\n",
    "        marker=None,\n",
    "        markersize=None,\n",
    "        color='black',\n",
    "        legend=False,\n",
    "    )\n",
    "    plt_kws_bunch = dict(\n",
    "        lw=0,\n",
    "        marker='.',\n",
    "        markersize=None,\n",
    "        color='red',\n",
    "        legend=False,\n",
    "    )\n",
    "    dataframes = [env_stats, bunch_stats]\n",
    "    kws_list = [plt_kws_env, plt_kws_bunch]"
   ]
  },
  {
   "cell_type": "markdown",
   "metadata": {},
   "source": [
    "### Moments"
   ]
  },
  {
   "cell_type": "code",
   "execution_count": null,
   "metadata": {},
   "outputs": [],
   "source": [
    "if files_exist['bunch_moments']:\n",
    "    fig, axes = setup_figure(4)\n",
    "    for ax, key in zip(axes, ('x_rms', 'y_rms')):\n",
    "        for df, kws in zip(dataframes, kws_list):\n",
    "            ax.plot(xvals, df.moments[key], **kws)\n",
    "    axes.format(xlabel='Turn number', ylabel='[mm]')\n",
    "    set_labels(axes, [r'$\\sqrt{\\langle{x^2}\\rangle}$', r'$\\sqrt{\\langle{y^2}\\rangle}$'], 'title')\n",
    "    axes[1].legend(labels=['theory', 'calc'], ncols=1, loc=(1.02, 0), fontsize='small')\n",
    "    axes.format(**format_kws)\n",
    "    savefig('beamsize', dirs['comparison'])"
   ]
  },
  {
   "cell_type": "code",
   "execution_count": null,
   "metadata": {},
   "outputs": [],
   "source": [
    "if files_exist['bunch_moments']:\n",
    "    fig, axes = setup_figure(4)\n",
    "    for ax, key in zip(axes, ('xp_rms', 'yp_rms')):\n",
    "        for df, kws in zip(dataframes, kws_list):\n",
    "            ax.plot(xvals, df.moments[key], **kws)\n",
    "    axes.format(xlabel='Turn number', ylabel='[mrad]')\n",
    "    set_labels(axes, [r\"$\\sqrt{\\langle{x'^2}\\rangle}$\", r\"$\\sqrt{\\langle{y'^2}\\rangle}$\"], 'title')\n",
    "    axes[1].legend(labels=['theory', 'calc'], ncols=1, loc=(1.02, 0), fontsize='small')\n",
    "    axes.format(**format_kws)\n",
    "    savefig('up', dirs['comparison'])"
   ]
  },
  {
   "cell_type": "code",
   "execution_count": null,
   "metadata": {},
   "outputs": [],
   "source": [
    "if files_exist['bunch_moments']:\n",
    "    fig, ax = pplt.subplots(figsize=(1.25*width, height))\n",
    "    for df, kws in zip(dataframes, kws_list):\n",
    "        ax.plot(xvals, df.corr['xy'], **kws)\n",
    "    ax.format(title=r\"$x$-$y$ corr. coef.\", xlabel='Turn number')\n",
    "    ax.legend(labels=['theory', 'calc'], ncols=1, loc=(1.02, 0), fontsize='small')\n",
    "    ax.format(**format_kws)\n",
    "    savefig('xy_corr', dirs['comparison'])"
   ]
  },
  {
   "cell_type": "code",
   "execution_count": null,
   "metadata": {},
   "outputs": [],
   "source": [
    "if files_exist['bunch_moments']:\n",
    "    fig, axes = pplt.subplots(nrows=4, ncols=4, sharey=False, figsize=(8, 6), spany=False, aligny=True)\n",
    "    myplt.make_lower_triangular(axes)\n",
    "    for i in range(4):\n",
    "        for j in range(i + 1):\n",
    "            ax = axes[i, j]\n",
    "            ax.format(title=plot_utils.moment_label_string(i, j))\n",
    "            col = plot_utils.moment_label(i, j)\n",
    "            for df, kws in zip(dataframes, kws_list):\n",
    "                ax.plot(xvals, df.moments[col].values, **kws)\n",
    "    set_labels(axes[0:, 0], [r'[mm$^2$]', r'[mm$\\cdot$mrad]', r'[mm$^2$]', r'mm$\\cdot$mrad'], 'ylabel')\n",
    "    set_labels(axes[1:, 1], [r'[mrad$^2$]', r'[mm$\\cdot$mrad]', r'[mrad$^2$]'], 'ylabel')\n",
    "    set_labels(axes[2:, 2], [r'[mm$^2$]', r'[mm$\\cdot$mrad]'], 'ylabel')\n",
    "    set_labels(axes[3:, 3], [r'[mrad$^2$]'], 'ylabel')\n",
    "    custom_lines = [Line2D([0], [0], color=plt_kws_env['color']),\n",
    "                    Line2D([0], [0], color=plt_kws_bunch['color'])]\n",
    "    axes[0, 1].legend(custom_lines, ['theory', 'calc'], ncols=1)\n",
    "    axes.format(suptitle='Transverse moments', **format_kws)\n",
    "    savefig('all_moments', dirs['comparison'])"
   ]
  },
  {
   "cell_type": "code",
   "execution_count": null,
   "metadata": {},
   "outputs": [],
   "source": [
    "if files_exist['bunch_moments']:\n",
    "    fig, axes = pplt.subplots(nrows=4, ncols=4, sharey=False, figsize=(8, 6), spany=False, aligny=True)\n",
    "    myplt.make_lower_triangular(axes)\n",
    "    for i in range(4):\n",
    "        for j in range(i + 1):\n",
    "            ax = axes[i, j]\n",
    "            ax.format(title=plot_utils.moment_label_string(i, j))\n",
    "            col = plot_utils.moment_label(i, j)\n",
    "            for df, kws in zip(dataframes, kws_list):\n",
    "                ax.plot(xvals, df.corr[col].values, **kws)\n",
    "    custom_lines = [Line2D([0], [0], color=plt_kws_env['color']),\n",
    "                    Line2D([0], [0], color=plt_kws_bunch['color'])]\n",
    "    axes[0, 1].legend(custom_lines, ['theory', 'calc'], ncols=1)\n",
    "    axes.format(xlabel='Turn number', suptitle='Transverse moments', grid=False)\n",
    "    savefig('all_corr', dirs['comparison'])"
   ]
  },
  {
   "cell_type": "markdown",
   "metadata": {},
   "source": [
    "### Twiss parameters"
   ]
  },
  {
   "cell_type": "code",
   "execution_count": null,
   "metadata": {},
   "outputs": [],
   "source": [
    "if files_exist['bunch_moments']:\n",
    "    fig, axes = setup_figure(3)\n",
    "    for df, kws in zip(dataframes, kws_list):\n",
    "        axes[0, 0].plot(xvals, df.twiss2D['beta_x'].values, **kws)\n",
    "        axes[0, 1].plot(xvals, df.twiss2D['beta_y'].values, **kws)\n",
    "        axes[1, 0].plot(xvals, df.twiss2D['alpha_x'].values, **kws)\n",
    "        axes[1, 1].plot(xvals, df.twiss2D['alpha_y'].values, **kws)\n",
    "        axes[2, 0].plot(xvals, df.twiss2D['eps_x'].values, **kws)\n",
    "        axes[2, 1].plot(xvals, df.twiss2D['eps_y'].values, **kws)\n",
    "    axes.format(collabels=['Horizontal', 'Vertical'], **format_kws)\n",
    "    axes[0, 0].set_ylabel(r'$\\beta$ [m]')\n",
    "    axes[1, 0].set_ylabel(r'$\\alpha$ [m]')\n",
    "    axes[2, 0].set_ylabel(r'$\\varepsilon$ [m]')\n",
    "    savefig('twiss2D', dirs['comparison'])"
   ]
  },
  {
   "cell_type": "code",
   "execution_count": null,
   "metadata": {},
   "outputs": [],
   "source": [
    "if files_exist['bunch_moments']:\n",
    "    fig, axes = setup_figure(3)\n",
    "    for df, kws in zip(dataframes, kws_list):\n",
    "        axes[0, 0].plot(xvals, df.twiss4D['beta_x'].values, **kws)\n",
    "        axes[0, 1].plot(xvals, df.twiss4D['beta_y'].values, **kws)\n",
    "        axes[1, 0].plot(xvals, df.twiss4D['alpha_x'].values, **kws)\n",
    "        axes[1, 1].plot(xvals, df.twiss4D['alpha_y'].values, **kws)\n",
    "        axes[2, 0].plot(xvals, df.twiss4D['u'].values, **kws)\n",
    "    axes.format(collabels=['Horizontal', 'Vertical'], **format_kws)\n",
    "    set_labels(axes[:, 0], [r'$\\beta$ [m]', r'$\\alpha$ [rad]', 'u'], 'ylabel')\n",
    "    savefig('twiss4D', dirs['comparison'])"
   ]
  },
  {
   "cell_type": "markdown",
   "metadata": {},
   "source": [
    "### Beam dimensions "
   ]
  },
  {
   "cell_type": "code",
   "execution_count": null,
   "metadata": {},
   "outputs": [],
   "source": [
    "if files_exist['bunch_moments']:\n",
    "    fig, axes = pplt.subplots(nrows=2, figsize=(width, 1.5*height), spany=False, aligny=True)\n",
    "    for df, kws in zip(dataframes, kws_list):\n",
    "        axes[0].plot(xvals, df.realspace['angle'].values, **kws)\n",
    "        axes[1].plot(xvals, df.realspace['area'].values, **kws)\n",
    "    axes[0].format(ylabel='tilt angle', yformatter='deg')\n",
    "    axes[1].format(ylabel=r'area [mm$^2$]')\n",
    "    axes.format(**format_kws)\n",
    "    savefig('beam_dims', dirs['comparison'])"
   ]
  },
  {
   "cell_type": "markdown",
   "metadata": {},
   "source": [
    "### Phase space projections"
   ]
  },
  {
   "cell_type": "code",
   "execution_count": null,
   "metadata": {
    "tags": []
   },
   "outputs": [],
   "source": [
    "if files_exist['bunch_coords']:\n",
    "    frames = [0, len(coords) - 1]\n",
    "    for frame in frames:\n",
    "        axes = myplt.corner(\n",
    "            coords[frame], \n",
    "            figsize=figsize,\n",
    "            kind=kind,\n",
    "            samples=samples,\n",
    "            autolim_kws=autolim_kws,\n",
    "            env_params=env_params[frame],\n",
    "            env_kws=dict(color='red', lw=0.5, zorder=int(1e12)),\n",
    "            **plot_kws\n",
    "        )\n",
    "        plt.suptitle(text_fmt.format(xvals[frame]))\n",
    "        savefig('bunch_frame{}'.format(frame), dirs['comparison'])\n",
    "        plt.show()"
   ]
  },
  {
   "cell_type": "code",
   "execution_count": null,
   "metadata": {},
   "outputs": [],
   "source": [
    "if files_exist['bunch_coords'] and animate:\n",
    "    anim = myanim.corner(\n",
    "        coords, \n",
    "        text_fmt=text_fmt, text_vals=xvals,\n",
    "        figsize=figsize,\n",
    "        kind=kind,\n",
    "        samples=samples,\n",
    "        autolim_kws=autolim_kws,\n",
    "        plot_kws=plot_kws,\n",
    "        env_params = env_params,\n",
    "        env_kws=dict(color='red', lw=1.0, zorder=int(1e12)),\n",
    "        **anim_kws\n",
    "    )\n",
    "    utils.play(anim)"
   ]
  }
 ],
 "metadata": {
  "kernelspec": {
   "display_name": "Python 3",
   "language": "python",
   "name": "python3"
  },
  "language_info": {
   "codemirror_mode": {
    "name": "ipython",
    "version": 3
   },
   "file_extension": ".py",
   "mimetype": "text/x-python",
   "name": "python",
   "nbconvert_exporter": "python",
   "pygments_lexer": "ipython3",
   "version": "3.7.6"
  },
  "toc": {
   "base_numbering": 1,
   "nav_menu": {},
   "number_sections": true,
   "sideBar": true,
   "skip_h1_title": true,
   "title_cell": "Table of Contents",
   "title_sidebar": "Contents",
   "toc_cell": false,
   "toc_position": {
    "height": "calc(100% - 180px)",
    "left": "10px",
    "top": "150px",
    "width": "273.3823547363281px"
   },
   "toc_section_display": true,
   "toc_window_display": true
  },
  "toc-autonumbering": true,
  "toc-showcode": false,
  "toc-showmarkdowntxt": false,
  "toc-showtags": false
 },
 "nbformat": 4,
 "nbformat_minor": 4
}
