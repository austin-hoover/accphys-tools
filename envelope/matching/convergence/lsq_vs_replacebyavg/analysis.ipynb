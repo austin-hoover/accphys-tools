{
 "cells": [
  {
   "cell_type": "code",
   "execution_count": null,
   "metadata": {},
   "outputs": [],
   "source": [
    "import sys\n",
    "import numpy as np\n",
    "import pandas as pd\n",
    "from matplotlib import pyplot as plt\n",
    "from matplotlib.lines import Line2D\n",
    "import proplot as plot\n",
    "\n",
    "sys.path.append('/Users/46h/Research/code/accphys/')\n",
    "from tools import plotting as myplt\n",
    "from tools import beam_analysis as ba"
   ]
  },
  {
   "cell_type": "code",
   "execution_count": null,
   "metadata": {},
   "outputs": [],
   "source": [
    "plot.rc['figure.facecolor'] = 'white'\n",
    "plot.rc['grid.alpha'] = 0.04\n",
    "plot.rc['savefig.dpi'] = 'figure' \n",
    "plot.rc['animation.html'] = 'jshtml'\n",
    "dpi = 500"
   ]
  },
  {
   "cell_type": "code",
   "execution_count": null,
   "metadata": {},
   "outputs": [],
   "source": [
    "perveances = np.load('_output/data/perveances.npy')\n",
    "cost_lists = np.load('_output/data/cost_lists.npy')\n",
    "cost_lists = {'lsq': cost_lists[0], 'rba': cost_lists[1]}\n",
    "\n",
    "tbt_params_lists = np.load('_output/data/tbt_params_lists.npy')\n",
    "matched_params_lists = []\n",
    "for tbt_params_list in tbt_params_lists:\n",
    "    matched_params_list = np.array([tbt_params[0] for tbt_params in tbt_params_list])\n",
    "    matched_params_lists.append(matched_params_list)\n",
    "\n",
    "tbt_stats_lists = []\n",
    "for tbt_params_list in tbt_params_lists:\n",
    "    tbt_stats_list = []\n",
    "    for tbt_params in tbt_params_list:\n",
    "        tbt_stats = ba.Stats(mode=1)\n",
    "        tbt_stats.read_env(tbt_params)\n",
    "        tbt_stats_list.append(tbt_stats)\n",
    "    tbt_stats_lists.append(tbt_stats_list)\n",
    "\n",
    "tbt_stats_lists = {'lsq': tbt_stats_lists[0], 'rba': tbt_stats_lists[1]}\n",
    "matched_params_lists = {'lsq': matched_params_lists[0], 'rba': matched_params_lists[1]}\n",
    "nsamples = len(perveances)"
   ]
  },
  {
   "cell_type": "code",
   "execution_count": null,
   "metadata": {},
   "outputs": [],
   "source": [
    "fig, ax = plot.subplots(figsize=(5, 3))\n",
    "start = 0\n",
    "skip = 2\n",
    "alpha = 0.1\n",
    "\n",
    "cmap = 'fire_r'\n",
    "cmap_range = (0, 0.9)\n",
    "cycle = myplt.colorcycle(plot.Colormap(cmap), len(perveances[start::skip]), cmap_range)\n",
    "ax.set_prop_cycle(cycle)\n",
    "g1 = ax.plot(1e5 * perveances[start::skip], cost_lists['lsq'][start::skip], lw=0, marker='x', ms=3.5, color='k')\n",
    "g2 = ax.plot(1e5 * perveances[start::skip], cost_lists['rba'][start::skip], lw=0, marker='.', ms=5, color='k')\n",
    "ax.format(xlabel=r'$10^{-5}$  Q', ylabel=r'$log_{10}\\,(cost)$', yscale='log', yformatter='log')\n",
    "ax.legend([g1, g2], labels=['Packaged optimizer', 'Custom method'], ncols=2, loc='t')\n",
    "ax.grid(axis='x')\n",
    "\n",
    "ylim = ax.get_ylim()\n",
    "ax.axhspan(0, 1e-10, facecolor='green', alpha=alpha)\n",
    "ax.axhspan(1e-10, 1e-3, facecolor='yellow', alpha=alpha)\n",
    "ax.axhspan(1e-3, 1e10, facecolor='red', alpha=alpha)\n",
    "ax.set_ylim(ylim)\n",
    "custom_lines = [Line2D([0], [0], color='red', lw=4, alpha=alpha),\n",
    "                Line2D([0], [0], color='yellow', lw=4, alpha=alpha),\n",
    "                Line2D([0], [0], color='green', lw=4, alpha=alpha)]\n",
    "ax.legend(custom_lines, ['Large mismatch', 'Small mismatch', 'Matched'], ncols=1, loc='r')\n",
    "\n",
    "plt.savefig('_output/figures/costfunc.png', dpi=dpi, facecolor='white')"
   ]
  },
  {
   "cell_type": "code",
   "execution_count": null,
   "metadata": {},
   "outputs": [],
   "source": [
    "start, stop, step = (0, -1, 6)\n",
    "perveances_subset = perveances[start:stop:step]\n",
    "labels = ['{:.1f}'.format(Q / 1e-5) for Q in perveances_subset]\n",
    "cmap = 'fire_r'\n",
    "cmap_range = (0, 0.9)\n",
    "marker = '.'\n",
    "cycle = myplt.colorcycle(plot.Colormap(cmap), len(perveances_subset), cmap_range)\n",
    "\n",
    "fig, axes = plot.subplots(ncols=2, figsize=(7, 3))\n",
    "for ax, method in zip(axes, ['lsq', 'rba']):\n",
    "    axes.set_prop_cycle(cycle)\n",
    "    tbt_stats_lists_subset = tbt_stats_lists[method][start:stop:step]\n",
    "    for i, stats in enumerate(tbt_stats_lists_subset):\n",
    "        data = stats.twiss4D['nu'].values\n",
    "        if i == 0:\n",
    "            data = np.full(len(data), 0.0)\n",
    "        colorbar = 'r' if method == 'rba' else None\n",
    "        lw = 0.75 if method == 'lsq' else 0.5\n",
    "        ax.plot(data, marker=marker, ms=3, lw=lw, colorbar=colorbar, \n",
    "                colorbar_kw=dict(label=r'$10^{-5}$  Q', width='0.5em',\n",
    "                                 ticklabels=(labels[0], labels[-1]),\n",
    "                                 ticks=[0, len(perveances_subset)-1])\n",
    "               )\n",
    "    ax.format(grid=False, xlabel='Turn number', ylabel=r'$\\nu$', yformatter='deg', toplabels=['Packaged optimizer', 'Custom method'])\n",
    "\n",
    "plt.savefig('_output/figures/tbt_{}.png'.format(cmap), dpi=dpi, facecolor='white')"
   ]
  }
 ],
 "metadata": {
  "kernelspec": {
   "display_name": "Python 3",
   "language": "python",
   "name": "python3"
  },
  "language_info": {
   "codemirror_mode": {
    "name": "ipython",
    "version": 3
   },
   "file_extension": ".py",
   "mimetype": "text/x-python",
   "name": "python",
   "nbconvert_exporter": "python",
   "pygments_lexer": "ipython3",
   "version": "3.7.6"
  },
  "toc": {
   "base_numbering": 1,
   "nav_menu": {},
   "number_sections": true,
   "sideBar": true,
   "skip_h1_title": true,
   "title_cell": "Table of Contents",
   "title_sidebar": "Contents",
   "toc_cell": false,
   "toc_position": {
    "height": "calc(100% - 180px)",
    "left": "10px",
    "top": "150px",
    "width": "273.3823547363281px"
   },
   "toc_section_display": true,
   "toc_window_display": true
  },
  "toc-autonumbering": true,
  "toc-showcode": false,
  "toc-showmarkdowntxt": false,
  "toc-showtags": false
 },
 "nbformat": 4,
 "nbformat_minor": 4
}
