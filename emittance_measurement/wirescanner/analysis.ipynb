{
 "cells": [
  {
   "cell_type": "markdown",
   "metadata": {},
   "source": [
    "# Emittance measurement simulation"
   ]
  },
  {
   "cell_type": "code",
   "execution_count": null,
   "metadata": {},
   "outputs": [],
   "source": [
    "import sys\n",
    "import os\n",
    "from pprint import pprint\n",
    "\n",
    "import numpy as np\n",
    "from matplotlib import pyplot as plt\n",
    "import proplot as pplt\n",
    "from tqdm import tqdm\n",
    "\n",
    "sys.path.append('/Users/46h/Research/')\n",
    "from accphys.tools import beam_analysis as ba\n",
    "from accphys.tools import plotting as myplt\n",
    "from accphys.tools import utils"
   ]
  },
  {
   "cell_type": "code",
   "execution_count": null,
   "metadata": {},
   "outputs": [],
   "source": [
    "pplt.rc['grid.alpha'] = 0.05\n",
    "pplt.rc['axes.grid'] = False\n",
    "format_kws = dict(ygrid=True, xgrid=False)\n",
    "savefig_kws = dict(dpi=300)"
   ]
  },
  {
   "cell_type": "markdown",
   "metadata": {},
   "source": [
    "## Load data"
   ]
  },
  {
   "cell_type": "code",
   "execution_count": null,
   "metadata": {},
   "outputs": [],
   "source": [
    "turns = np.loadtxt('_output/data/turns.dat').astype(int)\n",
    "print(turns)"
   ]
  },
  {
   "cell_type": "code",
   "execution_count": null,
   "metadata": {},
   "outputs": [],
   "source": [
    "intensities = np.loadtxt('_output/data/intensities.dat')\n",
    "print(intensities)"
   ]
  },
  {
   "cell_type": "code",
   "execution_count": null,
   "metadata": {},
   "outputs": [],
   "source": [
    "file = open('_output/data/rec_node_names.txt', 'r')\n",
    "rec_node_names = [line.rstrip() for line in file]\n",
    "file.close()"
   ]
  },
  {
   "cell_type": "code",
   "execution_count": null,
   "metadata": {},
   "outputs": [],
   "source": [
    "rec_node_positions = np.loadtxt('_output/data/rec_node_positions.dat')"
   ]
  },
  {
   "cell_type": "markdown",
   "metadata": {},
   "source": [
    "Sigmas_rec[i, j, :, :] is the reconstructed covariance matrix $\\Sigma$ for node i, trial j. We also compute the mean and standard deviation of $\\Sigma$ across trials. We use the mean values to compute the beam statistics."
   ]
  },
  {
   "cell_type": "code",
   "execution_count": null,
   "metadata": {},
   "outputs": [],
   "source": [
    "Sigmas_rec_list = []\n",
    "Sigmas_rec_mean_list = []\n",
    "Sigmas_rec_std_list = []\n",
    "for frame in range(len(turns)):\n",
    "    Sigmas = np.load('_output/data/Sigmas_rec_{}.npy'.format(frame))\n",
    "    Sigmas_rec_list.append(Sigmas)\n",
    "    Sigmas_rec_mean_list.append(np.mean(Sigmas, axis=1))\n",
    "    Sigmas_rec_std_list.append(np.std(Sigmas, axis=1))"
   ]
  },
  {
   "cell_type": "code",
   "execution_count": null,
   "metadata": {},
   "outputs": [],
   "source": [
    "stats_rec_list = []\n",
    "for Sigmas_mean in tqdm(Sigmas_rec_mean_list):\n",
    "    moments_mean = np.array([utils.mat2vec(Sigma) for Sigma in Sigmas_mean])\n",
    "    stats_rec = ba.StatsReader()\n",
    "    stats_rec.read_moments(moments_mean)\n",
    "    stats_rec_list.append(stats_rec)"
   ]
  },
  {
   "cell_type": "markdown",
   "metadata": {},
   "source": [
    "Do the same for the simulated moments. These are calculated directly from the simulated bunch."
   ]
  },
  {
   "cell_type": "code",
   "execution_count": null,
   "metadata": {},
   "outputs": [],
   "source": [
    "Sigmas_sim_list = []\n",
    "Sigmas_sim_mean_list = []\n",
    "Sigmas_sim_std_list = []\n",
    "for frame in range(len(turns)):\n",
    "    Sigmas = np.load('_output/data/Sigmas_sim_{}.npy'.format(frame))\n",
    "    Sigmas_rec_list.append(Sigmas)\n",
    "    Sigmas_sim_mean_list.append(np.mean(Sigmas, axis=1))\n",
    "    Sigmas_sim_std_list.append(np.std(Sigmas, axis=1))"
   ]
  },
  {
   "cell_type": "code",
   "execution_count": null,
   "metadata": {},
   "outputs": [],
   "source": [
    "stats_sim_list = []\n",
    "for Sigmas_mean in tqdm(Sigmas_sim_mean_list):\n",
    "    moments_mean = np.array([utils.mat2vec(Sigma) for Sigma in Sigmas_mean])\n",
    "    stats_sim = ba.StatsReader()\n",
    "    stats_sim.read_moments(moments_mean)\n",
    "    stats_sim_list.append(stats_sim)"
   ]
  },
  {
   "cell_type": "markdown",
   "metadata": {},
   "source": [
    "## Comparison "
   ]
  },
  {
   "cell_type": "code",
   "execution_count": null,
   "metadata": {},
   "outputs": [],
   "source": [
    "line_kws_sim = dict(lw=1.0)\n",
    "line_kws_rec = dict(ls='dotted', lw=1.0)"
   ]
  },
  {
   "cell_type": "code",
   "execution_count": null,
   "metadata": {},
   "outputs": [],
   "source": [
    "for i in range(len(turns)):\n",
    "    stats_rec = stats_rec_list[i]\n",
    "    stats_sim = stats_sim_list[i]\n",
    "    turn = turns[i]\n",
    "    \n",
    "    fig, axes = pplt.subplots(nrows=2, figsize=(5.5, 3.75))\n",
    "    g1 = axes[0].plot(rec_node_positions[:, 0], stats_sim.twiss2D['beta_x'], **line_kws_sim)\n",
    "    g2 = axes[0].plot(rec_node_positions[:, 0], stats_sim.twiss2D['beta_y'], **line_kws_sim)\n",
    "    axes[0].format(cycle='colorblind')\n",
    "    g3 = axes[0].plot(rec_node_positions[:, 0], stats_rec.twiss2D['beta_x'], **line_kws_rec)\n",
    "    g4 = axes[0].plot(rec_node_positions[:, 0], stats_rec.twiss2D['beta_y'], **line_kws_rec)\n",
    "    axes[0].legend(\n",
    "        [g1, g2, g3, g4], \n",
    "        labels=[r'$\\beta_x$ (sim)', r'$\\beta_y$ (sim)', \n",
    "                r'$\\beta_x$ (rec)', r'$\\beta_y$ (rec)'],\n",
    "        ncols=1, loc='r', framealpha=0.\n",
    "    )\n",
    "    g1 = axes[1].plot(rec_node_positions[:, 0], stats_sim.twiss2D['alpha_x'], **line_kws_sim)\n",
    "    g2 = axes[1].plot(rec_node_positions[:, 0], stats_sim.twiss2D['alpha_y'], **line_kws_sim)\n",
    "    axes[1].format(cycle='colorblind')\n",
    "    g3 = axes[1].plot(rec_node_positions[:, 0], stats_rec.twiss2D['alpha_x'], **line_kws_rec)\n",
    "    g4 = axes[1].plot(rec_node_positions[:, 0], stats_rec.twiss2D['alpha_y'], **line_kws_rec)\n",
    "    axes[1].legend(\n",
    "        [g1, g2, g3, g4], \n",
    "        labels=[r'$\\alpha_x$ (sim)', r'$\\alpha_x$ (sim)', \n",
    "                r'$\\alpha_x$ (rec)', r'$\\alpha_y$ (rec)'],\n",
    "        ncols=1, loc='r', framealpha=0.\n",
    "    )\n",
    "    axes[0].format(\n",
    "        ylabel='[m/rad]', xlabel='Position [m]', \n",
    "        ylim=(0., 105.),\n",
    "        title='Reconstructed Twiss parameters -- turn {}'.format(turn)\n",
    "    )\n",
    "    axes[1].format(\n",
    "        ylabel='[rad]', xlabel='Position [m]', \n",
    "        ylim=(-max(axes[1].get_ylim()), max(axes[1].get_ylim()))\n",
    "    )\n",
    "    plt.show()"
   ]
  },
  {
   "cell_type": "code",
   "execution_count": null,
   "metadata": {},
   "outputs": [],
   "source": [
    "for i in range(len(turns)):\n",
    "    stats_rec = stats_rec_list[i]\n",
    "    stats_sim = stats_sim_list[i]\n",
    "    turn = turns[i]\n",
    "    \n",
    "    fig, ax = pplt.subplots(figsize=(5.25, 2.0))\n",
    "    g1 = ax.plot(rec_node_positions[:, 0], stats_sim.twiss2D['eps_x'], **line_kws_sim)\n",
    "    g2 = ax.plot(rec_node_positions[:, 0], stats_sim.twiss2D['eps_y'], **line_kws_sim)\n",
    "    g3 = ax.plot(rec_node_positions[:, 0], stats_sim.twiss4D['eps_1'], **line_kws_sim)\n",
    "    g4 = ax.plot(rec_node_positions[:, 0], stats_sim.twiss4D['eps_2'], **line_kws_sim)\n",
    "    ax.format(cycle='colorblind')\n",
    "    g5 = ax.plot(rec_node_positions[:, 0], stats_rec.twiss2D['eps_x'], **line_kws_rec)\n",
    "    g6 = ax.plot(rec_node_positions[:, 0], stats_rec.twiss2D['eps_y'], **line_kws_rec)\n",
    "    g7 = ax.plot(rec_node_positions[:, 0], stats_rec.twiss4D['eps_1'], **line_kws_rec)\n",
    "    g8 = ax.plot(rec_node_positions[:, 0], stats_rec.twiss4D['eps_2'], **line_kws_rec)\n",
    "    ax.legend(\n",
    "        handles=[g1, g5, g2, g6, g3, g7, g4, g8], \n",
    "        labels=[r'$\\varepsilon_x$ (sim)', r'$\\varepsilon_x$ (rec)', \n",
    "                r'$\\varepsilon_y$ (sim)', r'$\\varepsilon_y$ (rec)',\n",
    "                r'$\\varepsilon_1$ (sim)', r'$\\varepsilon_1$ (rec)', \n",
    "                r'$\\varepsilon_2$ (sim)', r'$\\varepsilon_2$ (rec)',\n",
    "               ],\n",
    "        ncols=2, loc='r', framealpha=0.\n",
    "    )\n",
    "    ax.format(\n",
    "        ylabel='[mm mrad]', xlabel='Position [m]', \n",
    "        ylim=(0., ax.get_ylim()[1]),\n",
    "        title='Reconstructed emittances -- turn {}'.format(turn)\n",
    "    )\n",
    "    plt.show()"
   ]
  },
  {
   "cell_type": "code",
   "execution_count": null,
   "metadata": {},
   "outputs": [],
   "source": [
    "sim_kws = dict(color='black')\n",
    "rec_kws = dict(color='red', lw=0, marker='.', ms=3)\n",
    "# rec_kws = dict(color='red', ls='dotted')\n",
    "labels = [\n",
    "    r\"$\\langle{xx}\\rangle$\",\n",
    "    r\"$\\langle{xx'}\\rangle$\",\n",
    "    r\"$\\langle{xy}\\rangle$\",\n",
    "    r\"$\\langle{xy'}\\rangle$\",\n",
    "    r\"$\\langle{x'x'}\\rangle$\",\n",
    "    r\"$\\langle{x'y}\\rangle$\",\n",
    "    r\"$\\langle{x'y'}\\rangle$\",\n",
    "    r\"$\\langle{yy}\\rangle$\",\n",
    "    r\"$\\langle{yy'}\\rangle$\",\n",
    "    r\"$\\langle{y'y'}\\rangle$\",\n",
    "]"
   ]
  },
  {
   "cell_type": "code",
   "execution_count": null,
   "metadata": {},
   "outputs": [],
   "source": [
    "for i in range(len(turns)):\n",
    "    stats_rec = stats_rec_list[i]\n",
    "    stats_sim = stats_sim_list[i]\n",
    "    turn = turns[i]\n",
    "    fig, axes = pplt.subplots(nrows=10, figsize=(4, 12), spany=False)\n",
    "    for i, ax in enumerate(axes):\n",
    "        ax.plot(rec_node_positions[:, 0], stats_sim.moments.iloc[:, i], **sim_kws)\n",
    "        ax.plot(rec_node_positions[:, 0], stats_rec.moments.iloc[:, i], **rec_kws)\n",
    "        ax.format(ylabel=labels[i], suptitle='Second-order moments -- turn {}'.format(turn))\n",
    "    plt.show()"
   ]
  },
  {
   "cell_type": "code",
   "execution_count": null,
   "metadata": {},
   "outputs": [],
   "source": [
    "for i in range(len(turns)):\n",
    "    stats_rec = stats_rec_list[i]\n",
    "    stats_sim = stats_sim_list[i]\n",
    "    turn = turns[i]\n",
    "    fig, axes = pplt.subplots(nrows=10, figsize=(4, 12), spany=False)\n",
    "    for i, ax in enumerate(axes):\n",
    "        ax.plot(rec_node_positions[:, 0], stats_sim.corr.iloc[:, i], **sim_kws)\n",
    "        ax.plot(rec_node_positions[:, 0], stats_rec.corr.iloc[:, i], **rec_kws)\n",
    "        ax.format(ylabel=labels[i], suptitle='Correlation coefficients -- turn {}'.format(turn))\n",
    "    plt.show()"
   ]
  },
  {
   "cell_type": "markdown",
   "metadata": {},
   "source": [
    "## Wire-scanner accuracy"
   ]
  },
  {
   "cell_type": "markdown",
   "metadata": {},
   "source": [
    "One worry is that the moments estimated from the wire-scanner profiles will be inaccurate when the transverse beam size is small. We should be able to test this directly."
   ]
  }
 ],
 "metadata": {
  "kernelspec": {
   "display_name": "Python 3",
   "language": "python",
   "name": "python3"
  },
  "language_info": {
   "codemirror_mode": {
    "name": "ipython",
    "version": 3
   },
   "file_extension": ".py",
   "mimetype": "text/x-python",
   "name": "python",
   "nbconvert_exporter": "python",
   "pygments_lexer": "ipython3",
   "version": "3.7.6"
  }
 },
 "nbformat": 4,
 "nbformat_minor": 4
}
