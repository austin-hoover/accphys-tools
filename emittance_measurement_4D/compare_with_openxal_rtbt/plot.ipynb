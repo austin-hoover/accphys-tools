{
 "cells": [
  {
   "cell_type": "code",
   "execution_count": null,
   "metadata": {},
   "outputs": [],
   "source": [
    "from matplotlib import pyplot as plt\n",
    "import proplot as plot\n",
    "import numpy as np\n",
    "import pandas as pd"
   ]
  },
  {
   "cell_type": "code",
   "execution_count": null,
   "metadata": {},
   "outputs": [],
   "source": [
    "plt.rcParams['grid.alpha'] = 0.04"
   ]
  },
  {
   "cell_type": "code",
   "execution_count": null,
   "metadata": {},
   "outputs": [],
   "source": [
    "twiss = pd.read_csv('twiss.dat')\n",
    "twiss"
   ]
  },
  {
   "cell_type": "code",
   "execution_count": null,
   "metadata": {},
   "outputs": [],
   "source": [
    "fig, ax = plot.subplots(figsize=(6, 2))\n",
    "twiss[['s','bx','by']].plot('s', ax=ax);"
   ]
  },
  {
   "cell_type": "code",
   "execution_count": null,
   "metadata": {},
   "outputs": [],
   "source": [
    "fields = {\n",
    "    'QTH_C10': 3.85416812958,\n",
    "    'QTV_C11': -4.18741676871,\n",
    "    'q01': -3.41013438025,\n",
    "    'q02': 3.37715737182,\n",
    "    'q03': -3.23722832488,\n",
    "    'q04': 3.57404349725,\n",
    "    'q05': -4.78438338855,\n",
    "    'q06': 4.94229199892,\n",
    "    'q07': -4.78438338855,\n",
    "    'q08': 4.94229199892,\n",
    "    'q09': -4.78438338855,\n",
    "    'q10': 4.94229199892,\n",
    "    'q11': -4.78438338855,\n",
    "    'q12': 3.58903731497,\n",
    "    'q13': -3.1352892,\n",
    "    'q14': 2.41667911786,\n",
    "    'q15': -2.3227245,\n",
    "    'q16': 2.0218941,\n",
    "    'q17': -2.4766429,\n",
    "    'q18': 2.2697608,\n",
    "    'q19': -2.2697574,\n",
    "    'q20': 2.2697608,\n",
    "    'q21': -2.2697574,\n",
    "    'q22': 2.2697608,\n",
    "    'q23': -2.2697574,\n",
    "    'q24': 2.2697608,\n",
    "    'q25': -2.2697574,\n",
    "    'q26': 2.7664859,\n",
    "    'q27': -1.4222225,\n",
    "    'q28': 2.1498244,\n",
    "    'q29': -1.39923378669,\n",
    "    'q30': 0.5786831,\n",
    "}"
   ]
  },
  {
   "cell_type": "code",
   "execution_count": null,
   "metadata": {},
   "outputs": [],
   "source": [
    "for node_id in fields:\n",
    "    fields[node_id] *= 0.2997925 / 1.6960377354292564"
   ]
  },
  {
   "cell_type": "code",
   "execution_count": null,
   "metadata": {},
   "outputs": [],
   "source": [
    "fields"
   ]
  },
  {
   "cell_type": "code",
   "execution_count": null,
   "metadata": {},
   "outputs": [],
   "source": []
  }
 ],
 "metadata": {
  "kernelspec": {
   "display_name": "Python 3",
   "language": "python",
   "name": "python3"
  },
  "language_info": {
   "codemirror_mode": {
    "name": "ipython",
    "version": 3
   },
   "file_extension": ".py",
   "mimetype": "text/x-python",
   "name": "python",
   "nbconvert_exporter": "python",
   "pygments_lexer": "ipython3",
   "version": "3.7.6"
  }
 },
 "nbformat": 4,
 "nbformat_minor": 4
}
