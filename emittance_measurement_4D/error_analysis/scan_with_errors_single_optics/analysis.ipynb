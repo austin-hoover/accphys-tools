{
 "cells": [
  {
   "cell_type": "code",
   "execution_count": null,
   "metadata": {},
   "outputs": [],
   "source": [
    "import numpy as np\n",
    "import matplotlib.pyplot as plt\n",
    "import proplot as plot\n",
    "\n",
    "plot.rc['grid.alpha'] = 0.04\n",
    "plot.rc['figure.facecolor'] = 'white'"
   ]
  },
  {
   "cell_type": "code",
   "execution_count": null,
   "metadata": {},
   "outputs": [],
   "source": [
    "emittances = np.load('reconstructed_emittances.npy')\n",
    "means = np.mean(emittances, axis=0)\n",
    "stds = np.std(emittances, axis=0)\n",
    "print(means)\n",
    "print(stds)"
   ]
  },
  {
   "cell_type": "code",
   "execution_count": null,
   "metadata": {},
   "outputs": [],
   "source": [
    "fig, ax = plot.subplots()\n",
    "ax.scatter(emittances[:, 2], emittances[:, 3], c='k', alpha=0.5, label='Meas')\n",
    "ax.scatter(20.0, 20.0, marker='x', c='r', label='True')\n",
    "ax.format(\n",
    "#     xlim=(20, 30), ylim=(20, 30), \n",
    "    xlabel=r'$\\varepsilon_x$ [mm mrad]', ylabel=r'$\\varepsilon_y$ [mm mrad]', title='Apparent emittances')\n",
    "ax.legend(ncols=1, loc=(1.02, 0))\n",
    "plt.savefig('_output/figures/apparent_emittances.png', facecolor='white', dpi=300)"
   ]
  },
  {
   "cell_type": "code",
   "execution_count": null,
   "metadata": {},
   "outputs": [],
   "source": [
    "fig, ax = plot.subplots()\n",
    "ax.scatter(emittances[:, 0], emittances[:, 1], c='k', alpha=0.5, label='Meas')\n",
    "ax.scatter(0.0, 40.0, marker='x', c='r', label='True')\n",
    "ax.format(\n",
    "#     xlim=(-0.5, 10), ylim=(35, 50), \n",
    "    xlabel=r'$\\varepsilon_1$ [mm mrad]', ylabel=r'$\\varepsilon_2$ [mm mrad]', title='Intrinsic emittances')\n",
    "ax.legend(ncols=1, loc=(1.02, 0));\n",
    "plt.savefig('_output/figures/intrinsic_emittances.png', facecolor='white', dpi=300)"
   ]
  },
  {
   "cell_type": "code",
   "execution_count": null,
   "metadata": {},
   "outputs": [],
   "source": []
  }
 ],
 "metadata": {
  "kernelspec": {
   "display_name": "Python 3",
   "language": "python",
   "name": "python3"
  },
  "language_info": {
   "codemirror_mode": {
    "name": "ipython",
    "version": 3
   },
   "file_extension": ".py",
   "mimetype": "text/x-python",
   "name": "python",
   "nbconvert_exporter": "python",
   "pygments_lexer": "ipython3",
   "version": "3.7.6"
  }
 },
 "nbformat": 4,
 "nbformat_minor": 4
}
