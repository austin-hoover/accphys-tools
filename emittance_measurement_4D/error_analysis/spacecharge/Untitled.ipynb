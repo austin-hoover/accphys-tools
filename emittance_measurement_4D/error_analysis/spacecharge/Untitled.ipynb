{
 "cells": [
  {
   "cell_type": "code",
   "execution_count": null,
   "metadata": {},
   "outputs": [],
   "source": [
    "import sys\n",
    "import numpy as np\n",
    "import matplotlib.pyplot as plt\n",
    "import proplot as plot\n",
    "\n",
    "sys.path.append('/Users/46h/Research/code/accphys/')\n",
    "from tools import envelope_analysis as ea\n",
    "from tools import plotting as myplt"
   ]
  },
  {
   "cell_type": "code",
   "execution_count": null,
   "metadata": {},
   "outputs": [],
   "source": [
    "plot.rc['grid.alpha'] = 0.04\n",
    "plot.rc['figure.facecolor'] = 'white'"
   ]
  },
  {
   "cell_type": "code",
   "execution_count": null,
   "metadata": {},
   "outputs": [],
   "source": [
    "def save(figname):\n",
    "    plt.savefig(''.join(['_output/figures/', figname, '.png']), facecolor='white', dpi=250)"
   ]
  },
  {
   "cell_type": "code",
   "execution_count": null,
   "metadata": {},
   "outputs": [],
   "source": [
    "emittances_list = np.load('_output/data/emittances_list.npy')\n",
    "moments_list = np.load('_output/data/moments_list.npy')\n",
    "moments_list *= 1e6\n",
    "transfer_mats_list = np.load('_output/data/transfer_mats_list.npy')\n",
    "intensities = np.load('_output/data/intensities.npy')\n",
    "intensities /= 1e14"
   ]
  },
  {
   "cell_type": "code",
   "execution_count": null,
   "metadata": {},
   "outputs": [],
   "source": [
    "fig, ax = plot.subplots(figsize=(4, 2.5))\n",
    "\n",
    "x = np.linspace(-10, 20, 10000)\n",
    "ax.fill_between(x, 0, 1, where=x < 1.5, color='k', \n",
    "                alpha=0.08, transform=ax.get_xaxis_transform())\n",
    "\n",
    "m = 'o'\n",
    "alpha = 1.0\n",
    "s = 5\n",
    "ax.plot(intensities, emittances_list[:, 2:], marker=m, ms=s, alpha=alpha, lw=0);\n",
    "ax.plot(intensities, emittances_list[:, :2], marker=m, ms=s, alpha=alpha, lw=0);\n",
    "ax.format(cycle='colorblind')\n",
    "for emittance in [16.0, 24.0, 0.0, 40.0]:\n",
    "    ax.plot(intensities, len(intensities) * [emittance], alpha=0.5, lw=0.75)\n",
    "ax.format(xlabel=r'$10^{14}$ Intensity', ylabel=r'[mm mrad]', xlim=(-0.2, 10.5), ylim=(-2, 45), grid=False)\n",
    "ax.legend(labels=[r'$\\varepsilon_x$', r'$\\varepsilon_y$', r'$\\varepsilon_1$', r'$\\varepsilon_2$'],\n",
    "          loc=(1.02, 0), ncols=1);\n",
    "ax.format(title='Measured emittances vs. intensity')\n",
    "save('emittance_vs_intensity')"
   ]
  },
  {
   "cell_type": "markdown",
   "metadata": {},
   "source": [
    "## "
   ]
  }
 ],
 "metadata": {
  "kernelspec": {
   "display_name": "Python 3",
   "language": "python",
   "name": "python3"
  },
  "language_info": {
   "codemirror_mode": {
    "name": "ipython",
    "version": 3
   },
   "file_extension": ".py",
   "mimetype": "text/x-python",
   "name": "python",
   "nbconvert_exporter": "python",
   "pygments_lexer": "ipython3",
   "version": "3.7.6"
  }
 },
 "nbformat": 4,
 "nbformat_minor": 4
}
