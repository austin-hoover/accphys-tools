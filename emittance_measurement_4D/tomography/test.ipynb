{
 "cells": [
  {
   "cell_type": "markdown",
   "id": "71577ae9-32fd-4115-a6eb-d7225a609119",
   "metadata": {},
   "source": [
    "# 4D ART"
   ]
  },
  {
   "cell_type": "code",
   "execution_count": null,
   "id": "2516723f-a02b-46f5-a271-4d984dd368a1",
   "metadata": {},
   "outputs": [],
   "source": [
    "from time import time\n",
    "\n",
    "from tqdm import trange\n",
    "from tqdm import tqdm\n",
    "import importlib\n",
    "import numpy as np\n",
    "import matplotlib.pyplot as plt\n",
    "import proplot as pplt\n",
    "from skimage import transform\n",
    "\n",
    "import reconstruct as rec\n",
    "\n",
    "import sys\n",
    "sys.path.append('/Users/46h/Research/')\n",
    "from accphys.tools import plotting as myplt\n",
    "from accphys.tools import utils"
   ]
  },
  {
   "cell_type": "code",
   "execution_count": null,
   "id": "02dff430-4f63-485b-a227-dcf23fe7df21",
   "metadata": {},
   "outputs": [],
   "source": [
    "pplt.rc['axes.grid'] = False\n",
    "pplt.rc['figure.facecolor'] = 'white'\n",
    "pplt.rc['cmap.discrete'] = False\n",
    "pplt.rc['cmap.sequential'] = 'mono_r'\n",
    "pplt.rc['savefig.dpi'] = 'figure'\n",
    "pplt.rc['animation.html'] = 'jshtml'\n",
    "savefig_kws = dict(dpi=300)"
   ]
  },
  {
   "cell_type": "markdown",
   "id": "d72ff252-bdf0-4da3-bb8d-bb7fb35cda88",
   "metadata": {},
   "source": [
    "## Setup "
   ]
  },
  {
   "cell_type": "markdown",
   "id": "a26bec71-c5dc-45ee-b6ec-cd2e66d6b75f",
   "metadata": {},
   "source": [
    "### Create distribution "
   ]
  },
  {
   "cell_type": "code",
   "execution_count": null,
   "id": "38a29458-445b-4f6c-80b8-1869b24a41c2",
   "metadata": {},
   "outputs": [],
   "source": [
    "# Create a rigid rotating distribution.\n",
    "X = np.random.normal(size=(400000, 4))\n",
    "X = np.apply_along_axis(lambda row: row / np.linalg.norm(row), 1, X)\n",
    "X[:, 3] = +X[:, 0]\n",
    "X[:, 1] = -X[:, 2]\n",
    "\n",
    "# Change the x-y phase difference.\n",
    "R = np.zeros((4, 4))\n",
    "R[:2, :2] = utils.rotation_matrix(np.pi / 4)\n",
    "R[2:, 2:] = utils.rotation_matrix(0.0)\n",
    "X = np.apply_along_axis(lambda row: np.matmul(R, row), 1, X)\n",
    "\n",
    "# Add some noise.\n",
    "X += np.random.normal(scale=0.4, size=X.shape)\n",
    "\n",
    "# Plot the 2D projections.\n",
    "n_bins = 50\n",
    "axes = myplt.corner(X, figsize=(6, 6), bins=n_bins, cmap='mono_r')\n",
    "plt.show()\n",
    "\n",
    "# Store the limits for each dimension.\n",
    "limits = [ax.get_xlim() for ax in axes[-1, :]]\n",
    "labels = [\"x\", \"x'\", \"y\", \"y'\"]"
   ]
  },
  {
   "cell_type": "code",
   "execution_count": null,
   "id": "d950960a-741b-4c2c-9101-baf2ed0579ab",
   "metadata": {},
   "outputs": [],
   "source": [
    "Z_true, edges = np.histogramdd(X, n_bins, limits, density=True)\n",
    "centers = []\n",
    "for _edges in edges:\n",
    "    centers.append(0.5 * (_edges[:-1] + _edges[1:]))\n",
    "bin_volume = rec.get_bin_volume(limits, n_bins)"
   ]
  },
  {
   "cell_type": "markdown",
   "id": "59138130-0cc8-46b5-9aed-f0e4bf3fe3ac",
   "metadata": {},
   "source": [
    "### Simulate measurements"
   ]
  },
  {
   "cell_type": "code",
   "execution_count": null,
   "id": "344a17c1-077b-4220-a475-d64d2739132b",
   "metadata": {},
   "outputs": [],
   "source": [
    "K = 7 # number of angles in x dimension\n",
    "L = 7 # number of angles in y dimension\n",
    "muxx = muyy = np.linspace(0., np.pi, K, endpoint=False)\n",
    "\n",
    "xx_list = []\n",
    "for mux in tqdm(muxx):\n",
    "    Mx = utils.rotation_matrix(mux)\n",
    "    xx_list.append(utils.apply(Mx, X[:, :2])[:, 0])\n",
    "    \n",
    "yy_list = []\n",
    "for muy in tqdm(muyy):\n",
    "    My = utils.rotation_matrix(muy)\n",
    "    yy_list.append(utils.apply(My, X[:, 2:])[:, 0])\n",
    "    \n",
    "projections = []\n",
    "for xx in tqdm(xx_list):\n",
    "    for yy in yy_list:\n",
    "        projection, _, _ = np.histogram2d(xx, yy, n_bins, (limits[0], limits[2]))\n",
    "        projections.append(projection)"
   ]
  },
  {
   "cell_type": "code",
   "execution_count": null,
   "id": "97ec52c0-9e68-4b0a-a835-ab9da33f1683",
   "metadata": {},
   "outputs": [],
   "source": [
    "tmats = []\n",
    "for mux in muxx:\n",
    "    for muy in muyy:\n",
    "        M = np.zeros((4, 4))\n",
    "        M[:2, :2] = utils.rotation_matrix(mux)\n",
    "        M[2:, 2:] = utils.rotation_matrix(muy)\n",
    "        tmats.append(M)"
   ]
  },
  {
   "cell_type": "code",
   "execution_count": null,
   "id": "646e9aff-ece7-464f-9753-42df9e16f84a",
   "metadata": {},
   "outputs": [],
   "source": [
    "screen_edges_x = edges[0]\n",
    "screen_edges_y = edges[2]"
   ]
  },
  {
   "cell_type": "code",
   "execution_count": null,
   "id": "58c16240-8ab4-455d-870b-ed833be736a5",
   "metadata": {
    "scrolled": true,
    "tags": []
   },
   "outputs": [],
   "source": [
    "# Treat each reconstruction bin center as a particle. We will call this collection of \n",
    "# particles the \"bunch\".\n",
    "rec_grid_coords = rec.get_grid_coords(*centers)\n",
    "\n",
    "# Keep this for later.\n",
    "col_indices = np.arange(n_bins**4)\n",
    "\n",
    "P_list = []\n",
    "rho_list = []\n",
    "\n",
    "n_proj = len(tmats)\n",
    "for proj_index in trange(n_proj):\n",
    "\n",
    "    # Transport the bunch to the screen.\n",
    "    M = tmats[proj_index]\n",
    "    screen_grid_coords = np.apply_along_axis(lambda row: np.matmul(M, row), 1, rec_grid_coords)\n",
    "\n",
    "    # For each particle, record the indices of the bin it landed in. So we want (k, l) such\n",
    "    # that the particle landed in the bin with x = x[k] and y = y[l] on the screen. One of \n",
    "    # the indices will be -1 or n_bins if the particle landed outside the screen.\n",
    "    xidx = np.digitize(screen_grid_coords[:, 0], screen_edges_x) - 1\n",
    "    yidx = np.digitize(screen_grid_coords[:, 2], screen_edges_y) - 1\n",
    "    on_screen = np.logical_and(np.logical_and(xidx >= 0, xidx < n_bins), \n",
    "                               np.logical_and(yidx >= 0, yidx < n_bins))\n",
    "\n",
    "    # Get the indices for the flattened array.\n",
    "    projection = projections[proj_index]\n",
    "    screen_idx = np.ravel_multi_index((xidx, yidx), projection.shape, mode='clip')\n",
    "\n",
    "    # Create the array P such that P[i, j] = 1 if particle j landed in bin j\n",
    "    # on the screen, or 0 otherwise.\n",
    "    P = np.zeros((n_bins**2, n_bins**4))    \n",
    "    for j in tqdm(col_indices[on_screen]):\n",
    "        i = screen_idx[j]\n",
    "        P[i, j] = 1.0\n",
    "\n",
    "    P_list.append(P)\n",
    "    rho_list.append(projection.flatten())"
   ]
  },
  {
   "cell_type": "code",
   "execution_count": null,
   "id": "2880dcf6-d667-4fd1-aebe-fee8ac339d0b",
   "metadata": {},
   "outputs": [],
   "source": [
    "P = np.vstack(P_list)\n",
    "rho = np.hstack(rho_list)"
   ]
  },
  {
   "cell_type": "code",
   "execution_count": null,
   "id": "883163c8-138e-47a2-94ea-ebd97a03c297",
   "metadata": {},
   "outputs": [],
   "source": [
    "from scipy.sparse import csc_matrix\n",
    "from scipy.sparse.linalg import lsqr\n",
    "\n",
    "P = csc_matrix(P)"
   ]
  },
  {
   "cell_type": "code",
   "execution_count": null,
   "id": "38f126d0-8709-4bfd-8c91-a431d3c48bd9",
   "metadata": {
    "scrolled": true,
    "tags": []
   },
   "outputs": [],
   "source": [
    "psi, istop, itn, r1norm, r2norm, anorm, acond, arnorm, xnorm, var = lsqr(P, rho, show=True)"
   ]
  },
  {
   "cell_type": "code",
   "execution_count": null,
   "id": "dc3c73fd-5fb2-459c-bea6-9f8f19d53eac",
   "metadata": {},
   "outputs": [],
   "source": [
    "Z = psi.reshape((n_bins, n_bins, n_bins, n_bins))"
   ]
  },
  {
   "cell_type": "code",
   "execution_count": null,
   "id": "8e54bf76-aec6-47ac-a67b-05676c9e0a3a",
   "metadata": {},
   "outputs": [],
   "source": [
    "cmap = 'mono_r'\n",
    "indices = [(0, 1), (2, 3), (0, 2), (0, 3), (2, 1), (1, 3)]\n",
    "fig, axes = pplt.subplots(nrows=6, ncols=2, sharex=False, sharey=False)\n",
    "for row, (i, j) in enumerate(indices):\n",
    "    _Z_true = rec.project(Z_true, [i, j])\n",
    "    _Z = rec.project(Z, [i, j])\n",
    "    axes[row, 0].pcolormesh(centers[i], centers[j], _Z.T, cmap=cmap)\n",
    "    axes[row, 1].pcolormesh(centers[i], centers[j], _Z_true.T, cmap=cmap)\n",
    "    axes[row, 0].annotate('{}-{}'.format(labels[i], labels[j]),\n",
    "                          xy=(0.02, 0.92), xycoords='axes fraction', color='white')\n",
    "for ax, title in zip(axes[0, :], ['Reconstructed', 'True', 'Error']):\n",
    "    ax.set_title(title)\n",
    "axes.format(xticks=[], yticks=[]);\n",
    "\n",
    "plt.savefig('_output/rec.png', dpi=300)"
   ]
  },
  {
   "cell_type": "code",
   "execution_count": null,
   "id": "fae3db31-12ab-42d1-b0cb-b90689cb6a09",
   "metadata": {},
   "outputs": [],
   "source": []
  }
 ],
 "metadata": {
  "kernelspec": {
   "display_name": "Python 3",
   "language": "python",
   "name": "python3"
  },
  "language_info": {
   "codemirror_mode": {
    "name": "ipython",
    "version": 3
   },
   "file_extension": ".py",
   "mimetype": "text/x-python",
   "name": "python",
   "nbconvert_exporter": "python",
   "pygments_lexer": "ipython3",
   "version": "3.7.6"
  }
 },
 "nbformat": 4,
 "nbformat_minor": 5
}
