{
 "cells": [
  {
   "cell_type": "code",
   "execution_count": null,
   "id": "a6d5a4a2-ac0d-402e-8840-8c95d4443006",
   "metadata": {},
   "outputs": [],
   "source": [
    "import numpy as np\n",
    "import matplotlib.pyplot as plt\n",
    "import proplot as pplt\n",
    "from tqdm import tqdm\n",
    "from tqdm import trange\n",
    "from skimage.transform import radon\n",
    "from skimage.transform import iradon\n",
    "from skimage.transform import rescale\n",
    "\n",
    "import sys\n",
    "sys.path.append('/Users/46h/Research/')\n",
    "from accphys.tools import utils\n",
    "from accphys.tools import plotting as myplt"
   ]
  },
  {
   "cell_type": "code",
   "execution_count": null,
   "id": "f9a12788-c8f1-4209-91bf-fe1067f44ca5",
   "metadata": {},
   "outputs": [],
   "source": [
    "pplt.rc['grid.alpha'] = 0.05\n",
    "pplt.rc['axes.grid'] = False\n",
    "pplt.rc['figure.facecolor'] = 'white'\n",
    "pplt.rc['savefig.transparent'] = False\n",
    "pplt.rc['cmap.discrete'] = False\n",
    "pplt.rc['cmap'] = 'viridis'"
   ]
  },
  {
   "cell_type": "markdown",
   "id": "9756876a-b5e2-44fd-9957-3612bdde49fa",
   "metadata": {},
   "source": [
    "# Tomographic reconstruction in four dimensions "
   ]
  },
  {
   "cell_type": "markdown",
   "id": "c98cd861-0fb0-4b5f-967a-6bf28212961d",
   "metadata": {},
   "source": [
    "Tomographic reconstruction — the reconstruction of an image from projections — is a well-developed area of image processing. The most well-known application is in medical imaging, in which the goal is to reconstruct a 3D image of the human body.\n",
    "\n",
    "An image can be thought of as a *distribution* $f(\\mathbf{x})$ which gives the density at point $\\mathbf{x}$. A projection of a distribution is a sum along some direction; for example, a 1D projection $f(x)$ of the 2D distribution $f(x, y)$ is\n",
    "\n",
    "$$\n",
    "f(x) = \\int_{-\\infty}^{\\infty}{f(x, y)dy}.\n",
    "$$"
   ]
  },
  {
   "cell_type": "markdown",
   "id": "31878851-b1e7-4a16-bb3b-8b705ceb3c32",
   "metadata": {},
   "source": [
    "When modeling a beam in accelerator, it's important to know the distribution of particles in phase space — the space of positions $\\{x, y, z\\}$ and momenta $\\{p_x, p_y, p_z\\}$. (Here $z$ points along the direction of motion and $x$ and $y$ are in a plane transverse to $z$. We'll ignore the $z$ dimension for now.)"
   ]
  },
  {
   "cell_type": "markdown",
   "id": "827dc6e0-7122-43bb-a215-f8ce768c0b10",
   "metadata": {},
   "source": [
    "There are a few methods to measure the phase space distribution of a beam. The most direct way is to use one slit to block all particles falling outside of a narrow horizontal region $x \\pm \\Delta_{x}$, a second slit to select a narrow range of momentum $p_x \\pm \\Delta_{p_x}$, and so on for $y$ and $yp$. This takes a long time and is invasive because most of the beam is blocked. There are also indirect methods in which the covariance matrix of the distribution is reconstructed multiple 1D projections; these are fast and non-invasive, and in many cases they provide enough information. Finally, there is the in-between method of tomographic reconstruction.\n",
    "\n",
    "In my current project, we're trying to create a beam in the Spallation Neutron Source (SNS) that has an elliptical shape in the $x$-$y$ plane, a uniform charge density, and a large angular momentum. We'd like to measure the four-dimensional (4D) phase space distribution of this beam, which is composed of approximately $10^{14}$ protons moving at 90% the speed of light. \n",
    "\n",
    "A slit-scan is not possible at this energy. The SNS has a number of wire-scanners — devices to measure 1D projections of the beam by sweeping a wire across the beam path. By measuring the projections at different angles and varying the magnet strenghs between the wire-scanners, it's possible to reconstruct the beam covariance matrix. I've implemented this method and used it in recent experiments.\n",
    "\n",
    "The SNS also has a target imaging system. The Mercury target at the very end of the accelerator is coated with a luminescent material that glows when impacted by the proton beam. This allows us to view an image of the beam on the target. It's recently been shown that a 4D distribution can be reconstructed from multiple 2D projections of the beam on a screen under certain conditions, and there are more general methods that can reconstruct the distribution with arbitrary view angles. "
   ]
  },
  {
   "cell_type": "markdown",
   "id": "ac9eec21-0847-4d0d-9631-6a3c2061f8ff",
   "metadata": {},
   "source": [
    "## Reconstruct 2D phase space distribution "
   ]
  },
  {
   "cell_type": "markdown",
   "id": "8c9139c9-fa76-4d8b-b59a-1ead5e20dd6d",
   "metadata": {},
   "source": [
    "Create the distribution."
   ]
  },
  {
   "cell_type": "code",
   "execution_count": null,
   "id": "d9b59994-ddeb-4f02-8e52-3afbe68ceb1d",
   "metadata": {},
   "outputs": [],
   "source": [
    "X = np.random.multivariate_normal(mean=[0., 0.], cov=[[1.5, 0.5], [0.5, 1.0]], size=500000)\n",
    "limit = (-4.5, 4.5)\n",
    "bins = 50\n",
    "Z, xedges, yedges = np.histogram2d(X[:, 0], X[:, 1], bins, (limit, limit))\n",
    "Z /= np.sum(Z)\n",
    "xcenters = 0.5 * (xedges[:-1] + xedges[1:])\n",
    "ycenters = 0.5 * (yedges[:-1] + yedges[1:])\n",
    "xgrid, ygrid = np.meshgrid(xcenters, ycenters)\n",
    "\n",
    "fig, ax = pplt.subplots()\n",
    "ax.pcolormesh(xgrid, ygrid, Z.T, cmap='dusk_r')\n",
    "ax.format(xlabel='x', ylabel='y')\n",
    "plt.show()"
   ]
  },
  {
   "cell_type": "markdown",
   "id": "ed952698-b1dd-4436-a182-3d7befe7a297",
   "metadata": {},
   "source": [
    "Simulate the measurements. For now we assume the transfer matrices are rotation matrices."
   ]
  },
  {
   "cell_type": "code",
   "execution_count": null,
   "id": "0f110dd4-d299-4133-82fd-caaa17f8de99",
   "metadata": {},
   "outputs": [],
   "source": [
    "n_projections = 50\n",
    "angles = np.linspace(0., np.pi, n_projections, endpoint=False)\n",
    "projections = np.zeros((bins, len(angles)))\n",
    "for i, angle in enumerate(tqdm(angles)):\n",
    "    M = utils.rotation_matrix(angle)\n",
    "    Xrot = np.apply_along_axis(lambda row: np.matmul(M, row), 1, X)\n",
    "    projection, _ = np.histogram(Xrot[:, 0], bins, limit)\n",
    "    projections[:, i] = projection"
   ]
  },
  {
   "cell_type": "markdown",
   "id": "70db8b4e-1347-41ae-8949-58baf990ffa9",
   "metadata": {},
   "source": [
    "### FBP"
   ]
  },
  {
   "cell_type": "markdown",
   "id": "8c10df11-b57c-40fd-a5b5-e0834c184474",
   "metadata": {},
   "source": [
    "Notice that our matrix `Z` has $x$ along the first axis and $y$ along the second axis, so when we display this image using `plt.pcolormesh`, we display `Z.T`. But `skimage` thinks the projections are of `Z.T`."
   ]
  },
  {
   "cell_type": "code",
   "execution_count": null,
   "id": "f80b3e8c-ed31-44a3-ac1c-96d42ab89597",
   "metadata": {},
   "outputs": [],
   "source": [
    "skimage_angles = 90.0 + np.degrees(angles)"
   ]
  },
  {
   "cell_type": "code",
   "execution_count": null,
   "id": "558ac95f-826b-49c3-81f1-de9d6bf8bb66",
   "metadata": {},
   "outputs": [],
   "source": [
    "Z_rec = iradon(projections, theta=skimage_angles)\n",
    "Z_rec /= np.sum(Z_rec)"
   ]
  },
  {
   "cell_type": "code",
   "execution_count": null,
   "id": "cf061c71-723e-4e51-a531-9137cf9a98a6",
   "metadata": {},
   "outputs": [],
   "source": [
    "fig, axes = pplt.subplots(ncols=3, figsize=None)\n",
    "kws = dict(cmap='dusk_r', shading='auto')\n",
    "axes[0].pcolormesh(xgrid, ygrid, Z.T, **kws)\n",
    "axes[1].pcolormesh(xgrid, ygrid, Z_rec.T, **kws)\n",
    "axes[2].pcolormesh(xgrid, ygrid, (Z - Z_rec).T, cmap='RdBu', colorbar=True)\n",
    "axes.format(xlabel=\"x\", ylabel=\"x'\")\n",
    "axes[0].set_title('True')\n",
    "axes[1].set_title('Reconstructed');\n",
    "axes[2].set_title('abs(Error)');"
   ]
  },
  {
   "cell_type": "markdown",
   "id": "5de08531-3f55-4757-af15-255de68adb50",
   "metadata": {},
   "source": [
    "### MENT"
   ]
  },
  {
   "cell_type": "code",
   "execution_count": null,
   "id": "8388efd2-739b-41a9-9327-f97e9218c531",
   "metadata": {},
   "outputs": [],
   "source": [
    "skip = 10\n",
    "projections_ = projections[:, ::skip]\n",
    "angles_ = angles[::skip]"
   ]
  },
  {
   "cell_type": "code",
   "execution_count": null,
   "id": "c4dbc709-b352-4f14-b3b6-fa05a58f4b29",
   "metadata": {},
   "outputs": [],
   "source": [
    "proj_ = radon(Z.T, theta=np.degrees(angles_))\n",
    "fig, ax = pplt.subplots()\n",
    "ax.pcolormesh(xgrid, ygrid, iradon(proj_, theta=np.degrees(angles_)), cmap='dusk_r')\n",
    "plt.show()"
   ]
  },
  {
   "cell_type": "markdown",
   "id": "f29bbec4-acf4-4876-aaf7-bab55c19f641",
   "metadata": {},
   "source": [
    "## 4D phase space reconstruction "
   ]
  },
  {
   "cell_type": "code",
   "execution_count": null,
   "id": "302acfa2-e286-463f-888d-c337c2eeb9ca",
   "metadata": {},
   "outputs": [],
   "source": [
    "# Create a 4D Gaussian distribution.\n",
    "X = np.random.normal(scale=[1., 1., 1., 1.], size=(100000, 4))\n",
    "\n",
    "# Add cross-plane correlations.\n",
    "a, b, c = 0.3, 0.1, -0.4\n",
    "d = b * c / a if a != 0. else 0.\n",
    "V = np.array([[1., 0., a, b],\n",
    "              [0., 1., c, d],\n",
    "              [-d, b, 1., 0],\n",
    "              [c, -a, 0., 1.]])\n",
    "X = utils.apply(V, X)\n",
    "\n",
    "# Plot distribution and save axis limits for later use.\n",
    "axes = myplt.corner(X, pad=-0.1, bins=bins)\n",
    "limits = [ax.get_xlim() for ax in axes[-1, :]]"
   ]
  },
  {
   "cell_type": "markdown",
   "id": "cfb64a36-e4eb-490a-bd75-df48a9b5f9d5",
   "metadata": {},
   "source": [
    "Simulate the measurements. $S_{ijkl}$ gives the density on the $i$,$j$ screen pixel for the $k$th x angle and $l$th y angle."
   ]
  },
  {
   "cell_type": "code",
   "execution_count": null,
   "id": "344a17c1-077b-4220-a475-d64d2739132b",
   "metadata": {},
   "outputs": [],
   "source": [
    "def transfer_matrix(mux, muy):\n",
    "    M = np.zeros((4, 4))\n",
    "    M[:2, :2] = utils.rotation_matrix(mux)\n",
    "    M[2:, 2:] = utils.rotation_matrix(muy)\n",
    "    return M\n",
    "\n",
    "n_projections = 50\n",
    "angles = np.linspace(0., np.pi, n_projections, endpoint=False)\n",
    "xx_list, yy_list = [], [] \n",
    "for angle in tqdm(angles):\n",
    "    M = transfer_matrix(angle, angle)\n",
    "    x, xp, y, yp = utils.apply(M, X).T\n",
    "    xx_list.append(x)\n",
    "    yy_list.append(y)"
   ]
  },
  {
   "cell_type": "code",
   "execution_count": null,
   "id": "3c039030-3c38-40b4-b76c-4a2ee1a78edf",
   "metadata": {
    "scrolled": true,
    "tags": []
   },
   "outputs": [],
   "source": [
    "S = np.zeros((bins, bins, len(angles), len(angles)))\n",
    "for k in trange(len(angles)):\n",
    "    for l in range(len(angles)):\n",
    "        xx = xx_list[k]\n",
    "        yy = yy_list[l]\n",
    "        H, _, _ = np.histogram2d(xx, yy, bins, (limits[0], limits[2]))\n",
    "        S[:, :, k, l] = H"
   ]
  },
  {
   "cell_type": "markdown",
   "id": "9e19fcc8-ab30-46ed-bfcb-16af6da8c675",
   "metadata": {},
   "source": [
    "We first reconstruct the 3D distribution — $x$, $x'$, $y$. Consider a fixed $y$, meaning one row of the beam image. The intensity along that row gives a 1D projection onto the $x$ plane for this vertical slice. But we have a bunch of these 1D projections at different angles in the $x$-$x'$ plane at the reconstruction location; we can use them to reconstruct the $x$-$x'$ distribution at this vertical slice, and repeat for each slice. Thus, we obtain an array $D$ such that $D_{jlrs}$ gives the density at $x = x_r$, $x' = x'_s$ for $y = y_j$ and $\\theta_y = \\pi l / K$. "
   ]
  },
  {
   "cell_type": "code",
   "execution_count": null,
   "id": "c404fa55-fcf3-4de6-b332-f9c8cb179fde",
   "metadata": {},
   "outputs": [],
   "source": [
    "grid_size = 50 # Use the same grid in the reconstruction\n",
    "D = np.zeros((bins, len(angles), grid_size, grid_size))\n",
    "for j in trange(bins):\n",
    "    for l in range(len(angles)):\n",
    "        projections = S[:, j, :, l]\n",
    "        D[j, l, :, :] = iradon(projections, theta=-np.degrees(angles), output_size=grid_size)"
   ]
  },
  {
   "cell_type": "markdown",
   "id": "fe433afb-0dc8-44f9-b167-5b02f17b13a1",
   "metadata": {},
   "source": [
    "We can do a similar thing in the other plane. Now we chose one cell in the $x$-$x'$ grid; at this cell, there is a range of $y$ values giving a 1D projection onto the $y$ axis. And we have a set of these 1D projections, each of which is at a different angle in $y$-$y'$ at the reconstruction location. Thus, we obtain an array $F$ such that $F_{rstu}$ gives the density at $x = x_r$, $x' = x'_s$ for $y = y_s$ and $y'=y'_u$, i.e., we have the 4D phase space density. "
   ]
  },
  {
   "cell_type": "code",
   "execution_count": null,
   "id": "0e41dab7-f66c-4bf8-a3b2-c227fa9e9a94",
   "metadata": {},
   "outputs": [],
   "source": [
    "F = np.zeros((grid_size, grid_size, grid_size, grid_size))\n",
    "for r in trange(grid_size):\n",
    "    for s in range(grid_size):\n",
    "        projections = D[:, :, r, s]\n",
    "        F[r, s, :, :] = iradon(projections, theta=-np.degrees(angles), output_size=grid_size)"
   ]
  },
  {
   "cell_type": "markdown",
   "id": "cfdb543b-1c69-4441-8d3f-aa38ede57b31",
   "metadata": {},
   "source": [
    "The true distribution can be obtained from a 4D histogram of the original data."
   ]
  },
  {
   "cell_type": "code",
   "execution_count": null,
   "id": "d0980dbd-c720-4319-9384-d3409feb878f",
   "metadata": {},
   "outputs": [],
   "source": [
    "F_true, edges = np.histogramdd(X, grid_size, limits)"
   ]
  },
  {
   "cell_type": "code",
   "execution_count": null,
   "id": "18b68382-3a1d-44ca-9965-6b2e16ad4d27",
   "metadata": {},
   "outputs": [],
   "source": [
    "def project(F, indices):\n",
    "    axis = tuple([k for k in range(4) if k not in indices])\n",
    "    return np.sum(F, axis=axis)\n",
    "\n",
    "def get_projections(F):\n",
    "    projections = [[], [], []]\n",
    "    for i in range(3):\n",
    "        for j in range(i + 1):\n",
    "            projection = project(F, [j, i + 1])\n",
    "            projections[i].append(projection)\n",
    "    return projections\n",
    "\n",
    "def plot_projections(projections, limits):\n",
    "    pcolormesh_kws = dict(cmap='dusk_r', shading='auto')\n",
    "    labels = ['x', 'xp', 'y', 'yp']\n",
    "    fig, axes = myplt.pair_grid_nodiag(4, limits=limits)\n",
    "    for i in range(3):\n",
    "        for j in range(i + 1):\n",
    "            ax = axes[i, j]\n",
    "            Z = projections[i][j]\n",
    "            xlim, ylim = ax.get_xlim(), ax.get_ylim()\n",
    "            xx = np.linspace(xlim[0], xlim[1], Z.shape[0])\n",
    "            yy = np.linspace(ylim[0], ylim[1], Z.shape[1])\n",
    "            ax.pcolormesh(xx, yy, Z.T, **pcolormesh_kws)\n",
    "    return axes\n",
    "\n",
    "projections_true = get_projections(F)\n",
    "axes = plot_projections(projections_true, limits)\n",
    "plt.suptitle('Original')\n",
    "\n",
    "projections = get_projections(F_true)\n",
    "axes = plot_projections(projections, limits)\n",
    "plt.suptitle('Reconstructed')\n",
    "\n",
    "projections_err = get_projections(np.abs(F - F_true))\n",
    "axes = plot_projections(projections_err, limits)\n",
    "plt.suptitle('abs(error)');"
   ]
  },
  {
   "cell_type": "code",
   "execution_count": null,
   "id": "a490aa65-1fb1-46b4-8b6a-28756da177f3",
   "metadata": {},
   "outputs": [],
   "source": []
  }
 ],
 "metadata": {
  "kernelspec": {
   "display_name": "Python 3",
   "language": "python",
   "name": "python3"
  },
  "language_info": {
   "codemirror_mode": {
    "name": "ipython",
    "version": 3
   },
   "file_extension": ".py",
   "mimetype": "text/x-python",
   "name": "python",
   "nbconvert_exporter": "python",
   "pygments_lexer": "ipython3",
   "version": "3.7.6"
  }
 },
 "nbformat": 4,
 "nbformat_minor": 5
}
