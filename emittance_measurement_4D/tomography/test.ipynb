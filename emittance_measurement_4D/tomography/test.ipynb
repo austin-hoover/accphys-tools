{
 "cells": [
  {
   "cell_type": "markdown",
   "id": "3247bb53-62ff-49d7-acb0-572450733791",
   "metadata": {},
   "source": [
    "# Tomographic reconstruction in four dimensions "
   ]
  },
  {
   "cell_type": "code",
   "execution_count": null,
   "id": "a6d5a4a2-ac0d-402e-8840-8c95d4443006",
   "metadata": {},
   "outputs": [],
   "source": [
    "import sys\n",
    "import os\n",
    "import importlib\n",
    "import numpy as np\n",
    "import matplotlib.pyplot as plt\n",
    "import proplot as pplt\n",
    "from tqdm import tqdm\n",
    "from tqdm import trange\n",
    "\n",
    "import reconstruct as rec\n",
    "\n",
    "sys.path.append('/Users/46h/Research/')\n",
    "from accphys.tools import utils\n",
    "from accphys.tools import plotting as myplt\n",
    "from accphys.tools.utils import rotation_matrix"
   ]
  },
  {
   "cell_type": "code",
   "execution_count": null,
   "id": "f9a12788-c8f1-4209-91bf-fe1067f44ca5",
   "metadata": {},
   "outputs": [],
   "source": [
    "pplt.rc['axes.grid'] = False\n",
    "pplt.rc['figure.facecolor'] = 'white'\n",
    "pplt.rc['cmap.discrete'] = False\n",
    "pplt.rc['cmap.sequential'] = 'viridis'\n",
    "\n",
    "savefig_kws = dict(dpi=300)"
   ]
  },
  {
   "cell_type": "code",
   "execution_count": null,
   "id": "16b3c986-455c-4063-ab32-8c3c1fa55ddd",
   "metadata": {},
   "outputs": [],
   "source": [
    "labels = [\"x\", \"x'\", \"y\", \"y'\"]\n",
    "labels_norm = [r\"$x_n$\", r\"$x'_n$\", r\"$y_n$\", r\"$y'_n$\"]"
   ]
  },
  {
   "cell_type": "markdown",
   "id": "acc8f28f-1c45-45a3-9970-3099cfff410f",
   "metadata": {},
   "source": [
    "## Introduction"
   ]
  },
  {
   "cell_type": "markdown",
   "id": "6019e6d1-50e1-4914-aee0-9ca3536f372c",
   "metadata": {},
   "source": [
    "A beam of charged particles in an accelerator is characterized by its distribution of particles in phase space — the space of positions $\\{x, y, z\\}$ and momenta $\\{x', y', z'\\}$. I'm currently working on a projection in which we're trying to measure the 4D phase space $f(x, x', y, y')$ of a full-intensity beam in the SNS. \n",
    "\n",
    "An approximation of the 4D phase space can be obtained from multiple 1D projections. These projections are easy to obtain by sweeping wires across the beam path. By approximation, I mean that we measure the $4 \\times 4$ covaraince matrix of the distribution which gives the second-order moments. I've implemented this method in the SNS, but I won't discuss it here.\n",
    "\n",
    "In addition to these wire-scanners, the final destination of the beam in the SNS — the target — is coated with a material that releases photons when impacted by the beam. An image of the beam on the target is formed collecting this light. The image gives us the 2D projection of the 4D phase space distribution onto the $x$-$y$ plane. The idea that I'll explore in this post is whether this 2D projection can be used to reconstruct the 4D phase space distribution."
   ]
  },
  {
   "cell_type": "markdown",
   "id": "3538197d-1e4d-4082-9713-02ca16d826b2",
   "metadata": {},
   "source": [
    "A projection of a distribution is a sum along some direction; for example, a 1D projection $f(x)$ of the 2D distribution $f(x, y)$ is\n",
    "\n",
    "$$\n",
    "f(x) = \\int_{-\\infty}^{\\infty}{f(x, y)dy}.\n",
    "$$"
   ]
  },
  {
   "cell_type": "markdown",
   "id": "206348a1-b4f1-42fc-82a8-91eed5ba59b6",
   "metadata": {},
   "source": [
    "There are many cases in which we don't have access to the distribution but do have access to its projections; for example, 1D or 2D projections of a human body can be obtained using X-rays. The question is then whether these projections can be used to reconstruct the distribution. This is called *tomography*."
   ]
  },
  {
   "cell_type": "markdown",
   "id": "ac9eec21-0847-4d0d-9631-6a3c2061f8ff",
   "metadata": {},
   "source": [
    "## 2D reconstruction algorithms"
   ]
  },
  {
   "cell_type": "markdown",
   "id": "cf3e9f3b-e3fa-49db-90b4-ff443acab2ac",
   "metadata": {},
   "source": [
    "The case of a 2D reconstruction from 1D projections has been studied extensively. I'll go over three of these approaches: filtered back-projection (FBP), algebraic reconstruction (ART), and maximum entropy (MENT). I'll use the following distribution to test the methods."
   ]
  },
  {
   "cell_type": "code",
   "execution_count": null,
   "id": "dcd32160-3f7f-4250-aa07-f64451225d8c",
   "metadata": {},
   "outputs": [],
   "source": [
    "X = np.vstack([\n",
    "    np.random.multivariate_normal(mean=[0.0, 0.0], cov=[[2.0, 0.4], [0.4, 1.]], size=80000),\n",
    "    np.random.normal(loc=[-2.0, -2.0], size=(20000, 2)),\n",
    "    np.random.normal(loc=[2.0, 2.0], size=(20000, 2)),\n",
    "    np.random.normal(loc=[2.0, -2.0], size=(20000, 2)),\n",
    "    np.random.normal(loc=[-2.0, 2.0], size=(20000, 2)),\n",
    "])\n",
    "\n",
    "n_bins = 60\n",
    "xmax = 7.0\n",
    "limits = [(-xmax, xmax), (-xmax, xmax)]\n",
    "bin_area = rec.get_bin_volume(limits, n_bins)\n",
    "\n",
    "Z, xedges, yedges = np.histogram2d(X[:, 0], X[:, 1], n_bins, limits, density=True)\n",
    "xcenters = 0.5 * (xedges[:-1] + xedges[1:])\n",
    "ycenters = 0.5 * (yedges[:-1] + yedges[1:])\n",
    "\n",
    "fig, ax = pplt.subplots()\n",
    "ax.pcolormesh(xcenters, ycenters, Z.T, cmap='dusk_r')\n",
    "ax.format(xlabel=\"x\", ylabel=\"x'\")\n",
    "plt.show()"
   ]
  },
  {
   "cell_type": "markdown",
   "id": "190f8e6b-973c-40e8-b1e9-f260c06e2387",
   "metadata": {},
   "source": [
    "We now take multiple 1D projections of the distribution. Assume that we have the ability to rotate the distribution in the $x$-$x'$ plane. Then each projection onto the $x$ axis will be at a different angle relative to the original distribution. The significance of the rotation will be discussed later on."
   ]
  },
  {
   "cell_type": "code",
   "execution_count": null,
   "id": "0f110dd4-d299-4133-82fd-caaa17f8de99",
   "metadata": {},
   "outputs": [],
   "source": [
    "n_proj = 15\n",
    "angles = np.linspace(0.0, np.pi, n_proj, endpoint=False)\n",
    "transfer_matrices = [rotation_matrix(angle) for angle in angles]\n",
    "\n",
    "projections = np.zeros((n_bins, n_proj))\n",
    "for k in range(n_proj):\n",
    "    M = transfer_matrices[k]\n",
    "    X_meas = np.apply_along_axis(lambda row: np.matmul(M, row), 1, X)\n",
    "    projections[:, k], _ = np.histogram(X_meas[:, 0], n_bins, limits[0], density=True)\n",
    "    \n",
    "fig, ax = pplt.subplots()\n",
    "ax.pcolormesh(projections.T, cmap='dusk_r')\n",
    "ax.format(xlabel='x', ylabel='Projection index')"
   ]
  },
  {
   "cell_type": "markdown",
   "id": "70db8b4e-1347-41ae-8949-58baf990ffa9",
   "metadata": {},
   "source": [
    "### Filtered Back-Projection (FPB)"
   ]
  },
  {
   "cell_type": "markdown",
   "id": "ced3f6b4-8d4f-4107-bc0f-e17235f2acfc",
   "metadata": {},
   "source": [
    "[FBP theory]"
   ]
  },
  {
   "cell_type": "code",
   "execution_count": null,
   "id": "558ac95f-826b-49c3-81f1-de9d6bf8bb66",
   "metadata": {},
   "outputs": [],
   "source": [
    "Z_fbp = rec.fbp(projections, angles, keep_positive=True, density=True, limits=limits)"
   ]
  },
  {
   "cell_type": "code",
   "execution_count": null,
   "id": "cf061c71-723e-4e51-a531-9137cf9a98a6",
   "metadata": {},
   "outputs": [],
   "source": [
    "fig, axes = pplt.subplots(ncols=3, figsize=None)\n",
    "kws = dict(cmap='dusk_r', shading='auto')\n",
    "axes[0].pcolormesh(xcenters, ycenters, Z.T, **kws)\n",
    "axes[1].pcolormesh(xcenters, ycenters, Z_fbp.T, **kws)\n",
    "axes[2].pcolormesh(xcenters, ycenters, (Z - Z_fbp).T, colorbar=True)\n",
    "axes.format(xlabel=\"x\", ylabel=\"x'\", suptitle='FBP Reconstruction')\n",
    "axes[0].set_title('True')\n",
    "axes[1].set_title('Reconstructed');\n",
    "axes[2].set_title('Error)')\n",
    "plt.show()"
   ]
  },
  {
   "cell_type": "markdown",
   "id": "5ab64b30-73f6-4749-85e7-b1ca92f4962e",
   "metadata": {},
   "source": [
    "### Simultaneous Algebraic Reconstruction (SART) "
   ]
  },
  {
   "cell_type": "markdown",
   "id": "fc685b25-d790-448f-9adb-7c260abfb16f",
   "metadata": {},
   "source": [
    "[ART theory]"
   ]
  },
  {
   "cell_type": "code",
   "execution_count": null,
   "id": "3338d86b-d403-4eae-aa77-eeb88b5ad32b",
   "metadata": {},
   "outputs": [],
   "source": [
    "Z_sart = rec.sart(projections, angles, iterations=2, \n",
    "                  keep_positive=True, density=True, limits=limits)"
   ]
  },
  {
   "cell_type": "code",
   "execution_count": null,
   "id": "bdef9ec0-8287-40f5-84ae-8e940dc144f3",
   "metadata": {},
   "outputs": [],
   "source": [
    "fig, axes = pplt.subplots(ncols=3)\n",
    "axes[0].pcolormesh(xcenters, ycenters, Z.T, cmap='dusk_r')\n",
    "axes[1].pcolormesh(xcenters, ycenters, Z_sart.T, cmap='dusk_r')\n",
    "axes[2].pcolormesh(xcenters, ycenters, (Z - Z_sart).T, colorbar=True)\n",
    "axes.format(xlabel=\"x\", ylabel=\"y\", suptitle='SART reconstruction')\n",
    "axes[0].set_title('Original')\n",
    "axes[1].set_title('Reconstructed')\n",
    "axes[2].set_title('Error')\n",
    "plt.show()"
   ]
  },
  {
   "cell_type": "markdown",
   "id": "5de08531-3f55-4757-af15-255de68adb50",
   "metadata": {},
   "source": [
    "### MENT"
   ]
  },
  {
   "cell_type": "markdown",
   "id": "5f094681-41ad-49e4-acfb-c7e1e41a2fa0",
   "metadata": {},
   "source": [
    "[MENT theory]"
   ]
  },
  {
   "cell_type": "markdown",
   "id": "f29bbec4-acf4-4876-aaf7-bab55c19f641",
   "metadata": {},
   "source": [
    "## 4D phase space reconstruction "
   ]
  },
  {
   "cell_type": "markdown",
   "id": "1aeae046-a36a-4afb-8ecc-fd1f16becb51",
   "metadata": {},
   "source": [
    "Now we come to the problem of reconstructing the 4D phase space. At first glance, this is a much more difficult problem. "
   ]
  },
  {
   "cell_type": "markdown",
   "id": "e62d1199-4b73-46b8-b72c-448c54c44c74",
   "metadata": {},
   "source": [
    "[Follow Hock (2013)]."
   ]
  },
  {
   "cell_type": "code",
   "execution_count": null,
   "id": "eb4bd680-cd1e-492d-a33a-a4c27419052a",
   "metadata": {},
   "outputs": [],
   "source": [
    "from accphys.tools.accphys_utils import V_matrix_4x4_uncoupled\n",
    "from accphys.tools.beam_analysis import twiss2D\n",
    "\n",
    "# Create 4D Gaussian distribution.\n",
    "X = np.random.normal(size=(200000, 4))\n",
    "\n",
    "# Add some coupling.\n",
    "a, b, c = 0.3, 0.4, -0.8\n",
    "d = b * c / a if a != 0. else 0.\n",
    "V = np.array([[1., 0., a, b],\n",
    "              [0., 1., c, d],\n",
    "              [-d, b, 1., 0],\n",
    "              [c, -a, 0., 1.]])\n",
    "X = utils.apply(V, X)\n",
    "\n",
    "# Normalize x-x' and y-y'.\n",
    "V = V_matrix_4x4_uncoupled(*twiss2D(np.cov(X.T)))\n",
    "Xn = utils.apply(np.linalg.inv(V), X)\n",
    "\n",
    "# Plot the 2D projections of the distribution.\n",
    "limits_kws = dict(zero_center=False, sigma=4.0)\n",
    "\n",
    "limits = myplt.auto_limits(X, **limits_kws)\n",
    "axes = myplt.corner(X, figsize=(6, 6), limits=limits, bins=n_bins)\n",
    "plt.suptitle('Projections of 4D distribution')\n",
    "plt.show()\n",
    "\n",
    "limits = myplt.auto_limits(Xn, **limits_kws)\n",
    "axes = myplt.corner(Xn, figsize=(6, 6), limits=limits, bins=n_bins)\n",
    "plt.suptitle('Projections of normalized 4D distribution')\n",
    "plt.show()"
   ]
  },
  {
   "cell_type": "markdown",
   "id": "f2ccc9bc-c270-43e2-89c7-6520e495ceb1",
   "metadata": {},
   "source": [
    "Compute the 4D histogram of the coordinates."
   ]
  },
  {
   "cell_type": "code",
   "execution_count": null,
   "id": "1c031f59-3443-4293-b026-5f5d62a9eeb1",
   "metadata": {},
   "outputs": [],
   "source": [
    "Ztrue, edges = np.histogramdd(Xn, n_bins, limits, density=True)\n",
    "\n",
    "centers = []\n",
    "for _edges in edges:\n",
    "    centers.append(0.5 * (_edges[:-1] + _edges[1:]))\n",
    "    \n",
    "bin_volume = rec.get_bin_volume(limits, n_bins)"
   ]
  },
  {
   "cell_type": "markdown",
   "id": "cfb64a36-e4eb-490a-bd75-df48a9b5f9d5",
   "metadata": {},
   "source": [
    "Simulate the measurements. $S_{ijkl}$ gives the density at point $(x_i, y_j)$, on the screen for phase advances (angle) $\\theta_{x_k} = \\pi k / K$ and $\\theta_{y_l} = \\pi l / L$. . Since there is no problem, we can just rotate each phase plane separately, then loop through and compute the histograms."
   ]
  },
  {
   "cell_type": "code",
   "execution_count": null,
   "id": "344a17c1-077b-4220-a475-d64d2739132b",
   "metadata": {},
   "outputs": [],
   "source": [
    "K = 15 # number of angles in x dimension\n",
    "L = 15 # number of angles in y dimension\n",
    "\n",
    "muxx = muyy = np.linspace(0., np.pi, K, endpoint=False)\n",
    "\n",
    "xx_list = []\n",
    "for mux in tqdm(muxx):\n",
    "    Mx = rotation_matrix(mux)\n",
    "    xx_list.append(utils.apply(Mx, X[:, :2])[:, 0])\n",
    "    \n",
    "yy_list = []\n",
    "for muy in tqdm(muyy):\n",
    "    My = rotation_matrix(muy)\n",
    "    yy_list.append(utils.apply(My, X[:, 2:])[:, 0])\n",
    "    \n",
    "S = np.zeros((n_bins, n_bins, K, L))\n",
    "for k, xx in enumerate(tqdm(xx_list)):\n",
    "    for l, yy in enumerate(yy_list):\n",
    "        S[:, :, k, l], _, _ = np.histogram2d(xx, yy, n_bins, (limits[0], limits[2]))"
   ]
  },
  {
   "cell_type": "markdown",
   "id": "38d47ca7-311e-447d-bf67-c93427674ca9",
   "metadata": {},
   "source": [
    "Run the reconstuction algorithm."
   ]
  },
  {
   "cell_type": "code",
   "execution_count": null,
   "id": "a2a7841a-b42d-4a52-8e9e-327a9b8aa162",
   "metadata": {},
   "outputs": [],
   "source": [
    "method = 'SART' # {'SART', 'FBP', 'MENT'}\n",
    "kws = dict()\n",
    "Z = rec.rec4D(S, muxx, muyy, n_bins, method=method, \n",
    "              keep_positive=True, density=True, limits=limits, **kws)"
   ]
  },
  {
   "cell_type": "markdown",
   "id": "df41eaa1-c4e9-4e82-b11b-74b342d3b1a8",
   "metadata": {},
   "source": [
    "Check that the reconstructed distribution normalized."
   ]
  },
  {
   "cell_type": "code",
   "execution_count": null,
   "id": "d7f7e700-ff66-4e8a-bc42-88c66c31db3e",
   "metadata": {},
   "outputs": [],
   "source": [
    "print('min(Z) = {}'.format(np.min(Z)))\n",
    "print('sum(Z) * bin_volume = {}'.format(np.sum(Z) * bin_volume))\n",
    "print()\n",
    "print('min(Ztrue) = {}'.format(np.min(Ztrue)))\n",
    "print('sum(Ztrue) * bin_volume = {}'.format(np.sum(Ztrue) * bin_volume))"
   ]
  },
  {
   "cell_type": "markdown",
   "id": "cd71d3e0-d40e-46ad-a6be-945818271b3c",
   "metadata": {},
   "source": [
    "### Accuracy"
   ]
  },
  {
   "cell_type": "code",
   "execution_count": null,
   "id": "5963d695-f562-485b-9f9c-134293504176",
   "metadata": {},
   "outputs": [],
   "source": [
    "fig, axes = pplt.subplots(ncols=4, figsize=(6, 2), spanx=False)\n",
    "\n",
    "for i in range(4):\n",
    "    axes[i].plot(centers[i], rec.project(Z, i), color='black', label='Reconstructed')\n",
    "    axes[i].plot(centers[i], rec.project(Ztrue, i), color='red8', ls='--', label='True')\n",
    "    axes[i].set_xlabel(labels_norm[i])\n",
    "axes[0].legend(loc=(0.0, 1.02), framealpha=0.0, ncol=1)\n",
    "plt.savefig('_output/projections1D.png', **savefig_kws)"
   ]
  },
  {
   "cell_type": "code",
   "execution_count": null,
   "id": "a490aa65-1fb1-46b4-8b6a-28756da177f3",
   "metadata": {},
   "outputs": [],
   "source": [
    "fig, axes = pplt.subplots(nrows=3, ncols=6, figsize=(8, 4), sharex=False, sharey=False)\n",
    "\n",
    "indices = [(0, 1), (2, 3), (0, 2), (0, 3), (2, 1), (1, 3)]\n",
    "pcolormesh_kws = dict(cmap='dusk_r')\n",
    "\n",
    "for col, (i, j) in enumerate(indices):\n",
    "    axes[0, col].set_title('{}-{}'.format(labels_norm[i], labels_norm[j]))\n",
    "    Htrue = rec.project(Ztrue, [i, j])\n",
    "    H = rec.project(Z, [i, j])\n",
    "    axes[0, col].pcolormesh(centers[i], centers[j], H.T, cmap='dusk_r')\n",
    "    axes[1, col].pcolormesh(centers[i], centers[j], Htrue.T, cmap='dusk_r')\n",
    "    axes[2, col].pcolormesh(centers[i], centers[j], (H - Htrue).T)\n",
    "axes.format(rowlabels=['Reconstructed', 'True', 'Error'], xticks=[], yticks=[])\n",
    "plt.savefig('_output/projections2D.png', **savefig_kws)"
   ]
  },
  {
   "cell_type": "code",
   "execution_count": null,
   "id": "37063778-9ecf-401d-a9b5-8c74a87ba777",
   "metadata": {},
   "outputs": [],
   "source": [
    "# def get_projections(Z):\n",
    "#     \"\"\"Return list of shape (3, 3)\"\"\"\n",
    "#     projections = [[], [], []]\n",
    "#     for i in range(3):\n",
    "#         for j in range(i + 1):\n",
    "#             projection = project(Z, [j, i + 1])\n",
    "#             projections[i].append(projection)\n",
    "#     return projections\n",
    "\n",
    "# def plot_projections(projections, limits):\n",
    "#     pcolormesh_kws = dict(cmap='dusk_r', shading='auto')\n",
    "#     labels = [\"x\", \"x'\", \"y\", \"y'\"]\n",
    "#     fig, axes = myplt.pair_grid_nodiag(4, limits=limits)\n",
    "#     for i in range(3):\n",
    "#         for j in range(i + 1):\n",
    "#             ax = axes[i, j]\n",
    "#             Z = projections[i][j]\n",
    "#             xlim, ylim = ax.get_xlim(), ax.get_ylim()\n",
    "#             xx = np.linspace(xlim[0], xlim[1], Z.shape[0])\n",
    "#             yy = np.linspace(ylim[0], ylim[1], Z.shape[1])\n",
    "#             ax.pcolormesh(xx, yy, Z.T, **pcolormesh_kws)\n",
    "#     return axes\n",
    "\n",
    "# projections = get_projections(F_true)\n",
    "# axes = plot_projections(projections, limits)\n",
    "# plt.suptitle('Reconstructed')\n",
    "\n",
    "# projections_err = get_projections(np.abs(F - F_true))\n",
    "# axes = plot_projections(projections_err, limits)\n",
    "# plt.suptitle('abs(error)');"
   ]
  },
  {
   "cell_type": "code",
   "execution_count": null,
   "id": "492312a8-6679-466c-a92b-498b669fb4cd",
   "metadata": {},
   "outputs": [],
   "source": [
    "error = np.sum((Z - Ztrue)**2)\n",
    "print('SSQ error = {}'.format(error))"
   ]
  },
  {
   "cell_type": "code",
   "execution_count": null,
   "id": "3d8258e3-2746-48a1-aa81-21ab4e7de1bd",
   "metadata": {},
   "outputs": [],
   "source": []
  }
 ],
 "metadata": {
  "kernelspec": {
   "display_name": "Python 3",
   "language": "python",
   "name": "python3"
  },
  "language_info": {
   "codemirror_mode": {
    "name": "ipython",
    "version": 3
   },
   "file_extension": ".py",
   "mimetype": "text/x-python",
   "name": "python",
   "nbconvert_exporter": "python",
   "pygments_lexer": "ipython3",
   "version": "3.7.6"
  }
 },
 "nbformat": 4,
 "nbformat_minor": 5
}
