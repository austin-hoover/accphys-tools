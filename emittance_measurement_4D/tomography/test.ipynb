{
 "cells": [
  {
   "cell_type": "code",
   "execution_count": null,
   "id": "a6d5a4a2-ac0d-402e-8840-8c95d4443006",
   "metadata": {},
   "outputs": [],
   "source": [
    "import sys\n",
    "import os\n",
    "import importlib\n",
    "import numpy as np\n",
    "import matplotlib.pyplot as plt\n",
    "import proplot as pplt\n",
    "from tqdm import tqdm\n",
    "from tqdm import trange\n",
    "\n",
    "import reconstruct as rec\n",
    "\n",
    "sys.path.append('/Users/46h/Research/')\n",
    "from accphys.tools import utils\n",
    "from accphys.tools import plotting as myplt\n",
    "from accphys.tools.utils import rotation_matrix"
   ]
  },
  {
   "cell_type": "code",
   "execution_count": null,
   "id": "f9a12788-c8f1-4209-91bf-fe1067f44ca5",
   "metadata": {},
   "outputs": [],
   "source": [
    "pplt.rc['axes.grid'] = False\n",
    "pplt.rc['figure.facecolor'] = 'white'\n",
    "pplt.rc['cmap.discrete'] = False\n",
    "pplt.rc['cmap.sequential'] = 'viridis'\n",
    "\n",
    "savefig_kws = dict(dpi=300)"
   ]
  },
  {
   "cell_type": "code",
   "execution_count": null,
   "id": "16b3c986-455c-4063-ab32-8c3c1fa55ddd",
   "metadata": {},
   "outputs": [],
   "source": [
    "labels = [\"x\", \"x'\", \"y\", \"y'\"]\n",
    "labels_norm = [r\"$x_n$\", r\"$x'_n$\", r\"$y_n$\", r\"$y'_n$\"]"
   ]
  },
  {
   "cell_type": "markdown",
   "id": "9756876a-b5e2-44fd-9957-3612bdde49fa",
   "metadata": {},
   "source": [
    "# Tomographic reconstruction in four dimensions "
   ]
  },
  {
   "cell_type": "markdown",
   "id": "c98cd861-0fb0-4b5f-967a-6bf28212961d",
   "metadata": {},
   "source": [
    "Tomographic reconstruction — the reconstruction of an image from projections — is a well-developed area of image processing. The most well-known application is in medical imaging, in which the goal is to reconstruct a 3D image of the human body.\n",
    "\n",
    "An image can be thought of as a *distribution* $f(\\mathbf{x})$ which gives the density at point $\\mathbf{x}$. A projection of a distribution is a sum along some direction; for example, a 1D projection $f(x)$ of the 2D distribution $f(x, y)$ is\n",
    "\n",
    "$$\n",
    "f(x) = \\int_{-\\infty}^{\\infty}{f(x, y)dy}.\n",
    "$$"
   ]
  },
  {
   "cell_type": "markdown",
   "id": "31878851-b1e7-4a16-bb3b-8b705ceb3c32",
   "metadata": {},
   "source": [
    "When modeling a beam in accelerator, it's important to know the distribution of particles in phase space — the space of positions $\\{x, y, z\\}$ and momenta $\\{p_x, p_y, p_z\\}$. (Here $z$ points along the direction of motion and $x$ and $y$ are in a plane transverse to $z$. We'll ignore the $z$ dimension for now.)"
   ]
  },
  {
   "cell_type": "markdown",
   "id": "827dc6e0-7122-43bb-a215-f8ce768c0b10",
   "metadata": {},
   "source": [
    "There are a few methods to measure the phase space distribution of a beam. The most direct way is to use one slit to block all particles falling outside of a narrow horizontal region $x \\pm \\Delta_{x}$, a second slit to select a narrow range of momentum $p_x \\pm \\Delta_{p_x}$, and so on for $y$ and $yp$. This takes a long time and is invasive because most of the beam is blocked. There are also indirect methods in which the covariance matrix of the distribution is reconstructed multiple 1D projections; these are fast and non-invasive, and in many cases they provide enough information. Finally, there is the in-between method of tomographic reconstruction.\n",
    "\n",
    "In my current project, we're trying to create a beam in the Spallation Neutron Source (SNS) that has an elliptical shape in the $x$-$y$ plane, a uniform charge density, and a large angular momentum. We'd like to measure the four-dimensional (4D) phase space distribution of this beam, which is composed of approximately $10^{14}$ protons moving at 90% the speed of light. \n",
    "\n",
    "A slit-scan is not possible at this energy. The SNS has a number of wire-scanners — devices to measure 1D projections of the beam by sweeping a wire across the beam path. By measuring the projections at different angles and varying the magnet strenghs between the wire-scanners, it's possible to reconstruct the beam covariance matrix. I've implemented this method and used it in recent experiments.\n",
    "\n",
    "The SNS also has a target imaging system. The Mercury target at the very end of the accelerator is coated with a luminescent material that glows when impacted by the proton beam. This allows us to view an image of the beam on the target. It's recently been shown that a 4D distribution can be reconstructed from multiple 2D projections of the beam on a screen under certain conditions, and there are more general methods that can reconstruct the distribution with arbitrary view angles. "
   ]
  },
  {
   "cell_type": "markdown",
   "id": "ac9eec21-0847-4d0d-9631-6a3c2061f8ff",
   "metadata": {},
   "source": [
    "## 2D reconstruction"
   ]
  },
  {
   "cell_type": "markdown",
   "id": "462c1ebd-5a87-436b-97da-0efd9f8c8f33",
   "metadata": {},
   "source": [
    "If we reconstruct in normalized phase space, the transfer matrices between reconstruction and measurement point reduce to rotations in $x$-$x'$ space."
   ]
  },
  {
   "cell_type": "markdown",
   "id": "8c9139c9-fa76-4d8b-b59a-1ead5e20dd6d",
   "metadata": {},
   "source": [
    "Create the distribution."
   ]
  },
  {
   "cell_type": "code",
   "execution_count": null,
   "id": "dcd32160-3f7f-4250-aa07-f64451225d8c",
   "metadata": {},
   "outputs": [],
   "source": [
    "dx = 2.0\n",
    "X = np.vstack([\n",
    "    np.random.multivariate_normal(mean=[0.0, 0.0], cov=[[2.0, 0.4], [0.4, 1.]], size=100000),\n",
    "    np.random.normal(loc=[-dx, -dx], scale=[1.0, 1.0], size=(20000, 2)),\n",
    "    np.random.normal(loc=[dx, dx], scale=[1.0, 1.0], size=(20000, 2)),\n",
    "    np.random.normal(loc=[dx, -dx], scale=[1.0, 1.0], size=(20000, 2)),\n",
    "    np.random.normal(loc=[-dx, dx], scale=[1.0, 1.0], size=(20000, 2)),\n",
    "])"
   ]
  },
  {
   "cell_type": "code",
   "execution_count": null,
   "id": "d9b59994-ddeb-4f02-8e52-3afbe68ceb1d",
   "metadata": {},
   "outputs": [],
   "source": [
    "n_bins = 60\n",
    "limit = (-7.0, 7.0)\n",
    "bin_area = (np.diff(limit)[0] / n_bins)**2\n",
    "\n",
    "Z, xedges, yedges = np.histogram2d(X[:, 0], X[:, 1], n_bins, (limit, limit), density=True)\n",
    "xcenters = 0.5 * (xedges[:-1] + xedges[1:])\n",
    "ycenters = 0.5 * (yedges[:-1] + yedges[1:])\n",
    "\n",
    "fig, ax = pplt.subplots()\n",
    "ax.pcolormesh(xcenters, ycenters, Z.T, cmap='dusk_r')\n",
    "ax.format(xlabel=\"x\", ylabel=\"y\")\n",
    "plt.show()"
   ]
  },
  {
   "cell_type": "markdown",
   "id": "ed952698-b1dd-4436-a182-3d7befe7a297",
   "metadata": {},
   "source": [
    "We now simulate the measurements. The reconstruction and measurement coordinates for measurement $k$ are connected with a transfer matrix $M_k$. In normalized phase space, $M_k$ will rotate the distribution clockwise by angle $\\theta_k$ (the phase advance), and we measure the 1D projection of this rotated distribution onto the $x$ axis. This is equivalent to projecting the distribution onto the $s_k$ axis which is rotated counterclockwise relative to the $x$ axis by angle $\\theta_k$."
   ]
  },
  {
   "cell_type": "code",
   "execution_count": null,
   "id": "0f110dd4-d299-4133-82fd-caaa17f8de99",
   "metadata": {},
   "outputs": [],
   "source": [
    "n_proj = 15\n",
    "angles = np.linspace(0.0, np.pi, n_proj, endpoint=False)\n",
    "transfer_matrices = [rotation_matrix(angle) for angle in angles]\n",
    "\n",
    "projections = np.zeros((n_bins, n_proj))\n",
    "for k in trange(n_proj):\n",
    "    M = transfer_matrices[k]\n",
    "    X_meas = np.apply_along_axis(lambda row: np.matmul(M, row), 1, X)\n",
    "    projections[:, k], _ = np.histogram(X_meas[:, 0], n_bins, limit, density=True)"
   ]
  },
  {
   "cell_type": "code",
   "execution_count": null,
   "id": "139f4e9c-0a49-481e-8e09-77532312d60a",
   "metadata": {},
   "outputs": [],
   "source": [
    "fig, ax = pplt.subplots()\n",
    "ax.pcolormesh(projections.T, cmap='dusk_r')\n",
    "ax.format(xlabel='s', ylabel='Projection index')"
   ]
  },
  {
   "cell_type": "markdown",
   "id": "70db8b4e-1347-41ae-8949-58baf990ffa9",
   "metadata": {},
   "source": [
    "### Filtered Back-Projection (FPB)"
   ]
  },
  {
   "cell_type": "code",
   "execution_count": null,
   "id": "558ac95f-826b-49c3-81f1-de9d6bf8bb66",
   "metadata": {},
   "outputs": [],
   "source": [
    "Z_fbp = rec.fbp(projections, angles, keep_positive=True, density=True, limits=(limit, limit))"
   ]
  },
  {
   "cell_type": "code",
   "execution_count": null,
   "id": "cf061c71-723e-4e51-a531-9137cf9a98a6",
   "metadata": {},
   "outputs": [],
   "source": [
    "fig, axes = pplt.subplots(ncols=3, figsize=None)\n",
    "kws = dict(cmap='dusk_r', shading='auto')\n",
    "axes[0].pcolormesh(xcenters, ycenters, Z.T, **kws)\n",
    "axes[1].pcolormesh(xcenters, ycenters, Z_fbp.T, **kws)\n",
    "axes[2].pcolormesh(xcenters, ycenters, (Z - Z_fbp).T, colorbar=True)\n",
    "axes.format(xlabel=\"x\", ylabel=\"x'\", suptitle='FBP Reconstruction')\n",
    "axes[0].set_title('True')\n",
    "axes[1].set_title('Reconstructed');\n",
    "axes[2].set_title('Error)')\n",
    "plt.show()"
   ]
  },
  {
   "cell_type": "markdown",
   "id": "5ab64b30-73f6-4749-85e7-b1ca92f4962e",
   "metadata": {},
   "source": [
    "### Simultaneous Algebraic Reconstruction (SART) "
   ]
  },
  {
   "cell_type": "code",
   "execution_count": null,
   "id": "3338d86b-d403-4eae-aa77-eeb88b5ad32b",
   "metadata": {},
   "outputs": [],
   "source": [
    "Z_sart = rec.sart(projections, angles, iterations=2, \n",
    "                  keep_positive=True, density=True, limits=(limit, limit))"
   ]
  },
  {
   "cell_type": "code",
   "execution_count": null,
   "id": "bdef9ec0-8287-40f5-84ae-8e940dc144f3",
   "metadata": {},
   "outputs": [],
   "source": [
    "fig, axes = pplt.subplots(ncols=3)\n",
    "axes[0].pcolormesh(xcenters, ycenters, Z.T, cmap='dusk_r')\n",
    "axes[1].pcolormesh(xcenters, ycenters, Z_sart.T, cmap='dusk_r')\n",
    "axes[2].pcolormesh(xcenters, ycenters, (Z - Z_sart).T, colorbar=True)\n",
    "axes.format(xlabel=\"x\", ylabel=\"y\", suptitle='SART reconstruction')\n",
    "axes[0].set_title('Original')\n",
    "axes[1].set_title('Reconstructed')\n",
    "axes[2].set_title('Error')\n",
    "plt.show()"
   ]
  },
  {
   "cell_type": "markdown",
   "id": "5de08531-3f55-4757-af15-255de68adb50",
   "metadata": {},
   "source": [
    "### MENT"
   ]
  },
  {
   "cell_type": "code",
   "execution_count": null,
   "id": "7e8f012b-82f0-44cb-b5ba-55de5d1ca8c5",
   "metadata": {},
   "outputs": [],
   "source": []
  },
  {
   "cell_type": "markdown",
   "id": "f29bbec4-acf4-4876-aaf7-bab55c19f641",
   "metadata": {},
   "source": [
    "## 4D phase space reconstruction "
   ]
  },
  {
   "cell_type": "markdown",
   "id": "e62d1199-4b73-46b8-b72c-448c54c44c74",
   "metadata": {},
   "source": [
    "Following method detailed in Hock et. al. (2013)."
   ]
  },
  {
   "cell_type": "code",
   "execution_count": null,
   "id": "a55b53c6-eec1-42c9-88ef-fdf44acdc160",
   "metadata": {},
   "outputs": [],
   "source": [
    "n_bins = 100"
   ]
  },
  {
   "cell_type": "code",
   "execution_count": null,
   "id": "eb4bd680-cd1e-492d-a33a-a4c27419052a",
   "metadata": {},
   "outputs": [],
   "source": [
    "from accphys.tools.accphys_utils import V_matrix_4x4_uncoupled\n",
    "from accphys.tools.beam_analysis import twiss2D\n",
    "\n",
    "# Create 4D Gaussian distribution.\n",
    "X = np.random.normal(size=(125000, 4))\n",
    "\n",
    "# Add some coupling.\n",
    "a, b, c = 0.2, 0.1, -0.1\n",
    "d = b * c / a if a != 0. else 0.\n",
    "V = np.array([[1., 0., a, b],\n",
    "              [0., 1., c, d],\n",
    "              [-d, b, 1., 0],\n",
    "              [c, -a, 0., 1.]])\n",
    "X = utils.apply(V, X)\n",
    "\n",
    "# Normalize x-x' and y-y'.\n",
    "V = V_matrix_4x4_uncoupled(*twiss2D(np.cov(X.T)))\n",
    "Xn = utils.apply(np.linalg.inv(V), X)\n",
    "\n",
    "# Plot the 2D projections of the distribution.\n",
    "limits_kws = dict(zero_center=False, sigma=4.5)\n",
    "\n",
    "limits = myplt.auto_limits(X, **limits_kws)\n",
    "axes = myplt.corner(X, figsize=(6, 6), limits=limits, bins=n_bins)\n",
    "plt.suptitle('Projections of 4D distribution')\n",
    "plt.show()\n",
    "\n",
    "limits = myplt.auto_limits(Xn, **limits_kws)\n",
    "axes = myplt.corner(Xn, figsize=(6, 6), limits=limits, bins=n_bins)\n",
    "plt.suptitle('Projections of normalized 4D distribution')\n",
    "plt.show()"
   ]
  },
  {
   "cell_type": "markdown",
   "id": "f2ccc9bc-c270-43e2-89c7-6520e495ceb1",
   "metadata": {},
   "source": [
    "Compute the 4D histogram of the coordinates."
   ]
  },
  {
   "cell_type": "code",
   "execution_count": null,
   "id": "1c031f59-3443-4293-b026-5f5d62a9eeb1",
   "metadata": {},
   "outputs": [],
   "source": [
    "Ztrue, edges = np.histogramdd(Xn, n_bins, limits, density=True)\n",
    "\n",
    "centers = []\n",
    "for _edges in edges:\n",
    "    centers.append(0.5 * (_edges[:-1] + _edges[1:]))\n",
    "\n",
    "bin_widths = [(np.diff(limit)[0] / n_bins) for limit in limits]\n",
    "bin_volume = np.prod(bin_widths)"
   ]
  },
  {
   "cell_type": "markdown",
   "id": "cfb64a36-e4eb-490a-bd75-df48a9b5f9d5",
   "metadata": {},
   "source": [
    "Simulate the measurements. $S_{ijkl}$ gives the density at point $(x_i, y_j)$, on the screen for phase advances (angle) $\\theta_{x_k} = \\pi k / K$ and $\\theta_{y_l} = \\pi l / L$. . Since there is no problem, we can just rotate each phase plane separately, then loop through and compute the histograms."
   ]
  },
  {
   "cell_type": "code",
   "execution_count": null,
   "id": "344a17c1-077b-4220-a475-d64d2739132b",
   "metadata": {},
   "outputs": [],
   "source": [
    "K = 15 # number of angles in x dimension\n",
    "L = 15 # number of angles in y dimension\n",
    "\n",
    "muxx = np.linspace(0., np.pi, K, endpoint=True)\n",
    "xx_list = []\n",
    "for mux in tqdm(muxx):\n",
    "    Mx = rotation_matrix(mux)\n",
    "    xx_list.append(utils.apply(Mx, X[:, :2])[:, 0])\n",
    "    \n",
    "muyy = np.linspace(0., np.pi, K, endpoint=True)\n",
    "yy_list = []\n",
    "for muy in tqdm(muyy):\n",
    "    My = rotation_matrix(muy)\n",
    "    yy_list.append(utils.apply(My, X[:, 2:])[:, 0])\n",
    "    \n",
    "S = np.zeros((n_bins, n_bins, K, L))\n",
    "for k, xx in enumerate(tqdm(xx_list)):\n",
    "    for l, yy in enumerate(yy_list):\n",
    "        S[:, :, k, l], _, _ = np.histogram2d(xx, yy, n_bins, (limits[0], limits[2]))"
   ]
  },
  {
   "cell_type": "markdown",
   "id": "38d47ca7-311e-447d-bf67-c93427674ca9",
   "metadata": {},
   "source": [
    "Run the reconstuction algorithm."
   ]
  },
  {
   "cell_type": "code",
   "execution_count": null,
   "id": "a2a7841a-b42d-4a52-8e9e-327a9b8aa162",
   "metadata": {},
   "outputs": [],
   "source": [
    "method = 'SART' # {'SART', 'FBP', 'MENT'}\n",
    "kws = dict()\n",
    "Z = rec.rec4D(S, muxx, muyy, n_bins, method=method, \n",
    "              keep_positive=True, density=True, limits=limits, **kws)"
   ]
  },
  {
   "cell_type": "markdown",
   "id": "df41eaa1-c4e9-4e82-b11b-74b342d3b1a8",
   "metadata": {},
   "source": [
    "Check that the reconstructed distribution normalized."
   ]
  },
  {
   "cell_type": "code",
   "execution_count": null,
   "id": "d7f7e700-ff66-4e8a-bc42-88c66c31db3e",
   "metadata": {},
   "outputs": [],
   "source": [
    "print('min(Z) = {}'.format(np.min(Z)))\n",
    "print('sum(Z) * bin_volume = {}'.format(np.sum(Z) * bin_volume))\n",
    "print()\n",
    "print('min(Ztrue) = {}'.format(np.min(Ztrue)))\n",
    "print('sum(Ztrue) * bin_volume = {}'.format(np.sum(Ztrue) * bin_volume))"
   ]
  },
  {
   "cell_type": "markdown",
   "id": "cd71d3e0-d40e-46ad-a6be-945818271b3c",
   "metadata": {},
   "source": [
    "### Accuracy"
   ]
  },
  {
   "cell_type": "code",
   "execution_count": null,
   "id": "5963d695-f562-485b-9f9c-134293504176",
   "metadata": {},
   "outputs": [],
   "source": [
    "fig, axes = pplt.subplots(ncols=4, figsize=(6, 2), spanx=False)\n",
    "\n",
    "for i in range(4):\n",
    "    axes[i].plot(centers[i], rec.project(Z, i), color='black', label='Reconstructed')\n",
    "    axes[i].plot(centers[i], rec.project(Ztrue, i), color='red8', ls='--', label='True')\n",
    "    axes[i].set_xlabel(labels_norm[i])\n",
    "axes[0].legend(loc=(0.0, 1.02), framealpha=0.0, ncol=1)\n",
    "plt.savefig('_output/projections1D.png', **savefig_kws)"
   ]
  },
  {
   "cell_type": "code",
   "execution_count": null,
   "id": "a490aa65-1fb1-46b4-8b6a-28756da177f3",
   "metadata": {},
   "outputs": [],
   "source": [
    "fig, axes = pplt.subplots(nrows=3, ncols=6, figsize=(8, 4), sharex=False, sharey=False)\n",
    "\n",
    "indices = [(0, 1), (2, 3), (0, 2), (0, 3), (2, 1), (1, 3)]\n",
    "pcolormesh_kws = dict(cmap='dusk_r')\n",
    "\n",
    "for col, (i, j) in enumerate(indices):\n",
    "    axes[0, col].set_title('{}-{}'.format(labels_norm[i], labels_norm[j]))\n",
    "    Htrue = rec.project(Ztrue, [i, j])\n",
    "    H = rec.project(Z, [i, j])\n",
    "    axes[0, col].pcolormesh(centers[i], centers[j], H.T, cmap='dusk_r')\n",
    "    axes[1, col].pcolormesh(centers[i], centers[j], Htrue.T, cmap='dusk_r')\n",
    "    axes[2, col].pcolormesh(centers[i], centers[j], (H - Htrue).T)\n",
    "axes.format(rowlabels=['Reconstructed', 'True', 'Error'], xticks=[], yticks=[])\n",
    "plt.savefig('_output/projections2D.png', **savefig_kws)"
   ]
  },
  {
   "cell_type": "code",
   "execution_count": null,
   "id": "37063778-9ecf-401d-a9b5-8c74a87ba777",
   "metadata": {},
   "outputs": [],
   "source": [
    "# def get_projections(Z):\n",
    "#     \"\"\"Return list of shape (3, 3)\"\"\"\n",
    "#     projections = [[], [], []]\n",
    "#     for i in range(3):\n",
    "#         for j in range(i + 1):\n",
    "#             projection = project(Z, [j, i + 1])\n",
    "#             projections[i].append(projection)\n",
    "#     return projections\n",
    "\n",
    "# def plot_projections(projections, limits):\n",
    "#     pcolormesh_kws = dict(cmap='dusk_r', shading='auto')\n",
    "#     labels = [\"x\", \"x'\", \"y\", \"y'\"]\n",
    "#     fig, axes = myplt.pair_grid_nodiag(4, limits=limits)\n",
    "#     for i in range(3):\n",
    "#         for j in range(i + 1):\n",
    "#             ax = axes[i, j]\n",
    "#             Z = projections[i][j]\n",
    "#             xlim, ylim = ax.get_xlim(), ax.get_ylim()\n",
    "#             xx = np.linspace(xlim[0], xlim[1], Z.shape[0])\n",
    "#             yy = np.linspace(ylim[0], ylim[1], Z.shape[1])\n",
    "#             ax.pcolormesh(xx, yy, Z.T, **pcolormesh_kws)\n",
    "#     return axes\n",
    "\n",
    "# projections = get_projections(F_true)\n",
    "# axes = plot_projections(projections, limits)\n",
    "# plt.suptitle('Reconstructed')\n",
    "\n",
    "# projections_err = get_projections(np.abs(F - F_true))\n",
    "# axes = plot_projections(projections_err, limits)\n",
    "# plt.suptitle('abs(error)');"
   ]
  },
  {
   "cell_type": "code",
   "execution_count": null,
   "id": "492312a8-6679-466c-a92b-498b669fb4cd",
   "metadata": {},
   "outputs": [],
   "source": [
    "error = np.sum((Z - Ztrue)**2)\n",
    "print('SSQ error = {}'.format(error))"
   ]
  },
  {
   "cell_type": "code",
   "execution_count": null,
   "id": "3d8258e3-2746-48a1-aa81-21ab4e7de1bd",
   "metadata": {},
   "outputs": [],
   "source": []
  }
 ],
 "metadata": {
  "kernelspec": {
   "display_name": "Python 3",
   "language": "python",
   "name": "python3"
  },
  "language_info": {
   "codemirror_mode": {
    "name": "ipython",
    "version": 3
   },
   "file_extension": ".py",
   "mimetype": "text/x-python",
   "name": "python",
   "nbconvert_exporter": "python",
   "pygments_lexer": "ipython3",
   "version": "3.7.6"
  }
 },
 "nbformat": 4,
 "nbformat_minor": 5
}
