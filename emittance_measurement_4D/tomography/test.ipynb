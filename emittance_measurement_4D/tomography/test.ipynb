{
 "cells": [
  {
   "cell_type": "markdown",
   "id": "3247bb53-62ff-49d7-acb0-572450733791",
   "metadata": {},
   "source": [
    "# Tomographic reconstruction in four dimensions "
   ]
  },
  {
   "cell_type": "code",
   "execution_count": null,
   "id": "a6d5a4a2-ac0d-402e-8840-8c95d4443006",
   "metadata": {},
   "outputs": [],
   "source": [
    "import sys\n",
    "import os\n",
    "import importlib\n",
    "import numpy as np\n",
    "import matplotlib.pyplot as plt\n",
    "import proplot as pplt\n",
    "from tqdm import tqdm\n",
    "from tqdm import trange\n",
    "\n",
    "import reconstruct as rec\n",
    "\n",
    "sys.path.append('/Users/46h/Research/')\n",
    "from accphys.tools import utils\n",
    "from accphys.tools import plotting as myplt\n",
    "from accphys.tools.utils import rotation_matrix"
   ]
  },
  {
   "cell_type": "code",
   "execution_count": null,
   "id": "f9a12788-c8f1-4209-91bf-fe1067f44ca5",
   "metadata": {},
   "outputs": [],
   "source": [
    "pplt.rc['axes.grid'] = False\n",
    "pplt.rc['figure.facecolor'] = 'white'\n",
    "pplt.rc['cmap.discrete'] = False\n",
    "pplt.rc['cmap.sequential'] = 'viridis'\n",
    "\n",
    "savefig_kws = dict(dpi=300)"
   ]
  },
  {
   "cell_type": "code",
   "execution_count": null,
   "id": "16b3c986-455c-4063-ab32-8c3c1fa55ddd",
   "metadata": {},
   "outputs": [],
   "source": [
    "labels = [\"x\", \"x'\", \"y\", \"y'\"]\n",
    "labels_norm = [r\"$x_n$\", r\"$x'_n$\", r\"$y_n$\", r\"$y'_n$\"]"
   ]
  },
  {
   "cell_type": "markdown",
   "id": "acc8f28f-1c45-45a3-9970-3099cfff410f",
   "metadata": {},
   "source": [
    "## Introduction"
   ]
  },
  {
   "cell_type": "markdown",
   "id": "fddcdab5-7858-4122-94e8-b7c55b7d98cb",
   "metadata": {},
   "source": [
    "A beam of particles in an accelerator is characterized by its distribution in phase space — the space of positions $\\{x, y, z\\}$ and momenta $\\{x', y', z'\\}$. I'm currently working on a projection in which we'd like to measure the 4D phase space distribution $f(x, x', y, y')$ of a fully-accumulated beam in the Spallation Neutron Source (SNS). "
   ]
  },
  {
   "cell_type": "markdown",
   "id": "91ae237d-b3f4-4c41-8bb1-6316af404e78",
   "metadata": {},
   "source": [
    "A direct way to do this is called a slit-scan. A series of slits are used to block all but those particles in the region $\\mathbf{x} \\pm \\Delta\\mathbf{x}$, where $\\mathbf{x} = (x, x', y, y')$, and $\\mathbf{x}$ is moved through phase space. This method is accurate but slow and not available for our beam ($10^{14}$ protons moving at 90% the speed of light). The best we can do is to measure projections of the distribution; i.e., a lower-dimensional views such as\n",
    "\n",
    "$$\n",
    "f(x) = \\int_{-\\infty}^{\\infty}\\int_{-\\infty}^{\\infty}\\int_{-\\infty}^{\\infty}{f(x, x', y, y') dx' dy dy'}.\n",
    "$$"
   ]
  },
  {
   "cell_type": "markdown",
   "id": "3d34054d-da9a-4bf1-ae78-4d2dafd9fea2",
   "metadata": {},
   "source": [
    "*Tomography* addresses whether a distribution can be reconstructed from its projections. The idea behind tomography can be illustrated in many ways. Imagine being tasked with computing the density of trees in a forest (in winter, after all the leaves have fallen). The most direct method would be to divide the forest into $n^2$ boxes, walk to each box, and record the number of trees in that box. But let's say that the forest is huge and that a trolley runs on a loop surrouding the forest. You could produce a reasonable guess by observing the density of trees along the horizon (a 1D projection) as you ride the trolley."
   ]
  },
  {
   "cell_type": "markdown",
   "id": "8449b95c-069f-42b3-80df-d8207c613a50",
   "metadata": {},
   "source": [
    "This idea can be applied to a phase space distribution. Consider $f(x, x')$. It's straightforward to measure a 1D projection along the $x$ axis by sweeping a vertical wire across the beam path, but this only corresponds to one projection angle. The trick is that — to an approximation — motion in an accelerator consists of linear transformations of the phase space coordinates: shearing, scaling, and rotation. Thus, the projection of a transformed distribution onto the $x$ axis is a scaled projection of the original distribution onto a rotated axis. In practice, the reconstruction point is chosen upstream of the wire-scanner and the electromagnetic fields between the two points are varied to control the projection angle. "
   ]
  },
  {
   "cell_type": "markdown",
   "id": "7f1e8e5a-e1cb-4763-b57f-a033b1745ef9",
   "metadata": {},
   "source": [
    "It's more challenging to find $f(x, x', y, y')$. It's straightforward to reconstruct the $4 \\times 4$ covariance matrix from 1D projections; I've implemented this in the SNS already and won't discuss it here. To obtain the 4D *distribution*, we generally need at least 2D projections. I'm interested in this approach because the final destination of the SNS beam — the target — is coated with a material that releases photons when impacted by the beam. This gives an image of the 2D projection onto the $x$-$y$ plane. The idea that I'll explore in this post is whether these 2D projections can be used to reconstruct the 4D phase space distribution. I'll first go over a few reconstruction algorithms in 2D."
   ]
  },
  {
   "cell_type": "markdown",
   "id": "ac9eec21-0847-4d0d-9631-6a3c2061f8ff",
   "metadata": {},
   "source": [
    "## 2D reconstruction algorithms"
   ]
  },
  {
   "cell_type": "markdown",
   "id": "cf3e9f3b-e3fa-49db-90b4-ff443acab2ac",
   "metadata": {},
   "source": [
    "The case of a 2D reconstruction from 1D projections has been studied extensively. Here are three approaches: filtered back-projection (FBP), algebraic reconstruction (ART), and maximum entropy (MENT). I'll use the following distribution to test the methods."
   ]
  },
  {
   "cell_type": "code",
   "execution_count": null,
   "id": "dcd32160-3f7f-4250-aa07-f64451225d8c",
   "metadata": {},
   "outputs": [],
   "source": [
    "X = np.vstack([\n",
    "    np.random.multivariate_normal(mean=[0.0, 0.0], cov=[[2.0, 0.4], [0.4, 1.]], size=100000),\n",
    "    np.random.normal(scale=1.0, loc=[-2.0, -2.0], size=(20000, 2)),\n",
    "    np.random.normal(scale=1.0, loc=[2.0, 2.0], size=(40000, 2)),\n",
    "    np.random.normal(scale=1.0, loc=[2.0, -2.0], size=(30000, 2)),\n",
    "    np.random.normal(scale=1.0, loc=[-2.0, 2.0], size=(30000, 2)),\n",
    "])\n",
    "\n",
    "n_bins = 60\n",
    "limits = [(-7.0, 7.0), (-7.0, 7.0)]\n",
    "bin_area = rec.get_bin_volume(limits, n_bins)\n",
    "\n",
    "Z_true, xedges, yedges = np.histogram2d(X[:, 0], X[:, 1], n_bins, limits, density=True)\n",
    "xcenters = 0.5 * (xedges[:-1] + xedges[1:])\n",
    "ycenters = 0.5 * (yedges[:-1] + yedges[1:])\n",
    "\n",
    "fig, ax = pplt.subplots()\n",
    "ax.pcolormesh(xcenters, ycenters, Z_true.T, cmap='dusk_r')\n",
    "ax.format(xlabel=\"x\", ylabel=\"x'\")\n",
    "plt.show()"
   ]
  },
  {
   "cell_type": "markdown",
   "id": "190f8e6b-973c-40e8-b1e9-f260c06e2387",
   "metadata": {},
   "source": [
    "We now take multiple 1D projections of the distribution to simulate the measurements. Assume that we have the ability to rotate the distribution in the $x$-$x'$ plane; i.e., no shearing or scaling. "
   ]
  },
  {
   "cell_type": "code",
   "execution_count": null,
   "id": "0f110dd4-d299-4133-82fd-caaa17f8de99",
   "metadata": {},
   "outputs": [],
   "source": [
    "n_proj = 15\n",
    "angles = np.linspace(0.0, np.pi, n_proj, endpoint=False)\n",
    "transfer_matrices = [rotation_matrix(angle) for angle in angles]\n",
    "\n",
    "projections = np.zeros((n_bins, n_proj))\n",
    "for k in range(n_proj):\n",
    "    M = transfer_matrices[k]\n",
    "    X_meas = np.apply_along_axis(lambda row: np.matmul(M, row), 1, X)\n",
    "    projections[:, k], _ = np.histogram(X_meas[:, 0], n_bins, limits[0], density=True)\n",
    "    \n",
    "fig, ax = pplt.subplots()\n",
    "ax.pcolormesh(projections.T, cmap='dusk_r')\n",
    "ax.format(xlabel='Projection axis', ylabel='Projection index', yticks=range(n_proj), ytickminor=False)"
   ]
  },
  {
   "cell_type": "markdown",
   "id": "70db8b4e-1347-41ae-8949-58baf990ffa9",
   "metadata": {},
   "source": [
    "### Filtered Back-Projection (FPB)"
   ]
  },
  {
   "cell_type": "markdown",
   "id": "ced3f6b4-8d4f-4107-bc0f-e17235f2acfc",
   "metadata": {},
   "source": [
    "Filtered back-projection (FBP) is a common technique. "
   ]
  },
  {
   "cell_type": "code",
   "execution_count": null,
   "id": "558ac95f-826b-49c3-81f1-de9d6bf8bb66",
   "metadata": {},
   "outputs": [],
   "source": [
    "Z = rec.fbp(projections, angles, keep_positive=True, density=True, limits=limits)"
   ]
  },
  {
   "cell_type": "code",
   "execution_count": null,
   "id": "cf061c71-723e-4e51-a531-9137cf9a98a6",
   "metadata": {},
   "outputs": [],
   "source": [
    "fig, axes = pplt.subplots(ncols=3, figsize=None)\n",
    "kws = dict(cmap='dusk_r', shading='auto')\n",
    "axes[0].pcolormesh(xcenters, ycenters, Z.T, **kws)\n",
    "axes[1].pcolormesh(xcenters, ycenters, Z_true.T, **kws)\n",
    "axes[2].pcolormesh(xcenters, ycenters, (Z - Z_true).T, colorbar=True)\n",
    "axes.format(xlabel=\"x\", ylabel=\"x'\", suptitle='FBP Reconstruction')\n",
    "axes[0].set_title('Reconstructed')\n",
    "axes[1].set_title('True');\n",
    "axes[2].set_title('Error)')\n",
    "plt.show()"
   ]
  },
  {
   "cell_type": "markdown",
   "id": "3f0366c1-2fb9-4dd1-846c-34c1d4942b15",
   "metadata": {},
   "source": [
    "FBP requires potentially many projections to avoid these streaking artifacts; the `skimage` authors suggest approximately the same number of projections as pixels along one dimension. For reasons I'll mention later, this is feasible in the SNS for a 2D reconstruction but not for a 4D reconstruction."
   ]
  },
  {
   "cell_type": "markdown",
   "id": "5ab64b30-73f6-4749-85e7-b1ca92f4962e",
   "metadata": {},
   "source": [
    "### Algebraic Reconstruction (ART) "
   ]
  },
  {
   "cell_type": "markdown",
   "id": "fc685b25-d790-448f-9adb-7c260abfb16f",
   "metadata": {},
   "source": [
    "[ART theory]"
   ]
  },
  {
   "cell_type": "code",
   "execution_count": null,
   "id": "3338d86b-d403-4eae-aa77-eeb88b5ad32b",
   "metadata": {},
   "outputs": [],
   "source": [
    "Z = rec.sart(projections, angles, iterations=2, keep_positive=True, density=True, limits=limits)"
   ]
  },
  {
   "cell_type": "code",
   "execution_count": null,
   "id": "bdef9ec0-8287-40f5-84ae-8e940dc144f3",
   "metadata": {},
   "outputs": [],
   "source": [
    "fig, axes = pplt.subplots(ncols=3)\n",
    "axes[0].pcolormesh(xcenters, ycenters, Z.T, cmap='dusk_r')\n",
    "axes[1].pcolormesh(xcenters, ycenters, Z_true.T, cmap='dusk_r')\n",
    "axes[2].pcolormesh(xcenters, ycenters, (Z - Z_true).T, colorbar=True)\n",
    "axes.format(xlabel=\"x\", ylabel=\"y\", suptitle='SART reconstruction')\n",
    "axes[0].set_title('Reconstructed')\n",
    "axes[1].set_title('Original')\n",
    "axes[2].set_title('Error')\n",
    "plt.show()"
   ]
  },
  {
   "cell_type": "markdown",
   "id": "ed0bc5b5-f026-4374-a319-52a8ec0fb9ec",
   "metadata": {},
   "source": [
    "The ART approach does much better with few projections."
   ]
  },
  {
   "cell_type": "markdown",
   "id": "5de08531-3f55-4757-af15-255de68adb50",
   "metadata": {},
   "source": [
    "### MENT"
   ]
  },
  {
   "cell_type": "markdown",
   "id": "5f094681-41ad-49e4-acfb-c7e1e41a2fa0",
   "metadata": {},
   "source": [
    "There is another approach to the problem based on information theory. The idea is that the most probable distribution should be chosen, i.e., find the $f(\\mathbf{x})$ that maximizes the entropy\n",
    "\n",
    "$$ S = -\\int f(\\mathbf{x}) \\log{f(\\mathbf{x})} d\\mathbf{x}$$\n",
    "\n",
    "with the constraint that the projections of $f(\\mathbf{x}$ are consistent with measurements. The theory behind this algorithm is layout out in Menerbo (1972?)."
   ]
  },
  {
   "cell_type": "markdown",
   "id": "f29bbec4-acf4-4876-aaf7-bab55c19f641",
   "metadata": {},
   "source": [
    "## 4D phase space reconstruction "
   ]
  },
  {
   "cell_type": "markdown",
   "id": "1aeae046-a36a-4afb-8ecc-fd1f16becb51",
   "metadata": {},
   "source": [
    "Now we come to the problem of reconstructing the 4D phase space. We might ask whether the algorithms above will generalize to 4D when given 2D projections. "
   ]
  },
  {
   "cell_type": "markdown",
   "id": "e62d1199-4b73-46b8-b72c-448c54c44c74",
   "metadata": {},
   "source": [
    "It would nice if we could follow the strategy of CT scans: reconstruct a 3D image by reconstructing a series of 2D slices. As it turns out, this is possible in 4D. Suppose we can independently rotate the $x$-$x'$ and $y$-$y'$ phase spaces of the distribution. Let the angles in $x$-$x'$ be $\\left\\{\\mu_{x_1}, \\dots, \\mu_{x_k}, \\dots, \\mu_{x_K}\\right\\}$ and the angles in $y$-$y'$ be $\\left\\{\\mu_{y_1}, \\dots, \\mu_{y_l}, \\dots, \\mu_{y_L}\\right\\}$. For each combination of $\\mu_x$ and $\\mu_y$, measure the beam image on a screen."
   ]
  },
  {
   "cell_type": "code",
   "execution_count": null,
   "id": "eb4bd680-cd1e-492d-a33a-a4c27419052a",
   "metadata": {},
   "outputs": [],
   "source": [
    "from accphys.tools.accphys_utils import V_matrix_4x4_uncoupled\n",
    "from accphys.tools.beam_analysis import twiss2D\n",
    "\n",
    "# Create 4D Gaussian distribution.\n",
    "X = np.random.normal(size=(200000, 4))\n",
    "\n",
    "# Add some coupling.\n",
    "a, b, c = 0.3, 0.4, -0.8\n",
    "d = b * c / a if a != 0. else 0.\n",
    "V = np.array([[1., 0., a, b],\n",
    "              [0., 1., c, d],\n",
    "              [-d, b, 1., 0],\n",
    "              [c, -a, 0., 1.]])\n",
    "X = utils.apply(V, X)\n",
    "\n",
    "# Normalize x-x' and y-y'.\n",
    "V = V_matrix_4x4_uncoupled(*twiss2D(np.cov(X.T)))\n",
    "Xn = utils.apply(np.linalg.inv(V), X)\n",
    "\n",
    "# Plot the 2D projections of the distribution.\n",
    "limits_kws = dict(zero_center=False, sigma=4.0)\n",
    "\n",
    "limits = myplt.auto_limits(X, **limits_kws)\n",
    "axes = myplt.corner(X, figsize=(6, 6), limits=limits, bins=n_bins)\n",
    "plt.suptitle('Projections of 4D distribution')\n",
    "plt.show()\n",
    "\n",
    "limits = myplt.auto_limits(Xn, **limits_kws)\n",
    "axes = myplt.corner(Xn, figsize=(6, 6), limits=limits, bins=n_bins)\n",
    "plt.suptitle('Projections of normalized 4D distribution')\n",
    "plt.show()"
   ]
  },
  {
   "cell_type": "markdown",
   "id": "f2ccc9bc-c270-43e2-89c7-6520e495ceb1",
   "metadata": {},
   "source": [
    "Compute the 4D histogram of the coordinates."
   ]
  },
  {
   "cell_type": "code",
   "execution_count": null,
   "id": "1c031f59-3443-4293-b026-5f5d62a9eeb1",
   "metadata": {},
   "outputs": [],
   "source": [
    "Ztrue, edges = np.histogramdd(Xn, n_bins, limits, density=True)\n",
    "\n",
    "centers = []\n",
    "for _edges in edges:\n",
    "    centers.append(0.5 * (_edges[:-1] + _edges[1:]))\n",
    "    \n",
    "bin_volume = rec.get_bin_volume(limits, n_bins)"
   ]
  },
  {
   "cell_type": "markdown",
   "id": "cfb64a36-e4eb-490a-bd75-df48a9b5f9d5",
   "metadata": {},
   "source": [
    "Simulate the measurements. $S_{ijkl}$ gives the density at point $(x_i, y_j)$, on the screen for phase advances (angle) $\\theta_{x_k} = \\pi k / K$ and $\\theta_{y_l} = \\pi l / L$. . Since there is no problem, we can just rotate each phase plane separately, then loop through and compute the histograms."
   ]
  },
  {
   "cell_type": "code",
   "execution_count": null,
   "id": "344a17c1-077b-4220-a475-d64d2739132b",
   "metadata": {},
   "outputs": [],
   "source": [
    "K = 15 # number of angles in x dimension\n",
    "L = 15 # number of angles in y dimension\n",
    "\n",
    "muxx = muyy = np.linspace(0., np.pi, K, endpoint=False)\n",
    "\n",
    "xx_list = []\n",
    "for mux in tqdm(muxx):\n",
    "    Mx = rotation_matrix(mux)\n",
    "    xx_list.append(utils.apply(Mx, X[:, :2])[:, 0])\n",
    "    \n",
    "yy_list = []\n",
    "for muy in tqdm(muyy):\n",
    "    My = rotation_matrix(muy)\n",
    "    yy_list.append(utils.apply(My, X[:, 2:])[:, 0])\n",
    "    \n",
    "S = np.zeros((n_bins, n_bins, K, L))\n",
    "for k, xx in enumerate(tqdm(xx_list)):\n",
    "    for l, yy in enumerate(yy_list):\n",
    "        S[:, :, k, l], _, _ = np.histogram2d(xx, yy, n_bins, (limits[0], limits[2]))"
   ]
  },
  {
   "cell_type": "markdown",
   "id": "38d47ca7-311e-447d-bf67-c93427674ca9",
   "metadata": {},
   "source": [
    "Run the reconstuction algorithm."
   ]
  },
  {
   "cell_type": "code",
   "execution_count": null,
   "id": "a2a7841a-b42d-4a52-8e9e-327a9b8aa162",
   "metadata": {},
   "outputs": [],
   "source": [
    "method = 'SART' # {'SART', 'FBP', 'MENT'}\n",
    "kws = dict()\n",
    "Z = rec.rec4D(S, muxx, muyy, n_bins, method=method, \n",
    "              keep_positive=True, density=True, limits=limits, **kws)"
   ]
  },
  {
   "cell_type": "markdown",
   "id": "df41eaa1-c4e9-4e82-b11b-74b342d3b1a8",
   "metadata": {},
   "source": [
    "Check that the reconstructed distribution normalized."
   ]
  },
  {
   "cell_type": "code",
   "execution_count": null,
   "id": "d7f7e700-ff66-4e8a-bc42-88c66c31db3e",
   "metadata": {},
   "outputs": [],
   "source": [
    "print('min(Z) = {}'.format(np.min(Z)))\n",
    "print('sum(Z) * bin_volume = {}'.format(np.sum(Z) * bin_volume))\n",
    "print()\n",
    "print('min(Ztrue) = {}'.format(np.min(Ztrue)))\n",
    "print('sum(Ztrue) * bin_volume = {}'.format(np.sum(Ztrue) * bin_volume))"
   ]
  },
  {
   "cell_type": "markdown",
   "id": "cd71d3e0-d40e-46ad-a6be-945818271b3c",
   "metadata": {},
   "source": [
    "### Accuracy"
   ]
  },
  {
   "cell_type": "code",
   "execution_count": null,
   "id": "5963d695-f562-485b-9f9c-134293504176",
   "metadata": {},
   "outputs": [],
   "source": [
    "fig, axes = pplt.subplots(ncols=4, figsize=(6, 2), spanx=False)\n",
    "\n",
    "for i in range(4):\n",
    "    axes[i].plot(centers[i], rec.project(Z, i), color='black', label='Reconstructed')\n",
    "    axes[i].plot(centers[i], rec.project(Ztrue, i), color='red8', ls='--', label='True')\n",
    "    axes[i].set_xlabel(labels_norm[i])\n",
    "axes[0].legend(loc=(0.0, 1.02), framealpha=0.0, ncol=1)\n",
    "plt.savefig('_output/projections1D.png', **savefig_kws)"
   ]
  },
  {
   "cell_type": "code",
   "execution_count": null,
   "id": "a490aa65-1fb1-46b4-8b6a-28756da177f3",
   "metadata": {},
   "outputs": [],
   "source": [
    "fig, axes = pplt.subplots(nrows=3, ncols=6, figsize=(8, 4), sharex=False, sharey=False)\n",
    "\n",
    "indices = [(0, 1), (2, 3), (0, 2), (0, 3), (2, 1), (1, 3)]\n",
    "pcolormesh_kws = dict(cmap='dusk_r')\n",
    "\n",
    "for col, (i, j) in enumerate(indices):\n",
    "    axes[0, col].set_title('{}-{}'.format(labels_norm[i], labels_norm[j]))\n",
    "    Htrue = rec.project(Ztrue, [i, j])\n",
    "    H = rec.project(Z, [i, j])\n",
    "    axes[0, col].pcolormesh(centers[i], centers[j], H.T, cmap='dusk_r')\n",
    "    axes[1, col].pcolormesh(centers[i], centers[j], Htrue.T, cmap='dusk_r')\n",
    "    axes[2, col].pcolormesh(centers[i], centers[j], (H - Htrue).T)\n",
    "axes.format(rowlabels=['Reconstructed', 'True', 'Error'], xticks=[], yticks=[])\n",
    "plt.savefig('_output/projections2D.png', **savefig_kws)"
   ]
  },
  {
   "cell_type": "code",
   "execution_count": null,
   "id": "37063778-9ecf-401d-a9b5-8c74a87ba777",
   "metadata": {},
   "outputs": [],
   "source": [
    "# def get_projections(Z):\n",
    "#     \"\"\"Return list of shape (3, 3)\"\"\"\n",
    "#     projections = [[], [], []]\n",
    "#     for i in range(3):\n",
    "#         for j in range(i + 1):\n",
    "#             projection = project(Z, [j, i + 1])\n",
    "#             projections[i].append(projection)\n",
    "#     return projections\n",
    "\n",
    "# def plot_projections(projections, limits):\n",
    "#     pcolormesh_kws = dict(cmap='dusk_r', shading='auto')\n",
    "#     labels = [\"x\", \"x'\", \"y\", \"y'\"]\n",
    "#     fig, axes = myplt.pair_grid_nodiag(4, limits=limits)\n",
    "#     for i in range(3):\n",
    "#         for j in range(i + 1):\n",
    "#             ax = axes[i, j]\n",
    "#             Z = projections[i][j]\n",
    "#             xlim, ylim = ax.get_xlim(), ax.get_ylim()\n",
    "#             xx = np.linspace(xlim[0], xlim[1], Z.shape[0])\n",
    "#             yy = np.linspace(ylim[0], ylim[1], Z.shape[1])\n",
    "#             ax.pcolormesh(xx, yy, Z.T, **pcolormesh_kws)\n",
    "#     return axes\n",
    "\n",
    "# projections = get_projections(F_true)\n",
    "# axes = plot_projections(projections, limits)\n",
    "# plt.suptitle('Reconstructed')\n",
    "\n",
    "# projections_err = get_projections(np.abs(F - F_true))\n",
    "# axes = plot_projections(projections_err, limits)\n",
    "# plt.suptitle('abs(error)');"
   ]
  },
  {
   "cell_type": "code",
   "execution_count": null,
   "id": "492312a8-6679-466c-a92b-498b669fb4cd",
   "metadata": {},
   "outputs": [],
   "source": [
    "error = np.sum((Z - Ztrue)**2)\n",
    "print('SSQ error = {}'.format(error))"
   ]
  },
  {
   "cell_type": "markdown",
   "id": "2e011910-e30f-45b5-b92c-49bb2d73ee5b",
   "metadata": {},
   "source": [
    "There are several other methods to look at. First, I'd like to implement MENT. MENT can be used for the 2D reconstructions in Hock's method, or it can be used directly for the 4D reconstruction. Second, there is a method detailed by Wang (2019) that uses a grid-by-grid comparison of simulated and measured 2D projections. It seems to require relatively few projections, and it looks simple to implement. I hope to produce a beam with large $x$-$y$ correlation in our next experiment and collect the target images for analysis."
   ]
  }
 ],
 "metadata": {
  "kernelspec": {
   "display_name": "Python 3",
   "language": "python",
   "name": "python3"
  },
  "language_info": {
   "codemirror_mode": {
    "name": "ipython",
    "version": 3
   },
   "file_extension": ".py",
   "mimetype": "text/x-python",
   "name": "python",
   "nbconvert_exporter": "python",
   "pygments_lexer": "ipython3",
   "version": "3.7.6"
  }
 },
 "nbformat": 4,
 "nbformat_minor": 5
}
