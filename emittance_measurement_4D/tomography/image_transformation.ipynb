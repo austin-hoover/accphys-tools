{
 "cells": [
  {
   "cell_type": "code",
   "execution_count": null,
   "metadata": {},
   "outputs": [],
   "source": [
    "import sys\n",
    "import importlib\n",
    "import numpy as np\n",
    "import matplotlib.pyplot as plt\n",
    "import proplot as pplt\n",
    "\n",
    "# Local\n",
    "import reconstruct as rec\n",
    "\n",
    "sys.path.append('/Users/46h/Research/')\n",
    "from accphys.tools import utils\n",
    "from accphys.tools import plotting as myplt\n",
    "from accphys.tools.utils import rotation_matrix\n",
    "from accphys.tools.accphys_utils import V_matrix_2x2\n",
    "\n",
    "pplt.rc['axes.grid'] = False\n",
    "pplt.rc['cmap.discrete'] = False"
   ]
  },
  {
   "cell_type": "markdown",
   "metadata": {},
   "source": [
    "Generate Gaussian distribution in normalized coordinates."
   ]
  },
  {
   "cell_type": "code",
   "execution_count": null,
   "metadata": {},
   "outputs": [],
   "source": [
    "n_bins = 100\n",
    "xn_max = 3.5\n",
    "xx_n = np.linspace(-xn_max, xn_max, n_bins)\n",
    "yy_n = np.linspace(-xn_max, xn_max, n_bins)\n",
    "X_n, Y_n = np.meshgrid(xx_n, yy_n)\n",
    "R = np.sqrt(X_n**2 + Y_n**2)\n",
    "Z_n = np.exp(-0.5 * R**2)"
   ]
  },
  {
   "cell_type": "markdown",
   "metadata": {},
   "source": [
    "Transform the bin coordinates and interpolate."
   ]
  },
  {
   "cell_type": "code",
   "execution_count": null,
   "metadata": {},
   "outputs": [],
   "source": [
    "alpha = 1.0 # [rad]\n",
    "beta = 16.0 # [m/rad]\n",
    "V = V_matrix_2x2(alpha, beta)\n",
    "Vinv = np.linalg.inv(V)"
   ]
  },
  {
   "cell_type": "code",
   "execution_count": null,
   "metadata": {},
   "outputs": [],
   "source": [
    "Z, (xx, yy) = rec.transform(Z_n, V, [xx_n, yy_n])"
   ]
  },
  {
   "cell_type": "code",
   "execution_count": null,
   "metadata": {},
   "outputs": [],
   "source": [
    "# Plot\n",
    "fig, axes = pplt.subplots(ncols=2, sharex=False, sharey=False)\n",
    "axes[0].pcolormesh(xx_n, yy_n, Z_n.T, cmap='mono_r')\n",
    "axes[1].pcolormesh(xx, yy, Z.T, cmap='mono_r')\n",
    "axes[0].format(xlabel=r\"$x_n$\", ylabel=r\"$x'_n$\", title='Normalized phase space')\n",
    "axes[1].format(xlabel=r\"$x$ [mm]\", ylabel=r\"$x'$ [mrad]\", \n",
    "               title=r'Phase space ($\\alpha$ = {:.2f},  $\\beta = {:.2f}$)'.format(alpha, beta))\n",
    "plt.savefig('_output/interpolation.png', dpi=300)\n",
    "plt.show()"
   ]
  }
 ],
 "metadata": {
  "kernelspec": {
   "display_name": "Python 3",
   "language": "python",
   "name": "python3"
  },
  "language_info": {
   "codemirror_mode": {
    "name": "ipython",
    "version": 3
   },
   "file_extension": ".py",
   "mimetype": "text/x-python",
   "name": "python",
   "nbconvert_exporter": "python",
   "pygments_lexer": "ipython3",
   "version": "3.7.6"
  }
 },
 "nbformat": 4,
 "nbformat_minor": 4
}
