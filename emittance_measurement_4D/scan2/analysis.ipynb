{
 "cells": [
  {
   "cell_type": "code",
   "execution_count": null,
   "metadata": {},
   "outputs": [],
   "source": [
    "import sys\n",
    "import os\n",
    "\n",
    "import numpy as np\n",
    "import scipy.optimize as opt\n",
    "import pandas as pd\n",
    "from matplotlib import pyplot as plt, animation\n",
    "from matplotlib.lines import Line2D\n",
    "from matplotlib.patches import Ellipse\n",
    "import proplot as plot\n",
    "import seaborn as sns\n",
    "from tqdm import tqdm\n",
    "\n",
    "sys.path.append('/Users/46h/Research/code/accphys/')\n",
    "from tools import plotting as myplt\n",
    "from tools import animation as myanim\n",
    "from tools import utils\n",
    "from tools.utils import play\n",
    "from tools import beam_analysis as ba\n",
    "\n",
    "sys.path.append('../')\n",
    "from data_analysis import to_vec, to_mat, reconstruct"
   ]
  },
  {
   "cell_type": "code",
   "execution_count": null,
   "metadata": {},
   "outputs": [],
   "source": [
    "plot.rc['figure.facecolor'] = 'white'\n",
    "plot.rc['savefig.dpi'] = 'figure'\n",
    "plot.rc['animation.html'] = 'jshtml'\n",
    "plot.rc['grid.alpha'] = 0.04\n",
    "plot.rc['axes.grid'] = False\n",
    "\n",
    "save_figures = True"
   ]
  },
  {
   "cell_type": "code",
   "execution_count": null,
   "metadata": {},
   "outputs": [],
   "source": [
    "def save(figname):\n",
    "    if save_figures:\n",
    "        filename = os.path.join('_output/figures', figname + '.png')\n",
    "        plt.savefig(filename, facecolor='white', dpi=250)"
   ]
  },
  {
   "cell_type": "markdown",
   "metadata": {},
   "source": [
    "# 4D Measurement in RTBT\n",
    "> This notebook reconstructs the beam covariance matrix at the entrance of the Ring to Target Beam Transport (RTBT) section of the Spallation Neutron Source (SNS)."
   ]
  },
  {
   "cell_type": "markdown",
   "metadata": {},
   "source": [
    "<img src=\"_input/rtbt.png\" width=800>"
   ]
  },
  {
   "cell_type": "markdown",
   "metadata": {},
   "source": [
    "## Method summary"
   ]
  },
  {
   "cell_type": "markdown",
   "metadata": {},
   "source": [
    "The goal is to reconstruct the transverse beam covariance matrix at position $s = s_0$:\n",
    "\n",
    "$$\n",
    "\\Sigma_{0} = \\begin{bmatrix}\n",
    "    \\langle{x^2}\\rangle & \\langle{xx'}\\rangle & \\langle{xy}\\rangle & \\langle{xy'}\\rangle \\\\\n",
    "    \\langle{xx'}\\rangle & \\langle{{x'}^2}\\rangle & \\langle{yx'}\\rangle & \\langle{x'y'}\\rangle \\\\\n",
    "    \\langle{xy}\\rangle & \\langle{yx'}\\rangle & \\langle{y^2}\\rangle & \\langle{yy'}\\rangle \\\\\n",
    "    \\langle{xy'}\\rangle & \\langle{x'y'}\\rangle & \\langle{yy'}\\rangle & \\langle{{y'}^2}\\rangle\n",
    "\\end{bmatrix}.\n",
    "$$\n",
    "\n",
    "To do this, a set of $n$ wire-scanners can be placed at positions $\\{s_i\\} > s_0$ with $i = 1, ..., n$. A single measurement from wire-scanner $i$ will produce the real-space moments of the beam at $s_i$: $\\langle{x^2}\\rangle_{i}$, $\\langle{y^2}\\rangle_{i}$, and $\\langle{xy}\\rangle_{i}$. Without space charge, the transfer matrix $M_{s_0 \\rightarrow s_i} = M_i$ is known. The moments at $s_0$ are then directly related to those at $s_i$ by\n",
    "\n",
    "$$\\Sigma_i = M_i \\Sigma_{0} {M_i}^T.$$ This gives <br>"
   ]
  },
  {
   "cell_type": "markdown",
   "metadata": {},
   "source": [
    "$$\n",
    "\\begin{align}\n",
    "    \\langle{x^2}\\rangle_i &= \n",
    "        m_{11}^2\\langle{x^2}\\rangle_{0} \n",
    "      + m_{12}^2\\langle{x'^2}\\rangle_{0} \n",
    "      + 2m_{11}m_{22}\\langle{xx'}\\rangle_{0} ,\\\\\n",
    "    \\langle{y^2}\\rangle_i &= \n",
    "        m_{33}^2\\langle{y^2}\\rangle_{0} \n",
    "      + m_{34}^2\\langle{y'^2}\\rangle_{0} \n",
    "      + 2m_{33}m_{34}\\langle{yy'}\\rangle_{0} ,\\\\\n",
    "    \\langle{xy}\\rangle_i &= \n",
    "        m_{11}m_{33}\\langle{xy}\\rangle_{0} \n",
    "      + m_{12}m_{33}\\langle{yx'}\\rangle_{0} \n",
    "      + m_{11}m_{34}\\langle{xy'}\\rangle_{0} \n",
    "      + m_{12}m_{34}\\langle{x'y'}\\rangle_{0} ,\n",
    "\\end{align}\n",
    "$$"
   ]
  },
  {
   "cell_type": "markdown",
   "metadata": {},
   "source": [
    "where $m_{lm}$ are the elements of the transfer matrix. Taking 3 measurements with different optics settings between $s_0$ and $s_i$ (and therefore different transfer matrices) gives the 10 equations necessary to solve for $\\Sigma_0$; however, real measurements will be noisy, so it is better to take more measurements if possible. Given $N$ measurements, we can form a $3N \\times 1$ observation array $b$ from the measured moments and a $3N \\times 10$ coefficient array $A$ from the transfer matrix such that\n",
    "\n",
    "$$\\begin{align} \\mathbf{A \\sigma}_0 = \\mathbf{b},\\end{align}$$ \n",
    "\n",
    "where $\\mathbf{\\sigma}_0$ is a $10 \\times 1$ vector of the moments at $s_0$. There are 5 wire-scanners in the RTBT which operate simultaneously, so if all these are used the coefficient array will be $15N \\times 10$. We then choose $\\mathbf{\\sigma}_0$ such that $|\\mathbf{A\\sigma}_0 - \\mathbf{b}|^2$ is minimized. "
   ]
  },
  {
   "cell_type": "markdown",
   "metadata": {},
   "source": [
    "## RTBT lattice functions "
   ]
  },
  {
   "cell_type": "code",
   "execution_count": null,
   "metadata": {},
   "outputs": [],
   "source": [
    "twiss = pd.read_csv('_output/data/twiss.dat')\n",
    "ws_positions = np.loadtxt('_output/data/ws_positions.dat')"
   ]
  },
  {
   "cell_type": "code",
   "execution_count": null,
   "metadata": {},
   "outputs": [],
   "source": [
    "fig, axes = plot.subplots(nrows=3, figsize=(6, 5), spany=False)\n",
    "for scan_index in range(1, 2):\n",
    "    twiss_df = pd.read_csv('_output/data/twiss_{}.dat'.format(scan_index))\n",
    "    twiss_df[['s','bx','by']].plot('s', ax=axes[0], legend=False)\n",
    "    twiss_df[['s','ax','ay']].plot('s', ax=axes[1], legend=False)\n",
    "    twiss_df[['s','nux','nuy']].plot('s', ax=axes[2], legend=False)\n",
    "    axes.format(cycle='colorblind')\n",
    "axes.format(xlabel='s [m]', toplabels='RTBT lattice functions (default)', grid=False)\n",
    "for ax, ylabel in zip(axes, [r'$\\beta$ [m]', r'$\\alpha$ [rad]', 'Frac. phase / ($2\\pi$)']):\n",
    "    ax.format(ylabel=ylabel);\n",
    "    for ws_position in ws_positions:\n",
    "        ax.axvline(ws_position, color='grey', ls='--', lw=0.5, alpha=0.5, zorder=0)\n",
    "axes[0].legend(labels=['x', 'y', 'wire-scanner'], ncols=1, loc=(1.02, 0));\n",
    "save('twiss_scan')"
   ]
  },
  {
   "cell_type": "code",
   "execution_count": null,
   "metadata": {},
   "outputs": [],
   "source": [
    "fig, ax = plot.subplots(figsize=(5, 2))\n",
    "twiss[['s','bx','by']].plot('s', ax=ax, legend=False)\n",
    "ax.format(xlabel='Position [m]', ylabel=r'$\\beta$ [m]', toplabels='RTBT lattice functions')\n",
    "for ws_position in ws_positions:\n",
    "    ax.axvline(ws_position, color='grey', ls='--', lw=0.5, zorder=0)\n",
    "ax.format(xlim=(0, twiss['s'].max()))\n",
    "ax.legend(labels=[r'$\\beta_x$', r'$\\beta_y$', 'wire-scanner'], ncols=1, \n",
    "          fontsize=8, handlelength=1.0, frameon=False);\n",
    "plt.savefig('_output/figures/beta.png', facecolor='white', dpi=250)"
   ]
  },
  {
   "cell_type": "markdown",
   "metadata": {},
   "source": [
    "## Phase scan"
   ]
  },
  {
   "cell_type": "code",
   "execution_count": null,
   "metadata": {},
   "outputs": [],
   "source": [
    "ws_ids = ['ws02', 'ws20', 'ws21', 'ws23', 'ws24']\n",
    "active_ws_ids = ws_ids[:]"
   ]
  },
  {
   "cell_type": "code",
   "execution_count": null,
   "metadata": {},
   "outputs": [],
   "source": [
    "def load(filename, ws_name):\n",
    "    path = '_output/data/{}/{}'.format(ws_name, filename)\n",
    "    return np.load(path)\n",
    "\n",
    "phases_dict = {ws: load('phases.npy', ws) for ws in ws_ids}\n",
    "moments_dict = {ws: 1e6 * load('moments.npy', ws) for ws in ws_ids}\n",
    "transfer_mats_dict = {ws: load('transfer_mats.npy', ws) for ws in ws_ids}\n",
    "env_params_dict = {ws: 1e3 * load('env_params.npy', ws) for ws in ws_ids}\n",
    "\n",
    "phases = np.vstack([phases_dict[ws] for ws in active_ws_ids])\n",
    "moments = np.vstack([moments_dict[ws] for ws in active_ws_ids]) # measured \n",
    "transfer_mats = np.vstack([transfer_mats_dict[ws] for ws in active_ws_ids])\n",
    "env_params = np.vstack([env_params_dict[ws] for ws in active_ws_ids])\n",
    "    \n",
    "Sigma0 = np.loadtxt('_output/data/Sigma0.dat')\n",
    "Sigma0 *= 1e6 # convert to [mm mrad]\n",
    "X0 = np.loadtxt('_output/data/X0.dat')\n",
    "X0 *= 1e3 # convert to [mm mrad]"
   ]
  },
  {
   "cell_type": "markdown",
   "metadata": {},
   "source": [
    "Observe the beam at the wire-scanners. Any greyed-out wire-scanners are not used in the reconstruction."
   ]
  },
  {
   "cell_type": "code",
   "execution_count": null,
   "metadata": {},
   "outputs": [],
   "source": [
    "fig, axes = plot.subplots(nrows=2, ncols=5, figsize=(11, 3.75), spany=False)\n",
    "plt_kws = dict(marker='.')\n",
    "for ax, ws_name in zip(axes[0, :], ws_ids):\n",
    "    ax.plot(phases_dict[ws_name] % 1, **plt_kws)\n",
    "    ax.set_title(ws_name)\n",
    "for ax, ws_name in zip(axes[1, :], ws_ids):\n",
    "    ax.plot(moments_dict[ws_name][:, 0], **plt_kws)\n",
    "    ax.plot(moments_dict[ws_name][:, 1], **plt_kws)\n",
    "    ax.plot(moments_dict[ws_name][:, 2], **plt_kws)\n",
    "axes[0, 0].legend(labels=['x', 'y'], ncols=3);\n",
    "axes[1, 0].format(ylabel='[mm$^2$]')\n",
    "axes[1, 0].legend(labels=[r'$\\langle{x^2}\\rangle$', r'$\\langle{y^2}\\rangle$', r'$\\langle{xy}\\rangle$'], fontsize='small');\n",
    "axes[0, 0].format(ylabel='Frac. phase / ($2\\pi$)', xlabel='Scan index')\n",
    "save('ws_phase_adv')"
   ]
  },
  {
   "cell_type": "code",
   "execution_count": null,
   "metadata": {},
   "outputs": [],
   "source": [
    "# fig, axes = plot.subplots(nrows=2, ncols=5, figsize=(8, 3.5), spany=False)\n",
    "# for ax, ws_name in zip(axes[0, :], ws_ids):\n",
    "#     ax.plot(phases_dict[ws_name] % 1, **plt_kws)\n",
    "#     ax.set_title(ws_name, fontsize='large')\n",
    "# for ax, ws_name in zip(axes[1, :], ws_ids):\n",
    "#     ax.plot(moments_dict[ws_name][:, 0], **plt_kws)\n",
    "#     ax.plot(moments_dict[ws_name][:, 1], **plt_kws)\n",
    "#     ax.plot(moments_dict[ws_name][:, 2], **plt_kws)\n",
    "# axes[0, 0].legend(labels=[r'$\\nu_x$', r'$\\nu_y$'], ncols=3);\n",
    "# axes[1, 0].format(ylabel='[mm$^2$]')\n",
    "# axes[1, 0].legend(labels=[r'$\\langle{x^2}\\rangle$', r'$\\langle{y^2}\\rangle$', r'$\\langle{xy}\\rangle$'], fontsize='small', ncols=2);\n",
    "# axes[0, 0].format(ylabel='Frac. phase / ($2\\pi$)', xlabel='Scan index', xlabel_kw={'size':'large'}, ylabel_kw={'size':'large'})\n",
    "# plt.savefig('_output/figures/ws_phase_adv.png', facecolor='white', dpi=350)"
   ]
  },
  {
   "cell_type": "markdown",
   "metadata": {},
   "source": [
    "To do: \n",
    "* Add column below showing phase vs scan index.\n",
    "* Add diagonal line at angle of diagonal wire."
   ]
  },
  {
   "cell_type": "code",
   "execution_count": null,
   "metadata": {},
   "outputs": [],
   "source": [
    "# dims = ('x', 'y')"
   ]
  },
  {
   "cell_type": "code",
   "execution_count": null,
   "metadata": {
    "tags": []
   },
   "outputs": [],
   "source": [
    "# str_to_int = {'x':0, 'xp':1, 'y':2, 'yp':3}\n",
    "# i, j = [str_to_int[dim] for dim in dims]\n",
    "\n",
    "# ell_coords_list = [[ba.get_ellipse_coords(env_params) for env_params in env_params_dict[ws]] \n",
    "#                    for ws in ws_ids]\n",
    "# ell_coords_list = np.array(ell_coords_list)\n",
    "\n",
    "# pad = 0.25\n",
    "# limits_list = np.array([(1 + pad) * myplt.max_u_up_global(coords) \n",
    "#                         for coords in ell_coords_list])\n",
    "# umax, upmax = np.max(limits_list, axis=0)\n",
    "# limits = 2 * [(-umax, umax), (-upmax, upmax)]\n",
    "# labels = ['x [mm]', \"x' [mrad]\", 'y [mm]', \"y' [mrad]\"]\n",
    "\n",
    "# fig, ax_list = plt.subplots(ncols=6, figsize=(13, 1.75), sharex=True, sharey=True)\n",
    "# axes, text_ax = ax_list[:-1], ax_list[-1]\n",
    "# text_ax.grid(False)\n",
    "# myplt.despine([text_ax], 'all')\n",
    "# myplt.despine(axes)\n",
    "# axes[0].set_xlim(limits[i])\n",
    "# axes[0].set_ylim(limits[j])\n",
    "# axes[0].set_yticks(axes[0].get_xticks())\n",
    "# axes[0].set_xlabel(labels[i])\n",
    "# axes[0].set_ylabel(labels[j])\n",
    "# for ax, ws_name in zip(axes, ws_ids):\n",
    "#     ax.set_title(ws_name, color='grey' if ws_name not in active_ws_ids else 'k')\n",
    "#     ax.grid(False)\n",
    "#     ax.axvline(0, lw=0.2, c='k', alpha=0.2, zorder=99)\n",
    "#     ax.axhline(0, lw=0.2, c='k', alpha=0.2, zorder=99)\n",
    "# plt.close()\n",
    "\n",
    "# def update(t):\n",
    "#     for ax, coords in zip(axes, ell_coords_list):\n",
    "#         for patch in ax.patches:\n",
    "#             patch.remove()\n",
    "#         ax.fill(coords[t, :, i], coords[t, :, j], fc='lightsteelblue', ec='k', zorder=10)\n",
    "#     for ws, ax in zip(ws_ids, axes):\n",
    "#         nux, nuy = phases_dict[ws][t]\n",
    "#         for text in ax.texts:\n",
    "#             text.set_visible(False)\n",
    "#         ax.annotate(r'$\\nu_x = {:.2f}$'.format(nux), xy=(0.75, 0.85), xycoords='axes fraction', zorder=10)\n",
    "#         ax.annotate(r'$\\nu_y = {:.2f}$'.format(nuy), xy=(0.75, 0.75), xycoords='axes fraction', zorder=10)\n",
    "#     for text in text_ax.texts:\n",
    "#         text.set_visible(False)\n",
    "#     text_ax.annotate('Scan index = {}'.format(t), xy=(0.25, 0.5), xycoords='axes fraction', horizontalalignment='center')\n",
    "\n",
    "# nframes = ell_coords_list[0].shape[0]\n",
    "# fps = 1\n",
    "# anim = animation.FuncAnimation(fig, update, frames=nframes, interval=1000/fps)\n",
    "# if save_figures:\n",
    "#      anim.save('_output/figures/ws_envelope.mp4', dpi=300)\n",
    "# anim"
   ]
  },
  {
   "cell_type": "code",
   "execution_count": null,
   "metadata": {},
   "outputs": [],
   "source": [
    "# for ws in ws_ids:\n",
    "#     print(ws)\n",
    "#     anim = myanim.corner_env(env_params_dict[ws], figsize=(4, 4), text_fmt='Scan index = {}')\n",
    "#     play(anim)"
   ]
  },
  {
   "cell_type": "code",
   "execution_count": null,
   "metadata": {},
   "outputs": [],
   "source": [
    "# myplt.corner(X0, moments=True, text='Initial bunch');\n",
    "# save('initial_dist')"
   ]
  },
  {
   "cell_type": "markdown",
   "metadata": {},
   "source": [
    "## Reconstruction"
   ]
  },
  {
   "cell_type": "code",
   "execution_count": null,
   "metadata": {},
   "outputs": [],
   "source": [
    "Sigma = reconstruct(transfer_mats, moments, verbose=2)\n",
    "print()\n",
    "utils.show(Sigma, 'Sigma')\n",
    "print()\n",
    "utils.show(Sigma0, 'Sigma0')\n",
    "print()\n",
    "utils.show(Sigma - Sigma0, 'Sigma - Sigma0')\n",
    "\n",
    "axes = myplt.rms_ellipses(Sigma0, color='lightsteelblue', fill=True, lw=0);\n",
    "axes = myplt.rms_ellipses(Sigma, axes=axes, color='red8', lw=1)\n",
    "axes[1, 1].legend(labels=['True', 'Reconstructed'], loc=(0, 1.1))\n",
    "save('projection_default')"
   ]
  },
  {
   "cell_type": "markdown",
   "metadata": {},
   "source": [
    "## Visualization using lines"
   ]
  },
  {
   "cell_type": "code",
   "execution_count": null,
   "metadata": {},
   "outputs": [],
   "source": [
    "ax0, ay0, bx0, by0 = [-0.25897, 0.9749, 2.2991, 14.2583]\n",
    "ex, ey = ba.apparent_emittances(Sigma0)\n",
    "\n",
    "def V_2D(alpha, beta):\n",
    "    return np.array([[beta, 0.0], [-alpha, 1.0]]) / np.sqrt(beta)\n",
    "\n",
    "V = np.zeros((4, 4))\n",
    "V[:2, :2] = V_2D(ax0, bx0)\n",
    "V[2:, 2:] = V_2D(ay0, by0)\n",
    "Vinv = np.linalg.inv(V)\n",
    "\n",
    "def normalize(vec):\n",
    "    return np.matmul(Vinv, vec)\n",
    "\n",
    "scale = 2\n",
    "xmax = scale * np.sqrt(ex)\n",
    "ymax = scale * np.sqrt(ey)"
   ]
  },
  {
   "cell_type": "code",
   "execution_count": null,
   "metadata": {},
   "outputs": [],
   "source": [
    "def get_line_points(M, sig_xx, sig_yy, dim, upmin=-10, upmax=10):\n",
    "    xrms, yrms = np.sqrt(sig_xx), np.sqrt(sig_yy)\n",
    "    hpts, vpts = [], []\n",
    "    for up in [upmin, upmax]:\n",
    "        if dim == 'x':\n",
    "            vec1 = [xrms, up, 0, 0]\n",
    "            i, j = 0, 1\n",
    "        elif dim == 'y':\n",
    "            vec1 = [0, 0, yrms, up]\n",
    "            i, j = 2, 3\n",
    "        vec0 = np.matmul(np.linalg.inv(M), vec1)\n",
    "        vec0 = normalize(vec0)\n",
    "        hpts.append(vec0[i])\n",
    "        vpts.append(vec0[j])\n",
    "    return hpts, vpts\n",
    "\n",
    "def plot_lines(ax, transfer_mats, moments, dim='x', **kws):  \n",
    "    for transfer_mat, (sig_xx, sig_yy, sig_xy) in zip(transfer_mats, moments):\n",
    "        hpts, vpts = get_line_points(transfer_mat, sig_xx, sig_yy, dim)\n",
    "        ax.plot(hpts, vpts, **kws)\n",
    "    return ax"
   ]
  },
  {
   "cell_type": "code",
   "execution_count": null,
   "metadata": {},
   "outputs": [],
   "source": [
    "fig, axes = plot.subplots(ncols=2, sharex=False, sharey=False)\n",
    "axes.format(aspect=1)\n",
    "axes[0].format(xlim=(-xmax, xmax), ylim=(-xmax, xmax), xlabel=r\"$x_n$ [mm]\", ylabel=r\"$x'_n$ [mrad]\")\n",
    "axes[1].format(xlim=(-ymax, ymax), ylim=(-ymax, ymax), xlabel=r\"$y_n$ [mm]\", ylabel=r\"$y'_n$ [mrad]\")\n",
    "myplt.ellipse(axes[0], np.sqrt(ex), np.sqrt(ex), lw=2, zorder=999)\n",
    "myplt.ellipse(axes[1], np.sqrt(ey), np.sqrt(ey), lw=2, zorder=999)\n",
    "\n",
    "active_ws_ids = ['ws20', 'ws21', 'ws23', 'ws24']\n",
    "colors = plt.rcParams['axes.prop_cycle'].by_key()['color']\n",
    "for ws_id, color in zip(active_ws_ids, colors):\n",
    "    kws = dict(lw=2, color=color)\n",
    "    plot_lines(axes[0], transfer_mats_dict[ws_id], moments_dict[ws_id], 'x', **kws);\n",
    "    plot_lines(axes[1], transfer_mats_dict[ws_id], moments_dict[ws_id], 'y', **kws);\n",
    "save('lines')"
   ]
  },
  {
   "cell_type": "code",
   "execution_count": null,
   "metadata": {},
   "outputs": [],
   "source": [
    "# fig, axes = plot.subplots(ncols=2, sharex=False, sharey=False)\n",
    "# axes.format(aspect=1)\n",
    "# axes[0].format(xlim=(-xmax, xmax), ylim=(-xmax, xmax), xlabel=r\"$x_n$ [mm]\", ylabel=r\"$x'_n$ [mrad]\")\n",
    "# axes[1].format(xlim=(-ymax, ymax), ylim=(-ymax, ymax), xlabel=r\"$y_n$ [mm]\", ylabel=r\"$y'_n$ [mrad]\")\n",
    "# myplt.ellipse(axes[0], np.sqrt(ex), np.sqrt(ex), lw=2, zorder=999)\n",
    "# myplt.ellipse(axes[1], np.sqrt(ey), np.sqrt(ey), lw=2, zorder=999)\n",
    "# plt.close()\n",
    "\n",
    "# def update(i):\n",
    "#     plot_lines(axes[0], transfer_mats[:i+1], moments[:i+1], dim='x', color='pink9')\n",
    "#     plot_lines(axes[1], transfer_mats[:i+1], moments[:i+1], dim='y', color='pink9')\n",
    "    \n",
    "# animation.FuncAnimation(fig, update, frames=len(transfer_mats))"
   ]
  },
  {
   "cell_type": "markdown",
   "metadata": {},
   "source": [
    "I thought maybe we could do something similar for the other projections, but it doesn't seem to work since the transfer matrix is completely uncoupled. For example, choosing a different $y'$ at the measurement location has no effect on the $x$ at the reconstruction location, so you just get a series of vertical lines in the $x$-$y'$ plane."
   ]
  },
  {
   "cell_type": "code",
   "execution_count": null,
   "metadata": {},
   "outputs": [],
   "source": [
    "def get_line_points_xyp(M, sig_xx, sig_yy, sig_xy, ypmin=-10, ypmax=10):\n",
    "    xrms, yrms = np.sqrt(sig_xx), np.sqrt(sig_yy)\n",
    "    r = sig_xy / (xrms * yrms)\n",
    "    hpts, vpts = [], []\n",
    "    for yp in [ypmin, ypmax]:\n",
    "        vec1 = [xrms, 0, 0, yp]\n",
    "        vec0 = np.matmul(np.linalg.inv(M), vec1)\n",
    "        hpts.append(vec0[0])\n",
    "        vpts.append(vec0[3])\n",
    "    return hpts, vpts\n",
    "\n",
    "def plot_lines_xyp(ax, transfer_mats, moments):  \n",
    "    for M, (sig_xx, sig_yy, sig_xy) in zip(transfer_mats, moments):\n",
    "        hpts, vpts = get_line_points_xyp(M, sig_xx, sig_yy, sig_xy)\n",
    "        ax.plot(hpts, vpts, c='pink8')\n",
    "    return ax\n",
    "        \n",
    "fig, ax = plot.subplots(figsize=(3, 3))\n",
    "ax.format(xlim=(-xmax, xmax), ylim=(-ymax, ymax), xlabel=r\"$x_n$ [mm]\", ylabel=r\"$y'_n$ [mrad]\")\n",
    "plot_lines_xyp(ax, transfer_mats, moments);\n",
    "ax.format(xlim=(-30, 30), ylim=(-20, 20))"
   ]
  },
  {
   "cell_type": "code",
   "execution_count": null,
   "metadata": {},
   "outputs": [],
   "source": []
  }
 ],
 "metadata": {
  "kernelspec": {
   "display_name": "Python 3",
   "language": "python",
   "name": "python3"
  },
  "language_info": {
   "codemirror_mode": {
    "name": "ipython",
    "version": 3
   },
   "file_extension": ".py",
   "mimetype": "text/x-python",
   "name": "python",
   "nbconvert_exporter": "python",
   "pygments_lexer": "ipython3",
   "version": "3.7.6"
  },
  "toc-autonumbering": false
 },
 "nbformat": 4,
 "nbformat_minor": 4
}
