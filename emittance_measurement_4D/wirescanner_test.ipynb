{
 "cells": [
  {
   "cell_type": "markdown",
   "metadata": {},
   "source": [
    "# Wire-scanner errors "
   ]
  },
  {
   "cell_type": "markdown",
   "metadata": {},
   "source": [
    "This notebook investigates the accuracy of the estimated beam moments from the wire-scanners. We approximate the wire-scanner profile as a histogram. There is then uncertainty in the $i^{th}$ wire-scanner position $x_i$ and signal height $f_i$. "
   ]
  },
  {
   "cell_type": "code",
   "execution_count": null,
   "metadata": {},
   "outputs": [],
   "source": [
    "import sys\n",
    "\n",
    "import numpy as np\n",
    "import matplotlib.pyplot as plt\n",
    "import proplot as plot\n",
    "from tqdm import tqdm, trange\n",
    "\n",
    "sys.path.append('..')\n",
    "from tools import beam_analysis as ba\n",
    "from tools import plotting as myplt\n",
    "from tools import utils\n",
    "from tools.accphys_utils import V_matrix_4x4_uncoupled\n",
    "from tools.accphys_utils import rotation_matrix_4D\n",
    "\n",
    "plot.rc['grid.alpha'] = False\n",
    "plot.rc['axes.grid'] = False"
   ]
  },
  {
   "cell_type": "code",
   "execution_count": null,
   "metadata": {},
   "outputs": [],
   "source": [
    "def bin_data(data, n_steps, lims):\n",
    "    counts, bin_edges = np.histogram(data, n_steps, lims)\n",
    "    delta = np.mean(np.diff(bin_edges))\n",
    "    positions = (bin_edges + 0.5 * delta)[:-1]\n",
    "    return positions, counts"
   ]
  },
  {
   "cell_type": "code",
   "execution_count": null,
   "metadata": {},
   "outputs": [],
   "source": [
    "def variance(positions, counts):\n",
    "    N = np.sum(counts)\n",
    "    x_avg = np.sum(positions * counts) / (N - 1)\n",
    "    x2_avg = np.sum(positions**2 * counts) / (N - 1)\n",
    "    return x2_avg - x_avg**2 "
   ]
  },
  {
   "cell_type": "code",
   "execution_count": null,
   "metadata": {},
   "outputs": [],
   "source": [
    "def get_sig_xy(sig_xx, sig_yy, sig_uu):\n",
    "    \"\"\"Get cov(x, y) assuming u axis is 45 degrees above x axis.\"\"\"\n",
    "    sn = cs = np.sqrt(0.5)\n",
    "    sig_xy = (sig_uu - sig_xx*(cs**2) - sig_yy*(sn**2)) / (2 * sn * cs)\n",
    "    return sig_xy"
   ]
  },
  {
   "cell_type": "code",
   "execution_count": null,
   "metadata": {},
   "outputs": [],
   "source": [
    "def set_twiss(X, alpha_x_target, alpha_y_target, beta_x_target, beta_y_target):\n",
    "    # Normalize with beam Twiss parameters.\n",
    "    Sigma = np.cov(X.T)\n",
    "    Sigma = Sigma[:4, :4]\n",
    "    alpha_x, alpha_y, beta_x, beta_y = ba.twiss2D(Sigma)\n",
    "    V = V_matrix_4x4_uncoupled(alpha_x, alpha_y, beta_x, beta_y)\n",
    "    X = utils.apply(np.linalg.inv(V), X)\n",
    "    # Unnormalize with desired parameters.\n",
    "    V = V_matrix_4x4_uncoupled(alpha_x_target, alpha_y_target, beta_x_target, beta_y_target)\n",
    "    X = utils.apply(V, X)\n",
    "    return X"
   ]
  },
  {
   "cell_type": "markdown",
   "metadata": {},
   "source": [
    "## Setup"
   ]
  },
  {
   "cell_type": "markdown",
   "metadata": {},
   "source": [
    "SNS wire-scanner parameters."
   ]
  },
  {
   "cell_type": "code",
   "execution_count": null,
   "metadata": {},
   "outputs": [],
   "source": [
    "n_steps = 90\n",
    "ulims = [-133.5, 133.5] # [mm]\n",
    "xlims = ylims = [ulim / np.sqrt(2) for ulim in ulims]"
   ]
  },
  {
   "cell_type": "markdown",
   "metadata": {},
   "source": [
    "The following is a simulated distribution at the RTBT entrance."
   ]
  },
  {
   "cell_type": "code",
   "execution_count": null,
   "metadata": {},
   "outputs": [],
   "source": [
    "X = np.loadtxt('./scan/_input/init_dist_128K.dat')\n",
    "X = X[:, :4]\n",
    "X *= 1000.0"
   ]
  },
  {
   "cell_type": "markdown",
   "metadata": {},
   "source": [
    "We're actually going to change the Twiss parameters to what is seen at WS24."
   ]
  },
  {
   "cell_type": "code",
   "execution_count": null,
   "metadata": {},
   "outputs": [],
   "source": [
    "# Typical Twiss parameters at WS24\n",
    "alpha_x_target = 0.67 # [rad]\n",
    "alpha_y_target = -1.48 # [rad]\n",
    "beta_x_target = 6.8 # [m/rad]\n",
    "beta_y_target = 14.9 # [m/rad]\n",
    "\n",
    "X = set_twiss(X, alpha_x_target, alpha_y_target, beta_x_target, beta_y_target)\n",
    "\n",
    "# Save new covariance matrix.\n",
    "Sigma = np.cov(X.T)\n",
    "Sigma = Sigma[:4, :4]\n",
    "alpha_x, alpha_y, beta_x, beta_y = ba.twiss2D(Sigma)\n",
    "print('alpha_x = {} [rad]'.format(alpha_x))\n",
    "print('alpha_y = {} [rad]'.format(alpha_y))\n",
    "print('beta_x = {} [rad]'.format(beta_x))\n",
    "print('beta_y = {} [rad]'.format(beta_y))"
   ]
  },
  {
   "cell_type": "markdown",
   "metadata": {},
   "source": [
    "Store the new covariance matrix."
   ]
  },
  {
   "cell_type": "code",
   "execution_count": null,
   "metadata": {},
   "outputs": [],
   "source": [
    "Sigma = np.cov(X.T)\n",
    "xx = X[:, 0]\n",
    "yy = X[:, 2]\n",
    "uu = np.sqrt(0.5) * (xx - yy)\n",
    "sig_xx_true = Sigma[0, 0]\n",
    "sig_yy_true = Sigma[2, 2]\n",
    "sig_xy_true = Sigma[0, 2]\n",
    "sig_uu_true = np.var(uu)"
   ]
  },
  {
   "cell_type": "code",
   "execution_count": null,
   "metadata": {},
   "outputs": [],
   "source": [
    "print('Sigma =')\n",
    "print(Sigma)\n",
    "print('Corr =')\n",
    "print(utils.cov2corr(Sigma))"
   ]
  },
  {
   "cell_type": "code",
   "execution_count": null,
   "metadata": {},
   "outputs": [],
   "source": [
    "myplt.corner(X, bins=40, kind='hist', pad=0, cmap='blues');"
   ]
  },
  {
   "cell_type": "markdown",
   "metadata": {},
   "source": [
    "Estimate the moments along x, y, and u from the binned data. This will be used as the \"true\" value. (The error caused by binning will be handled later.)"
   ]
  },
  {
   "cell_type": "code",
   "execution_count": null,
   "metadata": {},
   "outputs": [],
   "source": [
    "pos_x, counts_x = bin_data(xx, n_steps, xlims)\n",
    "pos_y, counts_y = bin_data(yy, n_steps, ylims)\n",
    "pos_u, counts_u = bin_data(uu, n_steps, ulims)\n",
    "sig_xx_est = variance(pos_x, counts_x)\n",
    "sig_yy_est = variance(pos_y, counts_y)\n",
    "sig_uu_est = variance(pos_u, counts_u)\n",
    "sig_xy_est = get_sig_xy(sig_xx_est, sig_yy_est, sig_uu_est)\n",
    "corr_xy_est = sig_xy_est / np.sqrt(sig_xx_est * sig_yy_est)\n",
    "\n",
    "print('Estimated from histograms')\n",
    "print('-------------------------')\n",
    "print('sig_xx = {:.3f} [mm^2]'.format(sig_xx_est))\n",
    "print('sig_yy = {:.3f} [mm^2]'.format(sig_yy_est))\n",
    "print('sig_uu = {:.3f} [mm^2]'.format(sig_uu_est))\n",
    "print('sig_xy = {:.3f} [mm^2]'.format(sig_xy_est))\n",
    "print('corr_xy = {:.3f}'.format(corr_xy_est))\n",
    "print()\n",
    "print('Actual')\n",
    "print('------')\n",
    "print('sig_xx = {:.3f} [mm^2]'.format(sig_xx_true))\n",
    "print('sig_yy = {:.3f} [mm^2]'.format(sig_yy_true))\n",
    "print('sig_uu = {:.3f} [mm^2]'.format(sig_uu_true))\n",
    "print('sig_xy = {:.3f} [mm^2]'.format(sig_xy_true))\n",
    "print('corr_xy = {:.3f}'.format(corr_xy_est))"
   ]
  },
  {
   "cell_type": "code",
   "execution_count": null,
   "metadata": {},
   "outputs": [],
   "source": [
    "fig, axes = plot.subplots(ncols=3, figsize=(8, 2), sharex=False)\n",
    "plt_kws = dict(color='black', marker='.', ms=None, lw=0)\n",
    "axes[0].plot(pos_x, counts_x, **plt_kws)\n",
    "axes[1].plot(pos_y, counts_y, **plt_kws)\n",
    "axes[2].plot(pos_u, counts_u, **plt_kws)\n",
    "axes[0].set_xlabel('x [mm]')\n",
    "axes[1].set_xlabel('y [mm]')\n",
    "axes[2].set_xlabel('u [mm]')\n",
    "axes[0].set_ylabel('Counts');"
   ]
  },
  {
   "cell_type": "markdown",
   "metadata": {},
   "source": [
    "## Uncertainty in estimated variance."
   ]
  },
  {
   "cell_type": "markdown",
   "metadata": {},
   "source": [
    "One source of uncertainty is the signal height at each wire position. "
   ]
  },
  {
   "cell_type": "code",
   "execution_count": null,
   "metadata": {},
   "outputs": [],
   "source": [
    "def noisy_counts(counts, rms_frac_err=0.):\n",
    "    noise = np.random.normal(scale=rms_frac_err, size=len(counts))\n",
    "    counts = counts * (1.0 + noise)\n",
    "    counts = counts.astype(int)\n",
    "    counts = np.clip(counts, 0, None)\n",
    "    return counts"
   ]
  },
  {
   "cell_type": "code",
   "execution_count": null,
   "metadata": {},
   "outputs": [],
   "source": [
    "pos = pos_y\n",
    "counts = np.copy(counts_y)"
   ]
  },
  {
   "cell_type": "code",
   "execution_count": null,
   "metadata": {},
   "outputs": [],
   "source": [
    "rms_frac_count_err = 0.1\n",
    "_counts = noisy_counts(counts, rms_frac_count_err)\n",
    "\n",
    "fig, ax = plot.subplots(figsize=(6, 1.5))\n",
    "ax.plot(pos, counts, color='k')\n",
    "ymin, ymax = ax.get_ylim()\n",
    "ax.plot(pos, _counts, color='red8', marker='.')\n",
    "ax.set_ylim(ymin, 1.2 * ymax)\n",
    "ax.legend(labels=['original', 'noisy'], ncol=1);"
   ]
  },
  {
   "cell_type": "markdown",
   "metadata": {},
   "source": [
    "Another source of uncertainty is the wire-scanner position."
   ]
  },
  {
   "cell_type": "code",
   "execution_count": null,
   "metadata": {},
   "outputs": [],
   "source": [
    "def noisy_positions(positions, rms_err):\n",
    "    noise = np.random.normal(scale=rms_err, size=len(positions))\n",
    "    return positions + noise"
   ]
  },
  {
   "cell_type": "code",
   "execution_count": null,
   "metadata": {},
   "outputs": [],
   "source": [
    "rms_pos_err = 0.5 # [mm]\n",
    "\n",
    "fig, ax = plot.subplots(figsize=(6, 1.5))\n",
    "ax.plot(pos, counts, color='k')\n",
    "ymin, ymax = ax.get_ylim()\n",
    "ax.plot(noisy_positions(pos, rms_pos_err), counts, color='red8', marker='.')\n",
    "ax.set_ylim(ymin, 1.2 * ymax)\n",
    "ax.legend(labels=['original', 'noisy'], ncol=1);"
   ]
  },
  {
   "cell_type": "code",
   "execution_count": null,
   "metadata": {},
   "outputs": [],
   "source": [
    "def run_monte_carlo(pos, counts, rms_pos_err, rms_frac_count_err, n_trials):\n",
    "    sigs = []\n",
    "    for _ in range(n_trials):\n",
    "        pos_with_noise = noisy_positions(pos, rms_pos_err)\n",
    "        counts_with_noise = noisy_counts(counts, rms_frac_count_err)\n",
    "        sigs.append(variance(pos_with_noise, counts_with_noise))\n",
    "    return sigs"
   ]
  },
  {
   "cell_type": "code",
   "execution_count": null,
   "metadata": {},
   "outputs": [],
   "source": [
    "n_trials = 10000\n",
    "rms_pos_err = 0.5 # [mm]\n",
    "rms_frac_count_err = 0.05\n",
    "\n",
    "sigs_x = run_monte_carlo(pos_x, counts_x, rms_pos_err, rms_frac_count_err, n_trials)\n",
    "sigs_y = run_monte_carlo(pos_y, counts_y, rms_pos_err, rms_frac_count_err, n_trials)\n",
    "sigs_u = run_monte_carlo(pos_u, counts_u, rms_pos_err, rms_frac_count_err, n_trials)\n",
    "\n",
    "fig, axes = plot.subplots(nrows=2, ncols=3, figsize=(7, 3), sharex=False)\n",
    "hist_kws = dict(histtype='stepfilled', color='black', bins='auto', alpha=0.2)\n",
    "for i in range(3):\n",
    "    sigs = [sigs_x, sigs_y, sigs_u][i]\n",
    "    sig_est = [sig_xx_est, sig_yy_est, sig_uu_est][i]\n",
    "    dim = ['x', 'y', 'u'][i]\n",
    "    sizes = np.sqrt(sigs)\n",
    "    size_est = np.sqrt(sig_est)\n",
    "    axes[0, i].hist(sizes, **hist_kws)\n",
    "    axes[0, i].axvline(size_est, c='r')\n",
    "    axes[0, i].axvline(np.mean(sizes), c='b')\n",
    "    axes[0, i].format(title='{} wire'.format(dim), xlabel=r'$\\sigma_{}$ [mm]'.format(dim))\n",
    "    axes[0, i].annotate('mean = {:.2f}'.format(np.mean(sizes)), xy=(0.7, 0.85), xycoords='axes fraction', fontsize=6)\n",
    "    axes[0, i].annotate('std = {:.2f}'.format(np.std(sizes)), xy=(0.7, 0.75), xycoords='axes fraction', fontsize=6)\n",
    "    axes[0, i].annotate('true = {:.2f}'.format(size_est), xy=(0.7, 0.65), xycoords='axes fraction', fontsize=6)\n",
    "    axes[1, i].hist(sigs, **hist_kws)\n",
    "    axes[1, i].axvline(sig_est, c='r')\n",
    "    axes[1, i].axvline(np.mean(sigs), c='b')\n",
    "    axes[1, i].format(xlabel=r'$\\sigma_{}^2$ [mm^2]'.format(dim))\n",
    "    axes[1, i].annotate('mean = {:.2f}'.format(np.mean(sigs)), xy=(0.7, 0.85), xycoords='axes fraction', fontsize=6)\n",
    "    axes[1, i].annotate('std = {:.2f}'.format(np.std(sigs)), xy=(0.7, 0.75), xycoords='axes fraction', fontsize=6)\n",
    "    axes[1, i].annotate('true = {:.2f}'.format(sig_est), xy=(0.7, 0.65), xycoords='axes fraction', fontsize=6)\n",
    "axes[0, 2].legend(labels=['true', 'mean'], ncol=1, loc=(1.02, 0), fontsize='small', handlelength=1.5);"
   ]
  },
  {
   "cell_type": "markdown",
   "metadata": {},
   "source": [
    "The calculation seems very tolerant to noisy profiles as long as the noise is asymmetric about the beam center. Might need to look into this... for example, one wire or a few wires could be more noisy than the others. But our actual profiles look nice and smooth."
   ]
  },
  {
   "cell_type": "markdown",
   "metadata": {},
   "source": [
    "## Uncertainty in tilted wire angle "
   ]
  },
  {
   "cell_type": "markdown",
   "metadata": {},
   "source": [
    "The calculation of $\\langle{xy}\\rangle$ from $\\langle{xx}\\rangle$, $\\langle{yy}\\rangle$, and $\\langle{xy}\\rangle$ depends on $\\phi$, the angle of the $u$ axis above the $x$ axis. Here we assume the other moments are measured perfectly, but that there is some error in angle."
   ]
  },
  {
   "cell_type": "code",
   "execution_count": null,
   "metadata": {},
   "outputs": [],
   "source": [
    "phi = np.radians(45.0)\n",
    "dphi = np.radians(2.0)\n",
    "\n",
    "corr_xy_list = []\n",
    "for _ in trange(1000):\n",
    "    phi_err = phi + np.random.uniform(-0.5 * dphi, 0.5 * dphi)\n",
    "    uu = xx * np.cos(phi_err) + yy * np.sin(phi_err)\n",
    "    sig_uu = variance(*bin_data(uu, n_steps, ulims))\n",
    "    sig_xx = sig_xx_est\n",
    "    sig_yy = sig_yy_est\n",
    "    sig_xy = get_sig_xy(sig_xx, sig_yy, sig_uu)\n",
    "    corr_xy_list.append(sig_xy / np.sqrt(sig_xx * sig_yy))\n",
    "    \n",
    "fig, ax = plot.subplots(figsize=(4, 2))\n",
    "ax.hist(corr_xy_list, histtype='stepfilled', color='black')\n",
    "ax.format(xlabel='corr. coeff.')"
   ]
  },
  {
   "cell_type": "markdown",
   "metadata": {},
   "source": [
    "There is really not much affect from the tilt angle."
   ]
  },
  {
   "cell_type": "markdown",
   "metadata": {},
   "source": [
    "## Effect of measurement errors on $\\langle{xy}\\rangle$ calculation"
   ]
  },
  {
   "cell_type": "code",
   "execution_count": null,
   "metadata": {},
   "outputs": [],
   "source": [
    "n_trials = 50000\n",
    "frac_variance_errs = np.linspace(0.01, 0.1, 10)"
   ]
  },
  {
   "cell_type": "code",
   "execution_count": null,
   "metadata": {},
   "outputs": [],
   "source": [
    "fig, axes = plot.subplots(nrows=len(frac_variance_errs), figsize=(5, 12))\n",
    "axes[0].set_title(r'Calculated $r_{xy}$ with errors in $\\sigma_x$, $\\sigma_y$, $\\sigma_u$ ({:.0f}%)')\n",
    "\n",
    "stds = []\n",
    "\n",
    "for frac_variance_err, ax in zip(frac_variance_errs, axes):\n",
    "    corr_xy_list = []\n",
    "    for _ in range(n_trials):\n",
    "        sig_uu = sig_uu_est * (1.0 + np.random.normal(scale=frac_variance_err))\n",
    "        sig_xx = sig_xx_est * (1.0 + np.random.normal(scale=frac_variance_err))\n",
    "        sig_yy = sig_yy_est * (1.0 + np.random.normal(scale=frac_variance_err))\n",
    "        sig_xy = get_sig_xy(sig_xx, sig_yy, sig_uu)\n",
    "        corr_xy_list.append(sig_xy / np.sqrt(sig_xx * sig_yy))\n",
    "    mean = np.mean(corr_xy_list)\n",
    "    std = np.std(corr_xy_list)\n",
    "    stds.append(std)\n",
    "    \n",
    "    ax.hist(corr_xy_list, bins='auto', histtype='stepfilled', color='black', alpha=0.2)\n",
    "    ax.annotate(r'Frac. $\\sigma$ error = {:.0f}%'.format(100 * frac_variance_err),\n",
    "                xy=(0.02, 0.85), xycoords='axes fraction')\n",
    "    ax.annotate('true = {:.3f}'.format(corr_xy_est), xy=(0.8, 0.85), \n",
    "                xycoords='axes fraction', fontsize='small')\n",
    "    ax.annotate('mean = {:.3f}'.format(mean), xy=(0.8, 0.75), \n",
    "                xycoords='axes fraction', fontsize='small')\n",
    "    ax.annotate('stdev = {:.3f}'.format(std), xy=(0.8, 0.65), \n",
    "                xycoords='axes fraction', fontsize='small')\n",
    "    ax.axvline(corr_xy_est, c='r')\n",
    "    ax.axvline(mean, c='b')\n",
    "axes[0].legend(labels=['true', 'mean'], loc=(1.02, 0), ncol=1, fontsize='small');"
   ]
  },
  {
   "cell_type": "markdown",
   "metadata": {},
   "source": [
    "The standard deviation in cov(x, y) can be written exactly:"
   ]
  },
  {
   "cell_type": "markdown",
   "metadata": {},
   "source": [
    "$$\n",
    "\\delta\\sigma_{xy} = \\sqrt{\n",
    "    (\\delta \\sigma_{uu})^2 + \\frac{1}{4}(\\delta\\sigma_{xx})^2 + \\frac{1}{4}(\\delta\\sigma_{yy})^2\n",
    "    + (\\frac{\\partial \\sigma_{xy}}{\\partial \\phi} \\delta\\phi)^2\n",
    "} \n",
    "$$"
   ]
  },
  {
   "cell_type": "markdown",
   "metadata": {},
   "source": [
    "Assuming the uncertainty along each dimension is the same, and assuming there is no angle uncertainty, we have \n",
    "\n",
    "$\\delta \\sigma_{xy} = \\sqrt{\\frac{3}{2}} \\delta \\sigma_{uu}$"
   ]
  },
  {
   "cell_type": "code",
   "execution_count": null,
   "metadata": {},
   "outputs": [],
   "source": [
    "slope = (stds[-1] - stds[0]) / (frac_variance_errs[-1] - frac_variance_errs[0])\n",
    "print('slope =', slope)\n",
    "print('sqrt(3 / 2) =', np.sqrt(3 / 2))\n",
    "\n",
    "fig, ax = plot.subplots()\n",
    "ax.scatter(frac_variance_errs, stds)\n",
    "ax.format(xlabel='RMS fractional error in measured variance',\n",
    "          ylabel='Standard deviation in measured cov(x, y)')"
   ]
  },
  {
   "cell_type": "markdown",
   "metadata": {},
   "source": [
    "The dependence on angle can be found by taking derivatives. It will get complicated when plugging in to the emittance calculation since it is nonlinear, so best to do it numerically."
   ]
  },
  {
   "cell_type": "markdown",
   "metadata": {},
   "source": [
    "## What about different beam shapes? "
   ]
  },
  {
   "cell_type": "markdown",
   "metadata": {},
   "source": [
    "We have a square beam, which is not rotationally symmetric. This seems like it would affect the accuracy of the calculated cov(x, y). But maybe not. "
   ]
  },
  {
   "cell_type": "code",
   "execution_count": null,
   "metadata": {},
   "outputs": [],
   "source": [
    "corr_xy_true_list = []\n",
    "corr_xy_est_list = []\n",
    "angles = np.radians(np.linspace(0, 180.0, 12))\n",
    "\n",
    "for angle in tqdm(angles):\n",
    "    # Rotate the distribution.\n",
    "    Xrot = np.copy(X)\n",
    "    Xrot[:, 0] *= 0.5\n",
    "    Xrot = utils.apply(rotation_matrix_4D(-angle), Xrot)\n",
    "    # Record the true cov(x, y).\n",
    "    Sigma = np.cov(Xrot.T)\n",
    "    corr_xy_true_list.append(Sigma[0, 2] / np.sqrt(Sigma[0, 0] * Sigma[2, 2]))\n",
    "    # Estimate cov(x, y) from the histograms along x, y and u.\n",
    "    xx = Xrot[:, 0]\n",
    "    yy = Xrot[:, 2]\n",
    "    uu = np.sqrt(0.5) * (xx + yy)\n",
    "    pos_x, counts_x = bin_data(xx, n_steps, xlims)\n",
    "    pos_y, counts_y = bin_data(yy, n_steps, ylims)\n",
    "    pos_u, counts_u = bin_data(uu, n_steps, ulims)\n",
    "    sig_xx_est = variance(pos_x, counts_x)\n",
    "    sig_yy_est = variance(pos_y, counts_y)\n",
    "    sig_uu_est = variance(pos_u, counts_u)\n",
    "    f = 0.05\n",
    "    sig_xx_est *= np.random.uniform(1 - f, 1 + f)\n",
    "    sig_yy_est *= np.random.uniform(1 - f, 1 + f)\n",
    "    sig_uu_est *= np.random.uniform(1 - f, 1 + f)\n",
    "    sig_xy_est = get_sig_xy(sig_xx_est, sig_yy_est, sig_uu_est)\n",
    "    corr_xy_est_list.append(sig_xy_est / np.sqrt(sig_xx_est * sig_yy_est))"
   ]
  },
  {
   "cell_type": "code",
   "execution_count": null,
   "metadata": {},
   "outputs": [],
   "source": [
    "fig, ax = plot.subplots(figsize=(4, 2))\n",
    "ax.plot(np.degrees(angles), corr_xy_est_list, marker='|', color='red8')\n",
    "ax.plot(np.degrees(angles), corr_xy_true_list, marker='.', color='blue8')\n",
    "ax.legend(labels=['est', 'true'], ncols=1, fontsize='small')\n",
    "ax.format(xformatter='deg', xlabel='Beam tilt angle', ylabel='corr(x, y)')"
   ]
  },
  {
   "cell_type": "markdown",
   "metadata": {},
   "source": [
    "## Effect of beam size on uncertainty in measured moments"
   ]
  }
 ],
 "metadata": {
  "kernelspec": {
   "display_name": "Python 3",
   "language": "python",
   "name": "python3"
  },
  "language_info": {
   "codemirror_mode": {
    "name": "ipython",
    "version": 3
   },
   "file_extension": ".py",
   "mimetype": "text/x-python",
   "name": "python",
   "nbconvert_exporter": "python",
   "pygments_lexer": "ipython3",
   "version": "3.7.6"
  }
 },
 "nbformat": 4,
 "nbformat_minor": 4
}
