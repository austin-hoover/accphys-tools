{
 "cells": [
  {
   "cell_type": "code",
   "execution_count": 1,
   "metadata": {},
   "outputs": [],
   "source": [
    "import sys\n",
    "import importlib\n",
    "\n",
    "import numpy as np\n",
    "import pandas as pd\n",
    "from matplotlib import pyplot as plt\n",
    "import proplot as pplt\n",
    "import seaborn as sns\n",
    "\n",
    "# Local\n",
    "from plotting import emittances_joint_hist\n",
    "\n",
    "sys.path.append('../../../')\n",
    "from tools import animation as myanim\n",
    "from tools import beam_analysis as ba\n",
    "from tools import plotting as myplt\n",
    "\n",
    "savefig_kws = dict(facecolor='white', dpi=300)"
   ]
  },
  {
   "cell_type": "code",
   "execution_count": 2,
   "metadata": {},
   "outputs": [],
   "source": [
    "plt.rcParams['figure.facecolor'] = 'white'\n",
    "plt.rcParams['savefig.dpi'] = 'figure'\n",
    "plt.rcParams['animation.html'] = 'jshtml'\n",
    "plt.rcParams['grid.alpha'] = 0.04\n",
    "plt.rcParams['axes.grid'] = False"
   ]
  },
  {
   "cell_type": "code",
   "execution_count": null,
   "metadata": {},
   "outputs": [],
   "source": [
    "Sigma0 = np.load"
   ]
  },
  {
   "cell_type": "code",
   "execution_count": 10,
   "metadata": {},
   "outputs": [
    {
     "name": "stdout",
     "output_type": "stream",
     "text": [
      "['energy spread', 'fringe fields', 'kinetic energy', 'quad strengths', 'space charge', 'wire-scanner angle', 'wire-scanner noise', 'all']\n"
     ]
    }
   ],
   "source": [
    "file = open('_output/data/errors_included.txt', 'r')\n",
    "errors = [line.rstrip() for line in file]\n",
    "print(errors)"
   ]
  },
  {
   "cell_type": "code",
   "execution_count": 22,
   "metadata": {},
   "outputs": [],
   "source": [
    "Sigmas_list = np.load('_output/data/Sigmas_list.npy')\n",
    "emittances_list = np.array([[ba.emittances(Sigma) for Sigma in Sigmas] for Sigmas in Sigmas_list])\n",
    "\n",
    "Sigmas_dict = dict()\n",
    "emittances_dict = dict()\n",
    "means_dict = dict()\n",
    "stds_dict = dict()\n",
    "for error, Sigmas in zip(errors, Sigmas_list):\n",
    "    Sigmas_dict[error] = Sigmas\n",
    "    emittances = np.array([ba.emittances(Sigma) for Sigma in Sigmas])\n",
    "    emittances_dict[error] = emittances\n",
    "    means_dict[error] = np.mean(emittances, axis=0)\n",
    "    stds_dict[error] = np.std(emittances, axis=0)"
   ]
  },
  {
   "cell_type": "code",
   "execution_count": 31,
   "metadata": {},
   "outputs": [
    {
     "name": "stdout",
     "output_type": "stream",
     "text": [
      "error = energy spread\n",
      "  eps_x = 35.117 +/- 0.000\n",
      "  eps_y = 20.895 +/- 0.000\n",
      "  eps_1 = 35.120 +/- 0.000\n",
      "  eps_2 = 20.890 +/- 0.000\n",
      "error = fringe fields\n",
      "  eps_x = 35.117 +/- 0.000\n",
      "  eps_y = 20.895 +/- 0.000\n",
      "  eps_1 = 35.120 +/- 0.000\n",
      "  eps_2 = 20.890 +/- 0.000\n",
      "error = kinetic energy\n",
      "  eps_x = 34.929 +/- 0.299\n",
      "  eps_y = 20.590 +/- 0.350\n",
      "  eps_1 = 34.949 +/- 0.319\n",
      "  eps_2 = 20.568 +/- 0.333\n",
      "error = quad strengths\n",
      "  eps_x = 35.426 +/- 0.374\n",
      "  eps_y = 20.864 +/- 0.144\n",
      "  eps_1 = 35.433 +/- 0.371\n",
      "  eps_2 = 20.855 +/- 0.143\n",
      "error = space charge\n",
      "  eps_x = 35.223 +/- 0.000\n",
      "  eps_y = 20.854 +/- 0.000\n",
      "  eps_1 = 35.237 +/- 0.000\n",
      "  eps_2 = 20.838 +/- 0.000\n",
      "error = wire-scanner angle\n",
      "  eps_x = 35.223 +/- 0.000\n",
      "  eps_y = 20.854 +/- 0.000\n",
      "  eps_1 = 35.237 +/- 0.000\n",
      "  eps_2 = 20.838 +/- 0.000\n",
      "error = wire-scanner noise\n",
      "  eps_x = 35.223 +/- 0.000\n",
      "  eps_y = 20.854 +/- 0.000\n",
      "  eps_1 = 35.237 +/- 0.000\n",
      "  eps_2 = 20.838 +/- 0.000\n",
      "error = all\n",
      "  eps_x = 34.639 +/- 1.032\n",
      "  eps_y = 20.991 +/- 0.335\n",
      "  eps_1 = 34.648 +/- 1.026\n",
      "  eps_2 = 20.980 +/- 0.329\n"
     ]
    }
   ],
   "source": [
    "for error in errors:    \n",
    "    print('error = {}'.format(error))\n",
    "    for tag, mean, std in zip(['x', 'y', '1', '2'], means_dict[error], stds_dict[error]):\n",
    "        print('  eps_{} = {:.3f} +/- {:.3f}'.format(tag, mean, std))"
   ]
  },
  {
   "cell_type": "code",
   "execution_count": null,
   "metadata": {},
   "outputs": [],
   "source": []
  },
  {
   "cell_type": "code",
   "execution_count": null,
   "metadata": {},
   "outputs": [],
   "source": []
  },
  {
   "cell_type": "code",
   "execution_count": null,
   "metadata": {},
   "outputs": [],
   "source": []
  },
  {
   "cell_type": "code",
   "execution_count": null,
   "metadata": {},
   "outputs": [],
   "source": []
  },
  {
   "cell_type": "code",
   "execution_count": null,
   "metadata": {},
   "outputs": [],
   "source": []
  },
  {
   "cell_type": "code",
   "execution_count": null,
   "metadata": {},
   "outputs": [],
   "source": []
  },
  {
   "cell_type": "code",
   "execution_count": null,
   "metadata": {},
   "outputs": [],
   "source": []
  },
  {
   "cell_type": "code",
   "execution_count": null,
   "metadata": {},
   "outputs": [],
   "source": []
  },
  {
   "cell_type": "code",
   "execution_count": null,
   "metadata": {},
   "outputs": [],
   "source": []
  },
  {
   "cell_type": "code",
   "execution_count": null,
   "metadata": {},
   "outputs": [],
   "source": []
  },
  {
   "cell_type": "code",
   "execution_count": null,
   "metadata": {},
   "outputs": [],
   "source": []
  },
  {
   "cell_type": "code",
   "execution_count": null,
   "metadata": {},
   "outputs": [],
   "source": [
    "fail_rate = float(np.loadtxt('_output/data/fail_rate.dat'))\n",
    "print('Fail rate = {}'.format(fail_rate))"
   ]
  },
  {
   "cell_type": "code",
   "execution_count": null,
   "metadata": {},
   "outputs": [],
   "source": [
    "Sigmas = np.load('_output/data/Sigmas.npy')\n",
    "Sigma0 = np.load('_output/data/Sigma0.npy')\n",
    "emittances = np.load('_output/data/emittances.npy')"
   ]
  },
  {
   "cell_type": "code",
   "execution_count": null,
   "metadata": {},
   "outputs": [],
   "source": [
    "means = np.mean(emittances, axis=0)\n",
    "stds = np.std(emittances, axis=0)\n",
    "for i, label in enumerate(['eps_x', 'eps_y', 'eps_1', 'eps_2']):\n",
    "    print('{} = {:.3f} +/- {:.3f} [mm mrad]'.format(label, means[i], stds[i]))"
   ]
  },
  {
   "cell_type": "code",
   "execution_count": null,
   "metadata": {},
   "outputs": [],
   "source": [
    "lims = (10, 60), (0, 35)\n",
    "joint_kws = dict(bins=100)\n",
    "marginal_kws = dict()\n",
    "\n",
    "eps_x_true, eps_y_true, eps_1_true, eps_2_true = ba.emittances(Sigma0[:4, :4])\n",
    "\n",
    "axes = emittances_joint_hist(emittances, lims, joint_kws, marginal_kws)\n",
    "ax1, ax1_marg_x, ax1_marg_y, ax2, ax1_marg_y, ax1_marg_y = axes\n",
    "# ax2.annotate('fail rate = {:.2f}'.format(fail_rate), \n",
    "#          xy=(0.03, 0.93), xycoords='axes fraction', color='white')  \n",
    "line_kws = dict(color='white', lw=0.25, alpha=0.5)\n",
    "ax1.axvline(eps_x_true, **line_kws)\n",
    "ax1.axhline(eps_y_true, **line_kws)\n",
    "ax2.axvline(eps_1_true, **line_kws)\n",
    "ax2.axhline(eps_2_true, **line_kws)\n",
    "plt.savefig('_output/figures/emittances.png', facecolor='white', dpi=250)\n",
    "plt.show()"
   ]
  },
  {
   "cell_type": "code",
   "execution_count": null,
   "metadata": {},
   "outputs": [],
   "source": []
  }
 ],
 "metadata": {
  "kernelspec": {
   "display_name": "Python 3",
   "language": "python",
   "name": "python3"
  },
  "language_info": {
   "codemirror_mode": {
    "name": "ipython",
    "version": 3
   },
   "file_extension": ".py",
   "mimetype": "text/x-python",
   "name": "python",
   "nbconvert_exporter": "python",
   "pygments_lexer": "ipython3",
   "version": "3.7.6"
  },
  "toc-autonumbering": false
 },
 "nbformat": 4,
 "nbformat_minor": 4
}
