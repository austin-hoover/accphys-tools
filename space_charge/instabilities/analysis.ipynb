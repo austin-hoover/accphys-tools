{
 "cells": [
  {
   "cell_type": "markdown",
   "id": "cd0ecc11-4c24-4c29-892d-443df00bf5f7",
   "metadata": {},
   "source": [
    "# Space charge instabilities "
   ]
  },
  {
   "cell_type": "code",
   "execution_count": null,
   "id": "789f4b6c-24e9-469b-ad1f-b704f7066cf7",
   "metadata": {},
   "outputs": [],
   "source": [
    "#hide\n",
    "import sys\n",
    "\n",
    "import numpy as np\n",
    "from matplotlib import pyplot as plt\n",
    "from matplotlib import animation\n",
    "import proplot as plot\n",
    "import seaborn as sns\n",
    "from tqdm import tqdm\n",
    "\n",
    "sys.path.append('/Users/46h/Research/code/accphys/')\n",
    "from tools import plotting as myplt\n",
    "from tools import animation as myanim\n",
    "from tools import beam_analysis as ba\n",
    "from tools import utils"
   ]
  },
  {
   "cell_type": "code",
   "execution_count": null,
   "id": "e007e411-10a6-4ee3-abd1-567b7463f46a",
   "metadata": {},
   "outputs": [],
   "source": [
    "#hide\n",
    "plot.rc['figure.facecolor'] = 'white'\n",
    "plot.rc['grid.alpha'] = 0.04\n",
    "plot.rc['axes.grid'] = False\n",
    "plot.rc['animation.html'] = 'jshtml'\n",
    "plot.rc['savefig.dpi'] = 150\n",
    "plot.rc['savefig.facecolor'] = 'white'"
   ]
  },
  {
   "cell_type": "markdown",
   "id": "87222faf-b94d-4861-87a1-9d2e6baf9e44",
   "metadata": {},
   "source": [
    "## Incoherent fourth-order space charge resonance "
   ]
  },
  {
   "cell_type": "code",
   "execution_count": null,
   "id": "50f770f6-00b4-45e3-93f0-adfaf6584f3c",
   "metadata": {},
   "outputs": [],
   "source": [
    "#hide\n",
    "coords = np.load('_saved/gaussian_tune100-90/coords.npy')\n",
    "tmax = 300\n",
    "coords = coords[:tmax+1]\n",
    "coords *= 1e3\n",
    "xmax = np.max(coords[:, :, 0])\n",
    "xpmax = np.max(coords[:, :, 1])\n",
    "xmax, xpmax = 1.15 * np.array([xmax, xpmax])"
   ]
  },
  {
   "cell_type": "code",
   "execution_count": null,
   "id": "76ec613a-3c9d-4f13-8c98-abdcbc5790d2",
   "metadata": {},
   "outputs": [],
   "source": [
    "#hide\n",
    "moments = 1e6 * np.load('_saved/gaussian_tune100-90/moments.npy')\n",
    "stats = ba.Stats(1)\n",
    "stats.read_moments(moments)"
   ]
  },
  {
   "cell_type": "code",
   "execution_count": null,
   "id": "e4e054c7-580f-4508-b9ab-c79c4903feeb",
   "metadata": {},
   "outputs": [],
   "source": [
    "#hide\n",
    "eps_min = np.min(stats.twiss2D.loc[:tmax+1, ['ex','ey']].values)\n",
    "eps_max = np.max(stats.twiss2D.loc[:tmax+1, ['ex','ey']].values)\n",
    "pad = 5.0 # [mm mrad]"
   ]
  },
  {
   "cell_type": "code",
   "execution_count": null,
   "id": "14ca7631-438b-442d-bd5e-68b159be26e3",
   "metadata": {},
   "outputs": [],
   "source": [
    "#hide_input\n",
    "fig, axes = plot.subplots([[1, 2], [1, 3]], figsize=(6, 3), sharex=False, sharey=False, wspace=0.75, \n",
    "                          height_ratios=[1, 0.2], width_ratios=[1, 0.75])\n",
    "axes[0].format(xlim=(-xmax, xmax), ylim=(-xpmax, xpmax), xlabel='x [mm]', ylabel=\"x' [mrad]\")\n",
    "axes[1].format(xlim=(0, len(coords)), ylim=(eps_min - pad, eps_max + pad),\n",
    "               xlabel='Cell', ylabel='[mm mrad]')\n",
    "myplt.despine([axes[0]])\n",
    "line1, = axes[0].plot([], [], lw=0, markeredgewidth=0, ms=0.2, marker='o', c='k')\n",
    "line2, = axes[1].plot([], [])\n",
    "line3, = axes[1].plot([], [])\n",
    "axes[2].axis('off')\n",
    "cells = list(range(len(coords)))\n",
    "plt.close()\n",
    "\n",
    "stride = 3\n",
    "\n",
    "def update(i):\n",
    "    i *= stride\n",
    "    X = coords[i]\n",
    "    line1.set_data(X[:, 0], X[:, 1])\n",
    "    axes[0].set_title('Cell {}'.format(i))\n",
    "    data = stats.twiss2D[['ex','ey']].values\n",
    "    line2.set_data(cells[:i], data[:i, 0])\n",
    "    line3.set_data(cells[:i], data[:i, 1])\n",
    "    axes[1].legend(labels=[r'$\\varepsilon_x$', r'$\\varepsilon_y$'], ncols=1, handlelength=1.5, loc='upper left')\n",
    "    \n",
    "frames = int(tmax / stride)\n",
    "frames = 10\n",
    "anim = animation.FuncAnimation(fig, update, frames=frames, interval=1000/10)\n",
    "anim"
   ]
  },
  {
   "cell_type": "code",
   "execution_count": null,
   "id": "50b1b91f-198b-443f-8f72-676522422536",
   "metadata": {},
   "outputs": [],
   "source": [
    "anim.save('test.mov', dpi=500)"
   ]
  },
  {
   "cell_type": "markdown",
   "id": "d07d40ab-aab9-4d65-a259-a7c7d80e85a4",
   "metadata": {},
   "source": [
    "## Envelope instability"
   ]
  },
  {
   "cell_type": "code",
   "execution_count": null,
   "id": "c4d23759-57a5-4529-b5c4-eba04f0b87b2",
   "metadata": {},
   "outputs": [],
   "source": [
    "#hide_input\n",
    "depressed_tunes = np.load('_saved/envelope/depressed_tunes.npy')\n",
    "sizes_arr = [1e3 * np.load('_saved/envelope/sizes_{}.npy'.format(i)) for i in range(2)]\n",
    "fig, ax = plot.subplots(figsize=(6, 2))\n",
    "lw = 0.7\n",
    "ax.plot(sizes_arr[1][:, 0], lw=lw)\n",
    "ax.plot(sizes_arr[1][:, 1], lw=lw)\n",
    "ax.format(xlabel='Cell number', ylabel='[mm]',\n",
    "          xlim=(0, len(sizes_arr[0])))\n",
    "ax.legend(labels=[r'$\\sqrt{\\langle{x^2}\\rangle}$', r'$\\sqrt{\\langle{y^2}\\rangle}$'], \n",
    "          fontsize='small', ncols=1, loc='upper left', lw=1.5)\n",
    "ax.set_title(r'Depressed phase advance per cell = {:.0f} degrees'.format(depressed_tunes[1]))\n",
    "plt.savefig('_saved/env_instability.png', facecolor='white', dpi=300)"
   ]
  },
  {
   "cell_type": "markdown",
   "id": "a7deff85-5942-405a-b1df-b0294865903b",
   "metadata": {},
   "source": [
    "## Coherent instability"
   ]
  },
  {
   "cell_type": "code",
   "execution_count": null,
   "id": "64f4f78b-e8db-48a9-a9d3-fe5c28af69fb",
   "metadata": {},
   "outputs": [],
   "source": [
    "#hide\n",
    "coords0 = np.load('_saved/mu0-90_mu-45_kv/coords.npy')\n",
    "coords1 = np.load('_saved/mu0-90_mu-30_kv/coords.npy')\n",
    "coords2 = np.load('_saved/mu0-90_mu-45_wb/coords.npy')\n",
    "coords3 = np.load('_saved/mu0-90_mu-30_wb/coords.npy')\n",
    "coords4 = np.load('_saved/mu0-90_mu-45_gauss/coords.npy')\n",
    "coords5 = np.load('_saved/mu0-90_mu-30_gauss/coords.npy')\n",
    "\n",
    "coords_list = [coords0, coords2, coords4, coords1, coords3, coords5]\n",
    "\n",
    "moments0 = np.load('_saved/mu0-90_mu-45_kv/moments.npy')\n",
    "moments1 = np.load('_saved/mu0-90_mu-30_kv/moments.npy')\n",
    "moments2 = np.load('_saved/mu0-90_mu-45_wb/moments.npy')\n",
    "moments3 = np.load('_saved/mu0-90_mu-30_wb/moments.npy')\n",
    "moments4 = np.load('_saved/mu0-90_mu-45_gauss/moments.npy')\n",
    "moments5 = np.load('_saved/mu0-90_mu-30_gauss/moments.npy')\n",
    "\n",
    "moments_list = [moments0, moments2, moments4, moments1, moments3, moments5]\n",
    "stats_list = []\n",
    "for moments in moments_list:\n",
    "    stats = ba.Stats(1)\n",
    "    stats.read_moments(moments)\n",
    "    stats_list.append(stats)"
   ]
  },
  {
   "cell_type": "markdown",
   "id": "dffde20f-adc4-4ba3-95b3-ccc80e4ff012",
   "metadata": {},
   "source": [
    "### Emittance growth "
   ]
  },
  {
   "cell_type": "code",
   "execution_count": null,
   "id": "0ae9de22-7b7a-4be5-94f6-b98ffad915b8",
   "metadata": {},
   "outputs": [],
   "source": [
    "#hide_input\n",
    "fig, axes = plot.subplots(nrows=2, ncols=3, figsize=(7, 3))\n",
    "myplt.despine(axes, ('top', 'right'))\n",
    "axes.format(xlabel=\"Cell\", ylabel=\"[mm mrad]\", suptitle='Emittance growth', grid=True)\n",
    "for ax, title in zip(axes[0, :], ['KV', 'Waterbag', 'Gaussian']):\n",
    "    ax.set_title(title)\n",
    "axes[0, -1].annotate(r'$\\nu_{x} = 45\\degree$', xy=(1, 0.5), xycoords='axes fraction')\n",
    "axes[1, -1].annotate(r'$\\nu_{x} = 30\\degree$', xy=(1, 0.5), xycoords='axes fraction')\n",
    "\n",
    "for ax, stats in zip(axes, stats_list):\n",
    "    stats.twiss2D[['ex','ey']].plot(ax=ax, legend=False)\n",
    "    \n",
    "axes[1, -1].legend(labels=[r'$\\varepsilon_x$', r'$\\varepsilon_y$'],\n",
    "                   ncols=2, handlelength=1, fontsize='small', loc='upper left');"
   ]
  },
  {
   "cell_type": "markdown",
   "id": "2ce6e900-d2df-46fa-bb50-d89075e1503a",
   "metadata": {},
   "source": [
    "### Horizontal phase space"
   ]
  },
  {
   "cell_type": "code",
   "execution_count": null,
   "id": "7bf2a0a5-1093-49bc-86a4-1c7876fa931f",
   "metadata": {},
   "outputs": [],
   "source": [
    "#hide\n",
    "xmax = max([np.max(coords[:, :, 0]) for coords in coords_list])\n",
    "xpmax = max([np.max(coords[:, :, 1]) for coords in coords_list])"
   ]
  },
  {
   "cell_type": "code",
   "execution_count": null,
   "id": "14dc36c3-b607-4af6-8077-ee9562debe2f",
   "metadata": {},
   "outputs": [],
   "source": [
    "#hide_input\n",
    "fig, axes = plot.subplots(nrows=2, ncols=3, figsize=(6, 3.5))\n",
    "myplt.despine(axes, ('top', 'right'))\n",
    "\n",
    "axes.format(xlim=(-xmax, xmax), ylim=(-xpmax, xpmax),\n",
    "            xlabel=\"x [mm]\", ylabel=\"x' [mrad]\",\n",
    "            suptitle='Horizontal phase space evolution')\n",
    "for ax, title in zip(axes[0, :], ['KV', 'Waterbag', 'Gaussian']):\n",
    "    ax.set_title(title)\n",
    "axes[0, -1].annotate(r'$\\nu_{x} = 45\\degree$', xy=(1, 0.5), xycoords='axes fraction')\n",
    "axes[1, -1].annotate(r'$\\nu_{x} = 30\\degree$', xy=(1, 0.5), xycoords='axes fraction')\n",
    "\n",
    "kws = dict(lw=0, marker='o', markeredgecolor='none', ms=0.2, c='k')\n",
    "line0, = axes[0, 0].plot([], [], **kws)\n",
    "line1, = axes[0, 1].plot([], [], **kws)\n",
    "line2, = axes[0, 2].plot([], [], **kws)\n",
    "line3, = axes[1, 0].plot([], [], **kws)\n",
    "line4, = axes[1, 1].plot([], [], **kws)\n",
    "line5, = axes[1, 2].plot([], [], **kws)\n",
    "lines = [line0, line1, line2, line3, line4, line5]\n",
    "plt.close()\n",
    "\n",
    "def update(i):\n",
    "    for ax, line, coords in zip(axes, lines, coords_list):\n",
    "        X = coords[i]\n",
    "        line.set_data(X[:, 0], X[:, 1])\n",
    "    myplt.remove_annotations(axes[0])\n",
    "    axes[0].annotate('cell {}'.format(i), xy=(0.78, 0.91), xycoords='axes fraction')\n",
    "\n",
    "n_frames = len(coords1)\n",
    "anim = animation.FuncAnimation(fig, update, frames=n_frames, interval=1000/2)\n",
    "anim"
   ]
  }
 ],
 "metadata": {
  "kernelspec": {
   "display_name": "Python 3",
   "language": "python",
   "name": "python3"
  },
  "language_info": {
   "codemirror_mode": {
    "name": "ipython",
    "version": 3
   },
   "file_extension": ".py",
   "mimetype": "text/x-python",
   "name": "python",
   "nbconvert_exporter": "python",
   "pygments_lexer": "ipython3",
   "version": "3.7.6"
  },
  "toc-autonumbering": false
 },
 "nbformat": 4,
 "nbformat_minor": 5
}
