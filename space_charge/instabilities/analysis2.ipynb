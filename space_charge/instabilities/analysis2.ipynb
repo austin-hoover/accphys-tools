{
 "cells": [
  {
   "cell_type": "markdown",
   "metadata": {},
   "source": [
    "# Plots for dissertation"
   ]
  },
  {
   "cell_type": "code",
   "execution_count": null,
   "metadata": {},
   "outputs": [],
   "source": [
    "import sys\n",
    "import os\n",
    "\n",
    "import numpy as np\n",
    "from matplotlib import pyplot as plt\n",
    "from matplotlib import animation\n",
    "import proplot as pplt\n",
    "import seaborn as sns\n",
    "from tqdm import tqdm\n",
    "\n",
    "sys.path.append('/Users/46h/Research/')\n",
    "from scdist.tools import animation as myanim\n",
    "from scdist.tools import beam_analysis as ba\n",
    "from scdist.tools import plotting as myplt\n",
    "from scdist.tools import utils"
   ]
  },
  {
   "cell_type": "code",
   "execution_count": null,
   "metadata": {},
   "outputs": [],
   "source": [
    "pplt.rc['figure.facecolor'] = 'white'\n",
    "pplt.rc['grid.alpha'] = 0.04\n",
    "pplt.rc['axes.grid'] = False\n",
    "pplt.rc['animation.html'] = 'jshtml'\n",
    "pplt.rc['savefig.dpi'] = 'figure'\n",
    "pplt.rc['cmap.sequential'] = 'viridis'\n",
    "pplt.rc['cmap.discrete'] = False\n",
    "savefig_kws = dict(dpi=300)"
   ]
  },
  {
   "cell_type": "markdown",
   "metadata": {},
   "source": [
    "## Incoherent effects "
   ]
  },
  {
   "cell_type": "code",
   "execution_count": null,
   "metadata": {},
   "outputs": [],
   "source": [
    "tunes = np.loadtxt('_output/data/tunes.dat')\n",
    "coords = np.load('_saved/gaussian_tune100-90/coords.npy')"
   ]
  },
  {
   "cell_type": "code",
   "execution_count": null,
   "metadata": {},
   "outputs": [],
   "source": [
    "coords *= 1000.\n",
    "stats = ba.BeamStats()\n",
    "stats.read_coords(coords)"
   ]
  },
  {
   "cell_type": "code",
   "execution_count": null,
   "metadata": {},
   "outputs": [],
   "source": [
    "frames = np.linspace(0, 400, 12).astype(int)\n",
    "bins = 'auto'\n",
    "scale = 1.0\n",
    "text_kws = dict(fontsize='small', color='black')\n",
    "cmap = 'mono'\n",
    "ncols = 6\n",
    "\n",
    "xmax = np.max(coords[frames, :, 0])\n",
    "xpmax = np.max(coords[frames, :, 1])\n",
    "xmax, xpmax = scale * np.array([xmax, xpmax])\n",
    "\n",
    "\n",
    "fig, axes = pplt.subplots(ncols=ncols, nrows=len(frames)//ncols, figwidth=8.4, space=0.)\n",
    "axes.format(xticks=[], yticks=[], xlabel=\"x\", ylabel=\"x'\")\n",
    "for frame, ax in zip(frames, axes):\n",
    "    X = coords[frame]\n",
    "    tune_x, tune_y = tunes[frame]\n",
    "    xedges = np.histogram_bin_edges(X[:, 0], bins, (-xmax, xmax))\n",
    "    yedges = np.histogram_bin_edges(X[:, 1], bins, (-xpmax, xpmax))\n",
    "    Z, _, _ = np.histogram2d(X[:, 0], X[:, 1], [xedges, yedges])\n",
    "    ax.pcolormesh(xedges, yedges, Z.T, cmap=cmap)\n",
    "    ax.annotate(r'$\\nu_x = {:.1f}\\degree$'.format(tune_x), xy=(0.01, 0.92), xycoords='axes fraction', **text_kws)\n",
    "#     ax.annotate('cell {}'.format(frame), xy=(0.01, 0.92), xycoords='axes fraction', **text_kws)\n",
    "    plt.savefig('_output/figures/incoherent_resonance_fourth_order.png', **savefig_kws)\n",
    "plt.show()"
   ]
  },
  {
   "cell_type": "code",
   "execution_count": null,
   "metadata": {},
   "outputs": [],
   "source": [
    "fig, ax = pplt.subplots(figsize=None)\n",
    "emittances = stats.twiss2D.loc[:, 'eps_x'].values\n",
    "ax.plot(tunes[:, 0], emittances[1:], color='black')\n",
    "ax.format(ylabel=r'$\\varepsilon_x$ [mm mrad]', xlabel='Bare lattice tune', xformatter='deg', ylim=(0., ax.get_ylim()[1]))\n",
    "plt.savefig('_output/figures/incoherent_resonance_fourth_order_emittance.png', **savefig_kws)\n",
    "plt.show()"
   ]
  },
  {
   "cell_type": "markdown",
   "metadata": {},
   "source": [
    "## Coherent effects "
   ]
  },
  {
   "cell_type": "markdown",
   "metadata": {},
   "source": [
    "### Envelope instability "
   ]
  },
  {
   "cell_type": "code",
   "execution_count": null,
   "metadata": {},
   "outputs": [],
   "source": [
    "depressed_tunes = np.loadtxt('_output/data/depressed_tunes.dat')\n",
    "sizes_list = np.load('_output/data/sizes_list.npy')\n",
    "sizes_list *= 1000."
   ]
  },
  {
   "cell_type": "code",
   "execution_count": null,
   "metadata": {},
   "outputs": [],
   "source": [
    "n = len(depressed_tunes)"
   ]
  },
  {
   "cell_type": "code",
   "execution_count": null,
   "metadata": {},
   "outputs": [],
   "source": [
    "with pplt.rc.context(legendfontsize='medium'):\n",
    "\n",
    "    fig, axes = pplt.subplots(nrows=3, ncols=2, figsize=(7.0, 4.5))\n",
    "    plot_kws = dict(lw=0.3)\n",
    "    for i in range(n):\n",
    "        ax = axes[i]\n",
    "        xrms, yrms = sizes_list[i].T\n",
    "        h1 = ax.plot(xrms, **plot_kws)\n",
    "        h2 = ax.plot(yrms, **plot_kws)\n",
    "        ax.annotate(\n",
    "            r'$\\nu_x = {:.1f}\\degree$'.format(depressed_tunes[i]),\n",
    "            xy=(0.01, 0.87), xycoords='axes fraction', fontsize='small'\n",
    "        )\n",
    "    axes.format(ylim=(0., umax))\n",
    "    axes.format(xlabel='Cell number', ylabel='[mm]')\n",
    "    axes[0].legend(\n",
    "        handles=[h1, h2],\n",
    "        labels=[r'$\\sqrt{\\langle{x^2}\\rangle}$', r'$\\sqrt{\\langle{y^2}\\rangle}$'], \n",
    "        loc=(0., 1.01), ncols=2, framealpha=0., lw=1\n",
    "    )\n",
    "    plt.savefig('_output/figures/envelope_instability.png', **savefig_kws)\n",
    "    plt.show()"
   ]
  },
  {
   "cell_type": "code",
   "execution_count": null,
   "metadata": {},
   "outputs": [],
   "source": [
    "del coords"
   ]
  },
  {
   "cell_type": "markdown",
   "metadata": {},
   "source": [
    "### Higher-order"
   ]
  },
  {
   "cell_type": "code",
   "execution_count": null,
   "metadata": {},
   "outputs": [],
   "source": [
    "coords_list1 = [\n",
    "    np.load('_saved/mu0-90_mu-45_kv/coords.npy'),\n",
    "    np.load('_saved/mu0-90_mu-45_wb/coords.npy'),\n",
    "    np.load('_saved/mu0-90_mu-45_gauss/coords.npy'),\n",
    "]\n",
    "coords_list2 = [\n",
    "    np.load('_saved/mu0-90_mu-30_kv/coords.npy'),\n",
    "    np.load('_saved/mu0-90_mu-30_wb/coords.npy'),\n",
    "    np.load('_saved/mu0-90_mu-30_gauss/coords.npy'),\n",
    "]\n",
    "\n",
    "stats_list1 = []\n",
    "for coords in coords_list1:\n",
    "    stats = ba.BeamStats()\n",
    "    stats.read_coords(coords)\n",
    "    stats_list1.append(stats)\n",
    "\n",
    "stats_list2 = []\n",
    "for coords in coords_list2:\n",
    "    stats = ba.BeamStats()\n",
    "    stats.read_coords(coords)\n",
    "    stats_list2.append(stats)"
   ]
  },
  {
   "cell_type": "markdown",
   "metadata": {},
   "source": [
    "#### Emittance growth "
   ]
  },
  {
   "cell_type": "code",
   "execution_count": null,
   "metadata": {},
   "outputs": [],
   "source": [
    "fig, axes = pplt.subplots(nrows=2, ncols=3, figsize=(7, 3))\n",
    "\n",
    "myplt.despine(axes, ('top', 'right'))\n",
    "axes.format(xlabel=\"Cell number\", ylabel=\"[mm mrad]\", ygrid=True)\n",
    "for ax, title in zip(axes[0, :], ['KV', 'Waterbag', 'Gaussian']):\n",
    "    ax.set_title(title)\n",
    "axes[0, -1].annotate(r'$\\nu_{x} = 45\\degree$', xy=(1, 0.5), xycoords='axes fraction')\n",
    "axes[1, -1].annotate(r'$\\nu_{x} = 30\\degree$', xy=(1, 0.5), xycoords='axes fraction')\n",
    "\n",
    "for i, stats_list in enumerate([stats_list1, stats_list2]):\n",
    "    for ax, stats in zip(axes[i, :], stats_list):\n",
    "        h1 = ax.plot(stats.twiss2D['eps_x'].values)\n",
    "        h2 = ax.plot(stats.twiss2D['eps_y'].values)\n",
    "        \n",
    "axes[0, -1].legend(\n",
    "    handles=[h1, h2],\n",
    "    labels=[r'$\\varepsilon_x$', r'$\\varepsilon_y$'],\n",
    "    ncols=1, \n",
    "    handlelength=1.25, \n",
    "    fontsize='small', \n",
    "    loc=(1.0, 0.8),\n",
    ")\n",
    "plt.savefig('_output/figures/coherent_instability_emittances.png', **savefig_kws)\n",
    "plt.show()"
   ]
  },
  {
   "cell_type": "markdown",
   "metadata": {},
   "source": [
    "#### Phase space"
   ]
  },
  {
   "cell_type": "code",
   "execution_count": null,
   "metadata": {},
   "outputs": [],
   "source": [
    "scale = 0.7\n",
    "xmax = scale * max([np.max(coords[:, :, 0]) for coords in coords_list])\n",
    "xpmax = scale * max([np.max(coords[:, :, 1]) for coords in coords_list])\n",
    "bins = 'auto'\n",
    "cmap = 'mono'"
   ]
  },
  {
   "cell_type": "code",
   "execution_count": null,
   "metadata": {},
   "outputs": [],
   "source": [
    "frames = list(range(0, 70, 10))\n",
    "for coords_list, name in zip([coords_list1, coords_list2], ['fourth_order', 'third_order']):\n",
    "    fig, axes = pplt.subplots(nrows=len(frames), ncols=3, figwidth=3.5, space=0.)\n",
    "    axes.format(xticks=[], yticks=[], xlabel=\"x\", ylabel=\"x'\")\n",
    "    for j, coords in enumerate(coords_list):\n",
    "        axes[0, j].set_title(['KV', 'Waterbag', 'Gaussian'][j])\n",
    "        for i, frame in enumerate(tqdm(frames)):\n",
    "            X = coords[frame]\n",
    "            xedges = np.histogram_bin_edges(X[:, 0], bins, (-xmax, xmax))\n",
    "            yedges = np.histogram_bin_edges(X[:, 1], bins, (-xpmax, xpmax))\n",
    "            Z, _, _ = np.histogram2d(X[:, 0], X[:, 1], [xedges, yedges])\n",
    "            axes[i, j].pcolormesh(xedges, yedges, Z.T, cmap=cmap)\n",
    "            \n",
    "            if j == 2:\n",
    "                text = 'Cell {}'.format(frame)\n",
    "                axes[i, j].annotate(\n",
    "                    text,\n",
    "                    xy=(1.02, 0.45), \n",
    "                    xycoords='axes fraction',\n",
    "                    fontsize='small', \n",
    "                    rotation=-90,\n",
    "                )\n",
    "    plt.savefig('_output/figures/coherent_instability_{}.png'.format(name), **savefig_kws)\n",
    "    plt.show()"
   ]
  },
  {
   "cell_type": "code",
   "execution_count": null,
   "metadata": {},
   "outputs": [],
   "source": []
  }
 ],
 "metadata": {
  "kernelspec": {
   "display_name": "Python 3",
   "language": "python",
   "name": "python3"
  },
  "language_info": {
   "codemirror_mode": {
    "name": "ipython",
    "version": 3
   },
   "file_extension": ".py",
   "mimetype": "text/x-python",
   "name": "python",
   "nbconvert_exporter": "python",
   "pygments_lexer": "ipython3",
   "version": "3.7.6"
  }
 },
 "nbformat": 4,
 "nbformat_minor": 4
}
