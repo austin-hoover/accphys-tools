{
 "cells": [
  {
   "cell_type": "markdown",
   "metadata": {},
   "source": [
    "# Setup"
   ]
  },
  {
   "cell_type": "markdown",
   "metadata": {},
   "source": [
    "## Imports "
   ]
  },
  {
   "cell_type": "code",
   "execution_count": null,
   "metadata": {},
   "outputs": [],
   "source": [
    "import sys\n",
    "import numpy as np\n",
    "import pandas as pd\n",
    "import matplotlib\n",
    "from matplotlib import pyplot as plt\n",
    "import proplot as plot\n",
    "\n",
    "sys.path.append('/Users/46h/Research/code/accphys') \n",
    "from tools import beam_analysis as ba\n",
    "from tools import plotting as myplt\n",
    "from tools.plotting import save, set_labels\n",
    "from tools import animation as myanim\n",
    "from tools import utils\n",
    "from tools.utils import show, play, file_exists\n",
    "from tools.accphys_utils import get_phase_adv\n",
    "from tools.plot_utils import moment_label, moment_label_string"
   ]
  },
  {
   "cell_type": "markdown",
   "metadata": {},
   "source": [
    "## Settings"
   ]
  },
  {
   "cell_type": "code",
   "execution_count": null,
   "metadata": {},
   "outputs": [],
   "source": [
    "plt_kws = dict(legend=False, xlabel='s / L')\n",
    "plot.rc['figure.facecolor'] = 'white'\n",
    "plot.rc['grid.alpha'] = 0.04\n",
    "plot.rc['style'] = None \n",
    "plot.rc['savefig.dpi'] = 'figure' \n",
    "plot.rc['animation.html'] = 'jshtml'\n",
    "dpi = 500\n",
    "\n",
    "cmap = plot.Colormap('Blues')\n",
    "cmap_range = (0, 1)"
   ]
  },
  {
   "cell_type": "markdown",
   "metadata": {},
   "source": [
    "# Load data"
   ]
  },
  {
   "cell_type": "code",
   "execution_count": null,
   "metadata": {},
   "outputs": [],
   "source": [
    "positions = np.load('_output/data/positions.npy')\n",
    "positions_normed = positions / positions[-1]\n",
    "costs = np.load('_output/data/costs.npy')\n",
    "\n",
    "tracked_params_lists = {}\n",
    "tracked_params_lists['tbt'] = np.load('_output/data/tbt_params_list.npy')\n",
    "tracked_params_lists['sdep'] = np.load('_output/data/sdep_params_list.npy')\n",
    "\n",
    "stats_lists = {}\n",
    "for key in ('tbt', 'sdep'):\n",
    "    stats_lists[key] = []\n",
    "    for tracked_params in tracked_params_lists[key]:\n",
    "        stats = ba.Stats(mode=1)\n",
    "        stats.read_env(tracked_params)\n",
    "        if key == 'sdep':\n",
    "            for df in stats.dfs():\n",
    "                df['s'] = positions\n",
    "                df['s/L'] = positions_normed\n",
    "        stats_lists[key].append(stats)\n",
    "    stats_lists[key] = np.array(stats_lists[key])"
   ]
  },
  {
   "cell_type": "markdown",
   "metadata": {},
   "source": [
    "# Plot "
   ]
  },
  {
   "cell_type": "markdown",
   "metadata": {},
   "source": [
    "### Turn-by-turn parameters "
   ]
  },
  {
   "cell_type": "code",
   "execution_count": null,
   "metadata": {},
   "outputs": [],
   "source": [
    "nshow = 3\n",
    "data_kws = dict(lw=None, ls='-', marker='.', legend=False)\n",
    "mean_kws = dict(lw=0.75, ls='-', alpha=0.5, zorder=0)\n",
    "\n",
    "fig, axes = plot.subplots(nrows=4, ncols=nshow, figsize=(5, 4.5), spany=False, aligny=True)\n",
    "for j, stats in enumerate(stats_lists['tbt'][:nshow]):\n",
    "    n = stats.twiss4D.shape[0]\n",
    "    for i, cols in enumerate([['bx','by'], ['ax','ay'], ['u'], ['nu']]):\n",
    "        ax = axes[i, j]\n",
    "        color = 'k' if len(cols) == 1 else None\n",
    "        data = stats.twiss4D[cols]\n",
    "        data.plot(ax=ax, color=color, **data_kws)\n",
    "        if len(cols) > 1:\n",
    "            xavg, yavg = data.mean()\n",
    "            ax.plot(list(range(n)), n * [xavg], color='blue7', **mean_kws)\n",
    "            ax.plot(list(range(n)), n * [yavg], color='orange7', **mean_kws)\n",
    "        else:\n",
    "            avg = data.mean()\n",
    "            ax.plot(list(range(n)), n * [avg], color='k', **mean_kws)\n",
    "    \n",
    "axes.format(xlabel='Turn number', grid=False,\n",
    "            toplabels=['Iteration {}'.format(i) for i in range(nshow)])\n",
    "axes[-1, 0].format(yformatter='deg')\n",
    "myplt.set_labels(axes[:, 0], [r'$\\beta_l$ [m]', r'$\\alpha_l$ [rad]', 'u', r'$\\nu$'], 'ylabel')\n",
    "\n",
    "plt.savefig('_output/figures/iters.png', dpi=dpi, facecolor='white')"
   ]
  },
  {
   "cell_type": "markdown",
   "metadata": {},
   "source": [
    "### s-dependent parameters "
   ]
  },
  {
   "cell_type": "code",
   "execution_count": null,
   "metadata": {},
   "outputs": [],
   "source": [
    "nshow = 8\n",
    "\n",
    "data_kws = dict(lw=None, ls='-', legend=False, ms=1)\n",
    "mean_kws = dict(lw=0.75, ls='--', alpha=0.5, zorder=0)\n",
    "\n",
    "fig, axes = plot.subplots(nrows=3, ncols=nshow, figsize=(12, 4), spany=False, aligny=True)\n",
    "for j, stats in enumerate(stats_lists['sdep'][:nshow]):\n",
    "    n = stats.twiss4D.shape[0]\n",
    "    for i, cols in enumerate([['bx','by'], ['u'], ['nu']]):\n",
    "        ax = axes[i, j]\n",
    "        color = 'k' if len(cols) == 1 else None\n",
    "        stats.twiss4D[['s/L'] + cols].plot('s/L', ax=ax, color=color, **data_kws)\n",
    "    \n",
    "axes.format(xlabel='s / L',\n",
    "            toplabels=['Iteration {}'.format(i) for i in range(nshow)])\n",
    "axes[-1, 0].format(yformatter='deg')\n",
    "myplt.set_labels(axes[:, 0], [r'$\\beta_{1}$ [m]', 'u', r'$\\nu$'], 'ylabel')"
   ]
  }
 ],
 "metadata": {
  "kernelspec": {
   "display_name": "Python 3",
   "language": "python",
   "name": "python3"
  },
  "language_info": {
   "codemirror_mode": {
    "name": "ipython",
    "version": 3
   },
   "file_extension": ".py",
   "mimetype": "text/x-python",
   "name": "python",
   "nbconvert_exporter": "python",
   "pygments_lexer": "ipython3",
   "version": "3.7.6"
  },
  "toc": {
   "base_numbering": 1,
   "nav_menu": {},
   "number_sections": true,
   "sideBar": true,
   "skip_h1_title": true,
   "title_cell": "Table of Contents",
   "title_sidebar": "Contents",
   "toc_cell": false,
   "toc_position": {
    "height": "calc(100% - 180px)",
    "left": "10px",
    "top": "150px",
    "width": "273.3823547363281px"
   },
   "toc_section_display": true,
   "toc_window_display": true
  },
  "toc-autonumbering": true,
  "toc-showcode": false,
  "toc-showmarkdowntxt": false,
  "toc-showtags": false
 },
 "nbformat": 4,
 "nbformat_minor": 4
}
