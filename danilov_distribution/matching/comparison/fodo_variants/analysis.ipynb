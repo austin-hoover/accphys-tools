{
 "cells": [
  {
   "cell_type": "markdown",
   "metadata": {},
   "source": [
    "# Matched envelope comparison "
   ]
  },
  {
   "cell_type": "markdown",
   "metadata": {},
   "source": [
    "This notebook generates some plots used in [this paper](https://doi.org/10.1103/PhysRevAccelBeams.24.044201)."
   ]
  },
  {
   "cell_type": "markdown",
   "metadata": {},
   "source": [
    "## Setup"
   ]
  },
  {
   "cell_type": "markdown",
   "metadata": {},
   "source": [
    "### Imports "
   ]
  },
  {
   "cell_type": "code",
   "execution_count": null,
   "metadata": {},
   "outputs": [],
   "source": [
    "import sys\n",
    "import numpy as np\n",
    "import pandas as pd\n",
    "import matplotlib\n",
    "from matplotlib import pyplot as plt\n",
    "import proplot as plot\n",
    "\n",
    "sys.path.append('/Users/46h/Research/code/accphys') \n",
    "from tools import beam_analysis as ba\n",
    "from tools import plotting as myplt\n",
    "from tools.plotting import save, set_labels\n",
    "from tools import animation as myanim\n",
    "from tools import utils\n",
    "from tools.utils import show, play, file_exists\n",
    "from tools.accphys_utils import get_phase_adv\n",
    "from tools.plot_utils import moment_label, moment_label_string"
   ]
  },
  {
   "cell_type": "markdown",
   "metadata": {},
   "source": [
    "## Settings"
   ]
  },
  {
   "cell_type": "code",
   "execution_count": null,
   "metadata": {},
   "outputs": [],
   "source": [
    "animate = False\n",
    "plt_kws = dict(legend=False, xlabel='s / L')\n",
    "plot.rc['grid.alpha'] = 0.04\n",
    "plot.rc['figure.facecolor'] = 'white'\n",
    "plot.rc['cycle'] = 'default'\n",
    "plot.rc['savefig.dpi'] = 'figure'\n",
    "plot.rc['animation.html'] = 'jshtml'\n",
    "\n",
    "cmap = plot.Colormap('fire_r')\n",
    "cmap_range = (0, 0.9)\n",
    "dpi = 500"
   ]
  },
  {
   "cell_type": "markdown",
   "metadata": {},
   "source": [
    "## Read Data"
   ]
  },
  {
   "cell_type": "code",
   "execution_count": null,
   "metadata": {},
   "outputs": [],
   "source": [
    "latnames = [f.rstrip() for f in open('_output/data/latnames.txt', 'r')]\n",
    "perveances = np.load('_output/data/perveances.npy')\n",
    "\n",
    "tracked_params_dict = dict()\n",
    "transfer_mats_dict = dict()\n",
    "stats_dict = dict()\n",
    "positions_dict = dict()"
   ]
  },
  {
   "cell_type": "code",
   "execution_count": null,
   "metadata": {},
   "outputs": [],
   "source": [
    "for latname in latnames:\n",
    "    for mode in (1, 2):\n",
    "        key = latname + '_mode{}'.format(mode)\n",
    "        print('Loading', key, '...')\n",
    "\n",
    "        # Load the list of tracked envelope parameters and transfer matrices        \n",
    "        tracked_params_list = np.load('_output/data/tracked_params_list_{}_{}.npy'.format(latname, mode))\n",
    "        tranfer_mat_list = np.load('_output/data/transfer_mats_{}_{}.npy'.format(latname, mode))\n",
    "        positions = np.load('_output/data/positions_{}.npy'.format(latname))\n",
    "        \n",
    "        # For some reason there are three multiple nodes at the same position at the end\n",
    "        # of the lattice, so strip the last two.\n",
    "        positions = positions[:-2]\n",
    "        tracked_params_list = tracked_params_list[:, :-2, :]\n",
    "        \n",
    "        # For the skew lattice, the last position gives NaN for the envelope parameters.\n",
    "        # I think the beam area becomes exactly zero at this point.\n",
    "        if key == 'fodo_skew_mode2':\n",
    "            positions = positions[:-1]\n",
    "            tracked_params_list = tracked_params_list[:, :-1, :]\n",
    "        \n",
    "        # Compute the beam statistics for each set of envelope parameters in the list\n",
    "        stats_list = []\n",
    "        for i, tracked_params in enumerate(tracked_params_list):\n",
    "            stats = ba.Stats(mode)\n",
    "            stats.read_env(tracked_params)\n",
    "            beta_x = stats.twiss2D.loc[:, 'bx'].values\n",
    "            beta_y = stats.twiss2D.loc[:, 'by'].values\n",
    "            stats.twiss2D['mux'] = get_phase_adv(beta_x, positions, units='deg')\n",
    "            stats.twiss2D['muy'] = get_phase_adv(beta_y, positions, units='deg')\n",
    "            \n",
    "            # nu is undefined when <x^2> or <y^2> are zero; set it to 90 degrees in this case\n",
    "            if latname.startswith('fodo_split') and perveances[i] == 0:\n",
    "                stats.twiss4D['nu'] = 90.0\n",
    "                \n",
    "            for df in stats.dfs():\n",
    "                df['s'] = positions\n",
    "                df['s/L'] = positions / positions[-1]\n",
    "            stats_list.append(stats)\n",
    "            \n",
    "        stats_dict[key] = stats_list\n",
    "        tracked_params_dict[key] = tracked_params_list\n",
    "        transfer_mats_dict[key] = tranfer_mat_list\n",
    "        positions_dict[key] = positions\n",
    "        \n",
    "print('Done.')"
   ]
  },
  {
   "cell_type": "code",
   "execution_count": null,
   "metadata": {},
   "outputs": [],
   "source": [
    "_cycler = myplt.colorcycle(cmap, len(perveances), cmap_range)"
   ]
  },
  {
   "cell_type": "markdown",
   "metadata": {},
   "source": [
    "## Plotting"
   ]
  },
  {
   "cell_type": "markdown",
   "metadata": {},
   "source": [
    "### Phase space projections at lattice entrance"
   ]
  },
  {
   "cell_type": "code",
   "execution_count": null,
   "metadata": {},
   "outputs": [],
   "source": [
    "for key, tracked_params_list in tracked_params_dict.items():\n",
    "    print('Plotting', key, '...')\n",
    "    axes = myplt.corner_env(tracked_params_list[:, 0, :], figsize=5, pad=0.25, lw=1, \n",
    "                            cmap=cmap, cmap_range=cmap_range)\n",
    "    axes[0, 1].annotate('s = 0', xy=(0.5, 0.5), xycoords='axes fraction')\n",
    "    plt.savefig('_output/figures/corner_vs_sc_{}.png'.format(key), dpi=500, facecolor='white')\n",
    "    plt.close()\n",
    "print('Done.')"
   ]
  },
  {
   "cell_type": "markdown",
   "metadata": {},
   "source": [
    "### Twiss parameters within lattice"
   ]
  },
  {
   "cell_type": "code",
   "execution_count": null,
   "metadata": {},
   "outputs": [],
   "source": [
    "grouped_keys = [('fodo_mode1', 'fodo_mode2'), \n",
    "                ('fodo_split_mode1', 'fodo_split_mode2'), \n",
    "                ('fodo_skew_mode1', 'fodo_skew_mode2'), \n",
    "                ('fodo_sol_mode1', 'fodo_sol_mode2')]"
   ]
  },
  {
   "cell_type": "code",
   "execution_count": null,
   "metadata": {},
   "outputs": [],
   "source": [
    "for keys in grouped_keys:\n",
    "    fig, axes = plot.subplots(nrows=3, ncols=2, figsize=(6.5, 6), spany=False, aligny=True)\n",
    "    axes.set_prop_cycle(_cycler)\n",
    "    for j, key in enumerate(keys):\n",
    "        print('Plotting', key, '...')\n",
    "        stats_list = stats_dict[key]\n",
    "        for stats in stats_list:\n",
    "            lw = 1.1\n",
    "            stats.moments[['s/L','x_rms']].plot('s/L', ax=axes[0, j], lw=lw, **plt_kws)\n",
    "            stats.twiss2D[['s/L','ex']].plot('s/L', ax=axes[1, j], lw=lw, **plt_kws)\n",
    "            stats.twiss4D[['s/L','nu']].plot('s/L', ax=axes[2, j], lw=lw, **plt_kws)\n",
    "        for stats in stats_list:\n",
    "            stats.moments[['s/L','y_rms']].plot('s/L', ax=axes[0, j], ls='--', zorder=0, legend=False, lw=1.1)\n",
    "            stats.twiss2D[['s/L','ey']].plot('s/L', ax=axes[1, j], ls='--', zorder=0, legend=False, lw=1.1)\n",
    "    axes[2, 0].format(yformatter='deg')\n",
    "    axes.format(grid=False, toplabels=['Solution 1', 'Solution 2'])\n",
    "    set_labels(axes[:, 0], ['Beam size [mm]', r'Emittance [$mm \\cdot mrad$]', r'$\\nu$'], 'ylabel')\n",
    "    cbar = fig.colorbar(cmap, width=0.075, ticks=[0], label='Perveance', pad=3)\n",
    "    cbar.set_label('Perveance', labelpad=-5)\n",
    "    # Save\n",
    "    tag = key[:-6]\n",
    "    plt.savefig('_output/figures/matched_traj_{}.png'.format(tag), dpi=500, facecolor='white')\n",
    "    plt.close()\n",
    "print('Done.')"
   ]
  },
  {
   "cell_type": "markdown",
   "metadata": {},
   "source": [
    "## Combined plot "
   ]
  },
  {
   "cell_type": "markdown",
   "metadata": {},
   "source": [
    "Build specialized plot for the paper."
   ]
  },
  {
   "cell_type": "code",
   "execution_count": null,
   "metadata": {},
   "outputs": [],
   "source": [
    "def sci_notation(num, decimal_digits=1, precision=None, exponent=None):\n",
    "    \"\"\"\n",
    "    Returns a string representation of the scientific\n",
    "    notation of the given number formatted for use with\n",
    "    LaTeX or Mathtext, with specified number of significant\n",
    "    decimal digits and precision (number of decimal digits\n",
    "    to show). The exponent to be used can also be specified\n",
    "    explicitly.\n",
    "    \n",
    "    Found here: https://stackoverflow.com/questions/18311909/how-do-i-annotate-with-power-of-ten-formatting\n",
    "    \"\"\"\n",
    "    if exponent is None:\n",
    "        exponent = int(np.floor(np.log10(abs(num))))\n",
    "    coeff = round(num / float(10**exponent), decimal_digits)\n",
    "    if precision is None:\n",
    "        precision = decimal_digits\n",
    "    return r'${0:.{2}f} \\cdot 10^{{{1:d}}}$'.format(coeff, exponent, precision)"
   ]
  },
  {
   "cell_type": "code",
   "execution_count": null,
   "metadata": {},
   "outputs": [],
   "source": [
    "exponent = int(np.floor(np.log10(perveances[-1])))\n",
    "perveances_red = perveances / 10**exponent\n",
    "cbar_labels = ['{:.0f}'.format(Q) for Q in perveances_red]"
   ]
  },
  {
   "cell_type": "code",
   "execution_count": null,
   "metadata": {},
   "outputs": [],
   "source": [
    "def plot_combined(key, text='s / L = 0', colorbar=True):\n",
    "    \"\"\"Plot 3 beam parameters as a function of s next to the transverse phase\n",
    "    space projections.\"\"\"\n",
    "\n",
    "    # Create figure (constrained_layout > tight_layout)\n",
    "    fig, axes = plt.subplots(3, 4, figsize=(7.35, 4.5), constrained_layout=True,\n",
    "                             gridspec_kw=dict(width_ratios=[1, 1, 1, 1.5]))\n",
    "    left, right = axes[:, :-1], axes[:, -1] \n",
    "    myplt.despine(left.flat)\n",
    "    myplt.make_lower_triangular(left)\n",
    "\n",
    "    # Share axes\n",
    "    for col in axes.T:\n",
    "        myplt.set_share_axes(col, sharex=True)\n",
    "    for row in left:\n",
    "        myplt.set_share_axes(row, sharey=True)\n",
    "\n",
    "    # Set color cycle\n",
    "    for ax in left.flat:\n",
    "        ax.set_prop_cycle(_cycler)\n",
    "\n",
    "    # Get ellipse boundary data\n",
    "    params_list = tracked_params_dict[key][:, 0, :] \n",
    "    coords = [ba.get_ellipse_coords(params) for params in params_list]\n",
    "\n",
    "    # Set up figure\n",
    "    umax, upmax = 1.25 * myplt.max_u_up_global(coords)\n",
    "    limits = 2 * [(-umax, umax), (-upmax, upmax)]\n",
    "    labels = myplt.get_labels(units='mm-mrad')\n",
    "    loc_u, loc_up = matplotlib.ticker.MaxNLocator(3), matplotlib.ticker.MaxNLocator(3)\n",
    "    mloc_u, mloc_up = matplotlib.ticker.AutoMinorLocator(4), matplotlib.ticker.AutoMinorLocator(4)\n",
    "    locators = 2 * [loc_u, loc_up]\n",
    "    mlocators = 2 * [mloc_u, mloc_up]\n",
    "    myplt.set_labels(left[-1, :], labels[:-1], 'xlabel')\n",
    "    myplt.set_labels(left[:, 0], labels[1:], 'ylabel')\n",
    "    myplt.set_labels(right, ['Beam size [mm]', r'Emittance [$mm \\, mrad$]', r'$\\nu$'], 'ylabel')\n",
    "    fig.align_labels(left)\n",
    "#     fig.align_ylabels(right)\n",
    "    myplt.set_limits(left[:, 0], limits[1:], 'y')\n",
    "    myplt.set_limits(left[-1, :], limits[:-1], 'x')\n",
    "    for row, loc, mloc in zip(left, locators[1:], mlocators[1:]):\n",
    "        for ax in row:\n",
    "            ax.yaxis.set_major_locator(loc)\n",
    "            ax.yaxis.set_minor_locator(mloc)\n",
    "    for col, loc, mloc in zip(left.T, locators, mlocators):\n",
    "        for ax in col:\n",
    "            ax.xaxis.set_major_locator(loc)\n",
    "            ax.xaxis.set_minor_locator(mloc)\n",
    "    right[-1].yaxis.set_major_formatter(matplotlib.ticker.StrMethodFormatter(u'{x:.0f}°'))\n",
    "    axes[0, 1].annotate(text, xy=(0.5, 0.5), xycoords='axes fraction', horizontalalignment='center')\n",
    "\n",
    "    # Plot envelope data\n",
    "    for k, X in enumerate(coords):\n",
    "        X_horiz, X_vert = X[:, :-1], X[:, 1:]\n",
    "        for i in range(3):\n",
    "            for j in range(i + 1):\n",
    "                horiz_max = np.max(X_horiz[:, j])\n",
    "                vert_max = np.max(X_vert[:, i])\n",
    "                tol = 1e-3\n",
    "                marker = 'o' if (horiz_max < tol and vert_max < tol) else None\n",
    "                left[i, j].plot(X_horiz[:, j], X_vert[:, i], lw=1, marker=marker, ms=0.3, zorder=10, fillstyle='full')\n",
    "\n",
    "    # Plot parameters as a function of s\n",
    "    plt_kws.setdefault('lw', 1)\n",
    "    stats_list = stats_dict[key]\n",
    "    for ax in right:\n",
    "        ax.set_prop_cycle(_cycler)\n",
    "    for stats in stats_list:\n",
    "        stats.moments[['s/L','x_rms']].plot('s/L', ax=right[0], **plt_kws)\n",
    "        stats.twiss2D[['s/L','ex']].plot('s/L', ax=right[1], **plt_kws)\n",
    "        stats.twiss4D[['s/L','nu']].plot('s/L', ax=right[2], yunits='degrees', **plt_kws)\n",
    "    right[0].set_prop_cycle(_cycler)\n",
    "    for stats in stats_list:\n",
    "        stats.moments[['s/L','y_rms']].plot('s/L', ax=right[0], ls='--', zorder=0, legend=False, lw=0.8)\n",
    "        stats.twiss2D[['s/L','ey']].plot('s/L', ax=right[1], ls='--', zorder=0, legend=False, lw=0.8)\n",
    "\n",
    "    for ax in axes.flat:\n",
    "        ax.grid(False)       \n",
    "    \n",
    "    if colorbar:\n",
    "        norm = matplotlib.colors.Normalize(vmin=cmap_range[0], vmax=cmap_range[1])\n",
    "        cbar = fig.colorbar(matplotlib.cm.ScalarMappable(norm, cmap), ax=axes[:, -1].ravel().tolist(), \n",
    "                            aspect=100, pad=0.005)\n",
    "        cbar.set_ticks(np.linspace(0, 1, len(cbar_labels)))\n",
    "        cbar.set_ticklabels(cbar_labels)\n",
    "        cbar.ax.tick_params(labelsize=8)\n",
    "        cbar.set_label(r'$10^{-5}$  Q', labelpad=7)\n",
    "    return axes\n",
    "\n",
    "plot_combined('fodo_mode1');"
   ]
  },
  {
   "cell_type": "code",
   "execution_count": null,
   "metadata": {},
   "outputs": [],
   "source": [
    "for keys in grouped_keys:\n",
    "    for key in keys:\n",
    "        print('Plotting', key, '...')\n",
    "        plot_combined(key, text='s / L = 0', colorbar=True)\n",
    "        plt.savefig('_output/figures/combined_{}.png'.format(key), dpi=dpi, facecolor='white')\n",
    "        plt.close()"
   ]
  },
  {
   "cell_type": "markdown",
   "metadata": {},
   "source": [
    "### Animation"
   ]
  },
  {
   "cell_type": "code",
   "execution_count": null,
   "metadata": {},
   "outputs": [],
   "source": [
    "if animate:\n",
    "    key = 'fodo_mode1'\n",
    "    tracked_params_list = tracked_params_dict[key]\n",
    "    anim = myanim.corner_env(tracked_params_list, skip=9, cmap=cmap, cmap_range=cmap_range, fps=10,\n",
    "                             text_vals=np.linspace(0, 1, len(tracked_params_list[0])), text_fmt='s / L = {:.2f}')\n",
    "    play(anim)"
   ]
  },
  {
   "cell_type": "markdown",
   "metadata": {},
   "source": [
    "## Effective transfer matrix "
   ]
  },
  {
   "cell_type": "markdown",
   "metadata": {},
   "source": [
    "### Eigenvalues"
   ]
  },
  {
   "cell_type": "code",
   "execution_count": null,
   "metadata": {},
   "outputs": [],
   "source": [
    "nrows, ncols = 4, 3\n",
    "s = 17\n",
    "fontsize = 7\n",
    "marker = 'o'\n",
    "\n",
    "fig, axes = plot.subplots(nrows=4, ncols=3, figsize=(5.75, 6), hspace=0, wspace=0)\n",
    "myplt.set_labels(axes[0, :], ['Q = {:.2e}'.format(Q) for Q in perveances[:3]], 'title')\n",
    "\n",
    "# Plot unit circle in background\n",
    "psi = np.linspace(0, 2*np.pi, 50)\n",
    "x_circle, y_circle = np.cos(psi), np.sin(psi)\n",
    "for ax in axes:\n",
    "    ax.plot(x_circle, y_circle, 'k--', lw=1, zorder=0)\n",
    "    \n",
    "# Plot eigenvalues\n",
    "keys = transfer_mats_dict.keys()\n",
    "keys_solution1 = [key for key in keys if key.endswith('1')]\n",
    "keys_solution2 = [key for key in keys if key.endswith('2')]\n",
    "for i, key in enumerate(keys_solution1):\n",
    "    transfer_mat_list = transfer_mats_dict[key]\n",
    "    for ax, M in zip(axes[i, :], transfer_mat_list[:3]):\n",
    "        eigvals, eigvecs = np.linalg.eig(M)\n",
    "        ax.scatter(eigvals.real, eigvals.imag,  s=s, c=('r', 'r', 'b', 'b'), marker=marker, zorder=1)\n",
    "        mu1, _, mu2, _ = np.degrees(np.arccos(eigvals.real))\n",
    "        split = 0.05\n",
    "        ax.annotate(r'$\\mu_1 = {:.2f}\\degree$'.format(mu1), xy=(0.5, 0.48 + split), \n",
    "                    xycoords='axes fraction', horizontalalignment='center', fontsize=fontsize)\n",
    "        ax.annotate(r'$\\mu_2 = {:.2f}\\degree$'.format(mu2), xy=(0.5, 0.48 - split), \n",
    "                    xycoords='axes fraction', horizontalalignment='center', fontsize=fontsize)\n",
    "        \n",
    "# Formatting\n",
    "scale = 1.5\n",
    "axes.format(\n",
    "    grid=False,\n",
    "    xlim=(-scale, scale), ylim=(-scale, scale), xlabel='Real', ylabel='Imag',\n",
    "    xticks=[-1, 0, 1], yticks=[-1, 0, 1],\n",
    "    leftlabels=['FODO', 'FODO\\n(split tunes)', 'FODO\\n(skew quads)', 'FODO\\n(solenoid insert)'], \n",
    "    xminorlocator='null', yminorlocator='null'\n",
    ")\n",
    "        \n",
    "plt.savefig('_output/figures/eigvals.png', dpi=dpi, facecolor='w')"
   ]
  }
 ],
 "metadata": {
  "kernelspec": {
   "display_name": "Python 3",
   "language": "python",
   "name": "python3"
  },
  "language_info": {
   "codemirror_mode": {
    "name": "ipython",
    "version": 3
   },
   "file_extension": ".py",
   "mimetype": "text/x-python",
   "name": "python",
   "nbconvert_exporter": "python",
   "pygments_lexer": "ipython3",
   "version": "3.7.6"
  },
  "toc": {
   "base_numbering": 1,
   "nav_menu": {},
   "number_sections": true,
   "sideBar": true,
   "skip_h1_title": true,
   "title_cell": "Table of Contents",
   "title_sidebar": "Contents",
   "toc_cell": false,
   "toc_position": {
    "height": "calc(100% - 180px)",
    "left": "10px",
    "top": "150px",
    "width": "273.3823547363281px"
   },
   "toc_section_display": true,
   "toc_window_display": true
  },
  "toc-autonumbering": true,
  "toc-showcode": false,
  "toc-showmarkdowntxt": false,
  "toc-showtags": false
 },
 "nbformat": 4,
 "nbformat_minor": 4
}
