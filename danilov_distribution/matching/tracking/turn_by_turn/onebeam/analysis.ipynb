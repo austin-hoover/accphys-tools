{
 "cells": [
  {
   "cell_type": "markdown",
   "metadata": {},
   "source": [
    "# Setup"
   ]
  },
  {
   "cell_type": "markdown",
   "metadata": {},
   "source": [
    "## Imports "
   ]
  },
  {
   "cell_type": "code",
   "execution_count": null,
   "metadata": {},
   "outputs": [],
   "source": [
    "import sys\n",
    "import numpy as np\n",
    "import pandas as pd\n",
    "import matplotlib\n",
    "from matplotlib import pyplot as plt\n",
    "from matplotlib.lines import Line2D\n",
    "from matplotlib import animation\n",
    "import proplot as plot\n",
    "\n",
    "sys.path.append('/Users/46h/Research/code/accphys') \n",
    "from tools import beam_analysis as ba\n",
    "from tools import plotting as myplt\n",
    "from tools.plotting import save, set_labels\n",
    "from tools import animation as myanim\n",
    "from tools import utils\n",
    "from tools.utils import show, play, file_exists\n",
    "from tools.accphys_utils import get_phase_adv\n",
    "from tools.plot_utils import moment_label, moment_label_string"
   ]
  },
  {
   "cell_type": "markdown",
   "metadata": {},
   "source": [
    "## Settings"
   ]
  },
  {
   "cell_type": "markdown",
   "metadata": {},
   "source": [
    "### Plotting "
   ]
  },
  {
   "cell_type": "code",
   "execution_count": null,
   "metadata": {},
   "outputs": [],
   "source": [
    "# Plotting\n",
    "plt_kws = dict(\n",
    "    lw=1, \n",
    "    marker='.',\n",
    "    markersize=3,\n",
    "    legend=False,\n",
    ")\n",
    "plot.rc['figure.facecolor'] = 'white'\n",
    "plot.rc['grid.alpha'] = 0.04\n",
    "plot.rc['savefig.dpi'] = 'figure' \n",
    "plot.rc['animation.html'] = 'jshtml'\n",
    "dpi = 500\n",
    "\n",
    "# Animation\n",
    "animate = True\n",
    "skip = 9\n",
    "fps = 3\n",
    "t0, t1 = 0, -1 # initial/final frame"
   ]
  },
  {
   "cell_type": "code",
   "execution_count": null,
   "metadata": {},
   "outputs": [],
   "source": [
    "width, height = 3.5, 2.5\n",
    "\n",
    "def setup_figure(opt=1):\n",
    "    \"\"\"Convenience function to create subplots.\"\"\"\n",
    "    if opt == 1:\n",
    "        nrows, ncols, figsize = 1, 1, (width, height)\n",
    "    elif opt == 2:\n",
    "        nrows, ncols, figsize = 3, 1, (width, 2*height)\n",
    "    elif opt == 3:\n",
    "        nrows, ncols, figsize = 3, 2, (1.6*width, 2*height)\n",
    "    elif opt == 4:\n",
    "        nrows, ncols, figsize = 1, 2, (7, 2.5)\n",
    "    fig, axes = plot.subplots(nrows=nrows, ncols=ncols, figsize=figsize, spany=False, aligny=True)\n",
    "    axes.format(xlabel='Turn number')\n",
    "    return fig, axes"
   ]
  },
  {
   "cell_type": "markdown",
   "metadata": {},
   "source": [
    "### Files "
   ]
  },
  {
   "cell_type": "code",
   "execution_count": null,
   "metadata": {},
   "outputs": [],
   "source": [
    "# Data file locations\n",
    "files = {\n",
    "    'env_params': '_output/data/envelope/env_params.npy',\n",
    "    'testbunch_coords': '_output/data/envelope/testbunch_coords.npy',\n",
    "    'bunch_coords': '_output/data/bunch/bunch_coords.npy',\n",
    "    'bunch_moments': '_output/data/bunch/bunch_moments.npy',\n",
    "    'transfer_matrix': '_output/data/transfer_matrix.npy'\n",
    "}\n",
    "# Check if files exist\n",
    "files_exist = {key: file_exists(file) for key, file in files.items()}\n",
    "\n",
    "# Directories in which to save the figures\n",
    "dirs = {\n",
    "    'env': './_output/figures/envelope/',\n",
    "    'bunch': './_output/figures/bunch/',\n",
    "    'comparison': './_output/figures/comparison/'\n",
    "}"
   ]
  },
  {
   "cell_type": "markdown",
   "metadata": {},
   "source": [
    "# Envelope"
   ]
  },
  {
   "cell_type": "code",
   "execution_count": null,
   "metadata": {},
   "outputs": [],
   "source": [
    "mode = int(np.loadtxt('_output/data/mode.txt'))\n",
    "env_params = np.load(files['env_params'])\n",
    "\n",
    "env_stats = ba.Stats(mode)\n",
    "env_stats.read_env(env_params)"
   ]
  },
  {
   "cell_type": "markdown",
   "metadata": {},
   "source": [
    "## Twiss parameters "
   ]
  },
  {
   "cell_type": "markdown",
   "metadata": {},
   "source": [
    "### 2D Twiss"
   ]
  },
  {
   "cell_type": "code",
   "execution_count": null,
   "metadata": {},
   "outputs": [],
   "source": [
    "fig, axes = setup_figure(2);\n",
    "columns = (['bx','by'], ['ax','ay'], ['ex','ey'])\n",
    "ylabels = (r'$\\beta$ [m]', r'$\\alpha$ [rad]', r'$\\varepsilon$ [mm $\\cdot$ mrad]')\n",
    "for ax, col in zip(axes, columns):\n",
    "    env_stats.twiss2D[col].plot(ax=ax, **plt_kws)\n",
    "set_labels(axes, ylabels, 'ylabel')\n",
    "save('twiss2D', dirs['env'], dpi=dpi)"
   ]
  },
  {
   "cell_type": "markdown",
   "metadata": {},
   "source": [
    "### 4D Twiss "
   ]
  },
  {
   "cell_type": "code",
   "execution_count": null,
   "metadata": {},
   "outputs": [],
   "source": [
    "fig, axes = setup_figure(2)\n",
    "env_stats.twiss4D[['bx','by']].plot(ax=axes[0], **plt_kws)\n",
    "env_stats.twiss4D[['ax','ay']].plot(ax=axes[1], **plt_kws)\n",
    "env_stats.twiss4D[['u']].plot(ax=axes[2], color='k', **plt_kws)\n",
    "set_labels(axes, [r'$\\beta$ [m]', r'$\\alpha$ [rad]', r'$u$'], 'ylabel')\n",
    "save('twiss4D', dirs['env'], dpi=dpi)"
   ]
  },
  {
   "cell_type": "markdown",
   "metadata": {},
   "source": [
    "### Phase difference (nu)"
   ]
  },
  {
   "cell_type": "code",
   "execution_count": null,
   "metadata": {},
   "outputs": [],
   "source": [
    "fig, ax = setup_figure(1)\n",
    "env_stats.twiss4D['nu'].plot(color='k', ax=ax, **plt_kws)\n",
    "ax.format(ylabel=r'$\\nu$', yformatter='deg')\n",
    "save('twiss4D-nu', dirs['env'], dpi=dpi)"
   ]
  },
  {
   "cell_type": "markdown",
   "metadata": {},
   "source": [
    "### Emittance "
   ]
  },
  {
   "cell_type": "code",
   "execution_count": null,
   "metadata": {},
   "outputs": [],
   "source": [
    "fig, ax = plot.subplots(figsize=(4.5, 2.5))\n",
    "env_stats.twiss2D[['ex','ey']].plot(ax=ax, **plt_kws)\n",
    "env_stats.twiss4D[['e1','e2']].plot(ax=ax, **plt_kws)\n",
    "ax.format(ylabel=r'$\\varepsilon$ [mm $\\cdot$ mrad]')\n",
    "ax.legend(labels=[r'$\\varepsilon_x$', r'$\\varepsilon_y$', r'$\\varepsilon_1$', r'$\\varepsilon_2$'], \n",
    "          ncols=1, loc=(1.01, 0))\n",
    "save('emittance', dirs['env'], dpi=dpi)"
   ]
  },
  {
   "cell_type": "markdown",
   "metadata": {},
   "source": [
    "## Moments "
   ]
  },
  {
   "cell_type": "code",
   "execution_count": null,
   "metadata": {},
   "outputs": [],
   "source": [
    "fig, ax = setup_figure(1)\n",
    "env_stats.moments[['x_rms','y_rms']].plot(ax=ax, **plt_kws)\n",
    "ax.format(ylabel='Beam size [mm]')\n",
    "save('beamsize', dirs['env'], dpi=dpi)"
   ]
  },
  {
   "cell_type": "code",
   "execution_count": null,
   "metadata": {},
   "outputs": [],
   "source": [
    "fig, ax = setup_figure(1)\n",
    "env_stats.moments[['xp_rms','yp_rms']].plot(ax=ax, **plt_kws)\n",
    "ax.format(ylabel='Beam div. [mrad]')\n",
    "save('beamdiv', dirs['env'], dpi=dpi)"
   ]
  },
  {
   "cell_type": "code",
   "execution_count": null,
   "metadata": {},
   "outputs": [],
   "source": [
    "fig, axes = plot.subplots(nrows=4, ncols=4, sharey=False, figsize=(8, 6), \n",
    "                          spany=False, aligny=True)\n",
    "myplt.make_lower_triangular(axes)\n",
    "axes.format(xlabel='Turn number', suptitle='Transverse moments', titleborder=True)\n",
    "for i in range(4):\n",
    "    for j in range(i + 1):\n",
    "        ax = axes[i, j]\n",
    "        col = moment_label(i, j)\n",
    "        env_stats.moments[col].plot(ax=ax, color='k', **plt_kws)\n",
    "        ax.format(title=moment_label_string(i, j))\n",
    "set_labels(axes[0:, 0], [r'[mm$^2$]', r'[mm$\\cdot$mrad]', r'[mm$^2$]', r'mm$\\cdot$mrad'], 'ylabel')\n",
    "set_labels(axes[1:, 1], [r'[mrad$^2$]', r'[mm$\\cdot$mrad]', r'[mrad$^2$]'], 'ylabel')\n",
    "set_labels(axes[2:, 2], [r'[mm$^2$]', r'[mm$\\cdot$mrad]'], 'ylabel')\n",
    "set_labels(axes[3:, 3], [r'[mrad$^2$]'], 'ylabel')\n",
    "save('all_moments', dirs['env'], dpi=dpi)"
   ]
  },
  {
   "cell_type": "code",
   "execution_count": null,
   "metadata": {},
   "outputs": [],
   "source": [
    "fig, axes = plot.subplots(nrows=4, ncols=4, sharey=False, figsize=(8, 6), \n",
    "                          spany=False, aligny=True)\n",
    "myplt.make_lower_triangular(axes)\n",
    "axes.format(xlabel='Turn number', suptitle='Transverse moments', titleborder=True)\n",
    "for i in range(4):\n",
    "    for j in range(i + 1):\n",
    "        ax = axes[i, j]\n",
    "        col = moment_label(i, j)\n",
    "        env_stats.corr[col].plot(ax=ax, color='k', **plt_kws)\n",
    "        ax.format(title=moment_label_string(i, j))\n",
    "save('all_correlations', dirs['env'], dpi=dpi)"
   ]
  },
  {
   "cell_type": "markdown",
   "metadata": {},
   "source": [
    "## Real space orientation"
   ]
  },
  {
   "cell_type": "code",
   "execution_count": null,
   "metadata": {},
   "outputs": [],
   "source": [
    "fig, axes = setup_figure(2)\n",
    "env_stats.realspace[['angle']].plot(ax=axes[0], color='k', **plt_kws)\n",
    "env_stats.realspace[['cx','cy']].plot(ax=axes[1], **plt_kws)\n",
    "env_stats.realspace[['area_rel']].plot(ax=axes[2], color='k', **plt_kws)\n",
    "set_labels(axes, ['tilt angle', 'ellipse axes [mm]', 'area [frac. change]'], 'ylabel')\n",
    "axes.format(xlabel='Turn number')\n",
    "axes[0].format(yformatter='deg')\n",
    "save('beam_dims', dirs['env'], dpi=dpi)"
   ]
  },
  {
   "cell_type": "markdown",
   "metadata": {},
   "source": [
    "## Tunes "
   ]
  },
  {
   "cell_type": "code",
   "execution_count": null,
   "metadata": {},
   "outputs": [],
   "source": [
    "env_coords = np.array([ba.get_ellipse_coords(p) for p in env_params])\n",
    "fig, ax = plot.subplots(figsize=(6, 2))\n",
    "myplt.fft(ax, env_coords[:, 0, 0], env_coords[:, 0, 2])\n",
    "ax.legend(ncols=1)\n",
    "save('fft', dirs['env'], dpi=dpi);"
   ]
  },
  {
   "cell_type": "markdown",
   "metadata": {},
   "source": [
    "## Phase space projections "
   ]
  },
  {
   "cell_type": "code",
   "execution_count": null,
   "metadata": {},
   "outputs": [],
   "source": [
    "axes = myplt.corner_env(\n",
    "    env_params[[0, -1]], cmap=plot.Colormap(('red7', 'blue7')),\n",
    "    legend_kws=dict(labels=['initial','final'], loc=(1, 1))\n",
    ")\n",
    "save('init_final', dirs['env'], dpi=dpi)\n",
    "save('init_final', dirs['env'], dpi=dpi)"
   ]
  },
  {
   "cell_type": "code",
   "execution_count": null,
   "metadata": {},
   "outputs": [],
   "source": [
    "if animate:\n",
    "    anim = myanim.corner_env(env_params[t0:t1], skip=skip, show_init=True, \n",
    "                             fps=fps, figsize=5, text_fmt='Turn = {}')\n",
    "    play(anim)"
   ]
  },
  {
   "cell_type": "markdown",
   "metadata": {},
   "source": [
    "## Transfer matrix "
   ]
  },
  {
   "cell_type": "code",
   "execution_count": null,
   "metadata": {},
   "outputs": [],
   "source": [
    "if files_exist['transfer_matrix']:\n",
    "    M = np.load(files['transfer_matrix'])\n",
    "    M_eigvals, M_eigvecs = np.linalg.eig(M)\n",
    "    M_eigtunes = np.degrees(np.arccos(M_eigvals.real))\n",
    "\n",
    "    show(M, 'M')\n",
    "    print()\n",
    "    show(M_eigvals[[0, 2]], 'eigenvalues')\n",
    "    print()\n",
    "    show(M_eigtunes[[0, 2]], 'phase advances [deg]')"
   ]
  },
  {
   "cell_type": "code",
   "execution_count": null,
   "metadata": {},
   "outputs": [],
   "source": [
    "if files_exist['transfer_matrix']:\n",
    "    \n",
    "    fig, axes = plot.subplots(ncols=2, figsize=(5.25, 2.5), share=False, span=False)\n",
    "    axes.format(grid=False)\n",
    "    myplt.despine(axes)\n",
    "    ax1, ax2 = axes\n",
    "\n",
    "    # Plot eigenvalues in complex plane\n",
    "    psi = np.linspace(0, 2*np.pi, 50)\n",
    "    x_circ, y_circ = np.cos(psi), np.sin(psi)\n",
    "    ax1.plot(x_circ, y_circ, 'k--', zorder=0)\n",
    "    ax1.scatter(M_eigvals.real, M_eigvals.imag, c=['r','r','b','b'])\n",
    "    scale = 1.25\n",
    "    ax1.format(\n",
    "        xticks=[-1, -0.5, 0, 0.5, 1], yticks=[-1, -0.5, 0, 0.5, 1], \n",
    "        ylim=(-scale, scale), xlim=(-scale, scale),\n",
    "        xlabel='Real', ylabel='Imag', title='Eigenvalues')\n",
    "    ax1.annotate(r'$\\mu_1 = {:.2f}\\degree$'.format(M_eigtunes[0]), xy=(0, +0.1), horizontalalignment='center')\n",
    "    ax1.annotate(r'$\\mu_2 = {:.2f}\\degree$'.format(M_eigtunes[2]), xy=(0, -0.1), horizontalalignment='center')\n",
    "\n",
    "    # Plot turn-by-turn trajectory of eigenvectors\n",
    "    myplt.eigvec_trajectory(ax2, M, 'x', 'y', s=10)\n",
    "    ax2.format(xticklabels=[], yticklabels=[], \n",
    "               ylabel='y', xlabel='x', title='Eigenvectors')\n",
    "\n",
    "    # Add legend\n",
    "    custom_lines = [matplotlib.lines.Line2D([0], [0], color='r', lw=2),\n",
    "                    matplotlib.lines.Line2D([0], [0], color='b', lw=2)]\n",
    "    ax2.legend(custom_lines, [r'$\\vec{v}_1$', r'$\\vec{v}_2$'],\n",
    "               loc=(1.05, 0.7), handlelength=1, ncols=1);\n",
    "\n",
    "    save('eigvecs_realspace', dirs['env'], dpi=dpi)"
   ]
  },
  {
   "cell_type": "code",
   "execution_count": null,
   "metadata": {},
   "outputs": [],
   "source": [
    "if files_exist['transfer_matrix']:\n",
    "    \n",
    "    # Set up figure\n",
    "    fig, axes = plot.subplots(nrows=3, ncols=3, figsize=(5, 5), span=False)\n",
    "    axes.format(grid=True, suptitle='Transfer matrix eigenvectors')\n",
    "    myplt.make_lower_triangular(axes)\n",
    "    myplt.despine(axes)\n",
    "\n",
    "    labels = [\"x\", \"x'\", \"y\", \"y'\"]\n",
    "    xlabels, ylabels = labels[:-1], labels[1:]\n",
    "    set_labels(axes[-1, :], xlabels, 'xlabel')\n",
    "    set_labels(axes[:, 0], ylabels, 'ylabel')\n",
    "\n",
    "    # Plot eigenvectors and their trajectories\n",
    "    for i in range(3):\n",
    "        for j in range(3):\n",
    "            if i >= j:\n",
    "                ax = axes[i, j]\n",
    "                yvar = ['xp', 'y', 'yp'][i]\n",
    "                xvar = ['x', 'y', 'xp'][j]\n",
    "                myplt.eigvec_trajectory(ax, M, xvar, yvar, s=7, lw=1)\n",
    "\n",
    "    # Zoom out a bit\n",
    "    for i in range(3):\n",
    "        ymin, ymax = axes[i, 0].get_ylim()\n",
    "        xmin, xmax = axes[-1, i].get_xlim()\n",
    "        scale = 1.2\n",
    "        axes[i, :].format(ylim=(-scale*ymax, scale*ymax))\n",
    "        axes[:, i].format(xlim=(-scale*xmax, scale*xmax))\n",
    "\n",
    "    save('eigvecs', dirs['env'], dpi=dpi)"
   ]
  },
  {
   "cell_type": "markdown",
   "metadata": {},
   "source": [
    "The following animation shows the 2D projections of one eigenvector as the phase of the eigenvector is varied from 0 to $2\\pi$. "
   ]
  },
  {
   "cell_type": "code",
   "execution_count": null,
   "metadata": {},
   "outputs": [],
   "source": [
    "v1, _, v2, _ = M_eigvecs.T\n",
    "phases = np.radians(np.linspace(0, 360.0, 51))\n",
    "coords = np.array([np.real(v1 * np.exp(-1j * phase)) for phase in phases])\n",
    "\n",
    "fig, axes = myplt.setup_corner()\n",
    "for i in range(3):\n",
    "    for j in range(i + 1):\n",
    "        ax = axes[i, j]\n",
    "        ax.plot(coords[:, j], coords[:, i + 1], 'k-', zorder=0) \n",
    "        ax.grid(False)\n",
    "plt.close()\n",
    "        \n",
    "def update(t):\n",
    "    myplt.remove_annotations(axes)\n",
    "    phase = phases[t]\n",
    "    coords = np.real(v1 * np.exp(-1j * phase))\n",
    "    for i in range(3):\n",
    "        for j in range(i + 1):\n",
    "            xval = coords[j]\n",
    "            yval = coords[i + 1]    \n",
    "            ax = axes[i, j]\n",
    "            myplt.vector(ax, [xval, yval], c='r', lw=1, style='->', \n",
    "                         head_width=0.2, head_length=0.4)\n",
    "            umax = 1.0\n",
    "            upmax = 0.1\n",
    "            if i == 0 or i == 2:\n",
    "                ax.set_ylim(-upmax, upmax)\n",
    "            else:\n",
    "                ax.set_ylim(-umax, umax)\n",
    "            if j == 0 or j == 2:\n",
    "                ax.set_xlim(-umax, umax)\n",
    "            else:\n",
    "                ax.set_xlim(-upmax, upmax)\n",
    "    axes[1, 1].set_title(r'$\\psi$ = {:.2f} deg'.format(np.degrees(phase)))\n",
    "        \n",
    "anim = animation.FuncAnimation(fig, update, frames=len(phases), interval=1000/3)\n",
    "# anim.save('_output/figures/test.mp4', dpi=400)\n",
    "anim"
   ]
  },
  {
   "cell_type": "markdown",
   "metadata": {},
   "source": [
    "## Test bunch"
   ]
  },
  {
   "cell_type": "markdown",
   "metadata": {},
   "source": [
    "The linear space charge kicks for the test bunch are calculated directly from the envelope parameters."
   ]
  },
  {
   "cell_type": "code",
   "execution_count": null,
   "metadata": {},
   "outputs": [],
   "source": [
    "if files_exist['testbunch_coords']:\n",
    "    \n",
    "    test_coords = np.load(files['testbunch_coords'])\n",
    "    nframes, ntestparts, ndims = test_coords.shape\n",
    "    print('Test bunch coordinates:')\n",
    "    print('nparts, nframes = {}, {}'.format(ntestparts, nframes))"
   ]
  },
  {
   "cell_type": "markdown",
   "metadata": {},
   "source": [
    "# Bunch\n",
    "This section performs the same analysis for the bunch tracked with PyORBIT (if it was tracked)."
   ]
  },
  {
   "cell_type": "code",
   "execution_count": null,
   "metadata": {},
   "outputs": [],
   "source": [
    "if files_exist['bunch_coords']:\n",
    "    coords = np.load(files['bunch_coords'])    \n",
    "    print('Bunch coordinates:')\n",
    "    print('nframes, nparts = {}, {}'.format(*coords.shape))\n",
    "        \n",
    "if files_exist['bunch_moments']:\n",
    "    moments = np.load(files['bunch_moments'])\n",
    "    bunch_stats = ba.Stats(mode)\n",
    "    bunch_stats.read_moments(moments)"
   ]
  },
  {
   "cell_type": "markdown",
   "metadata": {},
   "source": [
    "## Twiss parameters "
   ]
  },
  {
   "cell_type": "markdown",
   "metadata": {},
   "source": [
    "### 2D Twiss"
   ]
  },
  {
   "cell_type": "code",
   "execution_count": null,
   "metadata": {},
   "outputs": [],
   "source": [
    "if files_exist['bunch_moments']:\n",
    "    fig, axes = setup_figure(2)\n",
    "    columns = (['bx','by'], ['ax','ay'], ['ex','ey'])\n",
    "    ylabels = (r'$\\beta$ [m]', r'$\\alpha$ [rad]', r'$\\varepsilon$ [mm $\\cdot$ mrad]')\n",
    "    for ax, col in zip(axes, columns):\n",
    "        bunch_stats.twiss2D[col].plot(ax=ax, **plt_kws)\n",
    "        axes.format(xlabel='Turn number')\n",
    "    set_labels(axes, ylabels, 'ylabel')\n",
    "    save('twiss2D', dirs['bunch'], dpi=dpi)"
   ]
  },
  {
   "cell_type": "markdown",
   "metadata": {},
   "source": [
    "### Emittance "
   ]
  },
  {
   "cell_type": "code",
   "execution_count": null,
   "metadata": {},
   "outputs": [],
   "source": [
    "if files_exist['bunch_moments']:\n",
    "    fig, ax = plot.subplots(figsize=(4.5, 2.5))\n",
    "    bunch_stats.twiss2D[['ex','ey']].plot(ax=ax, **plt_kws)\n",
    "    bunch_stats.twiss4D[['e1','e2']].plot(ax=ax, **plt_kws)\n",
    "    ax.format(ylabel='[mm mrad]', xlabel='Turn number')\n",
    "    ax.legend(labels=[r'$\\varepsilon_x$', r'$\\varepsilon_y$', r'$\\varepsilon_1$', r'$\\varepsilon_2$'], \n",
    "              ncols=1, loc=(1.01, 0))\n",
    "    save('emittance', dirs['bunch'], dpi=dpi)"
   ]
  },
  {
   "cell_type": "markdown",
   "metadata": {},
   "source": [
    "## Moments "
   ]
  },
  {
   "cell_type": "code",
   "execution_count": null,
   "metadata": {},
   "outputs": [],
   "source": [
    "if files_exist['bunch_moments']:\n",
    "    fig, ax = setup_figure(1)\n",
    "    bunch_stats.moments[['x_rms','y_rms']].plot(ax=ax, **plt_kws)\n",
    "    ax.format(xlabel='Turn number', ylabel='Beam size [mm]')\n",
    "    save('beamsize', dirs['bunch'], dpi=dpi)"
   ]
  },
  {
   "cell_type": "code",
   "execution_count": null,
   "metadata": {},
   "outputs": [],
   "source": [
    "if files_exist['bunch_moments']:\n",
    "    fig, ax = setup_figure(1)\n",
    "    bunch_stats.moments[['xp_rms','yp_rms']].plot(ax=ax, **plt_kws)\n",
    "    ax.format(xlabel='Turn number', ylabel='Beam div. [mrad]')\n",
    "    save('beamdiv', dirs['bunch'], dpi=dpi)"
   ]
  },
  {
   "cell_type": "code",
   "execution_count": null,
   "metadata": {},
   "outputs": [],
   "source": [
    "if files_exist['bunch_moments']:\n",
    "    fig, axes = plot.subplots(nrows=4, ncols=4, sharey=False, figsize=(8, 6), \n",
    "                          spany=False, aligny=True)\n",
    "    myplt.make_lower_triangular(axes)\n",
    "    axes.format(xlabel='Turn number', suptitle='Transverse moments', titleborder=True)\n",
    "    for i in range(4):\n",
    "        for j in range(i + 1):\n",
    "            ax = axes[i, j]\n",
    "            col = moment_label(i, j)\n",
    "            bunch_stats.moments[col].plot(ax=ax, color='k', **plt_kws)\n",
    "            ax.format(title=moment_label_string(i, j))\n",
    "    set_labels(axes[0:, 0], [r'[mm$^2$]', r'[mm$\\cdot$mrad]', r'[mm$^2$]', r'mm$\\cdot$mrad'], 'ylabel')\n",
    "    set_labels(axes[1:, 1], [r'[mrad$^2$]', r'[mm$\\cdot$mrad]', r'[mrad$^2$]'], 'ylabel')\n",
    "    set_labels(axes[2:, 2], [r'[mm$^2$]', r'[mm$\\cdot$mrad]'], 'ylabel')\n",
    "    set_labels(axes[3:, 3], [r'[mrad$^2$]'], 'ylabel')\n",
    "    save('all_moments', dirs['env'], dpi=dpi)"
   ]
  },
  {
   "cell_type": "code",
   "execution_count": null,
   "metadata": {},
   "outputs": [],
   "source": [
    "if files_exist['bunch_moments']:\n",
    "    fig, axes = plot.subplots(nrows=4, ncols=4, sharey=False, figsize=(8, 6), \n",
    "                          spany=False, aligny=True)\n",
    "    myplt.make_lower_triangular(axes)\n",
    "    axes.format(xlabel='Turn number', suptitle='Transverse moments', titleborder=True)\n",
    "    for i in range(4):\n",
    "        for j in range(i + 1):\n",
    "            ax = axes[i, j]\n",
    "            col = moment_label(i, j)\n",
    "            bunch_stats.corr[col].plot(ax=ax, color='k', **plt_kws)\n",
    "            ax.format(title=moment_label_string(i, j))\n",
    "    save('all_correlations', dirs['env'], dpi=dpi)"
   ]
  },
  {
   "cell_type": "markdown",
   "metadata": {},
   "source": [
    "## Beam orientation"
   ]
  },
  {
   "cell_type": "code",
   "execution_count": null,
   "metadata": {},
   "outputs": [],
   "source": [
    "if files_exist['bunch_moments']:\n",
    "    fig, axes = setup_figure(2)\n",
    "    bunch_stats.realspace[['angle']].plot(ax=axes[0], **plt_kws)\n",
    "    bunch_stats.realspace[['cx','cy']].plot(ax=axes[1], **plt_kws)\n",
    "    bunch_stats.realspace[['area_rel']].plot(ax=axes[2], color='k', **plt_kws)\n",
    "    set_labels(axes, ['tilt angle', 'ellipse axes [mm]', 'area [frac. change]'], 'ylabel')\n",
    "    ax.format(xlabel='Turn number')\n",
    "    axes[0].format(yformatter='deg')\n",
    "    save('beam_dims', dirs['bunch'], dpi=dpi)"
   ]
  },
  {
   "cell_type": "markdown",
   "metadata": {},
   "source": [
    "## Phase space projections "
   ]
  },
  {
   "cell_type": "code",
   "execution_count": null,
   "metadata": {},
   "outputs": [],
   "source": [
    "if files_exist['bunch_coords']:\n",
    "    for i, name in zip((1, -1), ('Initial', 'Final')):\n",
    "        axes = myplt.corner(coords[i], text=name, figsize=5.5)\n",
    "        save(name, dirs['bunch'], dpi=dpi)"
   ]
  },
  {
   "cell_type": "code",
   "execution_count": null,
   "metadata": {},
   "outputs": [],
   "source": [
    "if files_exist['bunch_coords'] and animate:\n",
    "    anim = myanim.corner(coords[t0:t1], skip=skip, diag_kind='hist', fps=fps, \n",
    "                         text_fmt='Turn = {}', figsize=6)\n",
    "    play(anim)"
   ]
  },
  {
   "cell_type": "markdown",
   "metadata": {},
   "source": [
    "# Comparison \n",
    "Compare the theory (envelope calculation) to the PIC simulation."
   ]
  },
  {
   "cell_type": "code",
   "execution_count": null,
   "metadata": {},
   "outputs": [],
   "source": [
    "if files_exist['bunch_moments']:\n",
    "    plt_kws_env = dict(\n",
    "        lw=None,\n",
    "        marker=None,\n",
    "        markersize=None,\n",
    "        color='black',\n",
    "        legend=False,\n",
    "    )\n",
    "    plt_kws_bunch = dict(\n",
    "        lw=0,\n",
    "        marker='.',\n",
    "        markersize=None,\n",
    "        color='red',\n",
    "        legend=False,\n",
    "    )\n",
    "    dataframes = [env_stats, bunch_stats]\n",
    "    kws_list = [plt_kws_env, plt_kws_bunch]"
   ]
  },
  {
   "cell_type": "markdown",
   "metadata": {},
   "source": [
    "## Moments"
   ]
  },
  {
   "cell_type": "code",
   "execution_count": null,
   "metadata": {},
   "outputs": [],
   "source": [
    "if files_exist['bunch_moments']:\n",
    "    fig, axes = setup_figure(4)\n",
    "    for ax, key in zip(axes, ('x_rms', 'y_rms')):\n",
    "        for df, kws in zip(dataframes, kws_list):\n",
    "            df.moments[key].plot(ax=ax, **kws)\n",
    "    axes.format(xlabel='Turn number', ylabel='[mm]')\n",
    "    set_labels(axes, [r'$\\sqrt{\\langle{x^2}\\rangle}$', r'$\\sqrt{\\langle{y^2}\\rangle}$'], 'title')\n",
    "    axes[1].legend(labels=['theory', 'calc'], ncols=1, loc=(1.02, 0), fontsize='small')\n",
    "    save('beamsize', dirs['comparison'], dpi=dpi)"
   ]
  },
  {
   "cell_type": "code",
   "execution_count": null,
   "metadata": {},
   "outputs": [],
   "source": [
    "if files_exist['bunch_moments']:\n",
    "    fig, axes = setup_figure(4)\n",
    "    for ax, key in zip(axes, ('xp_rms', 'yp_rms')):\n",
    "        for df, kws in zip(dataframes, kws_list):\n",
    "            df.moments[key].plot(ax=ax, **kws)\n",
    "    axes.format(xlabel='Turn number', ylabel='[mrad]')\n",
    "    set_labels(axes, [r\"$\\sqrt{\\langle{x'^2}\\rangle}$\", r\"$\\sqrt{\\langle{y'^2}\\rangle}$\"], 'title')\n",
    "    axes[1].legend(labels=['theory', 'calc'], ncols=1, loc=(1.02, 0), fontsize='small')\n",
    "    save('up', dirs['comparison'], dpi=dpi)"
   ]
  },
  {
   "cell_type": "code",
   "execution_count": null,
   "metadata": {},
   "outputs": [],
   "source": [
    "if files_exist['bunch_moments']:\n",
    "    fig, ax = plot.subplots(figsize=(1.25*width, height))\n",
    "    for df, kws in zip(dataframes, kws_list):\n",
    "        df.corr['xy'].plot(ax=ax, **kws)\n",
    "    ax.format(title=r\"$x$-$y$ corr. coef.\", xlabel='Turn number')\n",
    "    ax.legend(labels=['theory', 'calc'], ncols=1, loc=(1.02, 0), fontsize='small')\n",
    "    save('xy_corr', dirs['comparison'], dpi=dpi)"
   ]
  },
  {
   "cell_type": "code",
   "execution_count": null,
   "metadata": {},
   "outputs": [],
   "source": [
    "if files_exist['bunch_moments']:\n",
    "    fig, axes = plot.subplots(nrows=4, ncols=4, sharey=False, figsize=(8, 6), spany=False, aligny=True)\n",
    "    myplt.make_lower_triangular(axes)\n",
    "    for i in range(4):\n",
    "        for j in range(i + 1):\n",
    "            ax = axes[i, j]\n",
    "            ax.format(title=moment_label_string(i, j))\n",
    "            col = moment_label(i, j)\n",
    "            for df, kws in zip(dataframes, kws_list):\n",
    "                df.moments[col].plot(ax=ax, **kws)\n",
    "    set_labels(axes[0:, 0], [r'[mm$^2$]', r'[mm$\\cdot$mrad]', r'[mm$^2$]', r'mm$\\cdot$mrad'], 'ylabel')\n",
    "    set_labels(axes[1:, 1], [r'[mrad$^2$]', r'[mm$\\cdot$mrad]', r'[mrad$^2$]'], 'ylabel')\n",
    "    set_labels(axes[2:, 2], [r'[mm$^2$]', r'[mm$\\cdot$mrad]'], 'ylabel')\n",
    "    set_labels(axes[3:, 3], [r'[mrad$^2$]'], 'ylabel')\n",
    "    custom_lines = [Line2D([0], [0], color=plt_kws_env['color']),\n",
    "                    Line2D([0], [0], color=plt_kws_bunch['color'])]\n",
    "    axes[0, 1].legend(custom_lines, ['theory', 'calc'], ncols=1)\n",
    "    axes.format(xlabel='Turn number', suptitle='Transverse moments', grid=False)\n",
    "    save('all_moments', dirs['comparison'], dpi=dpi)"
   ]
  },
  {
   "cell_type": "code",
   "execution_count": null,
   "metadata": {},
   "outputs": [],
   "source": [
    "if files_exist['bunch_moments']:\n",
    "    fig, axes = plot.subplots(nrows=4, ncols=4, sharey=False, figsize=(8, 6), spany=False, aligny=True)\n",
    "    myplt.make_lower_triangular(axes)\n",
    "    for i in range(4):\n",
    "        for j in range(i + 1):\n",
    "            ax = axes[i, j]\n",
    "            ax.format(title=moment_label_string(i, j))\n",
    "            col = moment_label(i, j)\n",
    "            for df, kws in zip(dataframes, kws_list):\n",
    "                df.corr[col].plot(ax=ax, **kws)\n",
    "    custom_lines = [Line2D([0], [0], color=plt_kws_env['color']),\n",
    "                    Line2D([0], [0], color=plt_kws_bunch['color'])]\n",
    "    axes[0, 1].legend(custom_lines, ['theory', 'calc'], ncols=1)\n",
    "    axes.format(xlabel='Turn number', suptitle='Transverse moments', grid=False)\n",
    "    save('all_corr', dirs['comparison'], dpi=dpi)"
   ]
  },
  {
   "cell_type": "markdown",
   "metadata": {},
   "source": [
    "## Twiss parameters"
   ]
  },
  {
   "cell_type": "markdown",
   "metadata": {},
   "source": [
    "### 2D Twiss "
   ]
  },
  {
   "cell_type": "code",
   "execution_count": null,
   "metadata": {},
   "outputs": [],
   "source": [
    "if files_exist['bunch_moments']:\n",
    "    fig, axes = setup_figure(3)\n",
    "    for df, kws in zip(dataframes, kws_list):\n",
    "        df.twiss2D['bx'].plot(ax=axes[0, 0], **kws)\n",
    "        df.twiss2D['by'].plot(ax=axes[0, 1], **kws)\n",
    "        df.twiss2D['ax'].plot(ax=axes[1, 0], **kws)\n",
    "        df.twiss2D['ay'].plot(ax=axes[1, 1], **kws)\n",
    "        df.twiss2D['ex'].plot(ax=axes[2, 0], **kws)\n",
    "        df.twiss2D['ey'].plot(ax=axes[2, 1], **kws)\n",
    "    axes.format(xlabel='Turn number', collabels=['Horizontal', 'Vertical'])\n",
    "    set_labels(axes[:, 0], [r'$\\beta$ [m]', r'$\\alpha$ [rad]', r'$\\varepsilon$ [mm $\\cdot$ mrad]'], 'ylabel')\n",
    "    save('twiss2D', dirs['comparison'], dpi=dpi)"
   ]
  },
  {
   "cell_type": "code",
   "execution_count": null,
   "metadata": {},
   "outputs": [],
   "source": [
    "if files_exist['bunch_moments']:\n",
    "    fig, axes = setup_figure(3)\n",
    "    for df, kws in zip(dataframes, kws_list):\n",
    "        df.twiss4D['bx'].plot(ax=axes[0, 0], **kws)\n",
    "        df.twiss4D['by'].plot(ax=axes[0, 1], **kws)\n",
    "        df.twiss4D['ax'].plot(ax=axes[1, 0], **kws)\n",
    "        df.twiss4D['ay'].plot(ax=axes[1, 1], **kws)\n",
    "        df.twiss4D['u'].plot(ax=axes[2, 0], **kws)\n",
    "    axes.format(xlabel='Turn number', collabels=['Horizontal', 'Vertical'])\n",
    "    set_labels(axes[:, 0], [r'$\\beta$ [m]', r'$\\alpha$ [rad]', 'u'], 'ylabel')\n",
    "    save('twiss4D', dirs['comparison'], dpi=dpi)"
   ]
  },
  {
   "cell_type": "markdown",
   "metadata": {},
   "source": [
    "## Beam dimensions "
   ]
  },
  {
   "cell_type": "code",
   "execution_count": null,
   "metadata": {},
   "outputs": [],
   "source": [
    "if files_exist['bunch_moments']:\n",
    "    fig, axes = plot.subplots(nrows=2, figsize=(width, 1.5*height), spany=False, aligny=True)\n",
    "    for df, kws in zip(dataframes, kws_list):\n",
    "        df.realspace['angle'].plot(ax=axes[0], **kws)\n",
    "        df.realspace['area'].plot(ax=axes[1], **kws)\n",
    "    axes.format(xlabel='Turn number')\n",
    "    for ax, ylabel in zip(axes, ['tilt angle', r'area [mm$^2$]']):\n",
    "        ax.format(ylabel=ylabel)\n",
    "    axes[0].format(yformatter='deg')\n",
    "    save('beam_dims', dirs['comparison'], dpi=dpi)"
   ]
  },
  {
   "cell_type": "markdown",
   "metadata": {},
   "source": [
    "## Phase space projections"
   ]
  },
  {
   "cell_type": "code",
   "execution_count": null,
   "metadata": {},
   "outputs": [],
   "source": [
    "if files_exist['bunch_coords']:\n",
    "    for i, name in zip((0, -1), ('Initial', 'Final')):\n",
    "        axes = myplt.corner(coords[i], env_params[i], text=name, diag_kind='none')\n",
    "        save(name, dirs['comparison'], dpi=dpi)"
   ]
  },
  {
   "cell_type": "code",
   "execution_count": null,
   "metadata": {},
   "outputs": [],
   "source": [
    "if files_exist['bunch_coords'] and animate:\n",
    "    anim = myanim.corner(coords[t0:t1], env_params[t0:t1], skip=skip, \n",
    "                         diag_kind='none', fps=fps, text_fmt='Turn = {}')\n",
    "    play(anim)"
   ]
  }
 ],
 "metadata": {
  "kernelspec": {
   "display_name": "Python 3",
   "language": "python",
   "name": "python3"
  },
  "language_info": {
   "codemirror_mode": {
    "name": "ipython",
    "version": 3
   },
   "file_extension": ".py",
   "mimetype": "text/x-python",
   "name": "python",
   "nbconvert_exporter": "python",
   "pygments_lexer": "ipython3",
   "version": "3.7.6"
  },
  "toc": {
   "base_numbering": 1,
   "nav_menu": {},
   "number_sections": true,
   "sideBar": true,
   "skip_h1_title": true,
   "title_cell": "Table of Contents",
   "title_sidebar": "Contents",
   "toc_cell": false,
   "toc_position": {
    "height": "calc(100% - 180px)",
    "left": "10px",
    "top": "150px",
    "width": "273.3823547363281px"
   },
   "toc_section_display": true,
   "toc_window_display": true
  },
  "toc-autonumbering": true,
  "toc-showcode": false,
  "toc-showmarkdowntxt": false,
  "toc-showtags": false
 },
 "nbformat": 4,
 "nbformat_minor": 4
}
